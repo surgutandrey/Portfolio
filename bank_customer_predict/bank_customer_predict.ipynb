{
 "cells": [
  {
   "cell_type": "markdown",
   "metadata": {},
   "source": [
    "# Прогнозирование оттока клиентов банка\n",
    "\n",
    "## **Цель**:\n",
    "Разработать модель машинного обучения для прогнозирования оттока клиентов банка на основе их характеристик, чтобы помочь бизнесу снизить потери и улучшить стратегии удержания клиентов."
   ]
  },
  {
   "metadata": {},
   "cell_type": "markdown",
   "source": [
    "---\n",
    "## **Описание проекта**\n",
    "**Построение модели прогнозирования оттока клиентов:**\n",
    "   - Построение и сравнение классических моделей машинного обучения (логистическая регрессия, случайный лес, градиентный бустинг и др.).\n",
    "   - Оптимизация гиперпараметров и оценка качества моделей с учетом дисбаланса классов.\n",
    "\n",
    "Источник данных:\n",
    "https://www.kaggle.com/datasets/gauravtopre/bank-customer-churn-dataset?resource=download"
   ]
  },
  {
   "metadata": {},
   "cell_type": "markdown",
   "source": [
    "---\n",
    "\n",
    "## **Вопросы**\n",
    "1. **Подготовка данных:**\n",
    "   - Как кодировать категориальные признаки (country, gender)?\n",
    "   - Нужно ли масштабировать числовые признаки (age, balance)?\n",
    "\n",
    "2. **Борьба с дисбалансом:**\n",
    "   - Какой метод лучше: oversampling (SMOTE), undersampling или веса классов?\n",
    "   - Какие метрики (F1, ROC-AUC) использовать для оценки качества?\n",
    "\n",
    "3. **Выбор модели:**\n",
    "   - Какая модель (логистическая регрессия, случайный лес, XGBoost) дает лучший результат?\n",
    "   - Как сравнить важность признаков в разных моделях?\n",
    "\n",
    "4. **Оптимизация:**\n",
    "   - Какие гиперпараметры (глубина деревьев, learning rate) улучшают качество?\n",
    "   - Как использовать кросс-валидацию для оценки устойчивости модели?\n",
    "\n",
    "5. **Оценка:**\n",
    "   - Какая модель лучше работает на тестовой выборке: точность vs полнота?\n",
    "   - Как интерпретировать матрицу ошибок для бизнеса?\n",
    "\n",
    "6. **Деплоймент:**\n",
    "   - Какие признаки наиболее критичны для прогноза?\n",
    "   - Можно ли упростить модель без потери качества?"
   ]
  },
  {
   "metadata": {},
   "cell_type": "markdown",
   "source": [
    "---\n",
    "## **Описание полей таблицы**\n",
    "\n",
    "1. **customer_id** (Идентификатор клиента)\n",
    "   - Уникальный идентификатор клиента в системе банка.\n",
    "\n",
    "2. **credit_score** (Кредитный рейтинг)\n",
    "   - Числовой показатель, отражающий кредитоспособность клиента (чем выше, тем лучше).\n",
    "\n",
    "3. **country** (Страна)\n",
    "   - Страна проживания клиента (например, Германия, Франция, Испания).\n",
    "\n",
    "4. **gender** (Пол)\n",
    "   - Пол клиента (мужчина/женщина).\n",
    "\n",
    "5. **age** (Возраст)\n",
    "   - Возраст клиента в годах.\n",
    "\n",
    "6. **tenure** (Срок сотрудничества)\n",
    "   - Количество лет, в течение которых клиент пользуется услугами банка.\n",
    "\n",
    "7. **balance** (Баланс на счете)\n",
    "   - Сумма денег на счете клиента.\n",
    "\n",
    "8. **products_number** (Количество продуктов)\n",
    "   - Количество банковских продуктов, которыми пользуется клиент (например, депозит, кредит, ипотека).\n",
    "\n",
    "9. **credit_card** (Наличие кредитной карты)\n",
    "   - Бинарный признак: 1 — у клиента есть кредитная карта, 0 — нет.\n",
    "\n",
    "10. **active_member** (Активный клиент)\n",
    "    - Бинарный признак: 1 — клиент активно пользуется услугами банка, 0 — неактивен.\n",
    "\n",
    "11. **estimated_salary** (Предполагаемая зарплата)\n",
    "    - Оценка годового дохода клиента.\n",
    "\n",
    "12. **churn** (Отток)\n",
    "    - Целевая переменная: 1 — клиент ушел из банка, 0 — клиент остался."
   ]
  },
  {
   "cell_type": "markdown",
   "metadata": {},
   "source": [
    "Импортируем библиотеки:"
   ]
  },
  {
   "cell_type": "code",
   "metadata": {
    "ExecuteTime": {
     "end_time": "2025-03-24T07:41:06.627662Z",
     "start_time": "2025-03-24T07:41:06.623610Z"
    }
   },
   "source": [
    "import pandas as pd\n",
    "import numpy as np\n",
    "import matplotlib.pyplot as plt\n",
    "import plotly.express as px\n",
    "import plotly.graph_objects as go\n",
    "from plotly.subplots import make_subplots\n",
    "import plotly.offline as pyo\n",
    "import plotly.io as pio\n",
    "\n",
    "# Рендерер по умолчанию статический\n",
    "pio.renderers.default = \"png\""
   ],
   "outputs": [],
   "execution_count": 19
  },
  {
   "cell_type": "markdown",
   "metadata": {},
   "source": [
    "Чтение данных и определение функции для диагностики df:"
   ]
  },
  {
   "cell_type": "code",
   "metadata": {
    "ExecuteTime": {
     "end_time": "2025-03-24T07:41:06.666642Z",
     "start_time": "2025-03-24T07:41:06.648259Z"
    }
   },
   "source": [
    "# чтение\n",
    "df_ml = pd.read_csv('data\\\\bank_customer_a.csv', sep = ',')\n",
    "\n",
    "# определение функции\n",
    "def df_diagnostics(df1, target_col=None, iqr_coefficient=1.5):\n",
    "    # Собираем основные характеристики столбцов\n",
    "    diag = pd.DataFrame({\n",
    "        'dtypes': df1.dtypes,\n",
    "        'count': df1.count(),\n",
    "        'unique': df1.nunique(),\n",
    "        'nan_count': df1.isnull().sum(),\n",
    "        'nan_%': df1.isnull().sum() / df1.shape[0] * 100})\n",
    "\n",
    "    # Словарь описывающий, какую функцию применить для каждой метрики\n",
    "    metrics = {\n",
    "        'mean': lambda s: s.mean(),\n",
    "        'median': lambda s: s.median(),\n",
    "        'min': lambda s: s.min(),\n",
    "        '25%': lambda s: s.quantile(0.25), # 25% квартиль\n",
    "        '50%': lambda s: s.quantile(0.50), # 50% квартиль (медиана)\n",
    "        '75%': lambda s: s.quantile(0.75), # 75% квартиль\n",
    "        'max': lambda s: s.max()}\n",
    "\n",
    "    # Вычисляем метрики только для числовых столбцов\n",
    "    numeric_cols = df1.select_dtypes(include=[np.number]).columns\n",
    "    for metric, func in metrics.items():\n",
    "        diag[metric] = [func(df1[col]) if col in numeric_cols else np.nan\n",
    "                        for col in df1.columns]\n",
    "\n",
    "    # Подсчёт количества выбросов с регулируемым коэффициентом IQR\n",
    "    def count_outliers_iqr(col, iqr_coef=iqr_coefficient):\n",
    "        if pd.api.types.is_numeric_dtype(col) and not pd.api.types.is_bool_dtype(col):\n",
    "            Q1 = col.quantile(0.25)\n",
    "            Q3 = col.quantile(0.75)\n",
    "            IQR = Q3 - Q1\n",
    "            lower_bound = Q1 - iqr_coef * IQR\n",
    "            upper_bound = Q3 + iqr_coef * IQR\n",
    "            return ((col < lower_bound) | (col > upper_bound)).sum()\n",
    "        else:\n",
    "            return np.nan\n",
    "\n",
    "    # Применяем функцию count_outliers_iqr только к числовым столбцам\n",
    "    diag['outliers_count'] = [\n",
    "        count_outliers_iqr(df1[col]) if pd.api.types.is_numeric_dtype(df1[col]) and not pd.api.types.is_bool_dtype(df1[col]) else np.nan\n",
    "        for col in df1.columns]\n",
    "\n",
    "    # Количество строк с пропущенными значениями в целевой переменной (если она указана)\n",
    "    if target_col is not None:\n",
    "        rows_with_nan_target = df1[target_col].isnull().sum()\n",
    "        diag['rows_nan_target'] = [rows_with_nan_target] * len(df1.columns)\n",
    "\n",
    "    # Добавляем корреляцию с целевой переменной (если она указана)\n",
    "    if target_col is not None and pd.api.types.is_numeric_dtype(df1[target_col]):\n",
    "        diag['corr_with_target'] = [df1[col].corr(df1[target_col]) if pd.api.types.is_numeric_dtype(df1[col]) else np.nan\n",
    "                                      for col in df1.columns]\n",
    "\n",
    "    # Вычисляем количество дублирующих строк в df\n",
    "    duplicates_count = df1.duplicated().sum()\n",
    "    print(\"Количество дублирующих строк:\", duplicates_count,\n",
    "          f\"\\nOutliers_count: Выбросы в данных более IQR * {iqr_coefficient}\")\n",
    "\n",
    "    # Возвращаем df с градиентной подсветкой, форматированием и округлением чисел\n",
    "    return (diag.style.background_gradient(cmap='Set3', low=0.1, high=0.01)\n",
    "            .format(\"{:.2f}\", subset=diag.select_dtypes(include=[np.number]).columns))"
   ],
   "outputs": [],
   "execution_count": 20
  },
  {
   "cell_type": "markdown",
   "metadata": {},
   "source": [
    "---\n",
    "# Обзор таблиц\n"
   ]
  },
  {
   "cell_type": "code",
   "metadata": {
    "ExecuteTime": {
     "end_time": "2025-03-24T07:41:06.678512Z",
     "start_time": "2025-03-24T07:41:06.669437Z"
    }
   },
   "source": "df_ml.head()",
   "outputs": [
    {
     "data": {
      "text/plain": [
       "   customer_id  credit_score country  gender  age  tenure    balance  \\\n",
       "0     15634602           619  France  Female   42       2       0.00   \n",
       "1     15647311           608   Spain  Female   41       1   83807.86   \n",
       "2     15619304           502  France  Female   42       8  159660.80   \n",
       "3     15701354           699  France  Female   39       1       0.00   \n",
       "4     15737888           850   Spain  Female   43       2  125510.82   \n",
       "\n",
       "   products_number  credit_card  active_member  estimated_salary  churn  \n",
       "0                1            1              1         101348.88      1  \n",
       "1                1            0              1         112542.58      0  \n",
       "2                3            1              0         113931.57      1  \n",
       "3                2            0              0          93826.63      0  \n",
       "4                1            1              1          79084.10      0  "
      ],
      "text/html": [
       "<div>\n",
       "<style scoped>\n",
       "    .dataframe tbody tr th:only-of-type {\n",
       "        vertical-align: middle;\n",
       "    }\n",
       "\n",
       "    .dataframe tbody tr th {\n",
       "        vertical-align: top;\n",
       "    }\n",
       "\n",
       "    .dataframe thead th {\n",
       "        text-align: right;\n",
       "    }\n",
       "</style>\n",
       "<table border=\"1\" class=\"dataframe\">\n",
       "  <thead>\n",
       "    <tr style=\"text-align: right;\">\n",
       "      <th></th>\n",
       "      <th>customer_id</th>\n",
       "      <th>credit_score</th>\n",
       "      <th>country</th>\n",
       "      <th>gender</th>\n",
       "      <th>age</th>\n",
       "      <th>tenure</th>\n",
       "      <th>balance</th>\n",
       "      <th>products_number</th>\n",
       "      <th>credit_card</th>\n",
       "      <th>active_member</th>\n",
       "      <th>estimated_salary</th>\n",
       "      <th>churn</th>\n",
       "    </tr>\n",
       "  </thead>\n",
       "  <tbody>\n",
       "    <tr>\n",
       "      <th>0</th>\n",
       "      <td>15634602</td>\n",
       "      <td>619</td>\n",
       "      <td>France</td>\n",
       "      <td>Female</td>\n",
       "      <td>42</td>\n",
       "      <td>2</td>\n",
       "      <td>0.00</td>\n",
       "      <td>1</td>\n",
       "      <td>1</td>\n",
       "      <td>1</td>\n",
       "      <td>101348.88</td>\n",
       "      <td>1</td>\n",
       "    </tr>\n",
       "    <tr>\n",
       "      <th>1</th>\n",
       "      <td>15647311</td>\n",
       "      <td>608</td>\n",
       "      <td>Spain</td>\n",
       "      <td>Female</td>\n",
       "      <td>41</td>\n",
       "      <td>1</td>\n",
       "      <td>83807.86</td>\n",
       "      <td>1</td>\n",
       "      <td>0</td>\n",
       "      <td>1</td>\n",
       "      <td>112542.58</td>\n",
       "      <td>0</td>\n",
       "    </tr>\n",
       "    <tr>\n",
       "      <th>2</th>\n",
       "      <td>15619304</td>\n",
       "      <td>502</td>\n",
       "      <td>France</td>\n",
       "      <td>Female</td>\n",
       "      <td>42</td>\n",
       "      <td>8</td>\n",
       "      <td>159660.80</td>\n",
       "      <td>3</td>\n",
       "      <td>1</td>\n",
       "      <td>0</td>\n",
       "      <td>113931.57</td>\n",
       "      <td>1</td>\n",
       "    </tr>\n",
       "    <tr>\n",
       "      <th>3</th>\n",
       "      <td>15701354</td>\n",
       "      <td>699</td>\n",
       "      <td>France</td>\n",
       "      <td>Female</td>\n",
       "      <td>39</td>\n",
       "      <td>1</td>\n",
       "      <td>0.00</td>\n",
       "      <td>2</td>\n",
       "      <td>0</td>\n",
       "      <td>0</td>\n",
       "      <td>93826.63</td>\n",
       "      <td>0</td>\n",
       "    </tr>\n",
       "    <tr>\n",
       "      <th>4</th>\n",
       "      <td>15737888</td>\n",
       "      <td>850</td>\n",
       "      <td>Spain</td>\n",
       "      <td>Female</td>\n",
       "      <td>43</td>\n",
       "      <td>2</td>\n",
       "      <td>125510.82</td>\n",
       "      <td>1</td>\n",
       "      <td>1</td>\n",
       "      <td>1</td>\n",
       "      <td>79084.10</td>\n",
       "      <td>0</td>\n",
       "    </tr>\n",
       "  </tbody>\n",
       "</table>\n",
       "</div>"
      ]
     },
     "execution_count": 21,
     "metadata": {},
     "output_type": "execute_result"
    }
   ],
   "execution_count": 21
  },
  {
   "metadata": {},
   "cell_type": "markdown",
   "source": "## Информация о таблицах"
  },
  {
   "metadata": {
    "ExecuteTime": {
     "end_time": "2025-03-24T07:41:06.778050Z",
     "start_time": "2025-03-24T07:41:06.723868Z"
    }
   },
   "cell_type": "code",
   "source": "df_diagnostics(df_ml)",
   "outputs": [
    {
     "name": "stdout",
     "output_type": "stream",
     "text": [
      "Количество дублирующих строк: 0 \n",
      "Outliers_count: Выбросы в данных более IQR * 1.5\n"
     ]
    },
    {
     "data": {
      "text/plain": [
       "<pandas.io.formats.style.Styler at 0x26d6be7cf90>"
      ],
      "text/html": [
       "<style type=\"text/css\">\n",
       "#T_9dbb5_row0_col1, #T_9dbb5_row0_col3, #T_9dbb5_row0_col4, #T_9dbb5_row1_col1, #T_9dbb5_row1_col3, #T_9dbb5_row1_col4, #T_9dbb5_row2_col1, #T_9dbb5_row2_col3, #T_9dbb5_row2_col4, #T_9dbb5_row3_col1, #T_9dbb5_row3_col3, #T_9dbb5_row3_col4, #T_9dbb5_row4_col1, #T_9dbb5_row4_col3, #T_9dbb5_row4_col4, #T_9dbb5_row5_col1, #T_9dbb5_row5_col3, #T_9dbb5_row5_col4, #T_9dbb5_row6_col1, #T_9dbb5_row6_col3, #T_9dbb5_row6_col4, #T_9dbb5_row7_col1, #T_9dbb5_row7_col3, #T_9dbb5_row7_col4, #T_9dbb5_row8_col1, #T_9dbb5_row8_col3, #T_9dbb5_row8_col4, #T_9dbb5_row9_col1, #T_9dbb5_row9_col3, #T_9dbb5_row9_col4, #T_9dbb5_row10_col1, #T_9dbb5_row10_col3, #T_9dbb5_row10_col4, #T_9dbb5_row11_col1, #T_9dbb5_row11_col3, #T_9dbb5_row11_col4 {\n",
       "  background-color: #8dd3c7;\n",
       "  color: #000000;\n",
       "}\n",
       "#T_9dbb5_row0_col2, #T_9dbb5_row0_col5, #T_9dbb5_row0_col6, #T_9dbb5_row0_col7, #T_9dbb5_row0_col8, #T_9dbb5_row0_col9, #T_9dbb5_row0_col10, #T_9dbb5_row0_col11, #T_9dbb5_row10_col2, #T_9dbb5_row11_col12 {\n",
       "  background-color: #ffed6f;\n",
       "  color: #000000;\n",
       "}\n",
       "#T_9dbb5_row0_col12, #T_9dbb5_row1_col2, #T_9dbb5_row1_col5, #T_9dbb5_row1_col6, #T_9dbb5_row1_col7, #T_9dbb5_row1_col8, #T_9dbb5_row1_col9, #T_9dbb5_row1_col10, #T_9dbb5_row1_col11, #T_9dbb5_row1_col12, #T_9dbb5_row2_col2, #T_9dbb5_row3_col2, #T_9dbb5_row4_col2, #T_9dbb5_row4_col5, #T_9dbb5_row4_col6, #T_9dbb5_row4_col7, #T_9dbb5_row4_col8, #T_9dbb5_row4_col9, #T_9dbb5_row4_col10, #T_9dbb5_row4_col11, #T_9dbb5_row5_col2, #T_9dbb5_row5_col5, #T_9dbb5_row5_col6, #T_9dbb5_row5_col7, #T_9dbb5_row5_col8, #T_9dbb5_row5_col9, #T_9dbb5_row5_col10, #T_9dbb5_row5_col11, #T_9dbb5_row5_col12, #T_9dbb5_row6_col5, #T_9dbb5_row6_col6, #T_9dbb5_row6_col7, #T_9dbb5_row6_col8, #T_9dbb5_row6_col9, #T_9dbb5_row6_col10, #T_9dbb5_row6_col11, #T_9dbb5_row6_col12, #T_9dbb5_row7_col2, #T_9dbb5_row7_col5, #T_9dbb5_row7_col6, #T_9dbb5_row7_col7, #T_9dbb5_row7_col8, #T_9dbb5_row7_col9, #T_9dbb5_row7_col10, #T_9dbb5_row7_col11, #T_9dbb5_row7_col12, #T_9dbb5_row8_col2, #T_9dbb5_row8_col5, #T_9dbb5_row8_col6, #T_9dbb5_row8_col7, #T_9dbb5_row8_col8, #T_9dbb5_row8_col9, #T_9dbb5_row8_col10, #T_9dbb5_row8_col11, #T_9dbb5_row8_col12, #T_9dbb5_row9_col2, #T_9dbb5_row9_col5, #T_9dbb5_row9_col6, #T_9dbb5_row9_col7, #T_9dbb5_row9_col8, #T_9dbb5_row9_col9, #T_9dbb5_row9_col10, #T_9dbb5_row9_col11, #T_9dbb5_row9_col12, #T_9dbb5_row10_col5, #T_9dbb5_row10_col6, #T_9dbb5_row10_col7, #T_9dbb5_row10_col8, #T_9dbb5_row10_col9, #T_9dbb5_row10_col10, #T_9dbb5_row10_col11, #T_9dbb5_row10_col12, #T_9dbb5_row11_col2, #T_9dbb5_row11_col5, #T_9dbb5_row11_col6, #T_9dbb5_row11_col7, #T_9dbb5_row11_col8, #T_9dbb5_row11_col9, #T_9dbb5_row11_col10, #T_9dbb5_row11_col11 {\n",
       "  background-color: #ffffb3;\n",
       "  color: #000000;\n",
       "}\n",
       "#T_9dbb5_row2_col5, #T_9dbb5_row2_col6, #T_9dbb5_row2_col7, #T_9dbb5_row2_col8, #T_9dbb5_row2_col9, #T_9dbb5_row2_col10, #T_9dbb5_row2_col11, #T_9dbb5_row2_col12, #T_9dbb5_row3_col5, #T_9dbb5_row3_col6, #T_9dbb5_row3_col7, #T_9dbb5_row3_col8, #T_9dbb5_row3_col9, #T_9dbb5_row3_col10, #T_9dbb5_row3_col11, #T_9dbb5_row3_col12 {\n",
       "  background-color: #000000;\n",
       "  color: #f1f1f1;\n",
       "}\n",
       "#T_9dbb5_row4_col12 {\n",
       "  background-color: #bebada;\n",
       "  color: #000000;\n",
       "}\n",
       "#T_9dbb5_row6_col2 {\n",
       "  background-color: #fccde5;\n",
       "  color: #000000;\n",
       "}\n",
       "</style>\n",
       "<table id=\"T_9dbb5\">\n",
       "  <thead>\n",
       "    <tr>\n",
       "      <th class=\"blank level0\" >&nbsp;</th>\n",
       "      <th id=\"T_9dbb5_level0_col0\" class=\"col_heading level0 col0\" >dtypes</th>\n",
       "      <th id=\"T_9dbb5_level0_col1\" class=\"col_heading level0 col1\" >count</th>\n",
       "      <th id=\"T_9dbb5_level0_col2\" class=\"col_heading level0 col2\" >unique</th>\n",
       "      <th id=\"T_9dbb5_level0_col3\" class=\"col_heading level0 col3\" >nan_count</th>\n",
       "      <th id=\"T_9dbb5_level0_col4\" class=\"col_heading level0 col4\" >nan_%</th>\n",
       "      <th id=\"T_9dbb5_level0_col5\" class=\"col_heading level0 col5\" >mean</th>\n",
       "      <th id=\"T_9dbb5_level0_col6\" class=\"col_heading level0 col6\" >median</th>\n",
       "      <th id=\"T_9dbb5_level0_col7\" class=\"col_heading level0 col7\" >min</th>\n",
       "      <th id=\"T_9dbb5_level0_col8\" class=\"col_heading level0 col8\" >25%</th>\n",
       "      <th id=\"T_9dbb5_level0_col9\" class=\"col_heading level0 col9\" >50%</th>\n",
       "      <th id=\"T_9dbb5_level0_col10\" class=\"col_heading level0 col10\" >75%</th>\n",
       "      <th id=\"T_9dbb5_level0_col11\" class=\"col_heading level0 col11\" >max</th>\n",
       "      <th id=\"T_9dbb5_level0_col12\" class=\"col_heading level0 col12\" >outliers_count</th>\n",
       "    </tr>\n",
       "  </thead>\n",
       "  <tbody>\n",
       "    <tr>\n",
       "      <th id=\"T_9dbb5_level0_row0\" class=\"row_heading level0 row0\" >customer_id</th>\n",
       "      <td id=\"T_9dbb5_row0_col0\" class=\"data row0 col0\" >int64</td>\n",
       "      <td id=\"T_9dbb5_row0_col1\" class=\"data row0 col1\" >10000.00</td>\n",
       "      <td id=\"T_9dbb5_row0_col2\" class=\"data row0 col2\" >10000.00</td>\n",
       "      <td id=\"T_9dbb5_row0_col3\" class=\"data row0 col3\" >0.00</td>\n",
       "      <td id=\"T_9dbb5_row0_col4\" class=\"data row0 col4\" >0.00</td>\n",
       "      <td id=\"T_9dbb5_row0_col5\" class=\"data row0 col5\" >15690940.57</td>\n",
       "      <td id=\"T_9dbb5_row0_col6\" class=\"data row0 col6\" >15690738.00</td>\n",
       "      <td id=\"T_9dbb5_row0_col7\" class=\"data row0 col7\" >15565701.00</td>\n",
       "      <td id=\"T_9dbb5_row0_col8\" class=\"data row0 col8\" >15628528.25</td>\n",
       "      <td id=\"T_9dbb5_row0_col9\" class=\"data row0 col9\" >15690738.00</td>\n",
       "      <td id=\"T_9dbb5_row0_col10\" class=\"data row0 col10\" >15753233.75</td>\n",
       "      <td id=\"T_9dbb5_row0_col11\" class=\"data row0 col11\" >15815690.00</td>\n",
       "      <td id=\"T_9dbb5_row0_col12\" class=\"data row0 col12\" >0.00</td>\n",
       "    </tr>\n",
       "    <tr>\n",
       "      <th id=\"T_9dbb5_level0_row1\" class=\"row_heading level0 row1\" >credit_score</th>\n",
       "      <td id=\"T_9dbb5_row1_col0\" class=\"data row1 col0\" >int64</td>\n",
       "      <td id=\"T_9dbb5_row1_col1\" class=\"data row1 col1\" >10000.00</td>\n",
       "      <td id=\"T_9dbb5_row1_col2\" class=\"data row1 col2\" >460.00</td>\n",
       "      <td id=\"T_9dbb5_row1_col3\" class=\"data row1 col3\" >0.00</td>\n",
       "      <td id=\"T_9dbb5_row1_col4\" class=\"data row1 col4\" >0.00</td>\n",
       "      <td id=\"T_9dbb5_row1_col5\" class=\"data row1 col5\" >650.53</td>\n",
       "      <td id=\"T_9dbb5_row1_col6\" class=\"data row1 col6\" >652.00</td>\n",
       "      <td id=\"T_9dbb5_row1_col7\" class=\"data row1 col7\" >350.00</td>\n",
       "      <td id=\"T_9dbb5_row1_col8\" class=\"data row1 col8\" >584.00</td>\n",
       "      <td id=\"T_9dbb5_row1_col9\" class=\"data row1 col9\" >652.00</td>\n",
       "      <td id=\"T_9dbb5_row1_col10\" class=\"data row1 col10\" >718.00</td>\n",
       "      <td id=\"T_9dbb5_row1_col11\" class=\"data row1 col11\" >850.00</td>\n",
       "      <td id=\"T_9dbb5_row1_col12\" class=\"data row1 col12\" >15.00</td>\n",
       "    </tr>\n",
       "    <tr>\n",
       "      <th id=\"T_9dbb5_level0_row2\" class=\"row_heading level0 row2\" >country</th>\n",
       "      <td id=\"T_9dbb5_row2_col0\" class=\"data row2 col0\" >object</td>\n",
       "      <td id=\"T_9dbb5_row2_col1\" class=\"data row2 col1\" >10000.00</td>\n",
       "      <td id=\"T_9dbb5_row2_col2\" class=\"data row2 col2\" >3.00</td>\n",
       "      <td id=\"T_9dbb5_row2_col3\" class=\"data row2 col3\" >0.00</td>\n",
       "      <td id=\"T_9dbb5_row2_col4\" class=\"data row2 col4\" >0.00</td>\n",
       "      <td id=\"T_9dbb5_row2_col5\" class=\"data row2 col5\" >nan</td>\n",
       "      <td id=\"T_9dbb5_row2_col6\" class=\"data row2 col6\" >nan</td>\n",
       "      <td id=\"T_9dbb5_row2_col7\" class=\"data row2 col7\" >nan</td>\n",
       "      <td id=\"T_9dbb5_row2_col8\" class=\"data row2 col8\" >nan</td>\n",
       "      <td id=\"T_9dbb5_row2_col9\" class=\"data row2 col9\" >nan</td>\n",
       "      <td id=\"T_9dbb5_row2_col10\" class=\"data row2 col10\" >nan</td>\n",
       "      <td id=\"T_9dbb5_row2_col11\" class=\"data row2 col11\" >nan</td>\n",
       "      <td id=\"T_9dbb5_row2_col12\" class=\"data row2 col12\" >nan</td>\n",
       "    </tr>\n",
       "    <tr>\n",
       "      <th id=\"T_9dbb5_level0_row3\" class=\"row_heading level0 row3\" >gender</th>\n",
       "      <td id=\"T_9dbb5_row3_col0\" class=\"data row3 col0\" >object</td>\n",
       "      <td id=\"T_9dbb5_row3_col1\" class=\"data row3 col1\" >10000.00</td>\n",
       "      <td id=\"T_9dbb5_row3_col2\" class=\"data row3 col2\" >2.00</td>\n",
       "      <td id=\"T_9dbb5_row3_col3\" class=\"data row3 col3\" >0.00</td>\n",
       "      <td id=\"T_9dbb5_row3_col4\" class=\"data row3 col4\" >0.00</td>\n",
       "      <td id=\"T_9dbb5_row3_col5\" class=\"data row3 col5\" >nan</td>\n",
       "      <td id=\"T_9dbb5_row3_col6\" class=\"data row3 col6\" >nan</td>\n",
       "      <td id=\"T_9dbb5_row3_col7\" class=\"data row3 col7\" >nan</td>\n",
       "      <td id=\"T_9dbb5_row3_col8\" class=\"data row3 col8\" >nan</td>\n",
       "      <td id=\"T_9dbb5_row3_col9\" class=\"data row3 col9\" >nan</td>\n",
       "      <td id=\"T_9dbb5_row3_col10\" class=\"data row3 col10\" >nan</td>\n",
       "      <td id=\"T_9dbb5_row3_col11\" class=\"data row3 col11\" >nan</td>\n",
       "      <td id=\"T_9dbb5_row3_col12\" class=\"data row3 col12\" >nan</td>\n",
       "    </tr>\n",
       "    <tr>\n",
       "      <th id=\"T_9dbb5_level0_row4\" class=\"row_heading level0 row4\" >age</th>\n",
       "      <td id=\"T_9dbb5_row4_col0\" class=\"data row4 col0\" >int64</td>\n",
       "      <td id=\"T_9dbb5_row4_col1\" class=\"data row4 col1\" >10000.00</td>\n",
       "      <td id=\"T_9dbb5_row4_col2\" class=\"data row4 col2\" >70.00</td>\n",
       "      <td id=\"T_9dbb5_row4_col3\" class=\"data row4 col3\" >0.00</td>\n",
       "      <td id=\"T_9dbb5_row4_col4\" class=\"data row4 col4\" >0.00</td>\n",
       "      <td id=\"T_9dbb5_row4_col5\" class=\"data row4 col5\" >38.92</td>\n",
       "      <td id=\"T_9dbb5_row4_col6\" class=\"data row4 col6\" >37.00</td>\n",
       "      <td id=\"T_9dbb5_row4_col7\" class=\"data row4 col7\" >18.00</td>\n",
       "      <td id=\"T_9dbb5_row4_col8\" class=\"data row4 col8\" >32.00</td>\n",
       "      <td id=\"T_9dbb5_row4_col9\" class=\"data row4 col9\" >37.00</td>\n",
       "      <td id=\"T_9dbb5_row4_col10\" class=\"data row4 col10\" >44.00</td>\n",
       "      <td id=\"T_9dbb5_row4_col11\" class=\"data row4 col11\" >92.00</td>\n",
       "      <td id=\"T_9dbb5_row4_col12\" class=\"data row4 col12\" >359.00</td>\n",
       "    </tr>\n",
       "    <tr>\n",
       "      <th id=\"T_9dbb5_level0_row5\" class=\"row_heading level0 row5\" >tenure</th>\n",
       "      <td id=\"T_9dbb5_row5_col0\" class=\"data row5 col0\" >int64</td>\n",
       "      <td id=\"T_9dbb5_row5_col1\" class=\"data row5 col1\" >10000.00</td>\n",
       "      <td id=\"T_9dbb5_row5_col2\" class=\"data row5 col2\" >11.00</td>\n",
       "      <td id=\"T_9dbb5_row5_col3\" class=\"data row5 col3\" >0.00</td>\n",
       "      <td id=\"T_9dbb5_row5_col4\" class=\"data row5 col4\" >0.00</td>\n",
       "      <td id=\"T_9dbb5_row5_col5\" class=\"data row5 col5\" >5.01</td>\n",
       "      <td id=\"T_9dbb5_row5_col6\" class=\"data row5 col6\" >5.00</td>\n",
       "      <td id=\"T_9dbb5_row5_col7\" class=\"data row5 col7\" >0.00</td>\n",
       "      <td id=\"T_9dbb5_row5_col8\" class=\"data row5 col8\" >3.00</td>\n",
       "      <td id=\"T_9dbb5_row5_col9\" class=\"data row5 col9\" >5.00</td>\n",
       "      <td id=\"T_9dbb5_row5_col10\" class=\"data row5 col10\" >7.00</td>\n",
       "      <td id=\"T_9dbb5_row5_col11\" class=\"data row5 col11\" >10.00</td>\n",
       "      <td id=\"T_9dbb5_row5_col12\" class=\"data row5 col12\" >0.00</td>\n",
       "    </tr>\n",
       "    <tr>\n",
       "      <th id=\"T_9dbb5_level0_row6\" class=\"row_heading level0 row6\" >balance</th>\n",
       "      <td id=\"T_9dbb5_row6_col0\" class=\"data row6 col0\" >float64</td>\n",
       "      <td id=\"T_9dbb5_row6_col1\" class=\"data row6 col1\" >10000.00</td>\n",
       "      <td id=\"T_9dbb5_row6_col2\" class=\"data row6 col2\" >6382.00</td>\n",
       "      <td id=\"T_9dbb5_row6_col3\" class=\"data row6 col3\" >0.00</td>\n",
       "      <td id=\"T_9dbb5_row6_col4\" class=\"data row6 col4\" >0.00</td>\n",
       "      <td id=\"T_9dbb5_row6_col5\" class=\"data row6 col5\" >76485.89</td>\n",
       "      <td id=\"T_9dbb5_row6_col6\" class=\"data row6 col6\" >97198.54</td>\n",
       "      <td id=\"T_9dbb5_row6_col7\" class=\"data row6 col7\" >0.00</td>\n",
       "      <td id=\"T_9dbb5_row6_col8\" class=\"data row6 col8\" >0.00</td>\n",
       "      <td id=\"T_9dbb5_row6_col9\" class=\"data row6 col9\" >97198.54</td>\n",
       "      <td id=\"T_9dbb5_row6_col10\" class=\"data row6 col10\" >127644.24</td>\n",
       "      <td id=\"T_9dbb5_row6_col11\" class=\"data row6 col11\" >250898.09</td>\n",
       "      <td id=\"T_9dbb5_row6_col12\" class=\"data row6 col12\" >0.00</td>\n",
       "    </tr>\n",
       "    <tr>\n",
       "      <th id=\"T_9dbb5_level0_row7\" class=\"row_heading level0 row7\" >products_number</th>\n",
       "      <td id=\"T_9dbb5_row7_col0\" class=\"data row7 col0\" >int64</td>\n",
       "      <td id=\"T_9dbb5_row7_col1\" class=\"data row7 col1\" >10000.00</td>\n",
       "      <td id=\"T_9dbb5_row7_col2\" class=\"data row7 col2\" >4.00</td>\n",
       "      <td id=\"T_9dbb5_row7_col3\" class=\"data row7 col3\" >0.00</td>\n",
       "      <td id=\"T_9dbb5_row7_col4\" class=\"data row7 col4\" >0.00</td>\n",
       "      <td id=\"T_9dbb5_row7_col5\" class=\"data row7 col5\" >1.53</td>\n",
       "      <td id=\"T_9dbb5_row7_col6\" class=\"data row7 col6\" >1.00</td>\n",
       "      <td id=\"T_9dbb5_row7_col7\" class=\"data row7 col7\" >1.00</td>\n",
       "      <td id=\"T_9dbb5_row7_col8\" class=\"data row7 col8\" >1.00</td>\n",
       "      <td id=\"T_9dbb5_row7_col9\" class=\"data row7 col9\" >1.00</td>\n",
       "      <td id=\"T_9dbb5_row7_col10\" class=\"data row7 col10\" >2.00</td>\n",
       "      <td id=\"T_9dbb5_row7_col11\" class=\"data row7 col11\" >4.00</td>\n",
       "      <td id=\"T_9dbb5_row7_col12\" class=\"data row7 col12\" >60.00</td>\n",
       "    </tr>\n",
       "    <tr>\n",
       "      <th id=\"T_9dbb5_level0_row8\" class=\"row_heading level0 row8\" >credit_card</th>\n",
       "      <td id=\"T_9dbb5_row8_col0\" class=\"data row8 col0\" >int64</td>\n",
       "      <td id=\"T_9dbb5_row8_col1\" class=\"data row8 col1\" >10000.00</td>\n",
       "      <td id=\"T_9dbb5_row8_col2\" class=\"data row8 col2\" >2.00</td>\n",
       "      <td id=\"T_9dbb5_row8_col3\" class=\"data row8 col3\" >0.00</td>\n",
       "      <td id=\"T_9dbb5_row8_col4\" class=\"data row8 col4\" >0.00</td>\n",
       "      <td id=\"T_9dbb5_row8_col5\" class=\"data row8 col5\" >0.71</td>\n",
       "      <td id=\"T_9dbb5_row8_col6\" class=\"data row8 col6\" >1.00</td>\n",
       "      <td id=\"T_9dbb5_row8_col7\" class=\"data row8 col7\" >0.00</td>\n",
       "      <td id=\"T_9dbb5_row8_col8\" class=\"data row8 col8\" >0.00</td>\n",
       "      <td id=\"T_9dbb5_row8_col9\" class=\"data row8 col9\" >1.00</td>\n",
       "      <td id=\"T_9dbb5_row8_col10\" class=\"data row8 col10\" >1.00</td>\n",
       "      <td id=\"T_9dbb5_row8_col11\" class=\"data row8 col11\" >1.00</td>\n",
       "      <td id=\"T_9dbb5_row8_col12\" class=\"data row8 col12\" >0.00</td>\n",
       "    </tr>\n",
       "    <tr>\n",
       "      <th id=\"T_9dbb5_level0_row9\" class=\"row_heading level0 row9\" >active_member</th>\n",
       "      <td id=\"T_9dbb5_row9_col0\" class=\"data row9 col0\" >int64</td>\n",
       "      <td id=\"T_9dbb5_row9_col1\" class=\"data row9 col1\" >10000.00</td>\n",
       "      <td id=\"T_9dbb5_row9_col2\" class=\"data row9 col2\" >2.00</td>\n",
       "      <td id=\"T_9dbb5_row9_col3\" class=\"data row9 col3\" >0.00</td>\n",
       "      <td id=\"T_9dbb5_row9_col4\" class=\"data row9 col4\" >0.00</td>\n",
       "      <td id=\"T_9dbb5_row9_col5\" class=\"data row9 col5\" >0.52</td>\n",
       "      <td id=\"T_9dbb5_row9_col6\" class=\"data row9 col6\" >1.00</td>\n",
       "      <td id=\"T_9dbb5_row9_col7\" class=\"data row9 col7\" >0.00</td>\n",
       "      <td id=\"T_9dbb5_row9_col8\" class=\"data row9 col8\" >0.00</td>\n",
       "      <td id=\"T_9dbb5_row9_col9\" class=\"data row9 col9\" >1.00</td>\n",
       "      <td id=\"T_9dbb5_row9_col10\" class=\"data row9 col10\" >1.00</td>\n",
       "      <td id=\"T_9dbb5_row9_col11\" class=\"data row9 col11\" >1.00</td>\n",
       "      <td id=\"T_9dbb5_row9_col12\" class=\"data row9 col12\" >0.00</td>\n",
       "    </tr>\n",
       "    <tr>\n",
       "      <th id=\"T_9dbb5_level0_row10\" class=\"row_heading level0 row10\" >estimated_salary</th>\n",
       "      <td id=\"T_9dbb5_row10_col0\" class=\"data row10 col0\" >float64</td>\n",
       "      <td id=\"T_9dbb5_row10_col1\" class=\"data row10 col1\" >10000.00</td>\n",
       "      <td id=\"T_9dbb5_row10_col2\" class=\"data row10 col2\" >9999.00</td>\n",
       "      <td id=\"T_9dbb5_row10_col3\" class=\"data row10 col3\" >0.00</td>\n",
       "      <td id=\"T_9dbb5_row10_col4\" class=\"data row10 col4\" >0.00</td>\n",
       "      <td id=\"T_9dbb5_row10_col5\" class=\"data row10 col5\" >100090.24</td>\n",
       "      <td id=\"T_9dbb5_row10_col6\" class=\"data row10 col6\" >100193.91</td>\n",
       "      <td id=\"T_9dbb5_row10_col7\" class=\"data row10 col7\" >11.58</td>\n",
       "      <td id=\"T_9dbb5_row10_col8\" class=\"data row10 col8\" >51002.11</td>\n",
       "      <td id=\"T_9dbb5_row10_col9\" class=\"data row10 col9\" >100193.91</td>\n",
       "      <td id=\"T_9dbb5_row10_col10\" class=\"data row10 col10\" >149388.25</td>\n",
       "      <td id=\"T_9dbb5_row10_col11\" class=\"data row10 col11\" >199992.48</td>\n",
       "      <td id=\"T_9dbb5_row10_col12\" class=\"data row10 col12\" >0.00</td>\n",
       "    </tr>\n",
       "    <tr>\n",
       "      <th id=\"T_9dbb5_level0_row11\" class=\"row_heading level0 row11\" >churn</th>\n",
       "      <td id=\"T_9dbb5_row11_col0\" class=\"data row11 col0\" >int64</td>\n",
       "      <td id=\"T_9dbb5_row11_col1\" class=\"data row11 col1\" >10000.00</td>\n",
       "      <td id=\"T_9dbb5_row11_col2\" class=\"data row11 col2\" >2.00</td>\n",
       "      <td id=\"T_9dbb5_row11_col3\" class=\"data row11 col3\" >0.00</td>\n",
       "      <td id=\"T_9dbb5_row11_col4\" class=\"data row11 col4\" >0.00</td>\n",
       "      <td id=\"T_9dbb5_row11_col5\" class=\"data row11 col5\" >0.20</td>\n",
       "      <td id=\"T_9dbb5_row11_col6\" class=\"data row11 col6\" >0.00</td>\n",
       "      <td id=\"T_9dbb5_row11_col7\" class=\"data row11 col7\" >0.00</td>\n",
       "      <td id=\"T_9dbb5_row11_col8\" class=\"data row11 col8\" >0.00</td>\n",
       "      <td id=\"T_9dbb5_row11_col9\" class=\"data row11 col9\" >0.00</td>\n",
       "      <td id=\"T_9dbb5_row11_col10\" class=\"data row11 col10\" >0.00</td>\n",
       "      <td id=\"T_9dbb5_row11_col11\" class=\"data row11 col11\" >1.00</td>\n",
       "      <td id=\"T_9dbb5_row11_col12\" class=\"data row11 col12\" >2037.00</td>\n",
       "    </tr>\n",
       "  </tbody>\n",
       "</table>\n"
      ]
     },
     "execution_count": 22,
     "metadata": {},
     "output_type": "execute_result"
    }
   ],
   "execution_count": 22
  },
  {
   "metadata": {},
   "cell_type": "markdown",
   "source": [
    "Анализ информации о таблице показал, что:\n",
    "- клиенты банка по полю `customer_id` все уникальные\n",
    "- имена полей корректные\n",
    "- типы данных в полях корректны\n",
    "- в каждом поле по 10 000 значений, пропусков нет\n",
    "- в некоторых полях есть выбросы при расчёте по методу IQR * 1.5"
   ]
  },
  {
   "metadata": {},
   "cell_type": "markdown",
   "source": "Построим гистограммы распределений всех числовых полей:"
  },
  {
   "metadata": {
    "ExecuteTime": {
     "end_time": "2025-03-24T07:41:07.632762Z",
     "start_time": "2025-03-24T07:41:06.883584Z"
    }
   },
   "cell_type": "code",
   "source": [
    "df_ml.hist(bins=30, figsize=(10, 10))\n",
    "plt.show()"
   ],
   "outputs": [
    {
     "data": {
      "text/plain": [
       "<Figure size 1000x1000 with 12 Axes>"
      ],
      "image/png": "[encoded data removed]"
     },
     "metadata": {},
     "output_type": "display_data"
    }
   ],
   "execution_count": 23
  },
  {
   "metadata": {},
   "cell_type": "markdown",
   "source": [
    "---\n",
    "# Построение модели прогнозирования оттока клиентов"
   ]
  },
  {
   "metadata": {},
   "cell_type": "markdown",
   "source": [
    "## Подготовка данных\n",
    "\n",
    "Импортируем библиотеки для подготовки:"
   ]
  },
  {
   "metadata": {
    "ExecuteTime": {
     "end_time": "2025-03-24T07:41:07.643017Z",
     "start_time": "2025-03-24T07:41:07.638853Z"
    }
   },
   "cell_type": "code",
   "source": [
    "from sklearn.preprocessing import StandardScaler      # стандартизация\n",
    "from sklearn.model_selection import train_test_split  # разделение\n",
    "from sklearn.metrics import accuracy_score, f1_score, roc_auc_score   # оценка качества\n",
    "\n",
    "# модели\n",
    "from sklearn.linear_model import LogisticRegression"
   ],
   "outputs": [],
   "execution_count": 24
  },
  {
   "metadata": {},
   "cell_type": "markdown",
   "source": "Приступим к подготовке данных для построения модели прогнозирования:"
  },
  {
   "metadata": {
    "ExecuteTime": {
     "end_time": "2025-03-24T07:41:07.674273Z",
     "start_time": "2025-03-24T07:41:07.660153Z"
    }
   },
   "cell_type": "code",
   "source": [
    "# Удалим поле `customer_id`, так как оно не несёт полезной информации\n",
    "df_ml.drop(columns=['customer_id'], inplace=True)\n",
    "\n",
    "# Преобразуем с помощью `One-Hot Encoding` категориальные признаки в полях `country` и `gender`:\n",
    "# После этого в df появятся новые столбцы: `country_Germany`, `country_Spain`, `gender_Male`\n",
    "df_ml = pd.get_dummies(df_ml, columns=['country', 'gender'], drop_first=True)\n",
    "\n",
    "# Масштабируем числовые признаки в полях, значения которых могут достигать больших размеров\n",
    "scaler = StandardScaler()\n",
    "df_ml[['credit_score', 'age', 'balance', 'estimated_salary']] = scaler.fit_transform(\n",
    "        df_ml[['credit_score', 'age', 'balance', 'estimated_salary']])\n",
    "\n",
    "# Проверим баланс классов целевой переменной\n",
    "df_ml['churn'].value_counts(normalize=True)"
   ],
   "outputs": [
    {
     "data": {
      "text/plain": [
       "churn\n",
       "0    0.7963\n",
       "1    0.2037\n",
       "Name: proportion, dtype: float64"
      ]
     },
     "execution_count": 25,
     "metadata": {},
     "output_type": "execute_result"
    }
   ],
   "execution_count": 25
  },
  {
   "metadata": {},
   "cell_type": "markdown",
   "source": "Разделим данные:"
  },
  {
   "metadata": {
    "ExecuteTime": {
     "end_time": "2025-03-24T07:41:07.726301Z",
     "start_time": "2025-03-24T07:41:07.717302Z"
    }
   },
   "cell_type": "code",
   "source": [
    "# Разделим данные на признаки (X) и целевую переменную (y):\n",
    "X = df_ml.drop(columns=['churn'])\n",
    "y = df_ml['churn']\n",
    "\n",
    "# Разделим данные на обучающую и тестовую выборку\n",
    "X_train, X_test, y_train, y_test = train_test_split(X, y, test_size=0.2, random_state=42, stratify=y)"
   ],
   "outputs": [],
   "execution_count": 26
  },
  {
   "metadata": {},
   "cell_type": "markdown",
   "source": "Зададим параметры модели, обучим ёё и выполним предсказание меток для тестовых данных:"
  },
  {
   "metadata": {
    "ExecuteTime": {
     "end_time": "2025-03-24T07:41:07.790228Z",
     "start_time": "2025-03-24T07:41:07.764402Z"
    }
   },
   "cell_type": "code",
   "source": [
    "# Дисбаланс классов в целевой переменной не сильный, используем class_weight='balanced'\n",
    "model = LogisticRegression(class_weight='balanced')\n",
    "\n",
    "# Обучаем модель\n",
    "model.fit(X_train, y_train)\n",
    "\n",
    "# Предсказание меток для тестовых данных\n",
    "y_pred = model.predict(X_test)\n",
    "\n",
    "# Оценка качества на тестовой выборке\n",
    "print('Точность: %.3f' % accuracy_score(y_test, y_pred))\n",
    "print('F1-Score: %.3f' % f1_score(y_test, y_pred))\n",
    "print('ROC-AUC: %.3f' % roc_auc_score(y_test, y_pred))"
   ],
   "outputs": [
    {
     "name": "stdout",
     "output_type": "stream",
     "text": [
      "Точность: 0.714\n",
      "F1-Score: 0.499\n",
      "ROC-AUC: 0.709\n"
     ]
    }
   ],
   "execution_count": 27
  },
  {
   "metadata": {},
   "cell_type": "markdown",
   "source": [
    "! Важно: в конце обязательно подумать оставить исходные данные с кагле в файле \"_a\", преобразованные данные в файле \"_b\". Или ещё доработать преобразование данных!\n",
    "- сейчас пока для разработки выбраны исходные данные с кагле.\n",
    "- под итоговые данные в разделе с исследованием доработать текст заметки и выводы.\n",
    "- в конце вставить информативные графики от plotly: https://plotly.com/python/ml-regression/\n",
    "- в конце разработки раздела вопросы в разделе по маш обучению сверить с выполненной работой\n",
    "- после завершения данной части проекта и окончательного определения с данными вернутся к первой части с аналитическим исследованием и: 1) в исследовании текст метки и выводы править под данные 2) написать итоговый вывод 3) проверить в целом проект."
   ]
  }
 ],
 "metadata": {
  "kernelspec": {
   "display_name": "Python 3 (ipykernel)",
   "language": "python",
   "name": "python3"
  },
  "language_info": {
   "codemirror_mode": {
    "name": "ipython",
    "version": 3
   },
   "file_extension": ".py",
   "mimetype": "text/x-python",
   "name": "python",
   "nbconvert_exporter": "python",
   "pygments_lexer": "ipython3",
   "version": "3.11.0"
  }
 },
 "nbformat": 4,
 "nbformat_minor": 4
}
