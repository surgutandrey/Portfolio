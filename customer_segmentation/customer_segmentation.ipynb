{
 "cells": [
  {
   "cell_type": "markdown",
   "metadata": {},
   "source": [
    "# Исследование посетителей супермаркета\n",
    "\n",
    "## Цель\n",
    "Провести комплексный многоаспектный анализ данных о посетителях супермаркета с целью выявления скрытых закономерностей в демографических характеристиках, уровне дохода и покупательском поведении. Исследование включает сегментацию клиентов, изучение взаимосвязей между ключевыми переменными (возраст, доход, затраты) и разработку прогностических моделей для поддержки решений в маркетинге и развития клиентской базы.\n",
    "\n",
    "## Вопросы\n",
    "1. Какие клиентские сегменты можно выявить в данных супермаркета и каковы их характеристики?\n",
    "2. Какие зависимости существуют между возрастом, уровнем дохода и тратами клиентов?\n",
    "3. Как влияет пол на распределение доходов и покупательских оценок?\n",
    "4. Можно ли создать надёжную прогностическую модель для оценки Spending Score на основе возраста, уровня дохода и пола? Какие факторы являются наиболее значимыми?\n",
    "5. Какие аномалии и выбросы присутствуют в данных, и как они могут влиять на результаты анализа?\n",
    "\n",
    "## Описание\n",
    "Для проведения исследования был взят следующий набор данных:\n",
    "https://www.kaggle.com/datasets/vjchoudhary7/customer-segmentation-tutorial-in-python\n",
    "\n",
    "Есть супермаркет и с помощью членских карт мы получаем некоторые базовые данные о своих клиентах, такие как идентификатор клиента, возраст, пол, годовой доход и рейтинг расходов.\n",
    "Рейтинг расходов — это показатель, который вы присваиваете клиенту на основе заданных вами параметров, таких как поведение клиента и данные о покупках.\n",
    "\n",
    "## План\n",
    "1. Обзор данных\n",
    "2. Предобработка данных\n",
    "3. ..."
   ]
  },
  {
   "cell_type": "markdown",
   "metadata": {},
   "source": [
    "# Обзор данных\n",
    "Проведём обзор данных с целью понять их структуру и проверить наличие ошибок"
   ]
  },
  {
   "cell_type": "markdown",
   "metadata": {},
   "source": [
    "### Импорт библиотек\n",
    "\n",
    "Определим также функцию для диагностики данных в dataframe"
   ]
  },
  {
   "cell_type": "code",
   "execution_count": null,
   "metadata": {},
   "outputs": [],
   "source": [
    "import pandas as pd\n",
    "import numpy as np\n",
    "\n",
    "df_customers = pd.read_csv('data\\mall_customers.csv', sep = ',')\n",
    "\n",
    "# функция для диагностики df\n",
    "def df_diagnostics(df):\n",
    "    # Собираем основные характеристики столбцов\n",
    "    diag = pd.DataFrame({'dtypes': df.dtypes, 'count': df.count(), 'unique': df.nunique(),\n",
    "                         'NaN count': df.isnull().sum(), 'NaN percentage': df.isnull().sum() / df.shape[0]})\n",
    "    \n",
    "    # Словарь описывающий, какую функцию применить для каждой метрики\n",
    "    metrics = {'mean': lambda s: s.mean(), 'median': lambda s: s.median(), 'std': lambda s: s.std(),\n",
    "               'min':  lambda s: s.min(),  'max':    lambda s: s.max()}\n",
    "    \n",
    "    # Используем цикл по словарю, чтобы вычислить метрики для каждого столбца\n",
    "    for metric, func in metrics.items():\n",
    "        diag[metric] = [func(df[col]) if pd.api.types.is_numeric_dtype(df[col]) else np.nan \n",
    "                        for col in df.columns]\n",
    "    \n",
    "    # Вычисляем количество дублирующих строк в DataFrame\n",
    "    duplicates_count = df.duplicated().sum()\n",
    "    print(\"Количество дублирующих строк:\", duplicates_count)\n",
    "    return diag.style.background_gradient(cmap='Set3', low=0.1, high=0.01)"
   ]
  },
  {
   "cell_type": "markdown",
   "metadata": {},
   "source": [
    "### Обзор таблицы"
   ]
  },
  {
   "cell_type": "code",
   "execution_count": null,
   "metadata": {},
   "outputs": [
    {
     "data": {
      "application/vnd.microsoft.datawrangler.viewer.v0+json": {
       "columns": [
        {
         "name": "index",
         "rawType": "int64",
         "type": "integer"
        },
        {
         "name": "CustomerID",
         "rawType": "int64",
         "type": "integer"
        },
        {
         "name": "Gender",
         "rawType": "object",
         "type": "string"
        },
        {
         "name": "Age",
         "rawType": "int64",
         "type": "integer"
        },
        {
         "name": "Annual Income (k$)",
         "rawType": "int64",
         "type": "integer"
        },
        {
         "name": "Spending Score (1-100)",
         "rawType": "int64",
         "type": "integer"
        }
       ],
       "conversionMethod": "pd.DataFrame",
       "ref": "1f2db1ab-30a9-40d5-8696-a50710f6edbe",
       "rows": [
        [
         "0",
         "1",
         "Male",
         "19",
         "15",
         "39"
        ],
        [
         "1",
         "2",
         "Male",
         "21",
         "15",
         "81"
        ],
        [
         "2",
         "3",
         "Female",
         "20",
         "16",
         "6"
        ],
        [
         "3",
         "4",
         "Female",
         "23",
         "16",
         "77"
        ],
        [
         "4",
         "5",
         "Female",
         "31",
         "17",
         "40"
        ]
       ],
       "shape": {
        "columns": 5,
        "rows": 5
       }
      },
      "text/html": [
       "<div>\n",
       "<style scoped>\n",
       "    .dataframe tbody tr th:only-of-type {\n",
       "        vertical-align: middle;\n",
       "    }\n",
       "\n",
       "    .dataframe tbody tr th {\n",
       "        vertical-align: top;\n",
       "    }\n",
       "\n",
       "    .dataframe thead th {\n",
       "        text-align: right;\n",
       "    }\n",
       "</style>\n",
       "<table border=\"1\" class=\"dataframe\">\n",
       "  <thead>\n",
       "    <tr style=\"text-align: right;\">\n",
       "      <th></th>\n",
       "      <th>CustomerID</th>\n",
       "      <th>Gender</th>\n",
       "      <th>Age</th>\n",
       "      <th>Annual Income (k$)</th>\n",
       "      <th>Spending Score (1-100)</th>\n",
       "    </tr>\n",
       "  </thead>\n",
       "  <tbody>\n",
       "    <tr>\n",
       "      <th>0</th>\n",
       "      <td>1</td>\n",
       "      <td>Male</td>\n",
       "      <td>19</td>\n",
       "      <td>15</td>\n",
       "      <td>39</td>\n",
       "    </tr>\n",
       "    <tr>\n",
       "      <th>1</th>\n",
       "      <td>2</td>\n",
       "      <td>Male</td>\n",
       "      <td>21</td>\n",
       "      <td>15</td>\n",
       "      <td>81</td>\n",
       "    </tr>\n",
       "    <tr>\n",
       "      <th>2</th>\n",
       "      <td>3</td>\n",
       "      <td>Female</td>\n",
       "      <td>20</td>\n",
       "      <td>16</td>\n",
       "      <td>6</td>\n",
       "    </tr>\n",
       "    <tr>\n",
       "      <th>3</th>\n",
       "      <td>4</td>\n",
       "      <td>Female</td>\n",
       "      <td>23</td>\n",
       "      <td>16</td>\n",
       "      <td>77</td>\n",
       "    </tr>\n",
       "    <tr>\n",
       "      <th>4</th>\n",
       "      <td>5</td>\n",
       "      <td>Female</td>\n",
       "      <td>31</td>\n",
       "      <td>17</td>\n",
       "      <td>40</td>\n",
       "    </tr>\n",
       "  </tbody>\n",
       "</table>\n",
       "</div>"
      ],
      "text/plain": [
       "   CustomerID  Gender  Age  Annual Income (k$)  Spending Score (1-100)\n",
       "0           1    Male   19                  15                      39\n",
       "1           2    Male   21                  15                      81\n",
       "2           3  Female   20                  16                       6\n",
       "3           4  Female   23                  16                      77\n",
       "4           5  Female   31                  17                      40"
      ]
     },
     "execution_count": 3,
     "metadata": {},
     "output_type": "execute_result"
    }
   ],
   "source": [
    "df_customers.head()"
   ]
  },
  {
   "cell_type": "markdown",
   "metadata": {},
   "source": [
    "### Диагностика данных"
   ]
  },
  {
   "cell_type": "code",
   "execution_count": null,
   "metadata": {},
   "outputs": [
    {
     "name": "stdout",
     "output_type": "stream",
     "text": [
      "Количество дублирующих строк: 0\n"
     ]
    },
    {
     "data": {
      "text/html": [
       "<style type=\"text/css\">\n",
       "#T_5e073_row0_col1, #T_5e073_row0_col3, #T_5e073_row0_col4, #T_5e073_row1_col1, #T_5e073_row1_col3, #T_5e073_row1_col4, #T_5e073_row2_col1, #T_5e073_row2_col3, #T_5e073_row2_col4, #T_5e073_row3_col1, #T_5e073_row3_col3, #T_5e073_row3_col4, #T_5e073_row4_col1, #T_5e073_row4_col3, #T_5e073_row4_col4 {\n",
       "  background-color: #8dd3c7;\n",
       "  color: #000000;\n",
       "}\n",
       "#T_5e073_row0_col2, #T_5e073_row0_col5, #T_5e073_row0_col6, #T_5e073_row0_col7, #T_5e073_row0_col9, #T_5e073_row2_col8 {\n",
       "  background-color: #ffed6f;\n",
       "  color: #000000;\n",
       "}\n",
       "#T_5e073_row0_col8, #T_5e073_row1_col2, #T_5e073_row2_col5, #T_5e073_row2_col6, #T_5e073_row2_col7, #T_5e073_row2_col9, #T_5e073_row4_col8 {\n",
       "  background-color: #ffffb3;\n",
       "  color: #000000;\n",
       "}\n",
       "#T_5e073_row1_col5, #T_5e073_row1_col6, #T_5e073_row1_col7, #T_5e073_row1_col8, #T_5e073_row1_col9 {\n",
       "  background-color: #000000;\n",
       "  color: #f1f1f1;\n",
       "}\n",
       "#T_5e073_row2_col2, #T_5e073_row4_col5, #T_5e073_row4_col6, #T_5e073_row4_col7, #T_5e073_row4_col9 {\n",
       "  background-color: #fb8072;\n",
       "  color: #f1f1f1;\n",
       "}\n",
       "#T_5e073_row3_col2, #T_5e073_row3_col5, #T_5e073_row3_col7 {\n",
       "  background-color: #80b1d3;\n",
       "  color: #f1f1f1;\n",
       "}\n",
       "#T_5e073_row3_col6, #T_5e073_row4_col2 {\n",
       "  background-color: #fdb462;\n",
       "  color: #000000;\n",
       "}\n",
       "#T_5e073_row3_col8 {\n",
       "  background-color: #bc80bd;\n",
       "  color: #f1f1f1;\n",
       "}\n",
       "#T_5e073_row3_col9 {\n",
       "  background-color: #b3de69;\n",
       "  color: #000000;\n",
       "}\n",
       "</style>\n",
       "<table id=\"T_5e073\">\n",
       "  <thead>\n",
       "    <tr>\n",
       "      <th class=\"blank level0\" >&nbsp;</th>\n",
       "      <th id=\"T_5e073_level0_col0\" class=\"col_heading level0 col0\" >dtypes</th>\n",
       "      <th id=\"T_5e073_level0_col1\" class=\"col_heading level0 col1\" >count</th>\n",
       "      <th id=\"T_5e073_level0_col2\" class=\"col_heading level0 col2\" >unique</th>\n",
       "      <th id=\"T_5e073_level0_col3\" class=\"col_heading level0 col3\" >NaN count</th>\n",
       "      <th id=\"T_5e073_level0_col4\" class=\"col_heading level0 col4\" >NaN percentage</th>\n",
       "      <th id=\"T_5e073_level0_col5\" class=\"col_heading level0 col5\" >mean</th>\n",
       "      <th id=\"T_5e073_level0_col6\" class=\"col_heading level0 col6\" >median</th>\n",
       "      <th id=\"T_5e073_level0_col7\" class=\"col_heading level0 col7\" >std</th>\n",
       "      <th id=\"T_5e073_level0_col8\" class=\"col_heading level0 col8\" >min</th>\n",
       "      <th id=\"T_5e073_level0_col9\" class=\"col_heading level0 col9\" >max</th>\n",
       "    </tr>\n",
       "  </thead>\n",
       "  <tbody>\n",
       "    <tr>\n",
       "      <th id=\"T_5e073_level0_row0\" class=\"row_heading level0 row0\" >CustomerID</th>\n",
       "      <td id=\"T_5e073_row0_col0\" class=\"data row0 col0\" >int64</td>\n",
       "      <td id=\"T_5e073_row0_col1\" class=\"data row0 col1\" >200</td>\n",
       "      <td id=\"T_5e073_row0_col2\" class=\"data row0 col2\" >200</td>\n",
       "      <td id=\"T_5e073_row0_col3\" class=\"data row0 col3\" >0</td>\n",
       "      <td id=\"T_5e073_row0_col4\" class=\"data row0 col4\" >0.000000</td>\n",
       "      <td id=\"T_5e073_row0_col5\" class=\"data row0 col5\" >100.500000</td>\n",
       "      <td id=\"T_5e073_row0_col6\" class=\"data row0 col6\" >100.500000</td>\n",
       "      <td id=\"T_5e073_row0_col7\" class=\"data row0 col7\" >57.879185</td>\n",
       "      <td id=\"T_5e073_row0_col8\" class=\"data row0 col8\" >1.000000</td>\n",
       "      <td id=\"T_5e073_row0_col9\" class=\"data row0 col9\" >200.000000</td>\n",
       "    </tr>\n",
       "    <tr>\n",
       "      <th id=\"T_5e073_level0_row1\" class=\"row_heading level0 row1\" >Gender</th>\n",
       "      <td id=\"T_5e073_row1_col0\" class=\"data row1 col0\" >object</td>\n",
       "      <td id=\"T_5e073_row1_col1\" class=\"data row1 col1\" >200</td>\n",
       "      <td id=\"T_5e073_row1_col2\" class=\"data row1 col2\" >2</td>\n",
       "      <td id=\"T_5e073_row1_col3\" class=\"data row1 col3\" >0</td>\n",
       "      <td id=\"T_5e073_row1_col4\" class=\"data row1 col4\" >0.000000</td>\n",
       "      <td id=\"T_5e073_row1_col5\" class=\"data row1 col5\" >nan</td>\n",
       "      <td id=\"T_5e073_row1_col6\" class=\"data row1 col6\" >nan</td>\n",
       "      <td id=\"T_5e073_row1_col7\" class=\"data row1 col7\" >nan</td>\n",
       "      <td id=\"T_5e073_row1_col8\" class=\"data row1 col8\" >nan</td>\n",
       "      <td id=\"T_5e073_row1_col9\" class=\"data row1 col9\" >nan</td>\n",
       "    </tr>\n",
       "    <tr>\n",
       "      <th id=\"T_5e073_level0_row2\" class=\"row_heading level0 row2\" >Age</th>\n",
       "      <td id=\"T_5e073_row2_col0\" class=\"data row2 col0\" >int64</td>\n",
       "      <td id=\"T_5e073_row2_col1\" class=\"data row2 col1\" >200</td>\n",
       "      <td id=\"T_5e073_row2_col2\" class=\"data row2 col2\" >51</td>\n",
       "      <td id=\"T_5e073_row2_col3\" class=\"data row2 col3\" >0</td>\n",
       "      <td id=\"T_5e073_row2_col4\" class=\"data row2 col4\" >0.000000</td>\n",
       "      <td id=\"T_5e073_row2_col5\" class=\"data row2 col5\" >38.850000</td>\n",
       "      <td id=\"T_5e073_row2_col6\" class=\"data row2 col6\" >36.000000</td>\n",
       "      <td id=\"T_5e073_row2_col7\" class=\"data row2 col7\" >13.969007</td>\n",
       "      <td id=\"T_5e073_row2_col8\" class=\"data row2 col8\" >18.000000</td>\n",
       "      <td id=\"T_5e073_row2_col9\" class=\"data row2 col9\" >70.000000</td>\n",
       "    </tr>\n",
       "    <tr>\n",
       "      <th id=\"T_5e073_level0_row3\" class=\"row_heading level0 row3\" >Annual Income (k$)</th>\n",
       "      <td id=\"T_5e073_row3_col0\" class=\"data row3 col0\" >int64</td>\n",
       "      <td id=\"T_5e073_row3_col1\" class=\"data row3 col1\" >200</td>\n",
       "      <td id=\"T_5e073_row3_col2\" class=\"data row3 col2\" >64</td>\n",
       "      <td id=\"T_5e073_row3_col3\" class=\"data row3 col3\" >0</td>\n",
       "      <td id=\"T_5e073_row3_col4\" class=\"data row3 col4\" >0.000000</td>\n",
       "      <td id=\"T_5e073_row3_col5\" class=\"data row3 col5\" >60.560000</td>\n",
       "      <td id=\"T_5e073_row3_col6\" class=\"data row3 col6\" >61.500000</td>\n",
       "      <td id=\"T_5e073_row3_col7\" class=\"data row3 col7\" >26.264721</td>\n",
       "      <td id=\"T_5e073_row3_col8\" class=\"data row3 col8\" >15.000000</td>\n",
       "      <td id=\"T_5e073_row3_col9\" class=\"data row3 col9\" >137.000000</td>\n",
       "    </tr>\n",
       "    <tr>\n",
       "      <th id=\"T_5e073_level0_row4\" class=\"row_heading level0 row4\" >Spending Score (1-100)</th>\n",
       "      <td id=\"T_5e073_row4_col0\" class=\"data row4 col0\" >int64</td>\n",
       "      <td id=\"T_5e073_row4_col1\" class=\"data row4 col1\" >200</td>\n",
       "      <td id=\"T_5e073_row4_col2\" class=\"data row4 col2\" >84</td>\n",
       "      <td id=\"T_5e073_row4_col3\" class=\"data row4 col3\" >0</td>\n",
       "      <td id=\"T_5e073_row4_col4\" class=\"data row4 col4\" >0.000000</td>\n",
       "      <td id=\"T_5e073_row4_col5\" class=\"data row4 col5\" >50.200000</td>\n",
       "      <td id=\"T_5e073_row4_col6\" class=\"data row4 col6\" >50.000000</td>\n",
       "      <td id=\"T_5e073_row4_col7\" class=\"data row4 col7\" >25.823522</td>\n",
       "      <td id=\"T_5e073_row4_col8\" class=\"data row4 col8\" >1.000000</td>\n",
       "      <td id=\"T_5e073_row4_col9\" class=\"data row4 col9\" >99.000000</td>\n",
       "    </tr>\n",
       "  </tbody>\n",
       "</table>\n"
      ],
      "text/plain": [
       "<pandas.io.formats.style.Styler at 0x1bb350cb010>"
      ]
     },
     "execution_count": 4,
     "metadata": {},
     "output_type": "execute_result"
    }
   ],
   "source": [
    "df_diagnostics(df_customers)"
   ]
  },
  {
   "cell_type": "markdown",
   "metadata": {},
   "source": [
    "Диагностика данных в таблице показала:\n",
    "- дублирующих строк нет\n",
    "- имена полей корректны\n",
    "- типы данных соответствуют\n",
    "- все клиенты по полю `CustomerID`уникальные\n",
    "- пропусков нет\n",
    "- данные о возрасте клиентов по полю `Age` в диапазоне от 18 до 70\n",
    "- данные о годовом доходе по полю `Annual Income (k$)` в диапазоне от 15 до 137 k$\n",
    "- данные о оценке расходов по полю `Spending Score (1-100)` в диапазоне от 1 до 99"
   ]
  },
  {
   "cell_type": "markdown",
   "metadata": {},
   "source": [
    "Данные также были дополнительно изучены через пакет dtale"
   ]
  }
 ],
 "metadata": {
  "kernelspec": {
   "display_name": ".venv",
   "language": "python",
   "name": "python3"
  },
  "language_info": {
   "codemirror_mode": {
    "name": "ipython",
    "version": 3
   },
   "file_extension": ".py",
   "mimetype": "text/x-python",
   "name": "python",
   "nbconvert_exporter": "python",
   "pygments_lexer": "ipython3",
   "version": "3.11.0"
  }
 },
 "nbformat": 4,
 "nbformat_minor": 2
}
