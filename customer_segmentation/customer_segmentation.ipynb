{
 "cells": [
  {
   "cell_type": "markdown",
   "metadata": {},
   "source": [
    "# Проект: Исследование посетителей супермаркета\n",
    "\n",
    "## Описание проекта:\n",
    "Есть супермаркет и с помощью членских карт мы получаем некоторые базовые данные о своих клиентах, такие как идентификатор клиента, возраст, пол, годовой доход и рейтинг расходов.\n",
    "Рейтинг расходов — это показатель, который вы присваиваете клиенту на основе заданных вами параметров, таких как поведение клиента и данные о покупках.\n",
    "\n",
    "## Цель исследования:\n",
    "Провести комплексный многоаспектный анализ данных о посетителях супермаркета с целью выявления скрытых закономерностей в демографических характеристиках, уровне дохода и покупательском поведении. Исследование включает сегментацию клиентов, изучение взаимосвязей между ключевыми переменными (возраст, доход, затраты и пол) и разработку прогностических моделей для поддержки решений в маркетинге и развития клиентской базы.\n",
    "\n",
    "Источник данных: https://www.kaggle.com/datasets/vjchoudhary7/customer-segmentation-tutorial-in-python"
   ]
  },
  {
   "metadata": {},
   "cell_type": "markdown",
   "source": [
    "---\n",
    "## Вопросы\n",
    "1. На какие сегменты можно разделить клиентов супермаркета с использованием оценки возраста и расходов?\n",
    "2. Какие зависимости существуют между возрастом, уровнем дохода и тратами клиентов?\n",
    "3. Как пол влияет на распределение доходов и показателя расходов?\n",
    "4. Можно ли создать надёжную прогностическую модель для оценки показателя расходов на основе возраста, уровня дохода и пола? Какие факторы являются наиболее значимыми?\n",
    "5. Какие аномалии и выбросы присутствуют в данных, и как они могут влиять на результаты анализа?"
   ]
  },
  {
   "cell_type": "markdown",
   "metadata": {},
   "source": [
    "Импорт библиотек:"
   ]
  },
  {
   "cell_type": "code",
   "metadata": {},
   "source": [
    "import pandas as pd\n",
    "import numpy as np\n",
    "import matplotlib.pyplot as plt\n",
    "import seaborn as sns\n",
    "\n",
    "from sklearn.cluster import KMeans\n",
    "from sklearn.preprocessing import StandardScaler\n",
    "from sklearn.model_selection import train_test_split, cross_val_score\n",
    "from sklearn.linear_model import LinearRegression\n",
    "from sklearn.ensemble import RandomForestRegressor\n",
    "from sklearn.metrics import r2_score, mean_absolute_error, mean_squared_error"
   ],
   "outputs": [],
   "execution_count": null
  },
  {
   "metadata": {},
   "cell_type": "markdown",
   "source": [
    "# Обзор данных\n",
    "\n",
    "Чтение данных:"
   ]
  },
  {
   "cell_type": "code",
   "metadata": {},
   "source": [
    "# чтение\n",
    "df = pd.read_csv('data\\mall_customers.csv', sep = ',')\n",
    "\n",
    "# определение функции\n",
    "def df_diagnostics(df1):\n",
    "    # основные характеристики столбцов\n",
    "    diag = pd.DataFrame({\n",
    "        'dtypes': df1.dtypes,\n",
    "        'count': df1.count(),\n",
    "        'unique': df1.nunique(),\n",
    "        'nan_count': df1.isnull().sum(),\n",
    "        'nan_%': df1.isnull().sum() / df1.shape[0] * 100})\n",
    "\n",
    "    metrics = {\n",
    "        'mean': lambda s: s.mean(),\n",
    "        'median': lambda s: s.median(),\n",
    "        'min': lambda s: s.min(),\n",
    "        'max': lambda s: s.max()}\n",
    "\n",
    "    # метрики только для числовых столбцов\n",
    "    numeric_cols = df1.select_dtypes(include=[np.number]).columns\n",
    "    for metric, func in metrics.items():\n",
    "        diag[metric] = [func(df1[col]) if col in numeric_cols else np.nan\n",
    "                        for col in df1.columns]\n",
    "\n",
    "    # количество дублирующих строк в df\n",
    "    duplicates_count = df1.duplicated().sum()\n",
    "    print(\"Количество дублирующих строк:\", duplicates_count)\n",
    "\n",
    "    # df с градиентной подсветкой, форматированием и округлением чисел\n",
    "    return (diag.style.background_gradient(cmap='Set3', low=0.1, high=0.01)\n",
    "            .format(\"{:.2f}\", subset=diag.select_dtypes(include=[np.number]).columns))"
   ],
   "outputs": [],
   "execution_count": null
  },
  {
   "cell_type": "markdown",
   "metadata": {},
   "source": "Обзор таблицы:\n"
  },
  {
   "cell_type": "code",
   "metadata": {},
   "source": [
    "df.head()"
   ],
   "outputs": [],
   "execution_count": null
  },
  {
   "cell_type": "markdown",
   "metadata": {},
   "source": "Диагностика данных:\n"
  },
  {
   "cell_type": "code",
   "metadata": {},
   "source": [
    "df_diagnostics(df)"
   ],
   "outputs": [],
   "execution_count": null
  },
  {
   "cell_type": "markdown",
   "metadata": {},
   "source": [
    "Диагностика данных в таблице показала:\n",
    "- дублирующих строк нет\n",
    "- имена полей корректны\n",
    "- типы данных соответствуют\n",
    "- все клиенты по полю `CustomerID` уникальные\n",
    "- пропусков данных в полях нет"
   ]
  },
  {
   "cell_type": "markdown",
   "metadata": {},
   "source": [
    "# Визуализация данных\n",
    "\n",
    "Определим функции для построения графиков:"
   ]
  },
  {
   "cell_type": "code",
   "metadata": {},
   "source": [
    "def plot_regplot(data, x_column, y_column, title, xlabel, ylabel,\n",
    "                 hue_column=None, legend_title=None, figsize=(6, 4)):\n",
    "    \"\"\"Построение графика распределения scatter\"\"\"\n",
    "\n",
    "    plt.figure(figsize=figsize)\n",
    "    ax = plt.gca()\n",
    "\n",
    "    if hue_column is not None: # с группировкой\n",
    "        # Ручной цикл по категориям\n",
    "        for category in data[hue_column].unique():\n",
    "            subset = data[data[hue_column] == category]\n",
    "            sns.regplot(x=x_column, y=y_column, data=subset,\n",
    "                        label=category, ax=ax)\n",
    "\n",
    "        # Название легенды: явно заданное или имя столбца\n",
    "        legend_title = legend_title or hue_column\n",
    "        plt.legend(title=legend_title)\n",
    "\n",
    "    else: # без группировки\n",
    "        sns.regplot(x=data[x_column], y=data[y_column],\n",
    "                    line_kws={\"color\": \"red\"}, ax=ax)\n",
    "\n",
    "    plt.title(title)\n",
    "    plt.xlabel(xlabel)\n",
    "    plt.ylabel(ylabel)\n",
    "    plt.tight_layout()"
   ],
   "outputs": [],
   "execution_count": null
  },
  {
   "cell_type": "markdown",
   "metadata": {},
   "source": "Диаграммы распределения значений полей:"
  },
  {
   "cell_type": "code",
   "metadata": {},
   "source": [
    "plt.figure(figsize=(12, 4))\n",
    "\n",
    "plt.subplot(1, 3, 1)\n",
    "sns.histplot(df['Age'], bins=20)\n",
    "plt.title(\"Распределение значений возраста\")\n",
    "plt.xlabel(\"Возраст\"), plt.ylabel(\"Количество значений\")\n",
    "\n",
    "plt.subplot(1, 3, 2)\n",
    "sns.histplot(df['Annual Income (k$)'], bins=20)\n",
    "plt.title(\"Распределение значений годового дохода\")\n",
    "plt.xlabel(\"Годовой доход\"), plt.ylabel(\"Количество значений\")\n",
    "\n",
    "plt.subplot(1, 3, 3)\n",
    "sns.histplot(df['Spending Score (1-100)'], bins=20)\n",
    "plt.title(\"Распределение значений показателя расходов\")\n",
    "plt.xlabel(\"Показатель расходов\"), plt.ylabel(\"Количество значений\")\n",
    "\n",
    "plt.tight_layout()\n",
    "plt.show()"
   ],
   "outputs": [],
   "execution_count": null
  },
  {
   "cell_type": "markdown",
   "metadata": {},
   "source": "Диаграмма распределения значений по половому признаку:"
  },
  {
   "cell_type": "code",
   "metadata": {},
   "source": [
    "# Строим график баров\n",
    "plt.figure(figsize=(4, 4))\n",
    "ax = sns.countplot(data=df, x='Gender')\n",
    "ax.bar_label(ax.containers[0])\n",
    "plt.title('Кол-во мужчин и женщин среди посетителей')\n",
    "plt.xlabel('Пол')\n",
    "plt.ylabel('Количество посетителей')\n",
    "plt.tight_layout()"
   ],
   "outputs": [],
   "execution_count": null
  },
  {
   "cell_type": "markdown",
   "metadata": {},
   "source": "График зависимости годового дохода от возраста:"
  },
  {
   "cell_type": "code",
   "metadata": {},
   "source": [
    "# Расчёт корреляции\n",
    "correlation = df[[\"Age\", \"Annual Income (k$)\"]].corr().iloc[0, 1]\n",
    "print(f\"Коэффициент корреляции: {correlation:.2f}\")\n",
    "\n",
    "# Строим график\n",
    "plot_regplot(data=df, x_column=\"Age\", y_column=\"Annual Income (k$)\",\n",
    "             title=\"Зависимость годового дохода от возраста\",\n",
    "             xlabel=\"Возраст\", ylabel=\"Годовой доход\")"
   ],
   "outputs": [],
   "execution_count": null
  },
  {
   "cell_type": "markdown",
   "metadata": {},
   "source": "График зависимости показателя расходов от возраста:"
  },
  {
   "cell_type": "code",
   "metadata": {},
   "source": [
    "# Расчёт корреляции\n",
    "correlation = df[[\"Age\", \"Spending Score (1-100)\"]].corr().iloc[0, 1]\n",
    "print(f\"Коэффициент корреляции: {correlation:.2f}\")\n",
    "\n",
    "# Строим график\n",
    "plot_regplot(data=df, x_column=\"Age\", y_column=\"Spending Score (1-100)\",\n",
    "             title=\"Зависимость показателя расходов от возраста\",\n",
    "             xlabel=\"Возраст\", ylabel=\"Показатель расходов\")"
   ],
   "outputs": [],
   "execution_count": null
  },
  {
   "cell_type": "markdown",
   "metadata": {},
   "source": "График зависимости показателя расходов от годового дохода:"
  },
  {
   "cell_type": "code",
   "metadata": {},
   "source": [
    "# Расчёт корреляции\n",
    "correlation = df[[\"Annual Income (k$)\", \"Spending Score (1-100)\"]].corr().iloc[0, 1]\n",
    "print(f\"Коэффициент корреляции: {correlation:.2f}\")\n",
    "\n",
    "# Строим график\n",
    "plot_regplot(data=df, x_column=\"Annual Income (k$)\", y_column=\"Spending Score (1-100)\",\n",
    "             title=\"Зависимость показателя расходов от годового дохода\",\n",
    "             xlabel=\"Годовой доход\", ylabel=\"Показатель расходов\")"
   ],
   "outputs": [],
   "execution_count": null
  },
  {
   "cell_type": "markdown",
   "metadata": {},
   "source": "График распределения годового дохода в зависимости от возраста и пола:"
  },
  {
   "cell_type": "code",
   "metadata": {},
   "source": [
    "plot_regplot(data=df, x_column='Age', y_column='Annual Income (k$)', hue_column='Gender',\n",
    "             title='Зависимость годового дохода от возраста и пола', legend_title='Пол',\n",
    "             xlabel='Возраст, лет', ylabel='Годовой доход, тыс $')"
   ],
   "outputs": [],
   "execution_count": null
  },
  {
   "cell_type": "markdown",
   "metadata": {},
   "source": [
    "Обратим внимание на то, что у женщин годовой доход с увеличением возраста немного увеличивается, а у мужчин немного снижается."
   ]
  },
  {
   "cell_type": "markdown",
   "metadata": {},
   "source": "График распределения показателя расходов в зависимости от возраста и пола:"
  },
  {
   "cell_type": "code",
   "metadata": {},
   "source": [
    "plot_regplot(data=df, x_column='Age', y_column='Spending Score (1-100)', hue_column='Gender',\n",
    "             title='Зависимость показателя расходов от возраста и пола', legend_title='Пол',\n",
    "             xlabel='Возраст, лет', ylabel='Показатель расходов (1-100)')"
   ],
   "outputs": [],
   "execution_count": null
  },
  {
   "cell_type": "markdown",
   "metadata": {},
   "source": [
    "Обратим внимание на то, что с увеличением возраста у женщин показатель расходов снижается быстрее."
   ]
  },
  {
   "cell_type": "markdown",
   "metadata": {},
   "source": "График распределения показателя расходов в зависимости от годового дохода и пола:"
  },
  {
   "cell_type": "code",
   "metadata": {},
   "source": [
    "plot_regplot(data=df, x_column='Annual Income (k$)', y_column='Spending Score (1-100)',\n",
    "             title='Зависимость показателя расходов от годового дохода и пола',\n",
    "             hue_column='Gender', legend_title='Пол', xlabel='Годовой доход, тыс $',\n",
    "             ylabel='Показатель расходов (1-100)')"
   ],
   "outputs": [],
   "execution_count": null
  },
  {
   "cell_type": "markdown",
   "metadata": {},
   "source": [
    "Обратим внимание на то, что с увеличением годового дохода у мужчин показатель расходов незначительно снижается, а у женщин он незначительно растёт."
   ]
  },
  {
   "cell_type": "markdown",
   "metadata": {},
   "source": [
    "# Разделение клиентов супермаркета на сегменты\n",
    "\n",
    "Для сегментирования клиентов супермаркета выполним разделение клиентов на сегменты с помощью кластеризации методом `К-mean`\n",
    "\n",
    "Импортируем необходимые библиотеки и внесём определения функций для определения числа кластеров и построения кластеров"
   ]
  },
  {
   "cell_type": "code",
   "metadata": {},
   "source": [
    "def selecting_number_clusters(transf, n_clusters=range(2, 9), init='k-means++',\n",
    "                            n_init='auto', tol=0.0001, max_iter=300,\n",
    "                            algorithm='lloyd', random_state=None):\n",
    "    \"\"\"Определение оптимального числа кластеров по графику инерции\"\"\"\n",
    "    n_init = 1 if init not in ['k-means++', 'random'] else n_init\n",
    "\n",
    "    # Расчет инерции для каждого числа кластеров\n",
    "    inertia = [KMeans(n_clusters=k, init=init, n_init=n_init, tol=tol,\n",
    "               max_iter=max_iter, algorithm=algorithm,\n",
    "               random_state=random_state).fit(transf).inertia_\n",
    "               for k in n_clusters]\n",
    "\n",
    "    # Построение графика\n",
    "    plt.figure(figsize=(6, 4))\n",
    "    plt.plot(n_clusters, inertia, marker='o')\n",
    "\n",
    "    plt.title(\"Зависимость инерции от количества кластеров\")\n",
    "    plt.xlabel(\"Число кластеров\")\n",
    "    plt.ylabel(\"Инерция\")\n",
    "    plt.tight_layout()\n",
    "    plt.show()\n",
    "    \n",
    "def build_clusters(df, columns, columns_labels, transf, scaler, n_clusters,\n",
    "                  init='k-means++', note=None, **kmeans_kwargs):\n",
    "    \"\"\"Построение кластеров с визуализацией\n",
    "    :param df: DataFrame с исходными данными\n",
    "    :param columns: список из двух имен столбцов для осей\n",
    "    :param columns_labels: список подписей осей [x_label, y_label]\n",
    "    :param transf: преобразованные данные для обучения\n",
    "    :param scaler: используемый scaler для обратного преобразования\n",
    "    :param n_clusters: количество кластеров\n",
    "    :param init: метод кластеризации\n",
    "    :param note: дополнительная информация для заголовка\n",
    "    :param kmeans_kwargs: дополнительные параметры для KMeans\"\"\"\n",
    "\n",
    "    # Настройки модели\n",
    "    kmeans_params = {'n_clusters': n_clusters, 'init': init,\n",
    "        'n_init': 1 if init not in ['k-means++', 'random'] else 'auto',\n",
    "        **kmeans_kwargs}\n",
    "\n",
    "    # Обучение модели\n",
    "    kmeans = KMeans(**kmeans_params).fit(transf)\n",
    "    labels = kmeans.labels_\n",
    "    centroids = scaler.inverse_transform(kmeans.cluster_centers_)\n",
    "\n",
    "    def _create_meshgrid(data, h=0.5):\n",
    "        x_min, x_max = data[columns[0]].min()-1, data[columns[0]].max()+1\n",
    "        y_min, y_max = data[columns[1]].min()-1, data[columns[1]].max()+1\n",
    "        return np.meshgrid(np.arange(x_min, x_max, h),\n",
    "                          np.arange(y_min, y_max, h))\n",
    "\n",
    "    # Построение сетки и предсказание\n",
    "    xx, yy = _create_meshgrid(df)\n",
    "    Z = kmeans.predict(scaler.transform(np.c_[xx.ravel(), yy.ravel()]))\n",
    "    Z = Z.reshape(xx.shape)\n",
    "\n",
    "    # Построение графика\n",
    "    plt.figure(figsize=(6, 4))\n",
    "    # Области кластеров\n",
    "    plt.contourf(xx, yy, Z, alpha=0.4)\n",
    "    # Исходные данные\n",
    "    plt.scatter(df[columns[0]], df[columns[1]], c=labels, s=30, edgecolor='k')\n",
    "    # Центроиды\n",
    "    plt.scatter(centroids[:, 0], centroids[:, 1], marker='X', s=100,\n",
    "               c='red', label='Центроиды', edgecolor='k')\n",
    "\n",
    "    title = f'Кластеризация ({n_clusters} кластера)' + (f'\\n{note}' if note else '')\n",
    "    plt.title(title)\n",
    "    plt.xlabel(columns_labels[0])\n",
    "    plt.ylabel(columns_labels[1])\n",
    "    plt.legend()\n",
    "    plt.tight_layout()\n",
    "    plt.show()"
   ],
   "outputs": [],
   "execution_count": null
  },
  {
   "cell_type": "markdown",
   "metadata": {},
   "source": [
    "Сегментация с использованием оценки возраста и расходов:\n",
    "\n",
    "Выполним подготовку данных и выведем график зависимости инерции от количества кластеров"
   ]
  },
  {
   "cell_type": "code",
   "metadata": {},
   "source": [
    "spend_features = df[['Age', 'Spending Score (1-100)']].values\n",
    "spend_scaler = StandardScaler()\n",
    "spend_transf = spend_scaler.fit_transform(spend_features)\n",
    "\n",
    "selecting_number_clusters(transf = spend_transf)"
   ],
   "outputs": [],
   "execution_count": null
  },
  {
   "cell_type": "markdown",
   "metadata": {},
   "source": [
    "Оптимально разделить посетителей на 3 сегмента. Альтернативно можно разделить также на 4 и 5 сегментов, но в этом случае сегментация даёт сегменты с делением клиентов по показателю расходов на небольшие диапазоны и так стоит делить посетителей только в случае если это оправдано."
   ]
  },
  {
   "cell_type": "markdown",
   "metadata": {},
   "source": "Разделение посетителей на 3 сегмента:"
  },
  {
   "cell_type": "code",
   "metadata": {},
   "source": [
    "build_clusters(df= df, columns = ['Age', 'Spending Score (1-100)'],\n",
    "               columns_labels = ['Возраст', 'Показатель расходов (1-100)'],\n",
    "               transf = spend_transf, scaler = spend_scaler, n_clusters = 3, random_state = 34)"
   ],
   "outputs": [],
   "execution_count": null
  },
  {
   "cell_type": "code",
   "metadata": {},
   "source": [
    "# в новый столбец запишем номер сегмента\n",
    "df['segment'] = (df.apply(lambda x:\n",
    "                1 if (x['Age'] <= 40) & (x['Spending Score (1-100)'] <= 60) else\n",
    "                2 if (x['Age'] <= 40) & (x['Spending Score (1-100)'] > 60) else 3\n",
    "                , axis=1))\n",
    "\n",
    "# для каждого сегмента посчитаем медианные значения\n",
    "grouped = df.groupby('segment').agg(\n",
    "    age = ('Age', 'median'),\n",
    "    spending = ('Spending Score (1-100)', 'median'),\n",
    "    annual = ('Annual Income (k$)', 'median'),\n",
    "    percent = ('CustomerID', lambda x: len(x) / len(df) * 100),\n",
    "    ).reset_index()\n",
    "\n",
    "# переименуем столбцы\n",
    "grouped.rename(columns={'segment': 'Сегмент', 'age': 'Возраст, лет',\n",
    "            'spending': 'Показатель расходов', 'annual': 'Годовой доход, тыс.$',\n",
    "            'percent': 'Удельный вес группы, %'}, inplace=True)\n",
    "\n",
    "# выведем таблицу\n",
    "grouped"
   ],
   "outputs": [],
   "execution_count": null
  },
  {
   "metadata": {},
   "cell_type": "markdown",
   "source": [
    "`Вывод:` Присвоим трём нашим сегментам имена и опишем их:\n",
    "\n",
    "- Сегмент 1: `Молодые с низким расходом` - Возраст от 0 до 42 лет и показатель расходов от 0 и до 60.\n",
    "- Сегмент 2: `Молодые с высоким расходом` - Возраст от 0 до 42 лет и показатель расходов от 60 и выше.\n",
    "- Сегмент 3: `Люди в возрасте` - Возраст от 42 лет и выше и показатель расходов любой."
   ]
  },
  {
   "cell_type": "markdown",
   "metadata": {},
   "source": [
    "# Зависимости между возрастом, доходом и тратами клиентов\n",
    "\n",
    "Корреляционная матрица между возрастом, уровнем годового дохода и показателем расходов:"
   ]
  },
  {
   "cell_type": "code",
   "metadata": {},
   "source": [
    "corr_matrix = df[['Age', 'Annual Income (k$)', 'Spending Score (1-100)']].corr()\n",
    "print(\"Корреляционная матрица:\\n\", corr_matrix)"
   ],
   "outputs": [],
   "execution_count": null
  },
  {
   "cell_type": "markdown",
   "metadata": {},
   "source": [
    "Расшифровка корреляционной матрицы:\n",
    "- Возраст (Age) и Годовой Доход (Annual Income):\n",
    "Коэффициент корреляции равен -0.012398. Это значит, что практически отсутствует какая-либо значимая связь между возрастом и годовым доходом. С увеличением возраста доходы снижаются не значительно.\n",
    "\n",
    "- Возраст (Age) и Показатель Расходов (Spending Score):\n",
    "Коэффициент корреляции составляет -0.327227, что свидетельствует о слабой отрицательной зависимости. Это означает, что с увеличением возраста расходы немного снижаются. То есть, чем старше человек, тем ниже его уровень трат.\n",
    "\n",
    "- Годовой Доход (Annual Income) и Показатель Расходов (Spending Score):\n",
    "Значение корреляции равно 0.009903, что также указывает на почти полное отсутствие связи. Получается, что увеличение доходов слабо связано с ростом уровня расходов. Люди с большим доходом не обязательно больше тратят.\n",
    "\n",
    "Тепловая карта на основании корреляционной матрицы:"
   ]
  },
  {
   "cell_type": "code",
   "metadata": {},
   "source": [
    "plt.figure(figsize=(6, 4))\n",
    "sns.heatmap(corr_matrix, annot=True, fmt=\".2f\")\n",
    "plt.title(\"Корреляционная матрица\")\n",
    "plt.tight_layout()"
   ],
   "outputs": [],
   "execution_count": null
  },
  {
   "metadata": {},
   "cell_type": "markdown",
   "source": [
    "`Вывод:`\n",
    "\n",
    "- Между возрастом и годовым доходом зависимость практически отсутствует. С увеличением возраста доходы снижаются не значительно.\n",
    "- Между возрастом и показателем расходов зависимость является слабой отрицательной. Это обозначает, что с увеличением возраста расходы немного снижаются.\n",
    "- Между годовым доходом и показателем расходов зависимость практически полностью отсутствует. Увеличение расходов слабо связано с ростом уровня доходов. Люди с большим доходом не обязательно больше тратят."
   ]
  },
  {
   "cell_type": "markdown",
   "metadata": {},
   "source": [
    "# Влияние пола на распределение доходов и показателя расходов\n",
    "\n",
    "Сводная таблица по половому признаку:"
   ]
  },
  {
   "cell_type": "code",
   "metadata": {},
   "source": [
    "print(\"Средние значения `годового дохода` и `показателя расходов` по полу:\")\n",
    "print(df.groupby('Gender')[['Annual Income (k$)', 'Spending Score (1-100)']].mean())"
   ],
   "outputs": [],
   "execution_count": null
  },
  {
   "cell_type": "markdown",
   "metadata": {},
   "source": [
    "Разъяснение показателей в таблице:\n",
    "1. Годовой доход:\n",
    "   - Женщины имеют средний годовой доход около 59,25 тысяч долларов.\n",
    "   - Мужчины имеют немного больший средний доход — примерно 62,23 тысячи долларов.\n",
    "   \n",
    "   Это означает, что мужчины зарабатывают чуть больше, чем женщины, хотя разница невелика.\n",
    "\n",
    "2. Уровень расходов (по шкале от 1 до 100):\n",
    "   - Средний уровень расходов среди женщин составляет 51,53.\n",
    "   - Среди мужчин этот показатель ниже — 48,51.\n",
    "\n",
    "   Таким образом, женщины тратят немного больше денег, чем мужчины."
   ]
  },
  {
   "cell_type": "markdown",
   "metadata": {},
   "source": "Детальная статистика распределения доходов и расходов по половому признаку:"
  },
  {
   "cell_type": "code",
   "metadata": {},
   "source": [
    "print(\"Детальная статистика:\")\n",
    "print(df.groupby('Gender')[['Annual Income (k$)', 'Spending Score (1-100)']].describe())"
   ],
   "outputs": [],
   "execution_count": null
  },
  {
   "cell_type": "markdown",
   "metadata": {},
   "source": [
    "Определим функцию для построения диаграммы скрипичного ключа:\n"
   ]
  },
  {
   "cell_type": "markdown",
   "metadata": {},
   "source": "Скрипичная диаграмма с распределением доходов по полу:"
  },
  {
   "cell_type": "code",
   "metadata": {},
   "source": [
    "# Сортируем категории по медиане\n",
    "x_column = 'Gender'\n",
    "y_column = 'Annual Income (k$)'\n",
    "order = (df.groupby(x_column)[y_column]\n",
    "         .median()\n",
    "         .sort_values(ascending=False).index)\n",
    "\n",
    "plt.figure(figsize=(4, 4))\n",
    "sns.violinplot(data=df, x=x_column, y=y_column,\n",
    "               hue=x_column, order=order, inner='quartile')\n",
    "plt.title('Распределение годового дохода по полу')\n",
    "plt.xlabel(\"Пол\")\n",
    "plt.ylabel(\"Годовой доход, тыс $\")\n",
    "plt.grid()\n",
    "plt.tight_layout()"
   ],
   "outputs": [],
   "execution_count": null
  },
  {
   "cell_type": "markdown",
   "metadata": {},
   "source": "Скрипичная диаграмма с распределением расходов по полу:"
  },
  {
   "cell_type": "code",
   "metadata": {},
   "source": [
    "# Сортируем категории по медиане\n",
    "x_column = 'Gender'\n",
    "y_column = 'Spending Score (1-100)'\n",
    "order = (df.groupby(x_column)[y_column]\n",
    "         .median()\n",
    "         .sort_values(ascending=False).index)\n",
    "\n",
    "plt.figure(figsize=(4, 4))\n",
    "sns.violinplot(data=df, x=x_column, y=y_column,\n",
    "               hue=x_column, order=order, inner='quartile')\n",
    "plt.title('Распределение показателя расходов по полу')\n",
    "plt.xlabel(\"Пол\")\n",
    "plt.ylabel(\"Показатель расходов (1-100)\")\n",
    "plt.grid()\n",
    "plt.tight_layout()"
   ],
   "outputs": [],
   "execution_count": null
  },
  {
   "metadata": {},
   "cell_type": "markdown",
   "source": [
    "`Вывод:`\n",
    "\n",
    "**Влияние пола на годовой доход:** Женщины имеют средний годовой доход около 59,25 тысяч долларов. Мужчины имеют немного больший средний доход — примерно 62,23 тысячи долларов. Это означает, что мужчины зарабатывают чуть больше, чем женщины, хотя разница невелика.\n",
    "\n",
    "**Влияние пола на показатель расходов:** Средний уровень расходов среди женщин составляет 51,53. Среди мужчин этот показатель ниже — 48,51. Таким образом, женщины тратят немного больше денег, чем мужчины.\n",
    "\n",
    "**В итоге:** Несмотря на то, что мужчины в среднем зарабатывают больше, женщины склонны тратить больше относительно своего дохода. Это может указывать на различия в покупательских привычках или предпочтениях между полами."
   ]
  },
  {
   "cell_type": "markdown",
   "metadata": {},
   "source": [
    "# Создание прогностической модели для оценки показателя расходов на основе возраста, уровня дохода и пола\n",
    "\n",
    "Выполним предобработку данных:"
   ]
  },
  {
   "cell_type": "code",
   "metadata": {},
   "source": [
    "# Копия df\n",
    "data_ml = df.copy()\n",
    "\n",
    "# Кодирование переменной Gender\n",
    "data_ml['Gender'] = data_ml['Gender'].apply(lambda x: 1 if x == 'Male' else 0)\n",
    "\n",
    "# Выбор признаков (X) и целевой переменной (y)\n",
    "X = data_ml[['Age', 'Annual Income (k$)', 'Gender']]\n",
    "y = data_ml['Spending Score (1-100)']\n",
    "\n",
    "# Разбивка на обучающую и тестовую выборки (80/20)\n",
    "X_train, X_test, y_train, y_test = train_test_split(X, y, test_size=0.2, random_state=42)\n",
    "\n",
    "# Стандартизация признаков для линейной регрессии\n",
    "scaler_model = StandardScaler()\n",
    "X_train_scaled = scaler_model.fit_transform(X_train)\n",
    "X_test_scaled = scaler_model.transform(X_test)"
   ],
   "outputs": [],
   "execution_count": null
  },
  {
   "cell_type": "markdown",
   "metadata": {},
   "source": [
    "---\n",
    "Базовая модель: Линейная регрессия"
   ]
  },
  {
   "cell_type": "code",
   "metadata": {},
   "source": [
    "lin_reg = LinearRegression()\n",
    "lin_reg.fit(X_train_scaled, y_train)\n",
    "y_pred_lin = lin_reg.predict(X_test_scaled)\n",
    "\n",
    "print(\"Линейная регрессия:\")\n",
    "print(\"R²:\", r2_score(y_test, y_pred_lin))\n",
    "print(\"MAE:\", mean_absolute_error(y_test, y_pred_lin))\n",
    "print(\"RMSE:\", np.sqrt(mean_squared_error(y_test, y_pred_lin)))"
   ],
   "outputs": [],
   "execution_count": null
  },
  {
   "cell_type": "markdown",
   "metadata": {},
   "source": [
    "Показатели модели линейной регрессии указывают на её низкую точность прогнозирования показателя расходов на основе выбранных факторов (возраст, уровень дохода и пол):\n",
    "\n",
    "- Коэффициент детерминации R²: значение 0.02 означает, что всего лишь около 2% вариации целевой переменной объясняется моделью. Это крайне низкий показатель.\n",
    "  \n",
    "- Средняя абсолютная ошибка (MAE) равна примерно 18 единицам шкалы Spending Score. Это значит, что в среднем предсказания отклоняются от реальных значений на 18 пунктов.\n",
    "  \n",
    "- Корень среднеквадратичной ошибки (RMSE) составляет почти 22 единицы, что также подтверждает значительную ошибку прогноза.\n",
    "\n",
    "Модель плохо справляется с задачей — она объясняет менее 2% изменений в расходах клиентов, а её прогнозы часто далеки от истинных значений. Основные признаки, вероятно, недостаточно сильно связаны с целевым показателем."
   ]
  },
  {
   "cell_type": "markdown",
   "metadata": {},
   "source": [
    "---\n",
    "Сложная модель: Random Forest Regressor"
   ]
  },
  {
   "cell_type": "code",
   "metadata": {},
   "source": [
    "rf_reg = RandomForestRegressor(n_estimators=100, random_state=42)\n",
    "rf_reg.fit(X_train, y_train)\n",
    "y_pred_rf = rf_reg.predict(X_test)\n",
    "\n",
    "print(\"Random Forest Regression:\")\n",
    "print(\"R²:\", r2_score(y_test, y_pred_rf))\n",
    "print(\"MAE:\", mean_absolute_error(y_test, y_pred_rf))\n",
    "print(\"RMSE:\", np.sqrt(mean_squared_error(y_test, y_pred_rf)))"
   ],
   "outputs": [],
   "execution_count": null
  },
  {
   "cell_type": "markdown",
   "metadata": {},
   "source": [
    "Модель случайного леса (Random Forest) показывает немного лучшие результаты по сравнению с линейной регрессией, но всё ещё остаётся недостаточно точной:\n",
    "\n",
    "- Коэффициент детерминации R²: 0.08 означает, что модель объясняет около 8% вариаций в Spending Score. Хотя это лучше, чем у линейной регрессии, этот результат всё равно считается низким.\n",
    "  \n",
    "- Средняя абсолютная ошибка (MAE) уменьшилась до 12 единиц, что говорит о меньшем среднем отклонении прогнозов от фактических значений.\n",
    "  \n",
    "- Корень среднеквадратичной ошибки (RMSE) остался практически таким же — около 21 единицы, что свидетельствует о значительной ошибке в прогнозировании.\n",
    "\n",
    "Случайный лес работает чуть лучше линейной регрессии, уменьшая среднюю ошибку прогноза. Однако модель всё равно остаётся ненадёжной, поскольку она объясняет лишь небольшую долю изменений в показателях расходов."
   ]
  },
  {
   "cell_type": "markdown",
   "metadata": {},
   "source": [
    "---\n",
    "Анализ важности признаков для Random Forest:"
   ]
  },
  {
   "cell_type": "code",
   "metadata": {},
   "source": [
    "importances = rf_reg.feature_importances_\n",
    "feature_names = X.columns\n",
    "\n",
    "print(\"Важность признаков (Random Forest):\")\n",
    "for name, importance in zip(feature_names, importances):\n",
    "    print(f\"Признак: {name}, Важность: {importance:.3f}\")"
   ],
   "outputs": [],
   "execution_count": null
  },
  {
   "cell_type": "markdown",
   "metadata": {},
   "source": [
    "Анализ важности признаков для модели случайного леса (Random Forest) показывает вклад каждого признака в предсказание Spending Score:\n",
    "\n",
    "- Возраст (Age): важность 0.49 указывает, что возраст является самым влиятельным фактором среди всех рассматриваемых признаков. Он оказывает наибольшее влияние на прогнозируемые расходы.\n",
    "  \n",
    "- Годовой доход (Annual Income): важность 0.47 также делает его важным признаком, который значительно влияет на прогноз.\n",
    "  \n",
    "- Пол (Gender): важность 0.03 демонстрирует, что пол играет наименьшую роль в предсказании расходов, его влияние минимально."
   ]
  },
  {
   "cell_type": "markdown",
   "metadata": {},
   "source": [
    "---\n",
    "График для линейной регрессии истинного и предсказанного значения:"
   ]
  },
  {
   "cell_type": "code",
   "metadata": {},
   "source": [
    "plt.figure(figsize=(6, 4))\n",
    "plt.scatter(y_test, y_pred_lin, label='Данные')\n",
    "plt.plot([y_test.min(), y_test.max()], [y_test.min(), y_test.max()],\n",
    "         'r--', label='Идеальное предсказание')\n",
    "\n",
    "plt.title(\"Линейная Регрессия: Истинное vs Предсказанное\")\n",
    "plt.xlabel(\"Истинное значение показателя расходов\")\n",
    "plt.ylabel(\"Предсказанное значение показателя расходов\")\n",
    "plt.legend()\n",
    "plt.tight_layout()"
   ],
   "outputs": [],
   "execution_count": null
  },
  {
   "cell_type": "markdown",
   "metadata": {},
   "source": [
    "График истинного и предсказанного значения отображает соответствие между реальными и предсказанными значениями Spending Score, полученными с помощью модели линейной регрессии. Красная пунктирная линия представляет идеальную ситуацию, когда предсказанные значения точно совпадают с истинными. Если точки плотно сгруппированы вдоль красной линии, это означает высокую точность модели: предсказания близки к реальным значениям.\n",
    "\n",
    "Интерпретация графика: В нашем случае точки разбросаны далеко от красной линии, что указывает на слабую корреляцию между предсказаниями и реальностью. Значения метрик R², MAE и RMSE это подтверждают."
   ]
  },
  {
   "cell_type": "markdown",
   "metadata": {},
   "source": [
    "---\n",
    "Кросс-валидация для оценки устойчивости линейной модели"
   ]
  },
  {
   "cell_type": "code",
   "metadata": {},
   "source": [
    "lin_cv_scores = cross_val_score(lin_reg, X_train_scaled, y_train, cv=5, scoring='r2')\n",
    "print(\"Кросс-валидация (Линейная регрессия, R²):\", lin_cv_scores)"
   ],
   "outputs": [],
   "execution_count": null
  },
  {
   "cell_type": "markdown",
   "metadata": {},
   "source": [
    "Кросс-валидация используется для оценки устойчивости модели, проверяя её производительность на различных участках данных. В данном случае кросс-валидация была выполнена с использованием 5-кратного разбиения (cv=5), и метрика качества оценивалась через коэффициент детерминации R².\n",
    "\n",
    "Интерпретация результатов:\n",
    "- Значение R²: Коэффициент детерминации измеряет долю дисперсии целевой переменной, которую объясняет модель. Значение R² варьируется от 0 до 1, где 1 означает идеальное соответствие модели данным, а 0 — отсутствие связи.\n",
    "- Устойчивость модели: Важно смотреть на диапазон полученных значений R². Если значения сильно различаются, это может свидетельствовать о нестабильной работе модели на разных частях данных."
   ]
  },
  {
   "metadata": {},
   "cell_type": "markdown",
   "source": [
    "`Вывод:`\n",
    "\n",
    "На основании проведённого анализа нельзя создать надёжную прогностическую модель для оценки показателя расходов исключительно на основе таких факторов, как возраст, уровень дохода и пол. Модель оказывается недостаточно точной для практических целей.\n",
    "\n",
    "Наиболее значимые факторы, влияющие на прогнозирование показателя расходов:\n",
    "\n",
    "1. Возраст: самый важный фактор, оказывающий значительное влияние на траты.\n",
    "2. Годовой доход: также сильно влияет на расходы, хотя чуть меньше, чем возраст.\n",
    "3. Пол: имеет минимальное влияние на предсказание трат.\n",
    "\n",
    "**Общий вывод:**\n",
    "Для улучшения точности модели потребуется включить дополнительные данные и признаки, поскольку выбранные параметры (возраст, доход и пол) недостаточно информативны для точного прогнозирования трат."
   ]
  },
  {
   "cell_type": "markdown",
   "metadata": {},
   "source": [
    "# Аномалии и выбросы в данных\n",
    "\n",
    "Определение выбросов для каждой переменной:"
   ]
  },
  {
   "cell_type": "code",
   "metadata": {},
   "source": [
    "def find_outliers(series):\n",
    "    Q1 = series.quantile(0.25)\n",
    "    Q3 = series.quantile(0.75)\n",
    "    IQR = Q3 - Q1\n",
    "    lower_bound = Q1 - 1.5 * IQR\n",
    "    upper_bound = Q3 + 1.5 * IQR\n",
    "    return series[(series < lower_bound) | (series > upper_bound)]\n",
    "\n",
    "outliers_age = find_outliers(df['Age'])\n",
    "outliers_income = find_outliers(df['Annual Income (k$)'])\n",
    "outliers_score = find_outliers(df['Spending Score (1-100)'])\n",
    "\n",
    "# вывод аномалий\n",
    "print(\"Аномалии в Age:\")\n",
    "print(outliers_age)\n",
    "print(\"\\nАномалии в Annual Income:\")\n",
    "print(outliers_income)\n",
    "print(\"\\nАномалии в Spending Score:\")\n",
    "print(outliers_score)"
   ],
   "outputs": [],
   "execution_count": null
  },
  {
   "cell_type": "markdown",
   "metadata": {},
   "source": [
    "Анализ выбросов: Годовой доход (`Annual Income (k$)`): Выбросы были обнаружены в двух наблюдениях с годовым доходом 137 тысяч долларов. Такие значения могут оказаться существенно больше среднего дохода в выборке и, следовательно, представлять собой выбросы, способные повлиять на модели машинного обучения.\n",
    "\n",
    "Влияние выбросов на результаты анализа:\n",
    "Выбросы могут оказывать значительное влияние на различные этапы анализа данных, особенно когда речь идет о моделях машинного обучения. Рассмотрим, каким образом выбросы в годовом доходе могут воздействовать на анализ:\n",
    "\n",
    "1. Регрессии и предсказания:\n",
    "   - Линейная регрессия и другие методы регрессии чувствительны к выбросам, поскольку они стремятся минимизировать сумму квадратов ошибок между предсказанными значениями и фактическими. Если в данных есть выбросы, такие точки могут смещать линию регрессии, делая её менее точной для основной массы наблюдений.\n",
    "   - Для моделей типа Random Forest, хотя они и обладают устойчивостью к выбросам благодаря использованию деревьев решений, выбросы всё же могут повлиять на качество модели. Например, если некоторые деревья в случайном лесе будут строить свои решения вокруг выбросов, итоговая оценка будет хуже.\n",
    "\n",
    "2. Метрики качества:\n",
    "   - Коэффициент детерминации R² показывает долю дисперсии целевой переменной, которую объясняет модель. Выбросы могут снижать значение R², поскольку они часто находятся далеко от линии регрессии и увеличивают ошибку модели.\n",
    "   - Средняя абсолютная ошибка (MAE) и среднеквадратичная ошибка (RMSE) также возрастают из-за выбросов, так как эти метрики измеряют разницу между предсказаниями и истинными значениями, включая выбросы.\n",
    "\n",
    "3. Кросс-валидация:\n",
    "   Результаты кросс-валидации показывают нестабильность модели линейной регрессии — значения R² варьируются от положительных до отрицательных, что подтверждает чувствительность модели к выбросам. Это может свидетельствовать о переобучении на тренировочном наборе данных.\n",
    "\n",
    "Рекомендации:\n",
    "Для повышения точности анализа рекомендуется либо удалить выбросы перед построением моделей, либо использовать робастные алгоритмы, которые менее подвержены влиянию выбросов (например, методы квантильной регрессии). Также стоит учитывать возможное наличие скрытых факторов, объясняющих высокие доходы, чтобы избежать удаления полезной информации."
   ]
  },
  {
   "metadata": {},
   "cell_type": "markdown",
   "source": "`Вывод:` В данных выявлены выбросы в показателях годового дохода, которые могут искажать результаты анализа. Эти выбросы способны негативно влиять на точность моделей машинного обучения, таких как линейная регрессия и даже более устойчивый метод случайного леса. Чтобы улучшить качество анализа, рекомендуется либо исключить выбросы, либо использовать алгоритмы, которые менее восприимчивы к ним, например, квантильную регрессию."
  },
  {
   "cell_type": "markdown",
   "metadata": {},
   "source": [
    "---\n",
    "# Вывод"
   ]
  },
  {
   "cell_type": "markdown",
   "metadata": {},
   "source": [
    "**Вопрос 1:** На какие сегменты можно разделить клиентов супермаркета с использованием оценки возраста и расходов?\n",
    "\n",
    "Клиентов супермаркета на основании оценки возраста и расходов можно разделить на 3 следующих сегмента:\n",
    "\n",
    "1. Сегмент 1: `Молодые с низким расходом` - В сегмент входят молодые люди до 40 лет с низким уровнем расходов.\n",
    "2. Сегмент 2: `Молодые с высоким расходом` - В сегмент входят молодые люди до 40 лет с высоким уровнем расходов.\n",
    "3. Сегмент 3: `Люди в возрасте` - Люди от 40 лет с любым уровнем расходов."
   ]
  },
  {
   "cell_type": "markdown",
   "metadata": {},
   "source": [
    "**Рекомендации:**\n",
    " \n",
    "Фокусировка на сегменте 2: Этот сегмент имеет самый высокий показатель расходов 79 и довольно высокую долю в общем количестве клиентов 31%. Для стимулирования роста покупок у данного сегмента можно предложить следующие меры:\n",
    "   - Создание персонализированных предложений на основе истории покупок.\n",
    "   - Проведение акций и распродаж, ориентированных именно на этот сегмент.\n",
    "   - Введение бонусной программы или системы лояльности для удержания и повышения частоты посещений.\n",
    "   \n",
    "Развитие сегмента 1: Хотя средний возраст ниже среднего и составляет 28.5 года, этот сегмент также составляет значительную часть аудитории 30%. Можно попробовать увеличить расходы этой группы через:\n",
    "   - Продвижение товаров, популярных среди молодежи (например, современные гаджеты, спортивные товары).\n",
    "   - Интерактивные мероприятия, направленные на привлечение молодых людей (конкурсы, розыгрыши).\n",
    "   - Расширение ассортимента недорогих продуктов, учитывая относительно низкий годовой доход 60K$.\n",
    "\n",
    "Повышение активности сегмента 3: Средний возраст в данном сегменте самый высокий и составляет 51 год, и хотя доля этого сегмента велика 39%, расходы ниже среднего 42. Рекомендуется:\n",
    "   - Акцентирование внимания на продуктах, соответствующих интересам пожилых покупателей (здоровое питание, лекарства).\n",
    "   - Специальные предложения для пенсионеров, такие как скидки в определенные дни недели.\n",
    "   - Улучшение удобства шопинга для данной возрастной категории (например, дополнительные места отдыха внутри магазина)."
   ]
  },
  {
   "cell_type": "markdown",
   "metadata": {},
   "source": [
    "**Идеи для дальнейшего анализа:**\n",
    "\n",
    "1. Анализ корзины покупателя:\n",
    "   Разделение клиентов по типу приобретаемых товаров поможет лучше понимать потребности каждого сегмента. Например:\n",
    "   - Выявление основных категорий товаров, покупаемых каждым сегментом.\n",
    "   - Определение уровня перекрестных продаж между категориями.\n",
    "   - Поиск возможности расширения ассортимента на основе предпочтений сегментов.\n",
    "\n",
    "2. Исследование поведенческих паттернов:\n",
    "   Анализ поведения клиентов внутри магазина позволит выявить ключевые моменты взаимодействия с продуктом и торговой площадкой:\n",
    "   - Время посещения магазина.\n",
    "   - Продолжительность пребывания в магазине.\n",
    "   - Частота покупок.\n",
    "   - Использование различных каналов покупки (онлайн vs офлайн).\n",
    "\n",
    "3. Прогнозирование потребительского спроса:\n",
    "   Построение моделей прогнозирования спроса поможет предугадать поведение клиентов и подготовиться к пиковым нагрузкам:\n",
    "   - Прогнозирование объемов продаж на ближайшие месяцы/кварталы.\n",
    "   - Оценка влияния сезонности на покупательское поведение.\n",
    "\n",
    "4. Создание портретов клиента:\n",
    "   Более глубокая характеристика каждого сегмента позволит разрабатывать более точные стратегии:\n",
    "   - Психографические характеристики (интересы, ценности, образ жизни).\n",
    "   - Социальная активность (использование социальных сетей, участие в общественных мероприятиях).\n",
    "   - Предпочтительные каналы коммуникации (телефон, email, социальные сети)."
   ]
  },
  {
   "cell_type": "markdown",
   "metadata": {},
   "source": [
    "---\n",
    "**Вопрос 2:** Какие зависимости существуют между возрастом, уровнем дохода и тратами клиентов?\n",
    "\n",
    "- Между возрастом и годовым доходом зависимость практически отсутствует. С увеличением возраста доходы снижаются не значительно.\n",
    "- Между возрастом и показателем расходов зависимость является слабой отрицательной. Это обозначает, что с увеличением возраста расходы немного снижаются.\n",
    "- Между годовым доходом и показателем расходов зависимость практически полностью отсутствует. Увеличение расходов слабо связано с ростом уровня доходов. Люди с большим доходом не обязательно больше тратят."
   ]
  },
  {
   "cell_type": "markdown",
   "metadata": {},
   "source": [
    "---\n",
    "**Вопрос 3:** Как пол влияет на распределение доходов и показателя расходов?\n",
    "\n",
    "**Влияние пола на годовой доход:** Женщины имеют средний годовой доход около 59,25 тысяч долларов. Мужчины имеют немного больший средний доход — примерно 62,23 тысячи долларов. Это означает, что мужчины зарабатывают чуть больше, чем женщины, хотя разница невелика.\n",
    "\n",
    "**Влияние пола на показатель расходов:** Средний уровень расходов среди женщин составляет 51,53. Среди мужчин этот показатель ниже — 48,51. Таким образом, женщины тратят немного больше денег, чем мужчины.\n",
    "\n",
    "**В итоге:** Несмотря на то, что мужчины в среднем зарабатывают больше, женщины склонны тратить больше относительно своего дохода. Это может указывать на различия в покупательских привычках или предпочтениях между полами."
   ]
  },
  {
   "cell_type": "markdown",
   "metadata": {},
   "source": [
    "---\n",
    "**Вопрос 4:** Можно ли создать надёжную прогностическую модель для оценки показателя расходов на основе возраста, уровня дохода и пола? Какие факторы являются наиболее значимыми?\n",
    "\n",
    "На основании проведённого анализа нельзя создать надёжную прогностическую модель для оценки показателя расходов исключительно на основе таких факторов, как возраст, уровень дохода и пол. Модель оказывается недостаточно точной для практических целей.\n",
    "\n",
    "Наиболее значимые факторы, влияющие на прогнозирование показателя расходов:\n",
    "\n",
    "1. Возраст: самый важный фактор, оказывающий значительное влияние на траты.\n",
    "2. Годовой доход: также сильно влияет на расходы, хотя чуть меньше, чем возраст.\n",
    "3. Пол: имеет минимальное влияние на предсказание трат.\n",
    "\n",
    "**Общий вывод:**\n",
    "Для улучшения точности модели потребуется включить дополнительные данные и признаки, поскольку выбранные параметры (возраст, доход и пол) недостаточно информативны для точного прогнозирования трат."
   ]
  },
  {
   "cell_type": "markdown",
   "metadata": {},
   "source": [
    "---\n",
    "**Вопрос 5:** Какие аномалии и выбросы присутствуют в данных, и как они могут влиять на результаты анализа?\n",
    "\n",
    "В данных выявлены выбросы в показателях годового дохода, которые могут искажать результаты анализа. Эти выбросы способны негативно влиять на точность моделей машинного обучения, таких как линейная регрессия и даже более устойчивый метод случайного леса. Чтобы улучшить качество анализа, рекомендуется либо исключить выбросы, либо использовать алгоритмы, которые менее восприимчивы к ним, например, квантильную регрессию."
   ]
  },
  {
   "metadata": {},
   "cell_type": "markdown",
   "source": [
    "---\n",
    "Доделать:\n",
    "- в пред-обработке вставить изменение имён полей на корректные. далее поправить имена полей. о доработке написать в локальном и общем выводе.\n",
    "- вставить содержание со ссылками."
   ]
  }
 ],
 "metadata": {
  "kernelspec": {
   "display_name": "venv",
   "language": "python",
   "name": "python3"
  },
  "language_info": {
   "codemirror_mode": {
    "name": "ipython",
    "version": 3
   },
   "file_extension": ".py",
   "mimetype": "text/x-python",
   "name": "python",
   "nbconvert_exporter": "python",
   "pygments_lexer": "ipython3",
   "version": "3.11.0"
  }
 },
 "nbformat": 4,
 "nbformat_minor": 4
}
