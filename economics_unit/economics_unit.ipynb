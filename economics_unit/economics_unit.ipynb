{
 "cells": [
  {
   "cell_type": "markdown",
   "metadata": {},
   "source": [
    "# <a id='toc1_'></a>[Расчёт юнит экономики привлечения клиентов из разных каналов](#toc0_)\n",
    "\n",
    "## <a id='toc1_1_'></a>[Цель](#toc0_)\n",
    "Произвести расчёты эффективности вложения средств в разные каналы привлечения клиентов.\n",
    "\n",
    "## <a id='toc1_2_'></a>[Задачи](#toc0_)\n",
    "1. Определить какие каналы окупаются;\n",
    "2. Определить какой из каналов самый прибыльный с точки зрения прибыли на один юнит;\n",
    "3. Сформулировать бизнес выводы на основании данных расчётов.\n",
    "\n",
    "## <a id='toc1_3_'></a>[Описание](#toc0_)\n",
    "Данные о LTV пользователей и стоимости привлечения находятся в файлах `customers.csv` и `cost_attraction.csv`. Перед выполнением расчётов необходимо произвести обзор данных. В предобработке данных будет произведена проверка на наличие ошибок в данных и при их наличии оценка их влияния на расчёты. После этого будут осуществлены расчёты и формирование бизнес выводов.\n",
    "\n",
    "В файле `customers.csv` содержится статистика по клиентам, привлеченным из каналов.\n",
    "Поля:\n",
    "- id клиента - номер клиента;\n",
    "- Канал привлечения - канал из которого пришел клиент;\n",
    "- LTV клиента, руб. - сколько прибыли принёс клиент за всё время взаимодействия с компанией.\n",
    "\n",
    "В файле `cost_attraction.csv` содержится информация о общей стоимости привлечения для каждого канала.\n",
    "Поля:\n",
    "- Канал привлечения - канал, на который выполнены расходы на привлечение;\n",
    "- Стоимость привлечения, руб. - сколько всего было потрачено на привлечение в данном канале."
   ]
  },
  {
   "cell_type": "markdown",
   "metadata": {},
   "source": [
    "**Содержание:**<a id='toc0_'></a>    \n",
    "- [Расчёт юнит экономики привлечения клиентов из разных каналов](#toc1_)    \n",
    "  - [Цель](#toc1_1_)    \n",
    "  - [Задачи](#toc1_2_)    \n",
    "  - [Описание](#toc1_3_)    \n",
    "- [Обзор данных](#toc2_)    \n",
    "    - [Импортируем библиотеки и считаем данные из файлов в dataframe](#toc2_1_1_)    \n",
    "    - [Обзор таблиц](#toc2_1_2_)    \n",
    "    - [Диагностика данных](#toc2_1_3_)    \n",
    "- [Предобработка данных](#toc3_)    \n",
    "- [Расчёты](#toc4_)    \n",
    "    - [Построение графика распределения LTV пользователей по каналам привлечения](#toc4_1_1_)    \n",
    "    - [Создание сводной таблицы по каналам привлечения клиентов](#toc4_1_2_)    \n",
    "    - [Объединение таблицы затрат и сводной таблицы](#toc4_1_3_)    \n",
    "    - [Расчёт метрики CAC](#toc4_1_4_)    \n",
    "    - [Расчёт прибыли на один юнит для каналов привлечения](#toc4_1_5_)    \n",
    "    - [Построение графика прибыли на одного юнита по каналам привлечения](#toc4_1_6_)    \n",
    "- [Итоги](#toc5_)    \n",
    "\n",
    "<!-- vscode-jupyter-toc-config\n",
    "\tnumbering=false\n",
    "\tanchor=true\n",
    "\tflat=false\n",
    "\tminLevel=1\n",
    "\tmaxLevel=6\n",
    "\t/vscode-jupyter-toc-config -->\n",
    "<!-- THIS CELL WILL BE REPLACED ON TOC UPDATE. DO NOT WRITE YOUR TEXT IN THIS CELL -->"
   ]
  },
  {
   "cell_type": "markdown",
   "metadata": {},
   "source": [
    "# <a id='toc2_'></a>[Обзор данных](#toc0_)\n",
    "Проведём обзор данных с целью понять их структуру и проверить наличие ошибок"
   ]
  },
  {
   "cell_type": "markdown",
   "metadata": {},
   "source": [
    "### <a id='toc2_1_1_'></a>[Импортируем библиотеки и считаем данные из файлов в dataframe](#toc0_)\n",
    "\n",
    "Определим также функцию для диагностики данных в dataframe"
   ]
  },
  {
   "cell_type": "code",
   "execution_count": 2,
   "metadata": {},
   "outputs": [],
   "source": [
    "import pandas as pd\n",
    "import numpy as np\n",
    "import plotly.express as px\n",
    "\n",
    "# сохраняем в df данные по LTV пользователей\n",
    "df_customers = pd.read_csv('data/customers.csv', sep = ';')\n",
    "\n",
    "# сохраняем в df данные по затратам на привлечение в каждом канале\n",
    "df_cost_attr = pd.read_csv('data/cost_attraction.csv', sep = ';')\n",
    "\n",
    "# функция для диагностики df\n",
    "def df_diagnostics(df):\n",
    "    # Собираем основные характеристики столбцов\n",
    "    diag = pd.DataFrame({'dtypes': df.dtypes, 'count': df.count(), 'unique': df.nunique(),\n",
    "                         'NaN count': df.isnull().sum(), 'NaN percentage': df.isnull().sum() / df.shape[0]})\n",
    "    \n",
    "    # Словарь описывающий, какую функцию применить для каждой метрики\n",
    "    metrics = {'mean': lambda s: s.mean(), 'median': lambda s: s.median(), 'std': lambda s: s.std(),\n",
    "               'min':  lambda s: s.min(),  'max':    lambda s: s.max()}\n",
    "    \n",
    "    # Используем цикл по словарю, чтобы вычислить метрики для каждого столбца\n",
    "    for metric, func in metrics.items():\n",
    "        diag[metric] = [func(df[col]) if pd.api.types.is_numeric_dtype(df[col]) else np.nan \n",
    "                        for col in df.columns]\n",
    "    \n",
    "    # Вычисляем количество дублирующих строк в DataFrame\n",
    "    duplicates_count = df.duplicated().sum()\n",
    "    print(\"Количество дублирующих строк:\", duplicates_count)\n",
    "    return diag.style.background_gradient(cmap='Set3', low=0.1, high=0.01)"
   ]
  },
  {
   "cell_type": "markdown",
   "metadata": {},
   "source": [
    "### <a id='toc2_1_2_'></a>[Обзор таблиц](#toc0_)\n",
    "\n",
    "Обзор данных по пользователям из таблицы `customers.csv`"
   ]
  },
  {
   "cell_type": "code",
   "execution_count": 3,
   "metadata": {},
   "outputs": [
    {
     "data": {
      "text/html": [
       "<div>\n",
       "<style scoped>\n",
       "    .dataframe tbody tr th:only-of-type {\n",
       "        vertical-align: middle;\n",
       "    }\n",
       "\n",
       "    .dataframe tbody tr th {\n",
       "        vertical-align: top;\n",
       "    }\n",
       "\n",
       "    .dataframe thead th {\n",
       "        text-align: right;\n",
       "    }\n",
       "</style>\n",
       "<table border=\"1\" class=\"dataframe\">\n",
       "  <thead>\n",
       "    <tr style=\"text-align: right;\">\n",
       "      <th></th>\n",
       "      <th>id клиента</th>\n",
       "      <th>Канал привлечения</th>\n",
       "      <th>LTV, руб.</th>\n",
       "    </tr>\n",
       "  </thead>\n",
       "  <tbody>\n",
       "    <tr>\n",
       "      <th>0</th>\n",
       "      <td>1</td>\n",
       "      <td>Реклама у блогеров</td>\n",
       "      <td>350</td>\n",
       "    </tr>\n",
       "    <tr>\n",
       "      <th>1</th>\n",
       "      <td>2</td>\n",
       "      <td>Реклама у блогеров</td>\n",
       "      <td>205</td>\n",
       "    </tr>\n",
       "    <tr>\n",
       "      <th>2</th>\n",
       "      <td>3</td>\n",
       "      <td>Реклама у блогеров</td>\n",
       "      <td>252</td>\n",
       "    </tr>\n",
       "    <tr>\n",
       "      <th>3</th>\n",
       "      <td>4</td>\n",
       "      <td>Таргетная реклама</td>\n",
       "      <td>531</td>\n",
       "    </tr>\n",
       "    <tr>\n",
       "      <th>4</th>\n",
       "      <td>5</td>\n",
       "      <td>Реклама у блогеров</td>\n",
       "      <td>325</td>\n",
       "    </tr>\n",
       "  </tbody>\n",
       "</table>\n",
       "</div>"
      ],
      "text/plain": [
       "   id клиента   Канал привлечения  LTV, руб.\n",
       "0           1  Реклама у блогеров        350\n",
       "1           2  Реклама у блогеров        205\n",
       "2           3  Реклама у блогеров        252\n",
       "3           4   Таргетная реклама        531\n",
       "4           5  Реклама у блогеров        325"
      ]
     },
     "execution_count": 3,
     "metadata": {},
     "output_type": "execute_result"
    }
   ],
   "source": [
    "df_customers.head()"
   ]
  },
  {
   "cell_type": "markdown",
   "metadata": {},
   "source": [
    "Обзор данных по стоимости привлечения в каналах из таблицы `cost_attraction.csv`"
   ]
  },
  {
   "cell_type": "code",
   "execution_count": 4,
   "metadata": {},
   "outputs": [
    {
     "data": {
      "text/html": [
       "<div>\n",
       "<style scoped>\n",
       "    .dataframe tbody tr th:only-of-type {\n",
       "        vertical-align: middle;\n",
       "    }\n",
       "\n",
       "    .dataframe tbody tr th {\n",
       "        vertical-align: top;\n",
       "    }\n",
       "\n",
       "    .dataframe thead th {\n",
       "        text-align: right;\n",
       "    }\n",
       "</style>\n",
       "<table border=\"1\" class=\"dataframe\">\n",
       "  <thead>\n",
       "    <tr style=\"text-align: right;\">\n",
       "      <th></th>\n",
       "      <th>Канал привлечения</th>\n",
       "      <th>Стоимость привлечения, руб.</th>\n",
       "    </tr>\n",
       "  </thead>\n",
       "  <tbody>\n",
       "    <tr>\n",
       "      <th>0</th>\n",
       "      <td>Таргетная реклама</td>\n",
       "      <td>100000</td>\n",
       "    </tr>\n",
       "    <tr>\n",
       "      <th>1</th>\n",
       "      <td>e-mail рассылки</td>\n",
       "      <td>25000</td>\n",
       "    </tr>\n",
       "    <tr>\n",
       "      <th>2</th>\n",
       "      <td>Реклама у блогеров</td>\n",
       "      <td>120000</td>\n",
       "    </tr>\n",
       "    <tr>\n",
       "      <th>3</th>\n",
       "      <td>Контекстная реклама</td>\n",
       "      <td>90000</td>\n",
       "    </tr>\n",
       "    <tr>\n",
       "      <th>4</th>\n",
       "      <td>Нативная реклама</td>\n",
       "      <td>70000</td>\n",
       "    </tr>\n",
       "    <tr>\n",
       "      <th>5</th>\n",
       "      <td>Реклама в новостных СМИ</td>\n",
       "      <td>60000</td>\n",
       "    </tr>\n",
       "  </tbody>\n",
       "</table>\n",
       "</div>"
      ],
      "text/plain": [
       "         Канал привлечения  Стоимость привлечения, руб.\n",
       "0        Таргетная реклама                       100000\n",
       "1          e-mail рассылки                        25000\n",
       "2       Реклама у блогеров                       120000\n",
       "3      Контекстная реклама                        90000\n",
       "4         Нативная реклама                        70000\n",
       "5  Реклама в новостных СМИ                        60000"
      ]
     },
     "execution_count": 4,
     "metadata": {},
     "output_type": "execute_result"
    }
   ],
   "source": [
    "df_cost_attr"
   ]
  },
  {
   "cell_type": "markdown",
   "metadata": {},
   "source": [
    "### <a id='toc2_1_3_'></a>[Диагностика данных](#toc0_)"
   ]
  },
  {
   "cell_type": "code",
   "execution_count": 5,
   "metadata": {},
   "outputs": [
    {
     "name": "stdout",
     "output_type": "stream",
     "text": [
      "Количество дублирующих строк: 0\n"
     ]
    },
    {
     "data": {
      "text/html": [
       "<style type=\"text/css\">\n",
       "#T_6285e_row0_col1, #T_6285e_row0_col3, #T_6285e_row0_col4, #T_6285e_row1_col1, #T_6285e_row1_col3, #T_6285e_row1_col4, #T_6285e_row2_col1, #T_6285e_row2_col3, #T_6285e_row2_col4 {\n",
       "  background-color: #8dd3c7;\n",
       "  color: #000000;\n",
       "}\n",
       "#T_6285e_row0_col2, #T_6285e_row0_col5, #T_6285e_row0_col6, #T_6285e_row0_col8, #T_6285e_row0_col9, #T_6285e_row2_col7 {\n",
       "  background-color: #ffed6f;\n",
       "  color: #000000;\n",
       "}\n",
       "#T_6285e_row0_col7, #T_6285e_row1_col2, #T_6285e_row2_col5, #T_6285e_row2_col6, #T_6285e_row2_col8, #T_6285e_row2_col9 {\n",
       "  background-color: #ffffb3;\n",
       "  color: #000000;\n",
       "}\n",
       "#T_6285e_row1_col5, #T_6285e_row1_col6, #T_6285e_row1_col7, #T_6285e_row1_col8, #T_6285e_row1_col9 {\n",
       "  background-color: #000000;\n",
       "  color: #f1f1f1;\n",
       "}\n",
       "#T_6285e_row2_col2 {\n",
       "  background-color: #80b1d3;\n",
       "  color: #f1f1f1;\n",
       "}\n",
       "</style>\n",
       "<table id=\"T_6285e\">\n",
       "  <thead>\n",
       "    <tr>\n",
       "      <th class=\"blank level0\" >&nbsp;</th>\n",
       "      <th id=\"T_6285e_level0_col0\" class=\"col_heading level0 col0\" >dtypes</th>\n",
       "      <th id=\"T_6285e_level0_col1\" class=\"col_heading level0 col1\" >count</th>\n",
       "      <th id=\"T_6285e_level0_col2\" class=\"col_heading level0 col2\" >unique</th>\n",
       "      <th id=\"T_6285e_level0_col3\" class=\"col_heading level0 col3\" >NaN count</th>\n",
       "      <th id=\"T_6285e_level0_col4\" class=\"col_heading level0 col4\" >NaN percentage</th>\n",
       "      <th id=\"T_6285e_level0_col5\" class=\"col_heading level0 col5\" >mean</th>\n",
       "      <th id=\"T_6285e_level0_col6\" class=\"col_heading level0 col6\" >median</th>\n",
       "      <th id=\"T_6285e_level0_col7\" class=\"col_heading level0 col7\" >std</th>\n",
       "      <th id=\"T_6285e_level0_col8\" class=\"col_heading level0 col8\" >min</th>\n",
       "      <th id=\"T_6285e_level0_col9\" class=\"col_heading level0 col9\" >max</th>\n",
       "    </tr>\n",
       "  </thead>\n",
       "  <tbody>\n",
       "    <tr>\n",
       "      <th id=\"T_6285e_level0_row0\" class=\"row_heading level0 row0\" >id клиента</th>\n",
       "      <td id=\"T_6285e_row0_col0\" class=\"data row0 col0\" >int64</td>\n",
       "      <td id=\"T_6285e_row0_col1\" class=\"data row0 col1\" >1801</td>\n",
       "      <td id=\"T_6285e_row0_col2\" class=\"data row0 col2\" >1801</td>\n",
       "      <td id=\"T_6285e_row0_col3\" class=\"data row0 col3\" >0</td>\n",
       "      <td id=\"T_6285e_row0_col4\" class=\"data row0 col4\" >0.000000</td>\n",
       "      <td id=\"T_6285e_row0_col5\" class=\"data row0 col5\" >901.000000</td>\n",
       "      <td id=\"T_6285e_row0_col6\" class=\"data row0 col6\" >901.000000</td>\n",
       "      <td id=\"T_6285e_row0_col7\" class=\"data row0 col7\" >520.048235</td>\n",
       "      <td id=\"T_6285e_row0_col8\" class=\"data row0 col8\" >1.000000</td>\n",
       "      <td id=\"T_6285e_row0_col9\" class=\"data row0 col9\" >1801.000000</td>\n",
       "    </tr>\n",
       "    <tr>\n",
       "      <th id=\"T_6285e_level0_row1\" class=\"row_heading level0 row1\" >Канал привлечения</th>\n",
       "      <td id=\"T_6285e_row1_col0\" class=\"data row1 col0\" >object</td>\n",
       "      <td id=\"T_6285e_row1_col1\" class=\"data row1 col1\" >1801</td>\n",
       "      <td id=\"T_6285e_row1_col2\" class=\"data row1 col2\" >6</td>\n",
       "      <td id=\"T_6285e_row1_col3\" class=\"data row1 col3\" >0</td>\n",
       "      <td id=\"T_6285e_row1_col4\" class=\"data row1 col4\" >0.000000</td>\n",
       "      <td id=\"T_6285e_row1_col5\" class=\"data row1 col5\" >nan</td>\n",
       "      <td id=\"T_6285e_row1_col6\" class=\"data row1 col6\" >nan</td>\n",
       "      <td id=\"T_6285e_row1_col7\" class=\"data row1 col7\" >nan</td>\n",
       "      <td id=\"T_6285e_row1_col8\" class=\"data row1 col8\" >nan</td>\n",
       "      <td id=\"T_6285e_row1_col9\" class=\"data row1 col9\" >nan</td>\n",
       "    </tr>\n",
       "    <tr>\n",
       "      <th id=\"T_6285e_level0_row2\" class=\"row_heading level0 row2\" >LTV, руб.</th>\n",
       "      <td id=\"T_6285e_row2_col0\" class=\"data row2 col0\" >int64</td>\n",
       "      <td id=\"T_6285e_row2_col1\" class=\"data row2 col1\" >1801</td>\n",
       "      <td id=\"T_6285e_row2_col2\" class=\"data row2 col2\" >594</td>\n",
       "      <td id=\"T_6285e_row2_col3\" class=\"data row2 col3\" >0</td>\n",
       "      <td id=\"T_6285e_row2_col4\" class=\"data row2 col4\" >0.000000</td>\n",
       "      <td id=\"T_6285e_row2_col5\" class=\"data row2 col5\" >274.234870</td>\n",
       "      <td id=\"T_6285e_row2_col6\" class=\"data row2 col6\" >313.000000</td>\n",
       "      <td id=\"T_6285e_row2_col7\" class=\"data row2 col7\" >2370.053981</td>\n",
       "      <td id=\"T_6285e_row2_col8\" class=\"data row2 col8\" >-100000.000000</td>\n",
       "      <td id=\"T_6285e_row2_col9\" class=\"data row2 col9\" >802.000000</td>\n",
       "    </tr>\n",
       "  </tbody>\n",
       "</table>\n"
      ],
      "text/plain": [
       "<pandas.io.formats.style.Styler at 0x28a69dc9350>"
      ]
     },
     "execution_count": 5,
     "metadata": {},
     "output_type": "execute_result"
    }
   ],
   "source": [
    "# диагностика df с пользователями\n",
    "df_diagnostics(df_customers)"
   ]
  },
  {
   "cell_type": "markdown",
   "metadata": {},
   "source": [
    "Диагностика таблицы `customers.csv` показала:\n",
    "- дублирующих строк нет\n",
    "- имена полей корректны\n",
    "- типы данных соответствуют\n",
    "- строк 1801\n",
    "- клиенты по полю id `клиента` все уникальные\n",
    "- 6 уникальных каналов привлечения клиентов\n",
    "- пропусков нет\n",
    "- в поле `LTV, руб.` минимальное значение -100000, ошибка данных, удалим его"
   ]
  },
  {
   "cell_type": "code",
   "execution_count": 6,
   "metadata": {},
   "outputs": [
    {
     "name": "stdout",
     "output_type": "stream",
     "text": [
      "Количество дублирующих строк: 0\n"
     ]
    },
    {
     "data": {
      "text/html": [
       "<style type=\"text/css\">\n",
       "#T_3f538_row0_col1, #T_3f538_row0_col2, #T_3f538_row0_col3, #T_3f538_row0_col4, #T_3f538_row0_col5, #T_3f538_row0_col6, #T_3f538_row0_col7, #T_3f538_row0_col8, #T_3f538_row0_col9, #T_3f538_row1_col1, #T_3f538_row1_col2, #T_3f538_row1_col3, #T_3f538_row1_col4, #T_3f538_row1_col5, #T_3f538_row1_col6, #T_3f538_row1_col7, #T_3f538_row1_col8, #T_3f538_row1_col9 {\n",
       "  background-color: #8dd3c7;\n",
       "  color: #000000;\n",
       "}\n",
       "</style>\n",
       "<table id=\"T_3f538\">\n",
       "  <thead>\n",
       "    <tr>\n",
       "      <th class=\"blank level0\" >&nbsp;</th>\n",
       "      <th id=\"T_3f538_level0_col0\" class=\"col_heading level0 col0\" >dtypes</th>\n",
       "      <th id=\"T_3f538_level0_col1\" class=\"col_heading level0 col1\" >count</th>\n",
       "      <th id=\"T_3f538_level0_col2\" class=\"col_heading level0 col2\" >unique</th>\n",
       "      <th id=\"T_3f538_level0_col3\" class=\"col_heading level0 col3\" >NaN count</th>\n",
       "      <th id=\"T_3f538_level0_col4\" class=\"col_heading level0 col4\" >NaN percentage</th>\n",
       "      <th id=\"T_3f538_level0_col5\" class=\"col_heading level0 col5\" >mean</th>\n",
       "      <th id=\"T_3f538_level0_col6\" class=\"col_heading level0 col6\" >median</th>\n",
       "      <th id=\"T_3f538_level0_col7\" class=\"col_heading level0 col7\" >std</th>\n",
       "      <th id=\"T_3f538_level0_col8\" class=\"col_heading level0 col8\" >min</th>\n",
       "      <th id=\"T_3f538_level0_col9\" class=\"col_heading level0 col9\" >max</th>\n",
       "    </tr>\n",
       "  </thead>\n",
       "  <tbody>\n",
       "    <tr>\n",
       "      <th id=\"T_3f538_level0_row0\" class=\"row_heading level0 row0\" >Канал привлечения</th>\n",
       "      <td id=\"T_3f538_row0_col0\" class=\"data row0 col0\" >object</td>\n",
       "      <td id=\"T_3f538_row0_col1\" class=\"data row0 col1\" >6</td>\n",
       "      <td id=\"T_3f538_row0_col2\" class=\"data row0 col2\" >6</td>\n",
       "      <td id=\"T_3f538_row0_col3\" class=\"data row0 col3\" >0</td>\n",
       "      <td id=\"T_3f538_row0_col4\" class=\"data row0 col4\" >0.000000</td>\n",
       "      <td id=\"T_3f538_row0_col5\" class=\"data row0 col5\" >nan</td>\n",
       "      <td id=\"T_3f538_row0_col6\" class=\"data row0 col6\" >nan</td>\n",
       "      <td id=\"T_3f538_row0_col7\" class=\"data row0 col7\" >nan</td>\n",
       "      <td id=\"T_3f538_row0_col8\" class=\"data row0 col8\" >nan</td>\n",
       "      <td id=\"T_3f538_row0_col9\" class=\"data row0 col9\" >nan</td>\n",
       "    </tr>\n",
       "    <tr>\n",
       "      <th id=\"T_3f538_level0_row1\" class=\"row_heading level0 row1\" >Стоимость привлечения, руб.</th>\n",
       "      <td id=\"T_3f538_row1_col0\" class=\"data row1 col0\" >int64</td>\n",
       "      <td id=\"T_3f538_row1_col1\" class=\"data row1 col1\" >6</td>\n",
       "      <td id=\"T_3f538_row1_col2\" class=\"data row1 col2\" >6</td>\n",
       "      <td id=\"T_3f538_row1_col3\" class=\"data row1 col3\" >0</td>\n",
       "      <td id=\"T_3f538_row1_col4\" class=\"data row1 col4\" >0.000000</td>\n",
       "      <td id=\"T_3f538_row1_col5\" class=\"data row1 col5\" >77500.000000</td>\n",
       "      <td id=\"T_3f538_row1_col6\" class=\"data row1 col6\" >80000.000000</td>\n",
       "      <td id=\"T_3f538_row1_col7\" class=\"data row1 col7\" >33429.029301</td>\n",
       "      <td id=\"T_3f538_row1_col8\" class=\"data row1 col8\" >25000.000000</td>\n",
       "      <td id=\"T_3f538_row1_col9\" class=\"data row1 col9\" >120000.000000</td>\n",
       "    </tr>\n",
       "  </tbody>\n",
       "</table>\n"
      ],
      "text/plain": [
       "<pandas.io.formats.style.Styler at 0x28a0bc6ba50>"
      ]
     },
     "execution_count": 6,
     "metadata": {},
     "output_type": "execute_result"
    }
   ],
   "source": [
    "# диагностика df со стоимостью привлечения\n",
    "df_diagnostics(df_cost_attr)"
   ]
  },
  {
   "cell_type": "markdown",
   "metadata": {},
   "source": [
    "Диагностика таблицы `cost_attraction.csv` показала:\n",
    "- дублирующих строк нет\n",
    "- имена полей корректны\n",
    "- типы данных соответствуют\n",
    "- строк 6\n",
    "- пропусков нет\n",
    "- числовые значения в поле `Стоимость привлечения, руб.` корректны"
   ]
  },
  {
   "cell_type": "markdown",
   "metadata": {},
   "source": [
    "# <a id='toc3_'></a>[Предобработка данных](#toc0_)\n",
    "\n",
    "В столбце `LTV, руб.` минимальное значение равно `-100000` - это ошибка в данных, удалим данную строку. После этого повторно выведем диагностику df."
   ]
  },
  {
   "cell_type": "code",
   "execution_count": 7,
   "metadata": {},
   "outputs": [
    {
     "name": "stdout",
     "output_type": "stream",
     "text": [
      "Количество дублирующих строк: 0\n"
     ]
    },
    {
     "data": {
      "text/html": [
       "<style type=\"text/css\">\n",
       "#T_902e6_row0_col1, #T_902e6_row0_col3, #T_902e6_row0_col4, #T_902e6_row1_col1, #T_902e6_row1_col3, #T_902e6_row1_col4, #T_902e6_row2_col1, #T_902e6_row2_col3, #T_902e6_row2_col4 {\n",
       "  background-color: #8dd3c7;\n",
       "  color: #000000;\n",
       "}\n",
       "#T_902e6_row0_col2, #T_902e6_row0_col5, #T_902e6_row0_col6, #T_902e6_row0_col7, #T_902e6_row0_col9, #T_902e6_row2_col8 {\n",
       "  background-color: #ffed6f;\n",
       "  color: #000000;\n",
       "}\n",
       "#T_902e6_row0_col8, #T_902e6_row1_col2, #T_902e6_row2_col5, #T_902e6_row2_col6, #T_902e6_row2_col7, #T_902e6_row2_col9 {\n",
       "  background-color: #ffffb3;\n",
       "  color: #000000;\n",
       "}\n",
       "#T_902e6_row1_col5, #T_902e6_row1_col6, #T_902e6_row1_col7, #T_902e6_row1_col8, #T_902e6_row1_col9 {\n",
       "  background-color: #000000;\n",
       "  color: #f1f1f1;\n",
       "}\n",
       "#T_902e6_row2_col2 {\n",
       "  background-color: #80b1d3;\n",
       "  color: #f1f1f1;\n",
       "}\n",
       "</style>\n",
       "<table id=\"T_902e6\">\n",
       "  <thead>\n",
       "    <tr>\n",
       "      <th class=\"blank level0\" >&nbsp;</th>\n",
       "      <th id=\"T_902e6_level0_col0\" class=\"col_heading level0 col0\" >dtypes</th>\n",
       "      <th id=\"T_902e6_level0_col1\" class=\"col_heading level0 col1\" >count</th>\n",
       "      <th id=\"T_902e6_level0_col2\" class=\"col_heading level0 col2\" >unique</th>\n",
       "      <th id=\"T_902e6_level0_col3\" class=\"col_heading level0 col3\" >NaN count</th>\n",
       "      <th id=\"T_902e6_level0_col4\" class=\"col_heading level0 col4\" >NaN percentage</th>\n",
       "      <th id=\"T_902e6_level0_col5\" class=\"col_heading level0 col5\" >mean</th>\n",
       "      <th id=\"T_902e6_level0_col6\" class=\"col_heading level0 col6\" >median</th>\n",
       "      <th id=\"T_902e6_level0_col7\" class=\"col_heading level0 col7\" >std</th>\n",
       "      <th id=\"T_902e6_level0_col8\" class=\"col_heading level0 col8\" >min</th>\n",
       "      <th id=\"T_902e6_level0_col9\" class=\"col_heading level0 col9\" >max</th>\n",
       "    </tr>\n",
       "  </thead>\n",
       "  <tbody>\n",
       "    <tr>\n",
       "      <th id=\"T_902e6_level0_row0\" class=\"row_heading level0 row0\" >id клиента</th>\n",
       "      <td id=\"T_902e6_row0_col0\" class=\"data row0 col0\" >int64</td>\n",
       "      <td id=\"T_902e6_row0_col1\" class=\"data row0 col1\" >1800</td>\n",
       "      <td id=\"T_902e6_row0_col2\" class=\"data row0 col2\" >1800</td>\n",
       "      <td id=\"T_902e6_row0_col3\" class=\"data row0 col3\" >0</td>\n",
       "      <td id=\"T_902e6_row0_col4\" class=\"data row0 col4\" >0.000000</td>\n",
       "      <td id=\"T_902e6_row0_col5\" class=\"data row0 col5\" >900.500000</td>\n",
       "      <td id=\"T_902e6_row0_col6\" class=\"data row0 col6\" >900.500000</td>\n",
       "      <td id=\"T_902e6_row0_col7\" class=\"data row0 col7\" >519.759560</td>\n",
       "      <td id=\"T_902e6_row0_col8\" class=\"data row0 col8\" >1.000000</td>\n",
       "      <td id=\"T_902e6_row0_col9\" class=\"data row0 col9\" >1800.000000</td>\n",
       "    </tr>\n",
       "    <tr>\n",
       "      <th id=\"T_902e6_level0_row1\" class=\"row_heading level0 row1\" >Канал привлечения</th>\n",
       "      <td id=\"T_902e6_row1_col0\" class=\"data row1 col0\" >object</td>\n",
       "      <td id=\"T_902e6_row1_col1\" class=\"data row1 col1\" >1800</td>\n",
       "      <td id=\"T_902e6_row1_col2\" class=\"data row1 col2\" >6</td>\n",
       "      <td id=\"T_902e6_row1_col3\" class=\"data row1 col3\" >0</td>\n",
       "      <td id=\"T_902e6_row1_col4\" class=\"data row1 col4\" >0.000000</td>\n",
       "      <td id=\"T_902e6_row1_col5\" class=\"data row1 col5\" >nan</td>\n",
       "      <td id=\"T_902e6_row1_col6\" class=\"data row1 col6\" >nan</td>\n",
       "      <td id=\"T_902e6_row1_col7\" class=\"data row1 col7\" >nan</td>\n",
       "      <td id=\"T_902e6_row1_col8\" class=\"data row1 col8\" >nan</td>\n",
       "      <td id=\"T_902e6_row1_col9\" class=\"data row1 col9\" >nan</td>\n",
       "    </tr>\n",
       "    <tr>\n",
       "      <th id=\"T_902e6_level0_row2\" class=\"row_heading level0 row2\" >LTV, руб.</th>\n",
       "      <td id=\"T_902e6_row2_col0\" class=\"data row2 col0\" >int64</td>\n",
       "      <td id=\"T_902e6_row2_col1\" class=\"data row2 col1\" >1800</td>\n",
       "      <td id=\"T_902e6_row2_col2\" class=\"data row2 col2\" >593</td>\n",
       "      <td id=\"T_902e6_row2_col3\" class=\"data row2 col3\" >0</td>\n",
       "      <td id=\"T_902e6_row2_col4\" class=\"data row2 col4\" >0.000000</td>\n",
       "      <td id=\"T_902e6_row2_col5\" class=\"data row2 col5\" >329.942778</td>\n",
       "      <td id=\"T_902e6_row2_col6\" class=\"data row2 col6\" >313.000000</td>\n",
       "      <td id=\"T_902e6_row2_col7\" class=\"data row2 col7\" >167.332549</td>\n",
       "      <td id=\"T_902e6_row2_col8\" class=\"data row2 col8\" >70.000000</td>\n",
       "      <td id=\"T_902e6_row2_col9\" class=\"data row2 col9\" >802.000000</td>\n",
       "    </tr>\n",
       "  </tbody>\n",
       "</table>\n"
      ],
      "text/plain": [
       "<pandas.io.formats.style.Styler at 0x28a0bbf5b90>"
      ]
     },
     "execution_count": 7,
     "metadata": {},
     "output_type": "execute_result"
    }
   ],
   "source": [
    "# пересохраним в df с данными по клиентам все строки, кроме строки с ошибочным значением\n",
    "df_customers = df_customers[df_customers['LTV, руб.'] != -100000]\n",
    "\n",
    "# повторная диагностика df\n",
    "df_diagnostics(df_customers)"
   ]
  },
  {
   "cell_type": "markdown",
   "metadata": {},
   "source": [
    "Выведем уникальные названия каналов"
   ]
  },
  {
   "cell_type": "code",
   "execution_count": 8,
   "metadata": {},
   "outputs": [
    {
     "data": {
      "text/plain": [
       "array(['Реклама у блогеров', 'Таргетная реклама', 'e-mail рассылки',\n",
       "       'Контекстная реклама', 'Реклама в новостных СМИ',\n",
       "       'Нативная реклама'], dtype=object)"
      ]
     },
     "execution_count": 8,
     "metadata": {},
     "output_type": "execute_result"
    }
   ],
   "source": [
    "# уникальные значения в поле\n",
    "df_customers['Канал привлечения'].unique()"
   ]
  },
  {
   "cell_type": "markdown",
   "metadata": {},
   "source": [
    "Все названия каналов уникальные.\n",
    "\n",
    "Мы выполнили предобработку данных, а именно:\n",
    "- удалили из таблицы `customers.csv` одну строку с ошибочным значением LTV равным - 100000."
   ]
  },
  {
   "cell_type": "markdown",
   "metadata": {},
   "source": [
    "# <a id='toc4_'></a>[Расчёты](#toc0_)\n",
    "\n",
    "### <a id='toc4_1_1_'></a>[Построение графика распределения LTV пользователей по каналам привлечения](#toc0_)\n",
    "\n",
    "Построим график распределения LTV пользователей по каналам привлечения с целью увидеть из каких каналов пользователи в среднем приносят больше или меньше LTV."
   ]
  },
  {
   "cell_type": "code",
   "execution_count": 36,
   "metadata": {},
   "outputs": [
    {
     "data": {
      "application/vnd.plotly.v1+json": {
       "config": {
        "plotlyServerURL": "https://plot.ly"
       },
       "data": [
        {
         "hovertemplate": "Канал привлечения=Реклама у блогеров<br>id клиента=%{x}<br>LTV, руб.=%{y}<extra></extra>",
         "legendgroup": "Реклама у блогеров",
         "marker": {
          "color": "#636efa",
          "symbol": "circle"
         },
         "mode": "markers",
         "name": "Реклама у блогеров",
         "showlegend": true,
         "type": "scattergl",
         "x": {
          "bdata": "AQACAAMABQAGAAcACAAJAA4AEAARABIAFwAYABsAIAAkACYAJwApACwALQAuAC8AMAA0ADUAOAA7ADwAQABCAEcASQBNAE8AUABSAFUAVgBgAGEAYwBkAGwAbQBvAHEAdQB2AH4AfwCBAIIAiwCPAJEAkgCTAJoAnQCeAJ8AowCnAK4ArwCxALYAugC8AMIAxQDKAMsAzQDOAM8A0ADSANQA2QDdAOEA4gDjAOUA5gDnAOgA6QDqAOwA7gDxAPMA9QD3APkA+wD8AP0A/gD/AAEBBQEMAQ8BEQESARQBFQEWARcBGAEaAR4BIQEiASMBJgEnASgBKQErAS8BMQE3ATgBPAE+AT8BQQFDAUQBRQFGAUcBSwFNAVABUQFSAVMBVQFWAVcBWgFeAWEBZgFoAWoBawFuAXEBcwF3AXgBewF/AYABggGEAYcBkwGWAZkBngGfAaABoQGjAaYBpwGqAa0BrgGvAbgBugG8Ab4BwAHBAcIBxAHFAcwBzQHPAdAB0gHTAdYB3AHgAeIB5AHlAegB6gHsAe0B7gHvAfAB8gHzAfgB+QH6AfsB/AEAAgMCBAIGAggCEAISAhQCFgIXAhgCGQIaAiQCJQImAicCKwI5Aj0CQgJDAkQCSAJMAk0CTgJRAlICVQJbAl0CYgJlAmcCaQJqAmwCbQJvAnUCdgJ4AnkCfAJ9An4CfwKDAoUCiQKKAowCjgKPApECkwKXApsCoAKmAqoCrAKtArACswK0ArkCugK8Ar4CwQLDAsgCzgLPAtIC2ALaAtsC3gLgAuEC5gLnAugC7ALuAu8C8QLyAvMC9AL/AgADBAMQAxQDGwMgAyYDKAMvAzUDNgM3Az4DPwNDA0QDRwNIA0kDSgNPA1ADUgNVA1YDXANfA2ADYgNlA2oDbANvA3EDcgN3A34DfwOEA4UDiwOMA40DlAOYA5kDmgObA5wDnwOgA6UDpwOoA6oDrQOuA68DswO0A7YDtwO5A7oDuwO9A8QDxgPHA8gDygPSA9QD1wPbA90D3gPfA+MD5QPoA+kD7APuA/AD9AP1A/cD/AMABAEEAgQIBAkECgQLBAwEEAQXBBgEGQQaBBsEHAQdBB8EJAQlBCsELAQtBDAEMQQyBDMEPARCBEYESgRMBE0ETwRSBFUEVgRYBFoEWwRcBF4EXwRiBGQEZQRpBG8EcARxBHgEewR9BH4EfwSBBIUEhgSHBIgEjASNBI4EkgSTBJQElQSXBJgEmgSdBKAEpwSwBLEEvATABMEEwgTFBMsEzwTUBNUE2AThBOUE5gTnBOgE7ATvBPEE9QT4BAIFBAUFBQoFCwUMBRMFFAUWBR0FIQUlBScFLQUuBTIFNAU1BTYFNwVBBUUFSAVJBVAFUQVVBVYFWAVZBV4FYAVhBWMFZQVqBWwFbQVvBXEFdAV2BXcFegWABYMFhAWHBYgFiQWKBZgFmQWcBaAFogWkBaYFpwWqBawFsAWxBbQFtgW/BcMFxAXHBc0FzgXPBdMF1wXbBd0F3wXgBeEF4gXlBegF6QXqBesF7QXwBfIF9AX2BfgF+gX/BQAGAQYEBg0GEgYVBhsGHAYdBh4GIAYhBiQGKAYwBjEGMgY7BkAGSgZWBloGXQZfBmMGZgZnBmkGcAZ0BnYGdwZ5BnsGfgaCBoQGhQaIBooGkQaSBpQGlQaXBpwGngagBqQGpQaoBqsGsQayBrMGtAa2BrcGuAa6BrsGvQbBBsMGxAbGBscGygbLBs8G0AbRBtIG1gbXBtkG4AblBu4G8Qb1BvgG+Qb8Bv0GAgcIBw==",
          "dtype": "i2"
         },
         "xaxis": "x",
         "y": {
          "bdata": "XgHNAPwARQFBAWcAswAqAZ4AWAFcAX0AdQD8AGgBcwBaANMABAEGAW0AbwA5AeIA0wDyAFoAFwHBANwAnAB+ADwB4gD6AC0B7ADgADABAgF3ABwBVQBJANYAogBWAFEBSQAuAUwARwCdAJ8AyQC8ANsAVgFfAW4ARwHkAKUAWwFcACYB5wA1AYsAeAB4ACEBxABbAFUAmgApAdQASQHZALAABgGjAGABRgCLAAUBzwCtADsBmAD8AEYBiwAKAYMAkgBbADEBZwDvAFgBIAFsACUBTwFRARcBagAKAX4AtAAoAYoASwF8AC4BygD1AFUBXgDZAEMBAAGtAPIALQHvAGIAdgAQASABZQCnAFoA7wCdAGUB4QAYAfsATgBjAfEAVQBMAGMAaABXAd0AaAGJACwBrABSAJUAZwBUAHYAVwHqAGgAjABiAAUBRgEYATsBSAA/AWYAEQEsAUcA5QBXAGoAAwEXAckACQECAaIASAEFAcsAaAAWAWAAXwD4APMAfQAtAdcAzgBbAZ4AVgE6AU8B5QBvAFkBsAADAdsAAAHTAGUBRgAhASUBqgAUARgBJwGuADsB/wATAV8BTgGlAKAAygDYABgBQgEwAfYAmQBdAaAAXQAVAUIBTgFeAUEBWwGeAEgAjQDIAJkATwGsAEgBUgEoAcUAEwFUAUEBZwD9AGYAWwEpAckAWABQAXgAkwD2AHUAWQF2AIMAVQDKAGAAiQDnAAIBbQBzABoBGwFuADQBbQCGAOoAHQFRADEBWAG+AMQAVABIAX8AqQC1AMUAhwC0AIMAcQCCAGABgQDTADsBugBOAToBUgG4ALgArQBOAFUA4ABwABkBVADBAEMBggAEAe0AoQDAAA8BMQEPAR4BvwC9ABoBZABNABIBTQHxAFcB+QAkAYQALwHYAI8AfwDQANQAUwBFAUwBPwEbAR0BNAHNAC8BQAFOAVcBegCcAGEBmgBbAEUBqwAOASsB2ADgAMIA0AD3AF0AdwBtABUBfQBGAaAAHAFHABgBPAFNAREBkgAmAVgB7gBfAWMABQHxALMAuACJAPgAVQGcAOMA8wBRAFEAOQFZAOgAyQAdAaUALwHyAL8A9gAVAXAAngCMAIsAmABKARcBWgFbAAIBbwD9AJAA6QBcAIAAjQDPAEQB0QDNAKUABAFlATABNAFPAcoAWAFdAZgAGQG8AK8A7wALAUoA6AA4AagAxgDSABwBLwFGAW4AXACkAOcAZQDVAL0APwGLAJEAIgGvAJoAbQATAWYAowBSAF0AFQFGAVUBjwBbAV0ASgC+AE8BNAEpAaQAmAA3AfYAdgBOALQAQgHhAGEBvgBnAY8ArgBbAMgAdgBJAfIArwBBAfQAdwD7AEkAKgERAVcARgEvARoBsACSAEkB5gCxAEkBUgDTAEYBRQFlAIYA2wDXANMAOAHaANoAugClAFIBnQBTAVYAgwBrAFkApAALAdMA2wDrAEUBpQBHAVoAfgBHASoBrQC6AO8AWwFPAdMABAFfAFsAUwBUAakAdADNAGUACwHQANEARgGqAKwATgBNAUcBDgEcAWUAPwFLARgBHgHMANEAYQFSAcwADwGzADkBCwGFAEwAHwFJAXUAYgBlADcBUAGZAKAAZgCiAPcAoADsAJwA6wBXARYBSAD8AF0AFAH2AOcAzwBOAWgAZwCmAGMAMgGDAOYAAAFuAFYBOQH/ABsBGQFFAdsAVgBCAaoAHgEfAToBGQFuANQADAGHAHMAFgHdAIEAuAChAEoAPwHBAFUBDgFHAMkAPwGLAA==",
          "dtype": "i2"
         },
         "yaxis": "y"
        },
        {
         "hovertemplate": "Канал привлечения=Таргетная реклама<br>id клиента=%{x}<br>LTV, руб.=%{y}<extra></extra>",
         "legendgroup": "Таргетная реклама",
         "marker": {
          "color": "#EF553B",
          "symbol": "circle"
         },
         "mode": "markers",
         "name": "Таргетная реклама",
         "showlegend": true,
         "type": "scattergl",
         "x": {
          "bdata": "BAATABQAFgAZAB0AHgAjACgAKgAxAEQARQBGAEsAVwBZAGUAcwB9AIgAjACNAJkAmwCcAKEAqQCrAK0AsACyALMAtAC9AMkA2gDeAOAA9AD2APgA+gAAAQcBCAELARABHAEsATQBOQE6AT0BSAFJAU4BTwFYAV0BYAFkAW0BcgF8AX4BjQGPAZABkQGVAaQBqAGrAbABsgG0AbUByAHRAd8B6wH0AfUBBQIKAgsCDwIdAh8CIAIjAi0CMAI0AjsCPgJAAkUCRwJJAlgCXgJyAoACggKLApYCmAKkAqcCqwKuArcCxwLMAtEC4wLkAukC6wL4AgEDCQMKAwwDEQMTAxUDFwMeAyEDJQMpAyoDMwM6AzwDQQNLA00DTgNTA1cDWANjA2QDZgOCA4MDiAOJA4oDjgOSA50DuAO/A8kDzgPPA9AD2APnA+oD/wMEBA0EEwQWBCIEIwQmBCgENgQ3BDkEOgQ7BD0ERARLBE4EUQRXBF0EYwRmBG0EbgRyBHQEdQSCBIQEiwSRBJYEmwSfBKMEpASlBKsErQSuBK8EtAS+BMYEyATJBMwEzgTQBNIE1wTZBN4E3wTiBOoE7QTuBPQE/wQBBQYFBwUNBQ8FEgUYBRkFGwUfBSIFIwUkBSsFMAUxBTMFOAU5BToFQAVHBUoFTwVkBXAFdQWFBYYFkwWVBZ8FpQWpBasFuAW6BbsFwQXCBcoF1QXmBe4F8wUDBggGDgYfBjcGOQY6BjwGRAZJBk0GUAZUBmIGZQZtBm4GcQZyBnUGeAZ6BoYGkAaTBpgGsAa8BsAGxQbJBtMG2wbcBt0G4wbkBuYG+gb7BgMH",
          "dtype": "i2"
         },
         "xaxis": "x",
         "y": {
          "bdata": "EwJwAlUCBQKzAVcCmAFIAiYC5wF1AXcBrQHAAVcCTgJ/AYQBcwHwAYEClQHYAWABfgIQAmACoQHeAecBCwKaARsCmAFnATICsAG0ATEC4gGBAiMCWQKZAW4BcQLGAYYBYgKHAQACTgJaAoABGgKKARMCUAKBAQUCeQGFAWMBRAJ8AdkB7gFaArMBagHiAYwB4QFqAskBFgLGAWkBdAI5AsMBvgHiAS4C+AF7Aq8BSgLlAVcCSQIBAkYCDwKzAXcCOgIMAnwCqgHwAegBLQK2AQYCdAFIAn4BogFiAhsCYgFbArABfAFcAt0BpAFuAQoCxAHhAQsC2gHfAVoCwAEJAr8BOQKuAZAB9wG2ATgCbAE0AoMBqAHWAcYBfwGfAVsCEgInAgMChQH7AREC0gHXAQECEQIUAjsCfAKsAbkBPQK7ARsCwQFNAuIBSgKSAdcBfAF5AX0B1gFtAn4B7AHzAV8BFgKrAdIB7AHkAfoBMwJ4ASACJgLeAWMCYQE0Ao4BzgFfAZkB1AHOAWgBhQH7AXkBIwJ5AkYCCgKUAXcCbwEbAm4CgAFTApgBKwJjAW0BnQHKATACcAHgAW0BgAKpAeUBcwK+AaoBpAGbAZEBVQKKAV8BaQFfAdoBGwK6AYMB5gGxAWEBbAGQAd4B6gEgAnQCmQGIAbEBgQERAoACggG3AYYBvQEOAmYCJAJeAYICYQGbAXcB1gFzAu4BcgJ0AWMBQAJdAoIBDQJqAY4BCAItAuoBmgFtAWQBeALyAZQBXQI1AowBggIzAsgB8QH5AcsBAgKuAQUC4gF5At0BZAKhAXIBKALAAYkBAgK1AR4C",
          "dtype": "i2"
         },
         "yaxis": "y"
        },
        {
         "hovertemplate": "Канал привлечения=e-mail рассылки<br>id клиента=%{x}<br>LTV, руб.=%{y}<extra></extra>",
         "legendgroup": "e-mail рассылки",
         "marker": {
          "color": "#00cc96",
          "symbol": "circle"
         },
         "mode": "markers",
         "name": "e-mail рассылки",
         "showlegend": true,
         "type": "scattergl",
         "x": {
          "bdata": "CgALACEAQQB6AHsAlQCXAKUAqADVAO0ADgE7AUwBVAF1AXoBmgGbAZwBogG9AcMB3QHhAf8BDAIyAjUCOgJcAnACdAKNApwCnwK4AskCzQLTAt8C/QIIAxgDIgMrAy4DOwNMA1EDqQO+A9UD7wPyA/YDFAQ/BFAEawSiBLYEugS9BOME6QTwBPYEAwUXBSwFQgVSBVsFcwV8Ba4FxgXLBdgF+QX7BRAGFgY/BkMGgQaJBqEGqgbOBt8G6Qb+BgQH",
          "dtype": "i2"
         },
         "xaxis": "x",
         "y": {
          "bdata": "3QDRANMAUgFFAV4BcwAXAagAtwCwAJEAIQHHAOwAXAATAVcAWgCCAbwAUwG/AAYB5gCqAOMAZgCaAJQAdgC7AI0AMAHFAOYAUgGEAbIA6gBLASIBcgCBAW0AmgDfAEYB4QDkAO0AZwF0Aa0A2wBAAd0AawDMAH8BXQBuAbUAIwGNANgAbAEnAfgABwHWAPgAigBdAZQAewCaAAsBkQCmADQBAwHBAKkAQwEyAXgBOgHNAMMAzgCVAGoAdwHUAJcA",
          "dtype": "i2"
         },
         "yaxis": "y"
        },
        {
         "hovertemplate": "Канал привлечения=Контекстная реклама<br>id клиента=%{x}<br>LTV, руб.=%{y}<extra></extra>",
         "legendgroup": "Контекстная реклама",
         "marker": {
          "color": "#ab63fa",
          "symbol": "circle"
         },
         "mode": "markers",
         "name": "Контекстная реклама",
         "showlegend": true,
         "type": "scattergl",
         "x": {
          "bdata": "DAAiAD0ASgBaAFwAZgBnAHQAdwB8AIAAhACJAI4ApgCqALUAtwDAAOQA7wACAQYBDQEtATYBWwGBAYUBhgGIAZIBlAGdAakBswG/AcsB2AHaAfYB9wEBAg4CEwIpAi4CLwI/AkoCWgJfAmMCZgJrAnMCdwKGAogCngKlAqkCsgK7AsACxALKAtkC3ALdAuUC8AL2AvoC+wL8AgYDCwMOAxYDHAMxAzQDXgN2A30DgAOPA6QD4APrA/4DDgQeBC8EWQR6BIoE1gTcBOAE/QQVBRoFHAVMBVQFYgVoBWkFeQV9BYEFiwWMBY0FkgWWBaMFtwW5BcUF1AXWBdkF7AXxBfwFBgYMBhQGGgY0BkcGSAZMBlIGVwZYBlwGZAZ8Bn8GiwaWBp0GogbIBswG1AbnBvQGBwc=",
          "dtype": "i2"
         },
         "xaxis": "x",
         "y": {
          "bdata": "dgIFAzoCQALrAvQBSwLlAo0CEQPhAlwCcQIxAg0CswISAg8CWQJGAqQCRAIPA9MCYgLNAvAC2QKNAtICpwLeArkCfQLxAmgC1AIJAosCIAK6AmUCSQKUArACwgIgAxQDTgIuAmMCAwJQAvQCkALRAosC/AJSAsYCWQL+ASECxALTAiIDbwI8ApoCEgP+AvoC6gK0Am0CdQJAAvkBPgJpAosC3AJKAs8CzAJ1AlACOQItAs8CwwIaA94CBAOmAhcCDQKqAu0CIwJEAqcCagKoAhICRQJBAkAChQI+AvoC6wIQAvYB8QJ4AnoCxgJRAt4CPgJ/AogC3gLWAjwCowJdAt4C3wKmAqUC2wJdAlICpAKgAlwClgKbAtYC7gKSArkCKAIDA8sCuwJlAuwCFQOIAtUCBwI=",
          "dtype": "i2"
         },
         "yaxis": "y"
        },
        {
         "hovertemplate": "Канал привлечения=Реклама в новостных СМИ<br>id клиента=%{x}<br>LTV, руб.=%{y}<extra></extra>",
         "legendgroup": "Реклама в новостных СМИ",
         "marker": {
          "color": "#FFA15A",
          "symbol": "circle"
         },
         "mode": "markers",
         "name": "Реклама в новостных СМИ",
         "showlegend": true,
         "type": "scattergl",
         "x": {
          "bdata": "DQAfACsANgA3AD4APwBIAEwATgBRAFQAWwBdAF4AaABpAHAAgwCFAIYAhwCUAJYAoACsALgAuQC7AL4AvwDEAMcAyADMANEA0wDYAN8A6wDwAPIACgEfASUBMgEzATUBQAFCAWUBdAF9AYMBiwGOAZgBxgHOAdQB1wHZAdsB3gHmAecB6QHxAf4BAgIHAg0CEQIcAiECIgIsAjYCNwI4AlACUwJUAlYCYAJkAmgCewKBAoQChwKQApIClQKZApoCnQKoArECtQK2Ar0CxgLUAtUC1gLXAuIC7QL3AvkC/gICAwMDBwMNAw8DGQMaAx0DHwMjAzADOAM5A0ADQgNFA0YDWQNbA2EDaANrA20DbgNzA3QDdQN5A3sDfAOVA5YDlwOeA6EDogOmA6sDsAOyA8ADwQPDA9ED0wPWA9kD2gPcA+ED4gPkA+YD7QPzA/gD+wP9AwMEBQQPBBEEEgQVBCAEIQQqBC4ENAQ1BDgEPgRBBEMERQRHBEgESQRgBGEEaARqBGwEcwR2BHwEgASDBJAEnASeBKYEqASpBKwEsgSzBLcEuwS/BMMExwTRBNsE3QTkBOsE8gTzBPcE+gT7BPwECQUOBSAFKAUqBTsFQwVNBVcFXwVnBXIFfwWCBY4FkQWXBZ0FqAWzBbwFvQW+BcgFyQXMBdAF0QXcBeMF5wX1Bf0F/gUCBgUGCgYPBhgGGQYiBicGKQYqBisGLAYuBjMGNgY+BkEGRQZGBk8GUQZTBlUGYAZhBmgGawZzBn0GjAaNBo4GjwaZBpoGowanBqkGrQa5Br4G2AbaBuoG6wbvBvIG8wb2BvcG/wYABwUH",
          "dtype": "i2"
         },
         "xaxis": "x",
         "y": {
          "bdata": "WAFXAA0BlQBUATgB/wAsAdkAUQEcAQwBaQGxAJsAHQEFAYEBYwDRAD8BegBbACABWAB7AF4BTAFoAZ8AIAHiAH0AVQFvALIArABxAFEBIwGBAasASAGlAMYARAGQAGIBggHeAG4BVAB4ASEBcAGCAVUAGQG7AHcBogBsAVwBtQBzAXAAdQB7AGwAWABaAVgA4ABjAHwAcgFxAEABzgBHAbQAagGZAEMBrABSAYUADwFzAMgAcwFoAXcAEAG8AGABRAGiAF0B3gByAdsAvAD3ABsBegDNAE4BqQAuAVYAWwE0AeAA+QCRAI4AYAHoAKwAYQF5AFwBKwGsAIIAYwHcAN8AoABsAV4AdQBeAAMBoADWAG4BjQB6APwAeQCxAF0BvQCyAC0BPwF8AHUBewAfAXkBKQFjAYUB6wD5AAIBOgEcAXkBLwFRAX0AdADDABQB3gBrAF8BqwBVAIEAbwDoAO4A9ADHALEAGAGNAG8A5gDWAMsAWAGDAc0A2wDsAKoAvQBzAIoAGgFlAHQAwQDEAD0B/wCVACIBcwGgANIAdgE5AUoBpwAcAZQAYAGwAOQA3wDqAOMAUAFWABABDQFoABcBQQGBAJoAdABpARoBGgHeAHgAPQFuAXsBqgDZAFMBDQEqAXQAwwDqAMkAXwCXAL0AHQHuAMQAtgBLAS0BgQGiABcBpgBgAHcAewE2AZAAtwBPAWEAgwFmASQBGAFrAAkBUgFYAVwA5QCDAT8BVQDRABEBsgC/AAQBuABGAVwAFAH6AJEAGgF6AQgB9QDaABwBKgF0ALAA1wCaABoBBAG5AG8APwFyAH4B+QBsAYMB",
          "dtype": "i2"
         },
         "yaxis": "y"
        },
        {
         "hovertemplate": "Канал привлечения=Нативная реклама<br>id клиента=%{x}<br>LTV, руб.=%{y}<extra></extra>",
         "legendgroup": "Нативная реклама",
         "marker": {
          "color": "#19d3f3",
          "symbol": "circle"
         },
         "mode": "markers",
         "name": "Нативная реклама",
         "showlegend": true,
         "type": "scattergl",
         "x": {
          "bdata": "DwAVABoAHAAlADIAMwA5ADoAQwBTAFgAXwBiAGoAawBuAHIAeAB5AIoAkACYAKIApADBAMMAxgDWANcA2wDcAAMBBAEJARMBGQEbAR0BIAEkASoBLgEwAUoBWQFcAV8BYgFjAWcBaQFsAW8BcAF2AXkBiQGKAYwBlwGlAawBsQG2AbcBuQG7AccByQHKAdUB4wH9AQkCFQIbAh4CKAIqAjECMwI8AkECRgJLAk8CVwJZAmECbgJxAnoClAKhAqICowKvAr8CwgLFAssC0ALqAvUCBQMSAyQDJwMsAy0DMgM9A1QDWgNdA2cDaQNwA3gDegOBA4YDhwOQA5EDkwOjA6wDsQO1A7wDwgPFA8sDzAPNA/ED+QP6AwYEBwQnBCkEQARTBFQEZwR3BHkEiQSPBJkEoQSqBLUEuAS5BMQEygTNBNME2gT5BP4EAAUIBRAFEQUeBSYFKQUvBTwFPQU+BT8FRAVGBUsFTgVTBVoFXAVdBWYFawVuBXgFewV+BY8FkAWUBZoFmwWeBaEFrQWvBbIFtQXABdIF2gXeBeQF7wX3BQcGCQYLBhEGEwYXBiMGJQYmBi0GLwY1BjgGPQZCBksGTgZZBlsGXgZqBmwGbwaABoMGhwabBp8GpgasBq4Grwa1Br8GwgbNBtUG3gbhBuIG6AbsBu0G8AYBBwYH",
          "dtype": "i2"
         },
         "xaxis": "x",
         "y": {
          "bdata": "zQFVAQ4C0wHuAd8BkAGXAbABEQIIAj8BYgHMAf8ANwEBAgwBZwF+ASEBlAHpAVEBwAESAhkBBQLaAdYBeAHGAZ4BdgFwAZABNwGMAUUBfwFQARECBgEoAU8BGQKxARUBqgFZAVsBCQL3APABBwKaAc8BbgHyAdwBEQKpAZEBmwEtAQ8CugFPASIBMAFpAVoBAgJ9AQ8CMAEyAeUBsgGcAYEBfQFGAckBNwG/AQ8CxwFZATEBBwH8AEYBHAJCARkC9QFjAWkB9gFJAbABUgFfATIBNgH7AdgB8gEPAogBmgEWASMBIwE+AYIBcwHMAU8BegG7AekBIAHeAasBAAEbAZ0BjwFpAV8BgwG2AXUBEgG2AZsB/QFMAYsB8gFAAb4BGwJ9AaMBFQI1ARsBkgEAAYEBEwINAq0BjwGlAY0BpwEzAW0BLgGHAeoB7wEoAckBsAGmAVgBAQGiAZ4BMQHlAVIBaAEkAcMBoAETAosBugEWAkIBhgGcAeYBJQGlAYkBSwFhARICRAEJAZsB7QFIAfwAsQEsAZQB+ABtAWcBkQEYAZkBlAGoARIBTwEZAtQBkQEsAbkBrgGnASIBlgEFAhsBNQEmAXMB4AGNATkBHwGzAZQBCwLFAScBiAH4AcwB6AFJAQwCFwHxASUB+QAsAfQB0AEIARoCIAG4AXQB",
          "dtype": "i2"
         },
         "yaxis": "y"
        }
       ],
       "layout": {
        "annotations": [
         {
          "font": {
           "size": 14
          }
         }
        ],
        "font": {
         "size": 12
        },
        "height": 600,
        "legend": {
         "title": {
          "text": "Канал привлечения"
         },
         "tracegroupgap": 0
        },
        "margin": {
         "b": 50,
         "l": 50,
         "r": 50,
         "t": 50
        },
        "template": {
         "data": {
          "bar": [
           {
            "error_x": {
             "color": "#2a3f5f"
            },
            "error_y": {
             "color": "#2a3f5f"
            },
            "marker": {
             "line": {
              "color": "#E5ECF6",
              "width": 0.5
             },
             "pattern": {
              "fillmode": "overlay",
              "size": 10,
              "solidity": 0.2
             }
            },
            "type": "bar"
           }
          ],
          "barpolar": [
           {
            "marker": {
             "line": {
              "color": "#E5ECF6",
              "width": 0.5
             },
             "pattern": {
              "fillmode": "overlay",
              "size": 10,
              "solidity": 0.2
             }
            },
            "type": "barpolar"
           }
          ],
          "carpet": [
           {
            "aaxis": {
             "endlinecolor": "#2a3f5f",
             "gridcolor": "white",
             "linecolor": "white",
             "minorgridcolor": "white",
             "startlinecolor": "#2a3f5f"
            },
            "baxis": {
             "endlinecolor": "#2a3f5f",
             "gridcolor": "white",
             "linecolor": "white",
             "minorgridcolor": "white",
             "startlinecolor": "#2a3f5f"
            },
            "type": "carpet"
           }
          ],
          "choropleth": [
           {
            "colorbar": {
             "outlinewidth": 0,
             "ticks": ""
            },
            "type": "choropleth"
           }
          ],
          "contour": [
           {
            "colorbar": {
             "outlinewidth": 0,
             "ticks": ""
            },
            "colorscale": [
             [
              0,
              "#0d0887"
             ],
             [
              0.1111111111111111,
              "#46039f"
             ],
             [
              0.2222222222222222,
              "#7201a8"
             ],
             [
              0.3333333333333333,
              "#9c179e"
             ],
             [
              0.4444444444444444,
              "#bd3786"
             ],
             [
              0.5555555555555556,
              "#d8576b"
             ],
             [
              0.6666666666666666,
              "#ed7953"
             ],
             [
              0.7777777777777778,
              "#fb9f3a"
             ],
             [
              0.8888888888888888,
              "#fdca26"
             ],
             [
              1,
              "#f0f921"
             ]
            ],
            "type": "contour"
           }
          ],
          "contourcarpet": [
           {
            "colorbar": {
             "outlinewidth": 0,
             "ticks": ""
            },
            "type": "contourcarpet"
           }
          ],
          "heatmap": [
           {
            "colorbar": {
             "outlinewidth": 0,
             "ticks": ""
            },
            "colorscale": [
             [
              0,
              "#0d0887"
             ],
             [
              0.1111111111111111,
              "#46039f"
             ],
             [
              0.2222222222222222,
              "#7201a8"
             ],
             [
              0.3333333333333333,
              "#9c179e"
             ],
             [
              0.4444444444444444,
              "#bd3786"
             ],
             [
              0.5555555555555556,
              "#d8576b"
             ],
             [
              0.6666666666666666,
              "#ed7953"
             ],
             [
              0.7777777777777778,
              "#fb9f3a"
             ],
             [
              0.8888888888888888,
              "#fdca26"
             ],
             [
              1,
              "#f0f921"
             ]
            ],
            "type": "heatmap"
           }
          ],
          "histogram": [
           {
            "marker": {
             "pattern": {
              "fillmode": "overlay",
              "size": 10,
              "solidity": 0.2
             }
            },
            "type": "histogram"
           }
          ],
          "histogram2d": [
           {
            "colorbar": {
             "outlinewidth": 0,
             "ticks": ""
            },
            "colorscale": [
             [
              0,
              "#0d0887"
             ],
             [
              0.1111111111111111,
              "#46039f"
             ],
             [
              0.2222222222222222,
              "#7201a8"
             ],
             [
              0.3333333333333333,
              "#9c179e"
             ],
             [
              0.4444444444444444,
              "#bd3786"
             ],
             [
              0.5555555555555556,
              "#d8576b"
             ],
             [
              0.6666666666666666,
              "#ed7953"
             ],
             [
              0.7777777777777778,
              "#fb9f3a"
             ],
             [
              0.8888888888888888,
              "#fdca26"
             ],
             [
              1,
              "#f0f921"
             ]
            ],
            "type": "histogram2d"
           }
          ],
          "histogram2dcontour": [
           {
            "colorbar": {
             "outlinewidth": 0,
             "ticks": ""
            },
            "colorscale": [
             [
              0,
              "#0d0887"
             ],
             [
              0.1111111111111111,
              "#46039f"
             ],
             [
              0.2222222222222222,
              "#7201a8"
             ],
             [
              0.3333333333333333,
              "#9c179e"
             ],
             [
              0.4444444444444444,
              "#bd3786"
             ],
             [
              0.5555555555555556,
              "#d8576b"
             ],
             [
              0.6666666666666666,
              "#ed7953"
             ],
             [
              0.7777777777777778,
              "#fb9f3a"
             ],
             [
              0.8888888888888888,
              "#fdca26"
             ],
             [
              1,
              "#f0f921"
             ]
            ],
            "type": "histogram2dcontour"
           }
          ],
          "mesh3d": [
           {
            "colorbar": {
             "outlinewidth": 0,
             "ticks": ""
            },
            "type": "mesh3d"
           }
          ],
          "parcoords": [
           {
            "line": {
             "colorbar": {
              "outlinewidth": 0,
              "ticks": ""
             }
            },
            "type": "parcoords"
           }
          ],
          "pie": [
           {
            "automargin": true,
            "type": "pie"
           }
          ],
          "scatter": [
           {
            "fillpattern": {
             "fillmode": "overlay",
             "size": 10,
             "solidity": 0.2
            },
            "type": "scatter"
           }
          ],
          "scatter3d": [
           {
            "line": {
             "colorbar": {
              "outlinewidth": 0,
              "ticks": ""
             }
            },
            "marker": {
             "colorbar": {
              "outlinewidth": 0,
              "ticks": ""
             }
            },
            "type": "scatter3d"
           }
          ],
          "scattercarpet": [
           {
            "marker": {
             "colorbar": {
              "outlinewidth": 0,
              "ticks": ""
             }
            },
            "type": "scattercarpet"
           }
          ],
          "scattergeo": [
           {
            "marker": {
             "colorbar": {
              "outlinewidth": 0,
              "ticks": ""
             }
            },
            "type": "scattergeo"
           }
          ],
          "scattergl": [
           {
            "marker": {
             "colorbar": {
              "outlinewidth": 0,
              "ticks": ""
             }
            },
            "type": "scattergl"
           }
          ],
          "scattermap": [
           {
            "marker": {
             "colorbar": {
              "outlinewidth": 0,
              "ticks": ""
             }
            },
            "type": "scattermap"
           }
          ],
          "scattermapbox": [
           {
            "marker": {
             "colorbar": {
              "outlinewidth": 0,
              "ticks": ""
             }
            },
            "type": "scattermapbox"
           }
          ],
          "scatterpolar": [
           {
            "marker": {
             "colorbar": {
              "outlinewidth": 0,
              "ticks": ""
             }
            },
            "type": "scatterpolar"
           }
          ],
          "scatterpolargl": [
           {
            "marker": {
             "colorbar": {
              "outlinewidth": 0,
              "ticks": ""
             }
            },
            "type": "scatterpolargl"
           }
          ],
          "scatterternary": [
           {
            "marker": {
             "colorbar": {
              "outlinewidth": 0,
              "ticks": ""
             }
            },
            "type": "scatterternary"
           }
          ],
          "surface": [
           {
            "colorbar": {
             "outlinewidth": 0,
             "ticks": ""
            },
            "colorscale": [
             [
              0,
              "#0d0887"
             ],
             [
              0.1111111111111111,
              "#46039f"
             ],
             [
              0.2222222222222222,
              "#7201a8"
             ],
             [
              0.3333333333333333,
              "#9c179e"
             ],
             [
              0.4444444444444444,
              "#bd3786"
             ],
             [
              0.5555555555555556,
              "#d8576b"
             ],
             [
              0.6666666666666666,
              "#ed7953"
             ],
             [
              0.7777777777777778,
              "#fb9f3a"
             ],
             [
              0.8888888888888888,
              "#fdca26"
             ],
             [
              1,
              "#f0f921"
             ]
            ],
            "type": "surface"
           }
          ],
          "table": [
           {
            "cells": {
             "fill": {
              "color": "#EBF0F8"
             },
             "line": {
              "color": "white"
             }
            },
            "header": {
             "fill": {
              "color": "#C8D4E3"
             },
             "line": {
              "color": "white"
             }
            },
            "type": "table"
           }
          ]
         },
         "layout": {
          "annotationdefaults": {
           "arrowcolor": "#2a3f5f",
           "arrowhead": 0,
           "arrowwidth": 1
          },
          "autotypenumbers": "strict",
          "coloraxis": {
           "colorbar": {
            "outlinewidth": 0,
            "ticks": ""
           }
          },
          "colorscale": {
           "diverging": [
            [
             0,
             "#8e0152"
            ],
            [
             0.1,
             "#c51b7d"
            ],
            [
             0.2,
             "#de77ae"
            ],
            [
             0.3,
             "#f1b6da"
            ],
            [
             0.4,
             "#fde0ef"
            ],
            [
             0.5,
             "#f7f7f7"
            ],
            [
             0.6,
             "#e6f5d0"
            ],
            [
             0.7,
             "#b8e186"
            ],
            [
             0.8,
             "#7fbc41"
            ],
            [
             0.9,
             "#4d9221"
            ],
            [
             1,
             "#276419"
            ]
           ],
           "sequential": [
            [
             0,
             "#0d0887"
            ],
            [
             0.1111111111111111,
             "#46039f"
            ],
            [
             0.2222222222222222,
             "#7201a8"
            ],
            [
             0.3333333333333333,
             "#9c179e"
            ],
            [
             0.4444444444444444,
             "#bd3786"
            ],
            [
             0.5555555555555556,
             "#d8576b"
            ],
            [
             0.6666666666666666,
             "#ed7953"
            ],
            [
             0.7777777777777778,
             "#fb9f3a"
            ],
            [
             0.8888888888888888,
             "#fdca26"
            ],
            [
             1,
             "#f0f921"
            ]
           ],
           "sequentialminus": [
            [
             0,
             "#0d0887"
            ],
            [
             0.1111111111111111,
             "#46039f"
            ],
            [
             0.2222222222222222,
             "#7201a8"
            ],
            [
             0.3333333333333333,
             "#9c179e"
            ],
            [
             0.4444444444444444,
             "#bd3786"
            ],
            [
             0.5555555555555556,
             "#d8576b"
            ],
            [
             0.6666666666666666,
             "#ed7953"
            ],
            [
             0.7777777777777778,
             "#fb9f3a"
            ],
            [
             0.8888888888888888,
             "#fdca26"
            ],
            [
             1,
             "#f0f921"
            ]
           ]
          },
          "colorway": [
           "#636efa",
           "#EF553B",
           "#00cc96",
           "#ab63fa",
           "#FFA15A",
           "#19d3f3",
           "#FF6692",
           "#B6E880",
           "#FF97FF",
           "#FECB52"
          ],
          "font": {
           "color": "#2a3f5f"
          },
          "geo": {
           "bgcolor": "white",
           "lakecolor": "white",
           "landcolor": "#E5ECF6",
           "showlakes": true,
           "showland": true,
           "subunitcolor": "white"
          },
          "hoverlabel": {
           "align": "left"
          },
          "hovermode": "closest",
          "mapbox": {
           "style": "light"
          },
          "paper_bgcolor": "white",
          "plot_bgcolor": "#E5ECF6",
          "polar": {
           "angularaxis": {
            "gridcolor": "white",
            "linecolor": "white",
            "ticks": ""
           },
           "bgcolor": "#E5ECF6",
           "radialaxis": {
            "gridcolor": "white",
            "linecolor": "white",
            "ticks": ""
           }
          },
          "scene": {
           "xaxis": {
            "backgroundcolor": "#E5ECF6",
            "gridcolor": "white",
            "gridwidth": 2,
            "linecolor": "white",
            "showbackground": true,
            "ticks": "",
            "zerolinecolor": "white"
           },
           "yaxis": {
            "backgroundcolor": "#E5ECF6",
            "gridcolor": "white",
            "gridwidth": 2,
            "linecolor": "white",
            "showbackground": true,
            "ticks": "",
            "zerolinecolor": "white"
           },
           "zaxis": {
            "backgroundcolor": "#E5ECF6",
            "gridcolor": "white",
            "gridwidth": 2,
            "linecolor": "white",
            "showbackground": true,
            "ticks": "",
            "zerolinecolor": "white"
           }
          },
          "shapedefaults": {
           "line": {
            "color": "#2a3f5f"
           }
          },
          "ternary": {
           "aaxis": {
            "gridcolor": "white",
            "linecolor": "white",
            "ticks": ""
           },
           "baxis": {
            "gridcolor": "white",
            "linecolor": "white",
            "ticks": ""
           },
           "bgcolor": "#E5ECF6",
           "caxis": {
            "gridcolor": "white",
            "linecolor": "white",
            "ticks": ""
           }
          },
          "title": {
           "x": 0.05
          },
          "xaxis": {
           "automargin": true,
           "gridcolor": "white",
           "linecolor": "white",
           "ticks": "",
           "title": {
            "standoff": 15
           },
           "zerolinecolor": "white",
           "zerolinewidth": 2
          },
          "yaxis": {
           "automargin": true,
           "gridcolor": "white",
           "linecolor": "white",
           "ticks": "",
           "title": {
            "standoff": 15
           },
           "zerolinecolor": "white",
           "zerolinewidth": 2
          }
         }
        },
        "title": {
         "text": "Распределение LTV по каналам привлечения"
        },
        "width": 800,
        "xaxis": {
         "anchor": "y",
         "domain": [
          0,
          1
         ],
         "title": {
          "text": "id клиента"
         }
        },
        "yaxis": {
         "anchor": "x",
         "domain": [
          0,
          1
         ],
         "title": {
          "text": "LTV, руб."
         }
        }
       }
      }
     },
     "metadata": {},
     "output_type": "display_data"
    }
   ],
   "source": [
    "fig = px.scatter(df_customers, x=\"id клиента\", y=\"LTV, руб.\", color=\"Канал привлечения\",\n",
    "                 title = \"Распределение LTV по каналам привлечения\", width=800, height=600)\n",
    "\n",
    "fig.update_layout(margin=dict(t=50, b=50, l=50, r=50),\n",
    "                  font=dict(size=12), annotations=[dict(font=dict(size=14))])\n",
    "fig.show()"
   ]
  },
  {
   "cell_type": "code",
   "execution_count": 37,
   "metadata": {},
   "outputs": [
    {
     "data": {
      "application/vnd.plotly.v1+json": {
       "config": {
        "plotlyServerURL": "https://plot.ly"
       },
       "data": [
        {
         "alignmentgroup": "True",
         "hovertemplate": "Канал привлечения=%{x}<br>LTV, руб.=%{y}<extra></extra>",
         "legendgroup": "Реклама у блогеров",
         "marker": {
          "color": "#636efa"
         },
         "name": "Реклама у блогеров",
         "notched": false,
         "offsetgroup": "Реклама у блогеров",
         "orientation": "v",
         "showlegend": true,
         "type": "box",
         "x": [
          "Реклама у блогеров",
          "Реклама у блогеров",
          "Реклама у блогеров",
          "Реклама у блогеров",
          "Реклама у блогеров",
          "Реклама у блогеров",
          "Реклама у блогеров",
          "Реклама у блогеров",
          "Реклама у блогеров",
          "Реклама у блогеров",
          "Реклама у блогеров",
          "Реклама у блогеров",
          "Реклама у блогеров",
          "Реклама у блогеров",
          "Реклама у блогеров",
          "Реклама у блогеров",
          "Реклама у блогеров",
          "Реклама у блогеров",
          "Реклама у блогеров",
          "Реклама у блогеров",
          "Реклама у блогеров",
          "Реклама у блогеров",
          "Реклама у блогеров",
          "Реклама у блогеров",
          "Реклама у блогеров",
          "Реклама у блогеров",
          "Реклама у блогеров",
          "Реклама у блогеров",
          "Реклама у блогеров",
          "Реклама у блогеров",
          "Реклама у блогеров",
          "Реклама у блогеров",
          "Реклама у блогеров",
          "Реклама у блогеров",
          "Реклама у блогеров",
          "Реклама у блогеров",
          "Реклама у блогеров",
          "Реклама у блогеров",
          "Реклама у блогеров",
          "Реклама у блогеров",
          "Реклама у блогеров",
          "Реклама у блогеров",
          "Реклама у блогеров",
          "Реклама у блогеров",
          "Реклама у блогеров",
          "Реклама у блогеров",
          "Реклама у блогеров",
          "Реклама у блогеров",
          "Реклама у блогеров",
          "Реклама у блогеров",
          "Реклама у блогеров",
          "Реклама у блогеров",
          "Реклама у блогеров",
          "Реклама у блогеров",
          "Реклама у блогеров",
          "Реклама у блогеров",
          "Реклама у блогеров",
          "Реклама у блогеров",
          "Реклама у блогеров",
          "Реклама у блогеров",
          "Реклама у блогеров",
          "Реклама у блогеров",
          "Реклама у блогеров",
          "Реклама у блогеров",
          "Реклама у блогеров",
          "Реклама у блогеров",
          "Реклама у блогеров",
          "Реклама у блогеров",
          "Реклама у блогеров",
          "Реклама у блогеров",
          "Реклама у блогеров",
          "Реклама у блогеров",
          "Реклама у блогеров",
          "Реклама у блогеров",
          "Реклама у блогеров",
          "Реклама у блогеров",
          "Реклама у блогеров",
          "Реклама у блогеров",
          "Реклама у блогеров",
          "Реклама у блогеров",
          "Реклама у блогеров",
          "Реклама у блогеров",
          "Реклама у блогеров",
          "Реклама у блогеров",
          "Реклама у блогеров",
          "Реклама у блогеров",
          "Реклама у блогеров",
          "Реклама у блогеров",
          "Реклама у блогеров",
          "Реклама у блогеров",
          "Реклама у блогеров",
          "Реклама у блогеров",
          "Реклама у блогеров",
          "Реклама у блогеров",
          "Реклама у блогеров",
          "Реклама у блогеров",
          "Реклама у блогеров",
          "Реклама у блогеров",
          "Реклама у блогеров",
          "Реклама у блогеров",
          "Реклама у блогеров",
          "Реклама у блогеров",
          "Реклама у блогеров",
          "Реклама у блогеров",
          "Реклама у блогеров",
          "Реклама у блогеров",
          "Реклама у блогеров",
          "Реклама у блогеров",
          "Реклама у блогеров",
          "Реклама у блогеров",
          "Реклама у блогеров",
          "Реклама у блогеров",
          "Реклама у блогеров",
          "Реклама у блогеров",
          "Реклама у блогеров",
          "Реклама у блогеров",
          "Реклама у блогеров",
          "Реклама у блогеров",
          "Реклама у блогеров",
          "Реклама у блогеров",
          "Реклама у блогеров",
          "Реклама у блогеров",
          "Реклама у блогеров",
          "Реклама у блогеров",
          "Реклама у блогеров",
          "Реклама у блогеров",
          "Реклама у блогеров",
          "Реклама у блогеров",
          "Реклама у блогеров",
          "Реклама у блогеров",
          "Реклама у блогеров",
          "Реклама у блогеров",
          "Реклама у блогеров",
          "Реклама у блогеров",
          "Реклама у блогеров",
          "Реклама у блогеров",
          "Реклама у блогеров",
          "Реклама у блогеров",
          "Реклама у блогеров",
          "Реклама у блогеров",
          "Реклама у блогеров",
          "Реклама у блогеров",
          "Реклама у блогеров",
          "Реклама у блогеров",
          "Реклама у блогеров",
          "Реклама у блогеров",
          "Реклама у блогеров",
          "Реклама у блогеров",
          "Реклама у блогеров",
          "Реклама у блогеров",
          "Реклама у блогеров",
          "Реклама у блогеров",
          "Реклама у блогеров",
          "Реклама у блогеров",
          "Реклама у блогеров",
          "Реклама у блогеров",
          "Реклама у блогеров",
          "Реклама у блогеров",
          "Реклама у блогеров",
          "Реклама у блогеров",
          "Реклама у блогеров",
          "Реклама у блогеров",
          "Реклама у блогеров",
          "Реклама у блогеров",
          "Реклама у блогеров",
          "Реклама у блогеров",
          "Реклама у блогеров",
          "Реклама у блогеров",
          "Реклама у блогеров",
          "Реклама у блогеров",
          "Реклама у блогеров",
          "Реклама у блогеров",
          "Реклама у блогеров",
          "Реклама у блогеров",
          "Реклама у блогеров",
          "Реклама у блогеров",
          "Реклама у блогеров",
          "Реклама у блогеров",
          "Реклама у блогеров",
          "Реклама у блогеров",
          "Реклама у блогеров",
          "Реклама у блогеров",
          "Реклама у блогеров",
          "Реклама у блогеров",
          "Реклама у блогеров",
          "Реклама у блогеров",
          "Реклама у блогеров",
          "Реклама у блогеров",
          "Реклама у блогеров",
          "Реклама у блогеров",
          "Реклама у блогеров",
          "Реклама у блогеров",
          "Реклама у блогеров",
          "Реклама у блогеров",
          "Реклама у блогеров",
          "Реклама у блогеров",
          "Реклама у блогеров",
          "Реклама у блогеров",
          "Реклама у блогеров",
          "Реклама у блогеров",
          "Реклама у блогеров",
          "Реклама у блогеров",
          "Реклама у блогеров",
          "Реклама у блогеров",
          "Реклама у блогеров",
          "Реклама у блогеров",
          "Реклама у блогеров",
          "Реклама у блогеров",
          "Реклама у блогеров",
          "Реклама у блогеров",
          "Реклама у блогеров",
          "Реклама у блогеров",
          "Реклама у блогеров",
          "Реклама у блогеров",
          "Реклама у блогеров",
          "Реклама у блогеров",
          "Реклама у блогеров",
          "Реклама у блогеров",
          "Реклама у блогеров",
          "Реклама у блогеров",
          "Реклама у блогеров",
          "Реклама у блогеров",
          "Реклама у блогеров",
          "Реклама у блогеров",
          "Реклама у блогеров",
          "Реклама у блогеров",
          "Реклама у блогеров",
          "Реклама у блогеров",
          "Реклама у блогеров",
          "Реклама у блогеров",
          "Реклама у блогеров",
          "Реклама у блогеров",
          "Реклама у блогеров",
          "Реклама у блогеров",
          "Реклама у блогеров",
          "Реклама у блогеров",
          "Реклама у блогеров",
          "Реклама у блогеров",
          "Реклама у блогеров",
          "Реклама у блогеров",
          "Реклама у блогеров",
          "Реклама у блогеров",
          "Реклама у блогеров",
          "Реклама у блогеров",
          "Реклама у блогеров",
          "Реклама у блогеров",
          "Реклама у блогеров",
          "Реклама у блогеров",
          "Реклама у блогеров",
          "Реклама у блогеров",
          "Реклама у блогеров",
          "Реклама у блогеров",
          "Реклама у блогеров",
          "Реклама у блогеров",
          "Реклама у блогеров",
          "Реклама у блогеров",
          "Реклама у блогеров",
          "Реклама у блогеров",
          "Реклама у блогеров",
          "Реклама у блогеров",
          "Реклама у блогеров",
          "Реклама у блогеров",
          "Реклама у блогеров",
          "Реклама у блогеров",
          "Реклама у блогеров",
          "Реклама у блогеров",
          "Реклама у блогеров",
          "Реклама у блогеров",
          "Реклама у блогеров",
          "Реклама у блогеров",
          "Реклама у блогеров",
          "Реклама у блогеров",
          "Реклама у блогеров",
          "Реклама у блогеров",
          "Реклама у блогеров",
          "Реклама у блогеров",
          "Реклама у блогеров",
          "Реклама у блогеров",
          "Реклама у блогеров",
          "Реклама у блогеров",
          "Реклама у блогеров",
          "Реклама у блогеров",
          "Реклама у блогеров",
          "Реклама у блогеров",
          "Реклама у блогеров",
          "Реклама у блогеров",
          "Реклама у блогеров",
          "Реклама у блогеров",
          "Реклама у блогеров",
          "Реклама у блогеров",
          "Реклама у блогеров",
          "Реклама у блогеров",
          "Реклама у блогеров",
          "Реклама у блогеров",
          "Реклама у блогеров",
          "Реклама у блогеров",
          "Реклама у блогеров",
          "Реклама у блогеров",
          "Реклама у блогеров",
          "Реклама у блогеров",
          "Реклама у блогеров",
          "Реклама у блогеров",
          "Реклама у блогеров",
          "Реклама у блогеров",
          "Реклама у блогеров",
          "Реклама у блогеров",
          "Реклама у блогеров",
          "Реклама у блогеров",
          "Реклама у блогеров",
          "Реклама у блогеров",
          "Реклама у блогеров",
          "Реклама у блогеров",
          "Реклама у блогеров",
          "Реклама у блогеров",
          "Реклама у блогеров",
          "Реклама у блогеров",
          "Реклама у блогеров",
          "Реклама у блогеров",
          "Реклама у блогеров",
          "Реклама у блогеров",
          "Реклама у блогеров",
          "Реклама у блогеров",
          "Реклама у блогеров",
          "Реклама у блогеров",
          "Реклама у блогеров",
          "Реклама у блогеров",
          "Реклама у блогеров",
          "Реклама у блогеров",
          "Реклама у блогеров",
          "Реклама у блогеров",
          "Реклама у блогеров",
          "Реклама у блогеров",
          "Реклама у блогеров",
          "Реклама у блогеров",
          "Реклама у блогеров",
          "Реклама у блогеров",
          "Реклама у блогеров",
          "Реклама у блогеров",
          "Реклама у блогеров",
          "Реклама у блогеров",
          "Реклама у блогеров",
          "Реклама у блогеров",
          "Реклама у блогеров",
          "Реклама у блогеров",
          "Реклама у блогеров",
          "Реклама у блогеров",
          "Реклама у блогеров",
          "Реклама у блогеров",
          "Реклама у блогеров",
          "Реклама у блогеров",
          "Реклама у блогеров",
          "Реклама у блогеров",
          "Реклама у блогеров",
          "Реклама у блогеров",
          "Реклама у блогеров",
          "Реклама у блогеров",
          "Реклама у блогеров",
          "Реклама у блогеров",
          "Реклама у блогеров",
          "Реклама у блогеров",
          "Реклама у блогеров",
          "Реклама у блогеров",
          "Реклама у блогеров",
          "Реклама у блогеров",
          "Реклама у блогеров",
          "Реклама у блогеров",
          "Реклама у блогеров",
          "Реклама у блогеров",
          "Реклама у блогеров",
          "Реклама у блогеров",
          "Реклама у блогеров",
          "Реклама у блогеров",
          "Реклама у блогеров",
          "Реклама у блогеров",
          "Реклама у блогеров",
          "Реклама у блогеров",
          "Реклама у блогеров",
          "Реклама у блогеров",
          "Реклама у блогеров",
          "Реклама у блогеров",
          "Реклама у блогеров",
          "Реклама у блогеров",
          "Реклама у блогеров",
          "Реклама у блогеров",
          "Реклама у блогеров",
          "Реклама у блогеров",
          "Реклама у блогеров",
          "Реклама у блогеров",
          "Реклама у блогеров",
          "Реклама у блогеров",
          "Реклама у блогеров",
          "Реклама у блогеров",
          "Реклама у блогеров",
          "Реклама у блогеров",
          "Реклама у блогеров",
          "Реклама у блогеров",
          "Реклама у блогеров",
          "Реклама у блогеров",
          "Реклама у блогеров",
          "Реклама у блогеров",
          "Реклама у блогеров",
          "Реклама у блогеров",
          "Реклама у блогеров",
          "Реклама у блогеров",
          "Реклама у блогеров",
          "Реклама у блогеров",
          "Реклама у блогеров",
          "Реклама у блогеров",
          "Реклама у блогеров",
          "Реклама у блогеров",
          "Реклама у блогеров",
          "Реклама у блогеров",
          "Реклама у блогеров",
          "Реклама у блогеров",
          "Реклама у блогеров",
          "Реклама у блогеров",
          "Реклама у блогеров",
          "Реклама у блогеров",
          "Реклама у блогеров",
          "Реклама у блогеров",
          "Реклама у блогеров",
          "Реклама у блогеров",
          "Реклама у блогеров",
          "Реклама у блогеров",
          "Реклама у блогеров",
          "Реклама у блогеров",
          "Реклама у блогеров",
          "Реклама у блогеров",
          "Реклама у блогеров",
          "Реклама у блогеров",
          "Реклама у блогеров",
          "Реклама у блогеров",
          "Реклама у блогеров",
          "Реклама у блогеров",
          "Реклама у блогеров",
          "Реклама у блогеров",
          "Реклама у блогеров",
          "Реклама у блогеров",
          "Реклама у блогеров",
          "Реклама у блогеров",
          "Реклама у блогеров",
          "Реклама у блогеров",
          "Реклама у блогеров",
          "Реклама у блогеров",
          "Реклама у блогеров",
          "Реклама у блогеров",
          "Реклама у блогеров",
          "Реклама у блогеров",
          "Реклама у блогеров",
          "Реклама у блогеров",
          "Реклама у блогеров",
          "Реклама у блогеров",
          "Реклама у блогеров",
          "Реклама у блогеров",
          "Реклама у блогеров",
          "Реклама у блогеров",
          "Реклама у блогеров",
          "Реклама у блогеров",
          "Реклама у блогеров",
          "Реклама у блогеров",
          "Реклама у блогеров",
          "Реклама у блогеров",
          "Реклама у блогеров",
          "Реклама у блогеров",
          "Реклама у блогеров",
          "Реклама у блогеров",
          "Реклама у блогеров",
          "Реклама у блогеров",
          "Реклама у блогеров",
          "Реклама у блогеров",
          "Реклама у блогеров",
          "Реклама у блогеров",
          "Реклама у блогеров",
          "Реклама у блогеров",
          "Реклама у блогеров",
          "Реклама у блогеров",
          "Реклама у блогеров",
          "Реклама у блогеров",
          "Реклама у блогеров",
          "Реклама у блогеров",
          "Реклама у блогеров",
          "Реклама у блогеров",
          "Реклама у блогеров",
          "Реклама у блогеров",
          "Реклама у блогеров",
          "Реклама у блогеров",
          "Реклама у блогеров",
          "Реклама у блогеров",
          "Реклама у блогеров",
          "Реклама у блогеров",
          "Реклама у блогеров",
          "Реклама у блогеров",
          "Реклама у блогеров",
          "Реклама у блогеров",
          "Реклама у блогеров",
          "Реклама у блогеров",
          "Реклама у блогеров",
          "Реклама у блогеров",
          "Реклама у блогеров",
          "Реклама у блогеров",
          "Реклама у блогеров",
          "Реклама у блогеров",
          "Реклама у блогеров",
          "Реклама у блогеров",
          "Реклама у блогеров",
          "Реклама у блогеров",
          "Реклама у блогеров",
          "Реклама у блогеров",
          "Реклама у блогеров",
          "Реклама у блогеров",
          "Реклама у блогеров",
          "Реклама у блогеров",
          "Реклама у блогеров",
          "Реклама у блогеров",
          "Реклама у блогеров",
          "Реклама у блогеров",
          "Реклама у блогеров",
          "Реклама у блогеров",
          "Реклама у блогеров",
          "Реклама у блогеров",
          "Реклама у блогеров",
          "Реклама у блогеров",
          "Реклама у блогеров",
          "Реклама у блогеров",
          "Реклама у блогеров",
          "Реклама у блогеров",
          "Реклама у блогеров",
          "Реклама у блогеров",
          "Реклама у блогеров",
          "Реклама у блогеров",
          "Реклама у блогеров",
          "Реклама у блогеров",
          "Реклама у блогеров",
          "Реклама у блогеров",
          "Реклама у блогеров",
          "Реклама у блогеров",
          "Реклама у блогеров",
          "Реклама у блогеров",
          "Реклама у блогеров",
          "Реклама у блогеров",
          "Реклама у блогеров",
          "Реклама у блогеров",
          "Реклама у блогеров",
          "Реклама у блогеров",
          "Реклама у блогеров",
          "Реклама у блогеров",
          "Реклама у блогеров",
          "Реклама у блогеров",
          "Реклама у блогеров",
          "Реклама у блогеров",
          "Реклама у блогеров",
          "Реклама у блогеров",
          "Реклама у блогеров",
          "Реклама у блогеров",
          "Реклама у блогеров",
          "Реклама у блогеров",
          "Реклама у блогеров",
          "Реклама у блогеров",
          "Реклама у блогеров",
          "Реклама у блогеров",
          "Реклама у блогеров",
          "Реклама у блогеров",
          "Реклама у блогеров",
          "Реклама у блогеров",
          "Реклама у блогеров",
          "Реклама у блогеров",
          "Реклама у блогеров",
          "Реклама у блогеров",
          "Реклама у блогеров",
          "Реклама у блогеров",
          "Реклама у блогеров",
          "Реклама у блогеров",
          "Реклама у блогеров",
          "Реклама у блогеров",
          "Реклама у блогеров",
          "Реклама у блогеров",
          "Реклама у блогеров",
          "Реклама у блогеров",
          "Реклама у блогеров",
          "Реклама у блогеров",
          "Реклама у блогеров",
          "Реклама у блогеров",
          "Реклама у блогеров",
          "Реклама у блогеров",
          "Реклама у блогеров",
          "Реклама у блогеров",
          "Реклама у блогеров",
          "Реклама у блогеров",
          "Реклама у блогеров",
          "Реклама у блогеров",
          "Реклама у блогеров",
          "Реклама у блогеров",
          "Реклама у блогеров",
          "Реклама у блогеров",
          "Реклама у блогеров",
          "Реклама у блогеров",
          "Реклама у блогеров",
          "Реклама у блогеров",
          "Реклама у блогеров",
          "Реклама у блогеров",
          "Реклама у блогеров",
          "Реклама у блогеров",
          "Реклама у блогеров",
          "Реклама у блогеров",
          "Реклама у блогеров",
          "Реклама у блогеров",
          "Реклама у блогеров",
          "Реклама у блогеров",
          "Реклама у блогеров",
          "Реклама у блогеров",
          "Реклама у блогеров",
          "Реклама у блогеров",
          "Реклама у блогеров",
          "Реклама у блогеров",
          "Реклама у блогеров",
          "Реклама у блогеров",
          "Реклама у блогеров",
          "Реклама у блогеров",
          "Реклама у блогеров",
          "Реклама у блогеров",
          "Реклама у блогеров",
          "Реклама у блогеров",
          "Реклама у блогеров",
          "Реклама у блогеров",
          "Реклама у блогеров",
          "Реклама у блогеров",
          "Реклама у блогеров",
          "Реклама у блогеров",
          "Реклама у блогеров",
          "Реклама у блогеров",
          "Реклама у блогеров",
          "Реклама у блогеров",
          "Реклама у блогеров",
          "Реклама у блогеров",
          "Реклама у блогеров",
          "Реклама у блогеров",
          "Реклама у блогеров",
          "Реклама у блогеров",
          "Реклама у блогеров",
          "Реклама у блогеров",
          "Реклама у блогеров",
          "Реклама у блогеров",
          "Реклама у блогеров",
          "Реклама у блогеров",
          "Реклама у блогеров",
          "Реклама у блогеров",
          "Реклама у блогеров",
          "Реклама у блогеров",
          "Реклама у блогеров",
          "Реклама у блогеров",
          "Реклама у блогеров",
          "Реклама у блогеров",
          "Реклама у блогеров",
          "Реклама у блогеров",
          "Реклама у блогеров",
          "Реклама у блогеров",
          "Реклама у блогеров",
          "Реклама у блогеров",
          "Реклама у блогеров",
          "Реклама у блогеров",
          "Реклама у блогеров",
          "Реклама у блогеров",
          "Реклама у блогеров",
          "Реклама у блогеров",
          "Реклама у блогеров",
          "Реклама у блогеров",
          "Реклама у блогеров",
          "Реклама у блогеров",
          "Реклама у блогеров",
          "Реклама у блогеров",
          "Реклама у блогеров"
         ],
         "x0": " ",
         "xaxis": "x",
         "y": {
          "bdata": "XgHNAPwARQFBAWcAswAqAZ4AWAFcAX0AdQD8AGgBcwBaANMABAEGAW0AbwA5AeIA0wDyAFoAFwHBANwAnAB+ADwB4gD6AC0B7ADgADABAgF3ABwBVQBJANYAogBWAFEBSQAuAUwARwCdAJ8AyQC8ANsAVgFfAW4ARwHkAKUAWwFcACYB5wA1AYsAeAB4ACEBxABbAFUAmgApAdQASQHZALAABgGjAGABRgCLAAUBzwCtADsBmAD8AEYBiwAKAYMAkgBbADEBZwDvAFgBIAFsACUBTwFRARcBagAKAX4AtAAoAYoASwF8AC4BygD1AFUBXgDZAEMBAAGtAPIALQHvAGIAdgAQASABZQCnAFoA7wCdAGUB4QAYAfsATgBjAfEAVQBMAGMAaABXAd0AaAGJACwBrABSAJUAZwBUAHYAVwHqAGgAjABiAAUBRgEYATsBSAA/AWYAEQEsAUcA5QBXAGoAAwEXAckACQECAaIASAEFAcsAaAAWAWAAXwD4APMAfQAtAdcAzgBbAZ4AVgE6AU8B5QBvAFkBsAADAdsAAAHTAGUBRgAhASUBqgAUARgBJwGuADsB/wATAV8BTgGlAKAAygDYABgBQgEwAfYAmQBdAaAAXQAVAUIBTgFeAUEBWwGeAEgAjQDIAJkATwGsAEgBUgEoAcUAEwFUAUEBZwD9AGYAWwEpAckAWABQAXgAkwD2AHUAWQF2AIMAVQDKAGAAiQDnAAIBbQBzABoBGwFuADQBbQCGAOoAHQFRADEBWAG+AMQAVABIAX8AqQC1AMUAhwC0AIMAcQCCAGABgQDTADsBugBOAToBUgG4ALgArQBOAFUA4ABwABkBVADBAEMBggAEAe0AoQDAAA8BMQEPAR4BvwC9ABoBZABNABIBTQHxAFcB+QAkAYQALwHYAI8AfwDQANQAUwBFAUwBPwEbAR0BNAHNAC8BQAFOAVcBegCcAGEBmgBbAEUBqwAOASsB2ADgAMIA0AD3AF0AdwBtABUBfQBGAaAAHAFHABgBPAFNAREBkgAmAVgB7gBfAWMABQHxALMAuACJAPgAVQGcAOMA8wBRAFEAOQFZAOgAyQAdAaUALwHyAL8A9gAVAXAAngCMAIsAmABKARcBWgFbAAIBbwD9AJAA6QBcAIAAjQDPAEQB0QDNAKUABAFlATABNAFPAcoAWAFdAZgAGQG8AK8A7wALAUoA6AA4AagAxgDSABwBLwFGAW4AXACkAOcAZQDVAL0APwGLAJEAIgGvAJoAbQATAWYAowBSAF0AFQFGAVUBjwBbAV0ASgC+AE8BNAEpAaQAmAA3AfYAdgBOALQAQgHhAGEBvgBnAY8ArgBbAMgAdgBJAfIArwBBAfQAdwD7AEkAKgERAVcARgEvARoBsACSAEkB5gCxAEkBUgDTAEYBRQFlAIYA2wDXANMAOAHaANoAugClAFIBnQBTAVYAgwBrAFkApAALAdMA2wDrAEUBpQBHAVoAfgBHASoBrQC6AO8AWwFPAdMABAFfAFsAUwBUAakAdADNAGUACwHQANEARgGqAKwATgBNAUcBDgEcAWUAPwFLARgBHgHMANEAYQFSAcwADwGzADkBCwGFAEwAHwFJAXUAYgBlADcBUAGZAKAAZgCiAPcAoADsAJwA6wBXARYBSAD8AF0AFAH2AOcAzwBOAWgAZwCmAGMAMgGDAOYAAAFuAFYBOQH/ABsBGQFFAdsAVgBCAaoAHgEfAToBGQFuANQADAGHAHMAFgHdAIEAuAChAEoAPwHBAFUBDgFHAMkAPwGLAA==",
          "dtype": "i2"
         },
         "y0": " ",
         "yaxis": "y"
        },
        {
         "alignmentgroup": "True",
         "hovertemplate": "Канал привлечения=%{x}<br>LTV, руб.=%{y}<extra></extra>",
         "legendgroup": "Таргетная реклама",
         "marker": {
          "color": "#EF553B"
         },
         "name": "Таргетная реклама",
         "notched": false,
         "offsetgroup": "Таргетная реклама",
         "orientation": "v",
         "showlegend": true,
         "type": "box",
         "x": [
          "Таргетная реклама",
          "Таргетная реклама",
          "Таргетная реклама",
          "Таргетная реклама",
          "Таргетная реклама",
          "Таргетная реклама",
          "Таргетная реклама",
          "Таргетная реклама",
          "Таргетная реклама",
          "Таргетная реклама",
          "Таргетная реклама",
          "Таргетная реклама",
          "Таргетная реклама",
          "Таргетная реклама",
          "Таргетная реклама",
          "Таргетная реклама",
          "Таргетная реклама",
          "Таргетная реклама",
          "Таргетная реклама",
          "Таргетная реклама",
          "Таргетная реклама",
          "Таргетная реклама",
          "Таргетная реклама",
          "Таргетная реклама",
          "Таргетная реклама",
          "Таргетная реклама",
          "Таргетная реклама",
          "Таргетная реклама",
          "Таргетная реклама",
          "Таргетная реклама",
          "Таргетная реклама",
          "Таргетная реклама",
          "Таргетная реклама",
          "Таргетная реклама",
          "Таргетная реклама",
          "Таргетная реклама",
          "Таргетная реклама",
          "Таргетная реклама",
          "Таргетная реклама",
          "Таргетная реклама",
          "Таргетная реклама",
          "Таргетная реклама",
          "Таргетная реклама",
          "Таргетная реклама",
          "Таргетная реклама",
          "Таргетная реклама",
          "Таргетная реклама",
          "Таргетная реклама",
          "Таргетная реклама",
          "Таргетная реклама",
          "Таргетная реклама",
          "Таргетная реклама",
          "Таргетная реклама",
          "Таргетная реклама",
          "Таргетная реклама",
          "Таргетная реклама",
          "Таргетная реклама",
          "Таргетная реклама",
          "Таргетная реклама",
          "Таргетная реклама",
          "Таргетная реклама",
          "Таргетная реклама",
          "Таргетная реклама",
          "Таргетная реклама",
          "Таргетная реклама",
          "Таргетная реклама",
          "Таргетная реклама",
          "Таргетная реклама",
          "Таргетная реклама",
          "Таргетная реклама",
          "Таргетная реклама",
          "Таргетная реклама",
          "Таргетная реклама",
          "Таргетная реклама",
          "Таргетная реклама",
          "Таргетная реклама",
          "Таргетная реклама",
          "Таргетная реклама",
          "Таргетная реклама",
          "Таргетная реклама",
          "Таргетная реклама",
          "Таргетная реклама",
          "Таргетная реклама",
          "Таргетная реклама",
          "Таргетная реклама",
          "Таргетная реклама",
          "Таргетная реклама",
          "Таргетная реклама",
          "Таргетная реклама",
          "Таргетная реклама",
          "Таргетная реклама",
          "Таргетная реклама",
          "Таргетная реклама",
          "Таргетная реклама",
          "Таргетная реклама",
          "Таргетная реклама",
          "Таргетная реклама",
          "Таргетная реклама",
          "Таргетная реклама",
          "Таргетная реклама",
          "Таргетная реклама",
          "Таргетная реклама",
          "Таргетная реклама",
          "Таргетная реклама",
          "Таргетная реклама",
          "Таргетная реклама",
          "Таргетная реклама",
          "Таргетная реклама",
          "Таргетная реклама",
          "Таргетная реклама",
          "Таргетная реклама",
          "Таргетная реклама",
          "Таргетная реклама",
          "Таргетная реклама",
          "Таргетная реклама",
          "Таргетная реклама",
          "Таргетная реклама",
          "Таргетная реклама",
          "Таргетная реклама",
          "Таргетная реклама",
          "Таргетная реклама",
          "Таргетная реклама",
          "Таргетная реклама",
          "Таргетная реклама",
          "Таргетная реклама",
          "Таргетная реклама",
          "Таргетная реклама",
          "Таргетная реклама",
          "Таргетная реклама",
          "Таргетная реклама",
          "Таргетная реклама",
          "Таргетная реклама",
          "Таргетная реклама",
          "Таргетная реклама",
          "Таргетная реклама",
          "Таргетная реклама",
          "Таргетная реклама",
          "Таргетная реклама",
          "Таргетная реклама",
          "Таргетная реклама",
          "Таргетная реклама",
          "Таргетная реклама",
          "Таргетная реклама",
          "Таргетная реклама",
          "Таргетная реклама",
          "Таргетная реклама",
          "Таргетная реклама",
          "Таргетная реклама",
          "Таргетная реклама",
          "Таргетная реклама",
          "Таргетная реклама",
          "Таргетная реклама",
          "Таргетная реклама",
          "Таргетная реклама",
          "Таргетная реклама",
          "Таргетная реклама",
          "Таргетная реклама",
          "Таргетная реклама",
          "Таргетная реклама",
          "Таргетная реклама",
          "Таргетная реклама",
          "Таргетная реклама",
          "Таргетная реклама",
          "Таргетная реклама",
          "Таргетная реклама",
          "Таргетная реклама",
          "Таргетная реклама",
          "Таргетная реклама",
          "Таргетная реклама",
          "Таргетная реклама",
          "Таргетная реклама",
          "Таргетная реклама",
          "Таргетная реклама",
          "Таргетная реклама",
          "Таргетная реклама",
          "Таргетная реклама",
          "Таргетная реклама",
          "Таргетная реклама",
          "Таргетная реклама",
          "Таргетная реклама",
          "Таргетная реклама",
          "Таргетная реклама",
          "Таргетная реклама",
          "Таргетная реклама",
          "Таргетная реклама",
          "Таргетная реклама",
          "Таргетная реклама",
          "Таргетная реклама",
          "Таргетная реклама",
          "Таргетная реклама",
          "Таргетная реклама",
          "Таргетная реклама",
          "Таргетная реклама",
          "Таргетная реклама",
          "Таргетная реклама",
          "Таргетная реклама",
          "Таргетная реклама",
          "Таргетная реклама",
          "Таргетная реклама",
          "Таргетная реклама",
          "Таргетная реклама",
          "Таргетная реклама",
          "Таргетная реклама",
          "Таргетная реклама",
          "Таргетная реклама",
          "Таргетная реклама",
          "Таргетная реклама",
          "Таргетная реклама",
          "Таргетная реклама",
          "Таргетная реклама",
          "Таргетная реклама",
          "Таргетная реклама",
          "Таргетная реклама",
          "Таргетная реклама",
          "Таргетная реклама",
          "Таргетная реклама",
          "Таргетная реклама",
          "Таргетная реклама",
          "Таргетная реклама",
          "Таргетная реклама",
          "Таргетная реклама",
          "Таргетная реклама",
          "Таргетная реклама",
          "Таргетная реклама",
          "Таргетная реклама",
          "Таргетная реклама",
          "Таргетная реклама",
          "Таргетная реклама",
          "Таргетная реклама",
          "Таргетная реклама",
          "Таргетная реклама",
          "Таргетная реклама",
          "Таргетная реклама",
          "Таргетная реклама",
          "Таргетная реклама",
          "Таргетная реклама",
          "Таргетная реклама",
          "Таргетная реклама",
          "Таргетная реклама",
          "Таргетная реклама",
          "Таргетная реклама",
          "Таргетная реклама",
          "Таргетная реклама",
          "Таргетная реклама",
          "Таргетная реклама",
          "Таргетная реклама",
          "Таргетная реклама",
          "Таргетная реклама",
          "Таргетная реклама",
          "Таргетная реклама",
          "Таргетная реклама",
          "Таргетная реклама",
          "Таргетная реклама",
          "Таргетная реклама",
          "Таргетная реклама",
          "Таргетная реклама",
          "Таргетная реклама",
          "Таргетная реклама",
          "Таргетная реклама",
          "Таргетная реклама",
          "Таргетная реклама",
          "Таргетная реклама",
          "Таргетная реклама",
          "Таргетная реклама",
          "Таргетная реклама",
          "Таргетная реклама",
          "Таргетная реклама",
          "Таргетная реклама",
          "Таргетная реклама",
          "Таргетная реклама",
          "Таргетная реклама",
          "Таргетная реклама",
          "Таргетная реклама",
          "Таргетная реклама",
          "Таргетная реклама",
          "Таргетная реклама",
          "Таргетная реклама",
          "Таргетная реклама",
          "Таргетная реклама",
          "Таргетная реклама",
          "Таргетная реклама",
          "Таргетная реклама",
          "Таргетная реклама",
          "Таргетная реклама",
          "Таргетная реклама",
          "Таргетная реклама",
          "Таргетная реклама",
          "Таргетная реклама",
          "Таргетная реклама",
          "Таргетная реклама",
          "Таргетная реклама",
          "Таргетная реклама",
          "Таргетная реклама",
          "Таргетная реклама",
          "Таргетная реклама",
          "Таргетная реклама",
          "Таргетная реклама",
          "Таргетная реклама",
          "Таргетная реклама",
          "Таргетная реклама",
          "Таргетная реклама",
          "Таргетная реклама",
          "Таргетная реклама",
          "Таргетная реклама",
          "Таргетная реклама",
          "Таргетная реклама",
          "Таргетная реклама",
          "Таргетная реклама",
          "Таргетная реклама",
          "Таргетная реклама",
          "Таргетная реклама",
          "Таргетная реклама"
         ],
         "x0": " ",
         "xaxis": "x",
         "y": {
          "bdata": "EwJwAlUCBQKzAVcCmAFIAiYC5wF1AXcBrQHAAVcCTgJ/AYQBcwHwAYEClQHYAWABfgIQAmACoQHeAecBCwKaARsCmAFnATICsAG0ATEC4gGBAiMCWQKZAW4BcQLGAYYBYgKHAQACTgJaAoABGgKKARMCUAKBAQUCeQGFAWMBRAJ8AdkB7gFaArMBagHiAYwB4QFqAskBFgLGAWkBdAI5AsMBvgHiAS4C+AF7Aq8BSgLlAVcCSQIBAkYCDwKzAXcCOgIMAnwCqgHwAegBLQK2AQYCdAFIAn4BogFiAhsCYgFbArABfAFcAt0BpAFuAQoCxAHhAQsC2gHfAVoCwAEJAr8BOQKuAZAB9wG2ATgCbAE0AoMBqAHWAcYBfwGfAVsCEgInAgMChQH7AREC0gHXAQECEQIUAjsCfAKsAbkBPQK7ARsCwQFNAuIBSgKSAdcBfAF5AX0B1gFtAn4B7AHzAV8BFgKrAdIB7AHkAfoBMwJ4ASACJgLeAWMCYQE0Ao4BzgFfAZkB1AHOAWgBhQH7AXkBIwJ5AkYCCgKUAXcCbwEbAm4CgAFTApgBKwJjAW0BnQHKATACcAHgAW0BgAKpAeUBcwK+AaoBpAGbAZEBVQKKAV8BaQFfAdoBGwK6AYMB5gGxAWEBbAGQAd4B6gEgAnQCmQGIAbEBgQERAoACggG3AYYBvQEOAmYCJAJeAYICYQGbAXcB1gFzAu4BcgJ0AWMBQAJdAoIBDQJqAY4BCAItAuoBmgFtAWQBeALyAZQBXQI1AowBggIzAsgB8QH5AcsBAgKuAQUC4gF5At0BZAKhAXIBKALAAYkBAgK1AR4C",
          "dtype": "i2"
         },
         "y0": " ",
         "yaxis": "y"
        },
        {
         "alignmentgroup": "True",
         "hovertemplate": "Канал привлечения=%{x}<br>LTV, руб.=%{y}<extra></extra>",
         "legendgroup": "e-mail рассылки",
         "marker": {
          "color": "#00cc96"
         },
         "name": "e-mail рассылки",
         "notched": false,
         "offsetgroup": "e-mail рассылки",
         "orientation": "v",
         "showlegend": true,
         "type": "box",
         "x": [
          "e-mail рассылки",
          "e-mail рассылки",
          "e-mail рассылки",
          "e-mail рассылки",
          "e-mail рассылки",
          "e-mail рассылки",
          "e-mail рассылки",
          "e-mail рассылки",
          "e-mail рассылки",
          "e-mail рассылки",
          "e-mail рассылки",
          "e-mail рассылки",
          "e-mail рассылки",
          "e-mail рассылки",
          "e-mail рассылки",
          "e-mail рассылки",
          "e-mail рассылки",
          "e-mail рассылки",
          "e-mail рассылки",
          "e-mail рассылки",
          "e-mail рассылки",
          "e-mail рассылки",
          "e-mail рассылки",
          "e-mail рассылки",
          "e-mail рассылки",
          "e-mail рассылки",
          "e-mail рассылки",
          "e-mail рассылки",
          "e-mail рассылки",
          "e-mail рассылки",
          "e-mail рассылки",
          "e-mail рассылки",
          "e-mail рассылки",
          "e-mail рассылки",
          "e-mail рассылки",
          "e-mail рассылки",
          "e-mail рассылки",
          "e-mail рассылки",
          "e-mail рассылки",
          "e-mail рассылки",
          "e-mail рассылки",
          "e-mail рассылки",
          "e-mail рассылки",
          "e-mail рассылки",
          "e-mail рассылки",
          "e-mail рассылки",
          "e-mail рассылки",
          "e-mail рассылки",
          "e-mail рассылки",
          "e-mail рассылки",
          "e-mail рассылки",
          "e-mail рассылки",
          "e-mail рассылки",
          "e-mail рассылки",
          "e-mail рассылки",
          "e-mail рассылки",
          "e-mail рассылки",
          "e-mail рассылки",
          "e-mail рассылки",
          "e-mail рассылки",
          "e-mail рассылки",
          "e-mail рассылки",
          "e-mail рассылки",
          "e-mail рассылки",
          "e-mail рассылки",
          "e-mail рассылки",
          "e-mail рассылки",
          "e-mail рассылки",
          "e-mail рассылки",
          "e-mail рассылки",
          "e-mail рассылки",
          "e-mail рассылки",
          "e-mail рассылки",
          "e-mail рассылки",
          "e-mail рассылки",
          "e-mail рассылки",
          "e-mail рассылки",
          "e-mail рассылки",
          "e-mail рассылки",
          "e-mail рассылки",
          "e-mail рассылки",
          "e-mail рассылки",
          "e-mail рассылки",
          "e-mail рассылки",
          "e-mail рассылки",
          "e-mail рассылки",
          "e-mail рассылки",
          "e-mail рассылки",
          "e-mail рассылки",
          "e-mail рассылки",
          "e-mail рассылки",
          "e-mail рассылки",
          "e-mail рассылки",
          "e-mail рассылки",
          "e-mail рассылки",
          "e-mail рассылки"
         ],
         "x0": " ",
         "xaxis": "x",
         "y": {
          "bdata": "3QDRANMAUgFFAV4BcwAXAagAtwCwAJEAIQHHAOwAXAATAVcAWgCCAbwAUwG/AAYB5gCqAOMAZgCaAJQAdgC7AI0AMAHFAOYAUgGEAbIA6gBLASIBcgCBAW0AmgDfAEYB4QDkAO0AZwF0Aa0A2wBAAd0AawDMAH8BXQBuAbUAIwGNANgAbAEnAfgABwHWAPgAigBdAZQAewCaAAsBkQCmADQBAwHBAKkAQwEyAXgBOgHNAMMAzgCVAGoAdwHUAJcA",
          "dtype": "i2"
         },
         "y0": " ",
         "yaxis": "y"
        },
        {
         "alignmentgroup": "True",
         "hovertemplate": "Канал привлечения=%{x}<br>LTV, руб.=%{y}<extra></extra>",
         "legendgroup": "Контекстная реклама",
         "marker": {
          "color": "#ab63fa"
         },
         "name": "Контекстная реклама",
         "notched": false,
         "offsetgroup": "Контекстная реклама",
         "orientation": "v",
         "showlegend": true,
         "type": "box",
         "x": [
          "Контекстная реклама",
          "Контекстная реклама",
          "Контекстная реклама",
          "Контекстная реклама",
          "Контекстная реклама",
          "Контекстная реклама",
          "Контекстная реклама",
          "Контекстная реклама",
          "Контекстная реклама",
          "Контекстная реклама",
          "Контекстная реклама",
          "Контекстная реклама",
          "Контекстная реклама",
          "Контекстная реклама",
          "Контекстная реклама",
          "Контекстная реклама",
          "Контекстная реклама",
          "Контекстная реклама",
          "Контекстная реклама",
          "Контекстная реклама",
          "Контекстная реклама",
          "Контекстная реклама",
          "Контекстная реклама",
          "Контекстная реклама",
          "Контекстная реклама",
          "Контекстная реклама",
          "Контекстная реклама",
          "Контекстная реклама",
          "Контекстная реклама",
          "Контекстная реклама",
          "Контекстная реклама",
          "Контекстная реклама",
          "Контекстная реклама",
          "Контекстная реклама",
          "Контекстная реклама",
          "Контекстная реклама",
          "Контекстная реклама",
          "Контекстная реклама",
          "Контекстная реклама",
          "Контекстная реклама",
          "Контекстная реклама",
          "Контекстная реклама",
          "Контекстная реклама",
          "Контекстная реклама",
          "Контекстная реклама",
          "Контекстная реклама",
          "Контекстная реклама",
          "Контекстная реклама",
          "Контекстная реклама",
          "Контекстная реклама",
          "Контекстная реклама",
          "Контекстная реклама",
          "Контекстная реклама",
          "Контекстная реклама",
          "Контекстная реклама",
          "Контекстная реклама",
          "Контекстная реклама",
          "Контекстная реклама",
          "Контекстная реклама",
          "Контекстная реклама",
          "Контекстная реклама",
          "Контекстная реклама",
          "Контекстная реклама",
          "Контекстная реклама",
          "Контекстная реклама",
          "Контекстная реклама",
          "Контекстная реклама",
          "Контекстная реклама",
          "Контекстная реклама",
          "Контекстная реклама",
          "Контекстная реклама",
          "Контекстная реклама",
          "Контекстная реклама",
          "Контекстная реклама",
          "Контекстная реклама",
          "Контекстная реклама",
          "Контекстная реклама",
          "Контекстная реклама",
          "Контекстная реклама",
          "Контекстная реклама",
          "Контекстная реклама",
          "Контекстная реклама",
          "Контекстная реклама",
          "Контекстная реклама",
          "Контекстная реклама",
          "Контекстная реклама",
          "Контекстная реклама",
          "Контекстная реклама",
          "Контекстная реклама",
          "Контекстная реклама",
          "Контекстная реклама",
          "Контекстная реклама",
          "Контекстная реклама",
          "Контекстная реклама",
          "Контекстная реклама",
          "Контекстная реклама",
          "Контекстная реклама",
          "Контекстная реклама",
          "Контекстная реклама",
          "Контекстная реклама",
          "Контекстная реклама",
          "Контекстная реклама",
          "Контекстная реклама",
          "Контекстная реклама",
          "Контекстная реклама",
          "Контекстная реклама",
          "Контекстная реклама",
          "Контекстная реклама",
          "Контекстная реклама",
          "Контекстная реклама",
          "Контекстная реклама",
          "Контекстная реклама",
          "Контекстная реклама",
          "Контекстная реклама",
          "Контекстная реклама",
          "Контекстная реклама",
          "Контекстная реклама",
          "Контекстная реклама",
          "Контекстная реклама",
          "Контекстная реклама",
          "Контекстная реклама",
          "Контекстная реклама",
          "Контекстная реклама",
          "Контекстная реклама",
          "Контекстная реклама",
          "Контекстная реклама",
          "Контекстная реклама",
          "Контекстная реклама",
          "Контекстная реклама",
          "Контекстная реклама",
          "Контекстная реклама",
          "Контекстная реклама",
          "Контекстная реклама",
          "Контекстная реклама",
          "Контекстная реклама",
          "Контекстная реклама",
          "Контекстная реклама",
          "Контекстная реклама",
          "Контекстная реклама",
          "Контекстная реклама",
          "Контекстная реклама",
          "Контекстная реклама",
          "Контекстная реклама",
          "Контекстная реклама",
          "Контекстная реклама",
          "Контекстная реклама",
          "Контекстная реклама",
          "Контекстная реклама",
          "Контекстная реклама",
          "Контекстная реклама",
          "Контекстная реклама",
          "Контекстная реклама",
          "Контекстная реклама",
          "Контекстная реклама"
         ],
         "x0": " ",
         "xaxis": "x",
         "y": {
          "bdata": "dgIFAzoCQALrAvQBSwLlAo0CEQPhAlwCcQIxAg0CswISAg8CWQJGAqQCRAIPA9MCYgLNAvAC2QKNAtICpwLeArkCfQLxAmgC1AIJAosCIAK6AmUCSQKUArACwgIgAxQDTgIuAmMCAwJQAvQCkALRAosC/AJSAsYCWQL+ASECxALTAiIDbwI8ApoCEgP+AvoC6gK0Am0CdQJAAvkBPgJpAosC3AJKAs8CzAJ1AlACOQItAs8CwwIaA94CBAOmAhcCDQKqAu0CIwJEAqcCagKoAhICRQJBAkAChQI+AvoC6wIQAvYB8QJ4AnoCxgJRAt4CPgJ/AogC3gLWAjwCowJdAt4C3wKmAqUC2wJdAlICpAKgAlwClgKbAtYC7gKSArkCKAIDA8sCuwJlAuwCFQOIAtUCBwI=",
          "dtype": "i2"
         },
         "y0": " ",
         "yaxis": "y"
        },
        {
         "alignmentgroup": "True",
         "hovertemplate": "Канал привлечения=%{x}<br>LTV, руб.=%{y}<extra></extra>",
         "legendgroup": "Реклама в новостных СМИ",
         "marker": {
          "color": "#FFA15A"
         },
         "name": "Реклама в новостных СМИ",
         "notched": false,
         "offsetgroup": "Реклама в новостных СМИ",
         "orientation": "v",
         "showlegend": true,
         "type": "box",
         "x": [
          "Реклама в новостных СМИ",
          "Реклама в новостных СМИ",
          "Реклама в новостных СМИ",
          "Реклама в новостных СМИ",
          "Реклама в новостных СМИ",
          "Реклама в новостных СМИ",
          "Реклама в новостных СМИ",
          "Реклама в новостных СМИ",
          "Реклама в новостных СМИ",
          "Реклама в новостных СМИ",
          "Реклама в новостных СМИ",
          "Реклама в новостных СМИ",
          "Реклама в новостных СМИ",
          "Реклама в новостных СМИ",
          "Реклама в новостных СМИ",
          "Реклама в новостных СМИ",
          "Реклама в новостных СМИ",
          "Реклама в новостных СМИ",
          "Реклама в новостных СМИ",
          "Реклама в новостных СМИ",
          "Реклама в новостных СМИ",
          "Реклама в новостных СМИ",
          "Реклама в новостных СМИ",
          "Реклама в новостных СМИ",
          "Реклама в новостных СМИ",
          "Реклама в новостных СМИ",
          "Реклама в новостных СМИ",
          "Реклама в новостных СМИ",
          "Реклама в новостных СМИ",
          "Реклама в новостных СМИ",
          "Реклама в новостных СМИ",
          "Реклама в новостных СМИ",
          "Реклама в новостных СМИ",
          "Реклама в новостных СМИ",
          "Реклама в новостных СМИ",
          "Реклама в новостных СМИ",
          "Реклама в новостных СМИ",
          "Реклама в новостных СМИ",
          "Реклама в новостных СМИ",
          "Реклама в новостных СМИ",
          "Реклама в новостных СМИ",
          "Реклама в новостных СМИ",
          "Реклама в новостных СМИ",
          "Реклама в новостных СМИ",
          "Реклама в новостных СМИ",
          "Реклама в новостных СМИ",
          "Реклама в новостных СМИ",
          "Реклама в новостных СМИ",
          "Реклама в новостных СМИ",
          "Реклама в новостных СМИ",
          "Реклама в новостных СМИ",
          "Реклама в новостных СМИ",
          "Реклама в новостных СМИ",
          "Реклама в новостных СМИ",
          "Реклама в новостных СМИ",
          "Реклама в новостных СМИ",
          "Реклама в новостных СМИ",
          "Реклама в новостных СМИ",
          "Реклама в новостных СМИ",
          "Реклама в новостных СМИ",
          "Реклама в новостных СМИ",
          "Реклама в новостных СМИ",
          "Реклама в новостных СМИ",
          "Реклама в новостных СМИ",
          "Реклама в новостных СМИ",
          "Реклама в новостных СМИ",
          "Реклама в новостных СМИ",
          "Реклама в новостных СМИ",
          "Реклама в новостных СМИ",
          "Реклама в новостных СМИ",
          "Реклама в новостных СМИ",
          "Реклама в новостных СМИ",
          "Реклама в новостных СМИ",
          "Реклама в новостных СМИ",
          "Реклама в новостных СМИ",
          "Реклама в новостных СМИ",
          "Реклама в новостных СМИ",
          "Реклама в новостных СМИ",
          "Реклама в новостных СМИ",
          "Реклама в новостных СМИ",
          "Реклама в новостных СМИ",
          "Реклама в новостных СМИ",
          "Реклама в новостных СМИ",
          "Реклама в новостных СМИ",
          "Реклама в новостных СМИ",
          "Реклама в новостных СМИ",
          "Реклама в новостных СМИ",
          "Реклама в новостных СМИ",
          "Реклама в новостных СМИ",
          "Реклама в новостных СМИ",
          "Реклама в новостных СМИ",
          "Реклама в новостных СМИ",
          "Реклама в новостных СМИ",
          "Реклама в новостных СМИ",
          "Реклама в новостных СМИ",
          "Реклама в новостных СМИ",
          "Реклама в новостных СМИ",
          "Реклама в новостных СМИ",
          "Реклама в новостных СМИ",
          "Реклама в новостных СМИ",
          "Реклама в новостных СМИ",
          "Реклама в новостных СМИ",
          "Реклама в новостных СМИ",
          "Реклама в новостных СМИ",
          "Реклама в новостных СМИ",
          "Реклама в новостных СМИ",
          "Реклама в новостных СМИ",
          "Реклама в новостных СМИ",
          "Реклама в новостных СМИ",
          "Реклама в новостных СМИ",
          "Реклама в новостных СМИ",
          "Реклама в новостных СМИ",
          "Реклама в новостных СМИ",
          "Реклама в новостных СМИ",
          "Реклама в новостных СМИ",
          "Реклама в новостных СМИ",
          "Реклама в новостных СМИ",
          "Реклама в новостных СМИ",
          "Реклама в новостных СМИ",
          "Реклама в новостных СМИ",
          "Реклама в новостных СМИ",
          "Реклама в новостных СМИ",
          "Реклама в новостных СМИ",
          "Реклама в новостных СМИ",
          "Реклама в новостных СМИ",
          "Реклама в новостных СМИ",
          "Реклама в новостных СМИ",
          "Реклама в новостных СМИ",
          "Реклама в новостных СМИ",
          "Реклама в новостных СМИ",
          "Реклама в новостных СМИ",
          "Реклама в новостных СМИ",
          "Реклама в новостных СМИ",
          "Реклама в новостных СМИ",
          "Реклама в новостных СМИ",
          "Реклама в новостных СМИ",
          "Реклама в новостных СМИ",
          "Реклама в новостных СМИ",
          "Реклама в новостных СМИ",
          "Реклама в новостных СМИ",
          "Реклама в новостных СМИ",
          "Реклама в новостных СМИ",
          "Реклама в новостных СМИ",
          "Реклама в новостных СМИ",
          "Реклама в новостных СМИ",
          "Реклама в новостных СМИ",
          "Реклама в новостных СМИ",
          "Реклама в новостных СМИ",
          "Реклама в новостных СМИ",
          "Реклама в новостных СМИ",
          "Реклама в новостных СМИ",
          "Реклама в новостных СМИ",
          "Реклама в новостных СМИ",
          "Реклама в новостных СМИ",
          "Реклама в новостных СМИ",
          "Реклама в новостных СМИ",
          "Реклама в новостных СМИ",
          "Реклама в новостных СМИ",
          "Реклама в новостных СМИ",
          "Реклама в новостных СМИ",
          "Реклама в новостных СМИ",
          "Реклама в новостных СМИ",
          "Реклама в новостных СМИ",
          "Реклама в новостных СМИ",
          "Реклама в новостных СМИ",
          "Реклама в новостных СМИ",
          "Реклама в новостных СМИ",
          "Реклама в новостных СМИ",
          "Реклама в новостных СМИ",
          "Реклама в новостных СМИ",
          "Реклама в новостных СМИ",
          "Реклама в новостных СМИ",
          "Реклама в новостных СМИ",
          "Реклама в новостных СМИ",
          "Реклама в новостных СМИ",
          "Реклама в новостных СМИ",
          "Реклама в новостных СМИ",
          "Реклама в новостных СМИ",
          "Реклама в новостных СМИ",
          "Реклама в новостных СМИ",
          "Реклама в новостных СМИ",
          "Реклама в новостных СМИ",
          "Реклама в новостных СМИ",
          "Реклама в новостных СМИ",
          "Реклама в новостных СМИ",
          "Реклама в новостных СМИ",
          "Реклама в новостных СМИ",
          "Реклама в новостных СМИ",
          "Реклама в новостных СМИ",
          "Реклама в новостных СМИ",
          "Реклама в новостных СМИ",
          "Реклама в новостных СМИ",
          "Реклама в новостных СМИ",
          "Реклама в новостных СМИ",
          "Реклама в новостных СМИ",
          "Реклама в новостных СМИ",
          "Реклама в новостных СМИ",
          "Реклама в новостных СМИ",
          "Реклама в новостных СМИ",
          "Реклама в новостных СМИ",
          "Реклама в новостных СМИ",
          "Реклама в новостных СМИ",
          "Реклама в новостных СМИ",
          "Реклама в новостных СМИ",
          "Реклама в новостных СМИ",
          "Реклама в новостных СМИ",
          "Реклама в новостных СМИ",
          "Реклама в новостных СМИ",
          "Реклама в новостных СМИ",
          "Реклама в новостных СМИ",
          "Реклама в новостных СМИ",
          "Реклама в новостных СМИ",
          "Реклама в новостных СМИ",
          "Реклама в новостных СМИ",
          "Реклама в новостных СМИ",
          "Реклама в новостных СМИ",
          "Реклама в новостных СМИ",
          "Реклама в новостных СМИ",
          "Реклама в новостных СМИ",
          "Реклама в новостных СМИ",
          "Реклама в новостных СМИ",
          "Реклама в новостных СМИ",
          "Реклама в новостных СМИ",
          "Реклама в новостных СМИ",
          "Реклама в новостных СМИ",
          "Реклама в новостных СМИ",
          "Реклама в новостных СМИ",
          "Реклама в новостных СМИ",
          "Реклама в новостных СМИ",
          "Реклама в новостных СМИ",
          "Реклама в новостных СМИ",
          "Реклама в новостных СМИ",
          "Реклама в новостных СМИ",
          "Реклама в новостных СМИ",
          "Реклама в новостных СМИ",
          "Реклама в новостных СМИ",
          "Реклама в новостных СМИ",
          "Реклама в новостных СМИ",
          "Реклама в новостных СМИ",
          "Реклама в новостных СМИ",
          "Реклама в новостных СМИ",
          "Реклама в новостных СМИ",
          "Реклама в новостных СМИ",
          "Реклама в новостных СМИ",
          "Реклама в новостных СМИ",
          "Реклама в новостных СМИ",
          "Реклама в новостных СМИ",
          "Реклама в новостных СМИ",
          "Реклама в новостных СМИ",
          "Реклама в новостных СМИ",
          "Реклама в новостных СМИ",
          "Реклама в новостных СМИ",
          "Реклама в новостных СМИ",
          "Реклама в новостных СМИ",
          "Реклама в новостных СМИ",
          "Реклама в новостных СМИ",
          "Реклама в новостных СМИ",
          "Реклама в новостных СМИ",
          "Реклама в новостных СМИ",
          "Реклама в новостных СМИ",
          "Реклама в новостных СМИ",
          "Реклама в новостных СМИ",
          "Реклама в новостных СМИ",
          "Реклама в новостных СМИ",
          "Реклама в новостных СМИ",
          "Реклама в новостных СМИ",
          "Реклама в новостных СМИ",
          "Реклама в новостных СМИ",
          "Реклама в новостных СМИ",
          "Реклама в новостных СМИ",
          "Реклама в новостных СМИ",
          "Реклама в новостных СМИ",
          "Реклама в новостных СМИ",
          "Реклама в новостных СМИ",
          "Реклама в новостных СМИ",
          "Реклама в новостных СМИ",
          "Реклама в новостных СМИ",
          "Реклама в новостных СМИ",
          "Реклама в новостных СМИ",
          "Реклама в новостных СМИ",
          "Реклама в новостных СМИ",
          "Реклама в новостных СМИ",
          "Реклама в новостных СМИ",
          "Реклама в новостных СМИ",
          "Реклама в новостных СМИ",
          "Реклама в новостных СМИ",
          "Реклама в новостных СМИ",
          "Реклама в новостных СМИ",
          "Реклама в новостных СМИ",
          "Реклама в новостных СМИ",
          "Реклама в новостных СМИ",
          "Реклама в новостных СМИ",
          "Реклама в новостных СМИ",
          "Реклама в новостных СМИ",
          "Реклама в новостных СМИ",
          "Реклама в новостных СМИ",
          "Реклама в новостных СМИ",
          "Реклама в новостных СМИ",
          "Реклама в новостных СМИ",
          "Реклама в новостных СМИ",
          "Реклама в новостных СМИ",
          "Реклама в новостных СМИ",
          "Реклама в новостных СМИ",
          "Реклама в новостных СМИ",
          "Реклама в новостных СМИ",
          "Реклама в новостных СМИ",
          "Реклама в новостных СМИ",
          "Реклама в новостных СМИ",
          "Реклама в новостных СМИ",
          "Реклама в новостных СМИ",
          "Реклама в новостных СМИ",
          "Реклама в новостных СМИ"
         ],
         "x0": " ",
         "xaxis": "x",
         "y": {
          "bdata": "WAFXAA0BlQBUATgB/wAsAdkAUQEcAQwBaQGxAJsAHQEFAYEBYwDRAD8BegBbACABWAB7AF4BTAFoAZ8AIAHiAH0AVQFvALIArABxAFEBIwGBAasASAGlAMYARAGQAGIBggHeAG4BVAB4ASEBcAGCAVUAGQG7AHcBogBsAVwBtQBzAXAAdQB7AGwAWABaAVgA4ABjAHwAcgFxAEABzgBHAbQAagGZAEMBrABSAYUADwFzAMgAcwFoAXcAEAG8AGABRAGiAF0B3gByAdsAvAD3ABsBegDNAE4BqQAuAVYAWwE0AeAA+QCRAI4AYAHoAKwAYQF5AFwBKwGsAIIAYwHcAN8AoABsAV4AdQBeAAMBoADWAG4BjQB6APwAeQCxAF0BvQCyAC0BPwF8AHUBewAfAXkBKQFjAYUB6wD5AAIBOgEcAXkBLwFRAX0AdADDABQB3gBrAF8BqwBVAIEAbwDoAO4A9ADHALEAGAGNAG8A5gDWAMsAWAGDAc0A2wDsAKoAvQBzAIoAGgFlAHQAwQDEAD0B/wCVACIBcwGgANIAdgE5AUoBpwAcAZQAYAGwAOQA3wDqAOMAUAFWABABDQFoABcBQQGBAJoAdABpARoBGgHeAHgAPQFuAXsBqgDZAFMBDQEqAXQAwwDqAMkAXwCXAL0AHQHuAMQAtgBLAS0BgQGiABcBpgBgAHcAewE2AZAAtwBPAWEAgwFmASQBGAFrAAkBUgFYAVwA5QCDAT8BVQDRABEBsgC/AAQBuABGAVwAFAH6AJEAGgF6AQgB9QDaABwBKgF0ALAA1wCaABoBBAG5AG8APwFyAH4B+QBsAYMB",
          "dtype": "i2"
         },
         "y0": " ",
         "yaxis": "y"
        },
        {
         "alignmentgroup": "True",
         "hovertemplate": "Канал привлечения=%{x}<br>LTV, руб.=%{y}<extra></extra>",
         "legendgroup": "Нативная реклама",
         "marker": {
          "color": "#19d3f3"
         },
         "name": "Нативная реклама",
         "notched": false,
         "offsetgroup": "Нативная реклама",
         "orientation": "v",
         "showlegend": true,
         "type": "box",
         "x": [
          "Нативная реклама",
          "Нативная реклама",
          "Нативная реклама",
          "Нативная реклама",
          "Нативная реклама",
          "Нативная реклама",
          "Нативная реклама",
          "Нативная реклама",
          "Нативная реклама",
          "Нативная реклама",
          "Нативная реклама",
          "Нативная реклама",
          "Нативная реклама",
          "Нативная реклама",
          "Нативная реклама",
          "Нативная реклама",
          "Нативная реклама",
          "Нативная реклама",
          "Нативная реклама",
          "Нативная реклама",
          "Нативная реклама",
          "Нативная реклама",
          "Нативная реклама",
          "Нативная реклама",
          "Нативная реклама",
          "Нативная реклама",
          "Нативная реклама",
          "Нативная реклама",
          "Нативная реклама",
          "Нативная реклама",
          "Нативная реклама",
          "Нативная реклама",
          "Нативная реклама",
          "Нативная реклама",
          "Нативная реклама",
          "Нативная реклама",
          "Нативная реклама",
          "Нативная реклама",
          "Нативная реклама",
          "Нативная реклама",
          "Нативная реклама",
          "Нативная реклама",
          "Нативная реклама",
          "Нативная реклама",
          "Нативная реклама",
          "Нативная реклама",
          "Нативная реклама",
          "Нативная реклама",
          "Нативная реклама",
          "Нативная реклама",
          "Нативная реклама",
          "Нативная реклама",
          "Нативная реклама",
          "Нативная реклама",
          "Нативная реклама",
          "Нативная реклама",
          "Нативная реклама",
          "Нативная реклама",
          "Нативная реклама",
          "Нативная реклама",
          "Нативная реклама",
          "Нативная реклама",
          "Нативная реклама",
          "Нативная реклама",
          "Нативная реклама",
          "Нативная реклама",
          "Нативная реклама",
          "Нативная реклама",
          "Нативная реклама",
          "Нативная реклама",
          "Нативная реклама",
          "Нативная реклама",
          "Нативная реклама",
          "Нативная реклама",
          "Нативная реклама",
          "Нативная реклама",
          "Нативная реклама",
          "Нативная реклама",
          "Нативная реклама",
          "Нативная реклама",
          "Нативная реклама",
          "Нативная реклама",
          "Нативная реклама",
          "Нативная реклама",
          "Нативная реклама",
          "Нативная реклама",
          "Нативная реклама",
          "Нативная реклама",
          "Нативная реклама",
          "Нативная реклама",
          "Нативная реклама",
          "Нативная реклама",
          "Нативная реклама",
          "Нативная реклама",
          "Нативная реклама",
          "Нативная реклама",
          "Нативная реклама",
          "Нативная реклама",
          "Нативная реклама",
          "Нативная реклама",
          "Нативная реклама",
          "Нативная реклама",
          "Нативная реклама",
          "Нативная реклама",
          "Нативная реклама",
          "Нативная реклама",
          "Нативная реклама",
          "Нативная реклама",
          "Нативная реклама",
          "Нативная реклама",
          "Нативная реклама",
          "Нативная реклама",
          "Нативная реклама",
          "Нативная реклама",
          "Нативная реклама",
          "Нативная реклама",
          "Нативная реклама",
          "Нативная реклама",
          "Нативная реклама",
          "Нативная реклама",
          "Нативная реклама",
          "Нативная реклама",
          "Нативная реклама",
          "Нативная реклама",
          "Нативная реклама",
          "Нативная реклама",
          "Нативная реклама",
          "Нативная реклама",
          "Нативная реклама",
          "Нативная реклама",
          "Нативная реклама",
          "Нативная реклама",
          "Нативная реклама",
          "Нативная реклама",
          "Нативная реклама",
          "Нативная реклама",
          "Нативная реклама",
          "Нативная реклама",
          "Нативная реклама",
          "Нативная реклама",
          "Нативная реклама",
          "Нативная реклама",
          "Нативная реклама",
          "Нативная реклама",
          "Нативная реклама",
          "Нативная реклама",
          "Нативная реклама",
          "Нативная реклама",
          "Нативная реклама",
          "Нативная реклама",
          "Нативная реклама",
          "Нативная реклама",
          "Нативная реклама",
          "Нативная реклама",
          "Нативная реклама",
          "Нативная реклама",
          "Нативная реклама",
          "Нативная реклама",
          "Нативная реклама",
          "Нативная реклама",
          "Нативная реклама",
          "Нативная реклама",
          "Нативная реклама",
          "Нативная реклама",
          "Нативная реклама",
          "Нативная реклама",
          "Нативная реклама",
          "Нативная реклама",
          "Нативная реклама",
          "Нативная реклама",
          "Нативная реклама",
          "Нативная реклама",
          "Нативная реклама",
          "Нативная реклама",
          "Нативная реклама",
          "Нативная реклама",
          "Нативная реклама",
          "Нативная реклама",
          "Нативная реклама",
          "Нативная реклама",
          "Нативная реклама",
          "Нативная реклама",
          "Нативная реклама",
          "Нативная реклама",
          "Нативная реклама",
          "Нативная реклама",
          "Нативная реклама",
          "Нативная реклама",
          "Нативная реклама",
          "Нативная реклама",
          "Нативная реклама",
          "Нативная реклама",
          "Нативная реклама",
          "Нативная реклама",
          "Нативная реклама",
          "Нативная реклама",
          "Нативная реклама",
          "Нативная реклама",
          "Нативная реклама",
          "Нативная реклама",
          "Нативная реклама",
          "Нативная реклама",
          "Нативная реклама",
          "Нативная реклама",
          "Нативная реклама",
          "Нативная реклама",
          "Нативная реклама",
          "Нативная реклама",
          "Нативная реклама",
          "Нативная реклама",
          "Нативная реклама",
          "Нативная реклама",
          "Нативная реклама",
          "Нативная реклама",
          "Нативная реклама",
          "Нативная реклама",
          "Нативная реклама",
          "Нативная реклама",
          "Нативная реклама",
          "Нативная реклама",
          "Нативная реклама",
          "Нативная реклама",
          "Нативная реклама",
          "Нативная реклама",
          "Нативная реклама",
          "Нативная реклама",
          "Нативная реклама",
          "Нативная реклама",
          "Нативная реклама",
          "Нативная реклама",
          "Нативная реклама",
          "Нативная реклама",
          "Нативная реклама",
          "Нативная реклама",
          "Нативная реклама",
          "Нативная реклама",
          "Нативная реклама",
          "Нативная реклама",
          "Нативная реклама",
          "Нативная реклама",
          "Нативная реклама",
          "Нативная реклама",
          "Нативная реклама",
          "Нативная реклама",
          "Нативная реклама",
          "Нативная реклама",
          "Нативная реклама",
          "Нативная реклама",
          "Нативная реклама",
          "Нативная реклама",
          "Нативная реклама",
          "Нативная реклама",
          "Нативная реклама",
          "Нативная реклама",
          "Нативная реклама"
         ],
         "x0": " ",
         "xaxis": "x",
         "y": {
          "bdata": "zQFVAQ4C0wHuAd8BkAGXAbABEQIIAj8BYgHMAf8ANwEBAgwBZwF+ASEBlAHpAVEBwAESAhkBBQLaAdYBeAHGAZ4BdgFwAZABNwGMAUUBfwFQARECBgEoAU8BGQKxARUBqgFZAVsBCQL3APABBwKaAc8BbgHyAdwBEQKpAZEBmwEtAQ8CugFPASIBMAFpAVoBAgJ9AQ8CMAEyAeUBsgGcAYEBfQFGAckBNwG/AQ8CxwFZATEBBwH8AEYBHAJCARkC9QFjAWkB9gFJAbABUgFfATIBNgH7AdgB8gEPAogBmgEWASMBIwE+AYIBcwHMAU8BegG7AekBIAHeAasBAAEbAZ0BjwFpAV8BgwG2AXUBEgG2AZsB/QFMAYsB8gFAAb4BGwJ9AaMBFQI1ARsBkgEAAYEBEwINAq0BjwGlAY0BpwEzAW0BLgGHAeoB7wEoAckBsAGmAVgBAQGiAZ4BMQHlAVIBaAEkAcMBoAETAosBugEWAkIBhgGcAeYBJQGlAYkBSwFhARICRAEJAZsB7QFIAfwAsQEsAZQB+ABtAWcBkQEYAZkBlAGoARIBTwEZAtQBkQEsAbkBrgGnASIBlgEFAhsBNQEmAXMB4AGNATkBHwGzAZQBCwLFAScBiAH4AcwB6AFJAQwCFwHxASUB+QAsAfQB0AEIARoCIAG4AXQB",
          "dtype": "i2"
         },
         "y0": " ",
         "yaxis": "y"
        }
       ],
       "layout": {
        "annotations": [
         {
          "font": {
           "size": 14
          }
         }
        ],
        "boxmode": "overlay",
        "font": {
         "size": 12
        },
        "height": 600,
        "legend": {
         "title": {
          "text": "Канал привлечения"
         },
         "tracegroupgap": 0
        },
        "margin": {
         "b": 60,
         "l": 60,
         "r": 60,
         "t": 60
        },
        "template": {
         "data": {
          "bar": [
           {
            "error_x": {
             "color": "#2a3f5f"
            },
            "error_y": {
             "color": "#2a3f5f"
            },
            "marker": {
             "line": {
              "color": "#E5ECF6",
              "width": 0.5
             },
             "pattern": {
              "fillmode": "overlay",
              "size": 10,
              "solidity": 0.2
             }
            },
            "type": "bar"
           }
          ],
          "barpolar": [
           {
            "marker": {
             "line": {
              "color": "#E5ECF6",
              "width": 0.5
             },
             "pattern": {
              "fillmode": "overlay",
              "size": 10,
              "solidity": 0.2
             }
            },
            "type": "barpolar"
           }
          ],
          "carpet": [
           {
            "aaxis": {
             "endlinecolor": "#2a3f5f",
             "gridcolor": "white",
             "linecolor": "white",
             "minorgridcolor": "white",
             "startlinecolor": "#2a3f5f"
            },
            "baxis": {
             "endlinecolor": "#2a3f5f",
             "gridcolor": "white",
             "linecolor": "white",
             "minorgridcolor": "white",
             "startlinecolor": "#2a3f5f"
            },
            "type": "carpet"
           }
          ],
          "choropleth": [
           {
            "colorbar": {
             "outlinewidth": 0,
             "ticks": ""
            },
            "type": "choropleth"
           }
          ],
          "contour": [
           {
            "colorbar": {
             "outlinewidth": 0,
             "ticks": ""
            },
            "colorscale": [
             [
              0,
              "#0d0887"
             ],
             [
              0.1111111111111111,
              "#46039f"
             ],
             [
              0.2222222222222222,
              "#7201a8"
             ],
             [
              0.3333333333333333,
              "#9c179e"
             ],
             [
              0.4444444444444444,
              "#bd3786"
             ],
             [
              0.5555555555555556,
              "#d8576b"
             ],
             [
              0.6666666666666666,
              "#ed7953"
             ],
             [
              0.7777777777777778,
              "#fb9f3a"
             ],
             [
              0.8888888888888888,
              "#fdca26"
             ],
             [
              1,
              "#f0f921"
             ]
            ],
            "type": "contour"
           }
          ],
          "contourcarpet": [
           {
            "colorbar": {
             "outlinewidth": 0,
             "ticks": ""
            },
            "type": "contourcarpet"
           }
          ],
          "heatmap": [
           {
            "colorbar": {
             "outlinewidth": 0,
             "ticks": ""
            },
            "colorscale": [
             [
              0,
              "#0d0887"
             ],
             [
              0.1111111111111111,
              "#46039f"
             ],
             [
              0.2222222222222222,
              "#7201a8"
             ],
             [
              0.3333333333333333,
              "#9c179e"
             ],
             [
              0.4444444444444444,
              "#bd3786"
             ],
             [
              0.5555555555555556,
              "#d8576b"
             ],
             [
              0.6666666666666666,
              "#ed7953"
             ],
             [
              0.7777777777777778,
              "#fb9f3a"
             ],
             [
              0.8888888888888888,
              "#fdca26"
             ],
             [
              1,
              "#f0f921"
             ]
            ],
            "type": "heatmap"
           }
          ],
          "histogram": [
           {
            "marker": {
             "pattern": {
              "fillmode": "overlay",
              "size": 10,
              "solidity": 0.2
             }
            },
            "type": "histogram"
           }
          ],
          "histogram2d": [
           {
            "colorbar": {
             "outlinewidth": 0,
             "ticks": ""
            },
            "colorscale": [
             [
              0,
              "#0d0887"
             ],
             [
              0.1111111111111111,
              "#46039f"
             ],
             [
              0.2222222222222222,
              "#7201a8"
             ],
             [
              0.3333333333333333,
              "#9c179e"
             ],
             [
              0.4444444444444444,
              "#bd3786"
             ],
             [
              0.5555555555555556,
              "#d8576b"
             ],
             [
              0.6666666666666666,
              "#ed7953"
             ],
             [
              0.7777777777777778,
              "#fb9f3a"
             ],
             [
              0.8888888888888888,
              "#fdca26"
             ],
             [
              1,
              "#f0f921"
             ]
            ],
            "type": "histogram2d"
           }
          ],
          "histogram2dcontour": [
           {
            "colorbar": {
             "outlinewidth": 0,
             "ticks": ""
            },
            "colorscale": [
             [
              0,
              "#0d0887"
             ],
             [
              0.1111111111111111,
              "#46039f"
             ],
             [
              0.2222222222222222,
              "#7201a8"
             ],
             [
              0.3333333333333333,
              "#9c179e"
             ],
             [
              0.4444444444444444,
              "#bd3786"
             ],
             [
              0.5555555555555556,
              "#d8576b"
             ],
             [
              0.6666666666666666,
              "#ed7953"
             ],
             [
              0.7777777777777778,
              "#fb9f3a"
             ],
             [
              0.8888888888888888,
              "#fdca26"
             ],
             [
              1,
              "#f0f921"
             ]
            ],
            "type": "histogram2dcontour"
           }
          ],
          "mesh3d": [
           {
            "colorbar": {
             "outlinewidth": 0,
             "ticks": ""
            },
            "type": "mesh3d"
           }
          ],
          "parcoords": [
           {
            "line": {
             "colorbar": {
              "outlinewidth": 0,
              "ticks": ""
             }
            },
            "type": "parcoords"
           }
          ],
          "pie": [
           {
            "automargin": true,
            "type": "pie"
           }
          ],
          "scatter": [
           {
            "fillpattern": {
             "fillmode": "overlay",
             "size": 10,
             "solidity": 0.2
            },
            "type": "scatter"
           }
          ],
          "scatter3d": [
           {
            "line": {
             "colorbar": {
              "outlinewidth": 0,
              "ticks": ""
             }
            },
            "marker": {
             "colorbar": {
              "outlinewidth": 0,
              "ticks": ""
             }
            },
            "type": "scatter3d"
           }
          ],
          "scattercarpet": [
           {
            "marker": {
             "colorbar": {
              "outlinewidth": 0,
              "ticks": ""
             }
            },
            "type": "scattercarpet"
           }
          ],
          "scattergeo": [
           {
            "marker": {
             "colorbar": {
              "outlinewidth": 0,
              "ticks": ""
             }
            },
            "type": "scattergeo"
           }
          ],
          "scattergl": [
           {
            "marker": {
             "colorbar": {
              "outlinewidth": 0,
              "ticks": ""
             }
            },
            "type": "scattergl"
           }
          ],
          "scattermap": [
           {
            "marker": {
             "colorbar": {
              "outlinewidth": 0,
              "ticks": ""
             }
            },
            "type": "scattermap"
           }
          ],
          "scattermapbox": [
           {
            "marker": {
             "colorbar": {
              "outlinewidth": 0,
              "ticks": ""
             }
            },
            "type": "scattermapbox"
           }
          ],
          "scatterpolar": [
           {
            "marker": {
             "colorbar": {
              "outlinewidth": 0,
              "ticks": ""
             }
            },
            "type": "scatterpolar"
           }
          ],
          "scatterpolargl": [
           {
            "marker": {
             "colorbar": {
              "outlinewidth": 0,
              "ticks": ""
             }
            },
            "type": "scatterpolargl"
           }
          ],
          "scatterternary": [
           {
            "marker": {
             "colorbar": {
              "outlinewidth": 0,
              "ticks": ""
             }
            },
            "type": "scatterternary"
           }
          ],
          "surface": [
           {
            "colorbar": {
             "outlinewidth": 0,
             "ticks": ""
            },
            "colorscale": [
             [
              0,
              "#0d0887"
             ],
             [
              0.1111111111111111,
              "#46039f"
             ],
             [
              0.2222222222222222,
              "#7201a8"
             ],
             [
              0.3333333333333333,
              "#9c179e"
             ],
             [
              0.4444444444444444,
              "#bd3786"
             ],
             [
              0.5555555555555556,
              "#d8576b"
             ],
             [
              0.6666666666666666,
              "#ed7953"
             ],
             [
              0.7777777777777778,
              "#fb9f3a"
             ],
             [
              0.8888888888888888,
              "#fdca26"
             ],
             [
              1,
              "#f0f921"
             ]
            ],
            "type": "surface"
           }
          ],
          "table": [
           {
            "cells": {
             "fill": {
              "color": "#EBF0F8"
             },
             "line": {
              "color": "white"
             }
            },
            "header": {
             "fill": {
              "color": "#C8D4E3"
             },
             "line": {
              "color": "white"
             }
            },
            "type": "table"
           }
          ]
         },
         "layout": {
          "annotationdefaults": {
           "arrowcolor": "#2a3f5f",
           "arrowhead": 0,
           "arrowwidth": 1
          },
          "autotypenumbers": "strict",
          "coloraxis": {
           "colorbar": {
            "outlinewidth": 0,
            "ticks": ""
           }
          },
          "colorscale": {
           "diverging": [
            [
             0,
             "#8e0152"
            ],
            [
             0.1,
             "#c51b7d"
            ],
            [
             0.2,
             "#de77ae"
            ],
            [
             0.3,
             "#f1b6da"
            ],
            [
             0.4,
             "#fde0ef"
            ],
            [
             0.5,
             "#f7f7f7"
            ],
            [
             0.6,
             "#e6f5d0"
            ],
            [
             0.7,
             "#b8e186"
            ],
            [
             0.8,
             "#7fbc41"
            ],
            [
             0.9,
             "#4d9221"
            ],
            [
             1,
             "#276419"
            ]
           ],
           "sequential": [
            [
             0,
             "#0d0887"
            ],
            [
             0.1111111111111111,
             "#46039f"
            ],
            [
             0.2222222222222222,
             "#7201a8"
            ],
            [
             0.3333333333333333,
             "#9c179e"
            ],
            [
             0.4444444444444444,
             "#bd3786"
            ],
            [
             0.5555555555555556,
             "#d8576b"
            ],
            [
             0.6666666666666666,
             "#ed7953"
            ],
            [
             0.7777777777777778,
             "#fb9f3a"
            ],
            [
             0.8888888888888888,
             "#fdca26"
            ],
            [
             1,
             "#f0f921"
            ]
           ],
           "sequentialminus": [
            [
             0,
             "#0d0887"
            ],
            [
             0.1111111111111111,
             "#46039f"
            ],
            [
             0.2222222222222222,
             "#7201a8"
            ],
            [
             0.3333333333333333,
             "#9c179e"
            ],
            [
             0.4444444444444444,
             "#bd3786"
            ],
            [
             0.5555555555555556,
             "#d8576b"
            ],
            [
             0.6666666666666666,
             "#ed7953"
            ],
            [
             0.7777777777777778,
             "#fb9f3a"
            ],
            [
             0.8888888888888888,
             "#fdca26"
            ],
            [
             1,
             "#f0f921"
            ]
           ]
          },
          "colorway": [
           "#636efa",
           "#EF553B",
           "#00cc96",
           "#ab63fa",
           "#FFA15A",
           "#19d3f3",
           "#FF6692",
           "#B6E880",
           "#FF97FF",
           "#FECB52"
          ],
          "font": {
           "color": "#2a3f5f"
          },
          "geo": {
           "bgcolor": "white",
           "lakecolor": "white",
           "landcolor": "#E5ECF6",
           "showlakes": true,
           "showland": true,
           "subunitcolor": "white"
          },
          "hoverlabel": {
           "align": "left"
          },
          "hovermode": "closest",
          "mapbox": {
           "style": "light"
          },
          "paper_bgcolor": "white",
          "plot_bgcolor": "#E5ECF6",
          "polar": {
           "angularaxis": {
            "gridcolor": "white",
            "linecolor": "white",
            "ticks": ""
           },
           "bgcolor": "#E5ECF6",
           "radialaxis": {
            "gridcolor": "white",
            "linecolor": "white",
            "ticks": ""
           }
          },
          "scene": {
           "xaxis": {
            "backgroundcolor": "#E5ECF6",
            "gridcolor": "white",
            "gridwidth": 2,
            "linecolor": "white",
            "showbackground": true,
            "ticks": "",
            "zerolinecolor": "white"
           },
           "yaxis": {
            "backgroundcolor": "#E5ECF6",
            "gridcolor": "white",
            "gridwidth": 2,
            "linecolor": "white",
            "showbackground": true,
            "ticks": "",
            "zerolinecolor": "white"
           },
           "zaxis": {
            "backgroundcolor": "#E5ECF6",
            "gridcolor": "white",
            "gridwidth": 2,
            "linecolor": "white",
            "showbackground": true,
            "ticks": "",
            "zerolinecolor": "white"
           }
          },
          "shapedefaults": {
           "line": {
            "color": "#2a3f5f"
           }
          },
          "ternary": {
           "aaxis": {
            "gridcolor": "white",
            "linecolor": "white",
            "ticks": ""
           },
           "baxis": {
            "gridcolor": "white",
            "linecolor": "white",
            "ticks": ""
           },
           "bgcolor": "#E5ECF6",
           "caxis": {
            "gridcolor": "white",
            "linecolor": "white",
            "ticks": ""
           }
          },
          "title": {
           "x": 0.05
          },
          "xaxis": {
           "automargin": true,
           "gridcolor": "white",
           "linecolor": "white",
           "ticks": "",
           "title": {
            "standoff": 15
           },
           "zerolinecolor": "white",
           "zerolinewidth": 2
          },
          "yaxis": {
           "automargin": true,
           "gridcolor": "white",
           "linecolor": "white",
           "ticks": "",
           "title": {
            "standoff": 15
           },
           "zerolinecolor": "white",
           "zerolinewidth": 2
          }
         }
        },
        "title": {
         "text": "Распределение LTV по каналам привлечения"
        },
        "width": 800,
        "xaxis": {
         "anchor": "y",
         "categoryarray": [
          "Реклама у блогеров",
          "Таргетная реклама",
          "e-mail рассылки",
          "Контекстная реклама",
          "Реклама в новостных СМИ",
          "Нативная реклама"
         ],
         "categoryorder": "array",
         "domain": [
          0,
          1
         ],
         "title": {
          "text": "Канал привлечения"
         }
        },
        "yaxis": {
         "anchor": "x",
         "domain": [
          0,
          1
         ],
         "title": {
          "text": "LTV, руб."
         }
        }
       }
      }
     },
     "metadata": {},
     "output_type": "display_data"
    }
   ],
   "source": [
    "fig = px.box(df_customers, x=\"Канал привлечения\", y=\"LTV, руб.\", color=\"Канал привлечения\",\n",
    "             title = \"Распределение LTV по каналам привлечения\", width=800, height=600)\n",
    "\n",
    "fig.update_layout(margin=dict(t=60, b=60, l=60, r=60),\n",
    "                  font=dict(size=12), annotations=[dict(font=dict(size=14))])\n",
    "fig.show()"
   ]
  },
  {
   "cell_type": "markdown",
   "metadata": {},
   "source": [
    "Из представленного графика мы видим, что например чётко прослеживается то, что каналы `Контекстная реклама` и `Таргетная реклама` приводят клиентов, у которых LTV в среднем выше, а например канал `Реклама у блогеров` приводит клиентов с меньшим LTV."
   ]
  },
  {
   "cell_type": "markdown",
   "metadata": {},
   "source": [
    "### <a id='toc4_1_2_'></a>[Создание сводной таблицы по каналам привлечения клиентов](#toc0_)\n",
    "В сводную таблицу добавим два новых столбца:\n",
    "1. Средний LTV на канал в руб.;\n",
    "2. Кол-во клиентов, пришедших из канала."
   ]
  },
  {
   "cell_type": "code",
   "execution_count": 38,
   "metadata": {},
   "outputs": [
    {
     "data": {
      "text/html": [
       "<div>\n",
       "<style scoped>\n",
       "    .dataframe tbody tr th:only-of-type {\n",
       "        vertical-align: middle;\n",
       "    }\n",
       "\n",
       "    .dataframe tbody tr th {\n",
       "        vertical-align: top;\n",
       "    }\n",
       "\n",
       "    .dataframe thead th {\n",
       "        text-align: right;\n",
       "    }\n",
       "</style>\n",
       "<table border=\"1\" class=\"dataframe\">\n",
       "  <thead>\n",
       "    <tr style=\"text-align: right;\">\n",
       "      <th></th>\n",
       "      <th>Канал привлечения</th>\n",
       "      <th>Средний LTV, руб.</th>\n",
       "      <th>Кол-во клиентов</th>\n",
       "    </tr>\n",
       "  </thead>\n",
       "  <tbody>\n",
       "    <tr>\n",
       "      <th>0</th>\n",
       "      <td>e-mail рассылки</td>\n",
       "      <td>229.0</td>\n",
       "      <td>96</td>\n",
       "    </tr>\n",
       "    <tr>\n",
       "      <th>1</th>\n",
       "      <td>Контекстная реклама</td>\n",
       "      <td>656.0</td>\n",
       "      <td>154</td>\n",
       "    </tr>\n",
       "    <tr>\n",
       "      <th>2</th>\n",
       "      <td>Нативная реклама</td>\n",
       "      <td>395.0</td>\n",
       "      <td>255</td>\n",
       "    </tr>\n",
       "    <tr>\n",
       "      <th>3</th>\n",
       "      <td>Реклама в новостных СМИ</td>\n",
       "      <td>236.0</td>\n",
       "      <td>312</td>\n",
       "    </tr>\n",
       "    <tr>\n",
       "      <th>4</th>\n",
       "      <td>Реклама у блогеров</td>\n",
       "      <td>217.0</td>\n",
       "      <td>671</td>\n",
       "    </tr>\n",
       "    <tr>\n",
       "      <th>5</th>\n",
       "      <td>Таргетная реклама</td>\n",
       "      <td>483.0</td>\n",
       "      <td>312</td>\n",
       "    </tr>\n",
       "  </tbody>\n",
       "</table>\n",
       "</div>"
      ],
      "text/plain": [
       "         Канал привлечения  Средний LTV, руб.  Кол-во клиентов\n",
       "0          e-mail рассылки              229.0               96\n",
       "1      Контекстная реклама              656.0              154\n",
       "2         Нативная реклама              395.0              255\n",
       "3  Реклама в новостных СМИ              236.0              312\n",
       "4       Реклама у блогеров              217.0              671\n",
       "5        Таргетная реклама              483.0              312"
      ]
     },
     "execution_count": 38,
     "metadata": {},
     "output_type": "execute_result"
    }
   ],
   "source": [
    "# создаём сводную таблицу\n",
    "df_agg = df_customers.groupby(['Канал привлечения',]).agg(\n",
    "\tmean = ('LTV, руб.', lambda x: round(x.mean(), 0)),  # Средний LTV на канал в руб. Подсчёт с округлением\n",
    "\tcount = ('LTV, руб.', 'count')).reset_index()        # Кол-во клиентов, пришедших из канала. Подсчёт без округления\n",
    "\n",
    "# переименовываем названия столбцов\n",
    "df_agg.rename(columns={'mean': 'Средний LTV, руб.', 'count': 'Кол-во клиентов'}, inplace=True)\n",
    "df_agg"
   ]
  },
  {
   "cell_type": "markdown",
   "metadata": {},
   "source": [
    "### <a id='toc4_1_3_'></a>[Объединение таблицы затрат и сводной таблицы](#toc0_)\n",
    "Объединим таблицу затрат и сводную таблицу с целью увидеть общую картину."
   ]
  },
  {
   "cell_type": "code",
   "execution_count": 39,
   "metadata": {},
   "outputs": [
    {
     "data": {
      "text/html": [
       "<div>\n",
       "<style scoped>\n",
       "    .dataframe tbody tr th:only-of-type {\n",
       "        vertical-align: middle;\n",
       "    }\n",
       "\n",
       "    .dataframe tbody tr th {\n",
       "        vertical-align: top;\n",
       "    }\n",
       "\n",
       "    .dataframe thead th {\n",
       "        text-align: right;\n",
       "    }\n",
       "</style>\n",
       "<table border=\"1\" class=\"dataframe\">\n",
       "  <thead>\n",
       "    <tr style=\"text-align: right;\">\n",
       "      <th></th>\n",
       "      <th>Канал привлечения</th>\n",
       "      <th>Стоимость привлечения, руб.</th>\n",
       "      <th>Средний LTV, руб.</th>\n",
       "      <th>Кол-во клиентов</th>\n",
       "    </tr>\n",
       "  </thead>\n",
       "  <tbody>\n",
       "    <tr>\n",
       "      <th>0</th>\n",
       "      <td>Таргетная реклама</td>\n",
       "      <td>100000</td>\n",
       "      <td>483.0</td>\n",
       "      <td>312</td>\n",
       "    </tr>\n",
       "    <tr>\n",
       "      <th>1</th>\n",
       "      <td>e-mail рассылки</td>\n",
       "      <td>25000</td>\n",
       "      <td>229.0</td>\n",
       "      <td>96</td>\n",
       "    </tr>\n",
       "    <tr>\n",
       "      <th>2</th>\n",
       "      <td>Реклама у блогеров</td>\n",
       "      <td>120000</td>\n",
       "      <td>217.0</td>\n",
       "      <td>671</td>\n",
       "    </tr>\n",
       "    <tr>\n",
       "      <th>3</th>\n",
       "      <td>Контекстная реклама</td>\n",
       "      <td>90000</td>\n",
       "      <td>656.0</td>\n",
       "      <td>154</td>\n",
       "    </tr>\n",
       "    <tr>\n",
       "      <th>4</th>\n",
       "      <td>Нативная реклама</td>\n",
       "      <td>70000</td>\n",
       "      <td>395.0</td>\n",
       "      <td>255</td>\n",
       "    </tr>\n",
       "    <tr>\n",
       "      <th>5</th>\n",
       "      <td>Реклама в новостных СМИ</td>\n",
       "      <td>60000</td>\n",
       "      <td>236.0</td>\n",
       "      <td>312</td>\n",
       "    </tr>\n",
       "  </tbody>\n",
       "</table>\n",
       "</div>"
      ],
      "text/plain": [
       "         Канал привлечения  Стоимость привлечения, руб.  Средний LTV, руб.  \\\n",
       "0        Таргетная реклама                       100000              483.0   \n",
       "1          e-mail рассылки                        25000              229.0   \n",
       "2       Реклама у блогеров                       120000              217.0   \n",
       "3      Контекстная реклама                        90000              656.0   \n",
       "4         Нативная реклама                        70000              395.0   \n",
       "5  Реклама в новостных СМИ                        60000              236.0   \n",
       "\n",
       "   Кол-во клиентов  \n",
       "0              312  \n",
       "1               96  \n",
       "2              671  \n",
       "3              154  \n",
       "4              255  \n",
       "5              312  "
      ]
     },
     "execution_count": 39,
     "metadata": {},
     "output_type": "execute_result"
    }
   ],
   "source": [
    "# соединяем таблицы по полю `Канал привлечения`\n",
    "df_group = pd.merge(df_cost_attr, df_agg, on='Канал привлечения', how='inner')\n",
    "df_group"
   ]
  },
  {
   "cell_type": "markdown",
   "metadata": {},
   "source": [
    "### <a id='toc4_1_4_'></a>[Расчёт метрики CAC](#toc0_)\n",
    "Рассчитаем метрику CAC для каждого канала привлечения с целью узнать сколько приходится затрат в среднем на одного пользователя."
   ]
  },
  {
   "cell_type": "code",
   "execution_count": 40,
   "metadata": {},
   "outputs": [
    {
     "data": {
      "text/html": [
       "<div>\n",
       "<style scoped>\n",
       "    .dataframe tbody tr th:only-of-type {\n",
       "        vertical-align: middle;\n",
       "    }\n",
       "\n",
       "    .dataframe tbody tr th {\n",
       "        vertical-align: top;\n",
       "    }\n",
       "\n",
       "    .dataframe thead th {\n",
       "        text-align: right;\n",
       "    }\n",
       "</style>\n",
       "<table border=\"1\" class=\"dataframe\">\n",
       "  <thead>\n",
       "    <tr style=\"text-align: right;\">\n",
       "      <th></th>\n",
       "      <th>Канал привлечения</th>\n",
       "      <th>Стоимость привлечения, руб.</th>\n",
       "      <th>Средний LTV, руб.</th>\n",
       "      <th>Кол-во клиентов</th>\n",
       "      <th>cac</th>\n",
       "    </tr>\n",
       "  </thead>\n",
       "  <tbody>\n",
       "    <tr>\n",
       "      <th>0</th>\n",
       "      <td>Таргетная реклама</td>\n",
       "      <td>100000</td>\n",
       "      <td>483.0</td>\n",
       "      <td>312</td>\n",
       "      <td>320.5</td>\n",
       "    </tr>\n",
       "    <tr>\n",
       "      <th>1</th>\n",
       "      <td>e-mail рассылки</td>\n",
       "      <td>25000</td>\n",
       "      <td>229.0</td>\n",
       "      <td>96</td>\n",
       "      <td>260.4</td>\n",
       "    </tr>\n",
       "    <tr>\n",
       "      <th>2</th>\n",
       "      <td>Реклама у блогеров</td>\n",
       "      <td>120000</td>\n",
       "      <td>217.0</td>\n",
       "      <td>671</td>\n",
       "      <td>178.8</td>\n",
       "    </tr>\n",
       "    <tr>\n",
       "      <th>3</th>\n",
       "      <td>Контекстная реклама</td>\n",
       "      <td>90000</td>\n",
       "      <td>656.0</td>\n",
       "      <td>154</td>\n",
       "      <td>584.4</td>\n",
       "    </tr>\n",
       "    <tr>\n",
       "      <th>4</th>\n",
       "      <td>Нативная реклама</td>\n",
       "      <td>70000</td>\n",
       "      <td>395.0</td>\n",
       "      <td>255</td>\n",
       "      <td>274.5</td>\n",
       "    </tr>\n",
       "    <tr>\n",
       "      <th>5</th>\n",
       "      <td>Реклама в новостных СМИ</td>\n",
       "      <td>60000</td>\n",
       "      <td>236.0</td>\n",
       "      <td>312</td>\n",
       "      <td>192.3</td>\n",
       "    </tr>\n",
       "  </tbody>\n",
       "</table>\n",
       "</div>"
      ],
      "text/plain": [
       "         Канал привлечения  Стоимость привлечения, руб.  Средний LTV, руб.  \\\n",
       "0        Таргетная реклама                       100000              483.0   \n",
       "1          e-mail рассылки                        25000              229.0   \n",
       "2       Реклама у блогеров                       120000              217.0   \n",
       "3      Контекстная реклама                        90000              656.0   \n",
       "4         Нативная реклама                        70000              395.0   \n",
       "5  Реклама в новостных СМИ                        60000              236.0   \n",
       "\n",
       "   Кол-во клиентов    cac  \n",
       "0              312  320.5  \n",
       "1               96  260.4  \n",
       "2              671  178.8  \n",
       "3              154  584.4  \n",
       "4              255  274.5  \n",
       "5              312  192.3  "
      ]
     },
     "execution_count": 40,
     "metadata": {},
     "output_type": "execute_result"
    }
   ],
   "source": [
    "# добавляем новый столбец как результат деления полей `Стоимость привлечения, руб.` на `Кол-во клиентов` с округлением\n",
    "df_group = df_group.assign(cac = round(df_group['Стоимость привлечения, руб.'] / df_group['Кол-во клиентов'], 1))\n",
    "df_group"
   ]
  },
  {
   "cell_type": "markdown",
   "metadata": {},
   "source": [
    "### <a id='toc4_1_5_'></a>[Расчёт прибыли на один юнит для каналов привлечения](#toc0_)\n",
    "Рассчитаем для каждого канала среднюю прибыль на 1 пользователя через вычитание из среднего LTV и средних затрат на одного пользователя."
   ]
  },
  {
   "cell_type": "code",
   "execution_count": 41,
   "metadata": {},
   "outputs": [
    {
     "data": {
      "text/html": [
       "<div>\n",
       "<style scoped>\n",
       "    .dataframe tbody tr th:only-of-type {\n",
       "        vertical-align: middle;\n",
       "    }\n",
       "\n",
       "    .dataframe tbody tr th {\n",
       "        vertical-align: top;\n",
       "    }\n",
       "\n",
       "    .dataframe thead th {\n",
       "        text-align: right;\n",
       "    }\n",
       "</style>\n",
       "<table border=\"1\" class=\"dataframe\">\n",
       "  <thead>\n",
       "    <tr style=\"text-align: right;\">\n",
       "      <th></th>\n",
       "      <th>Канал привлечения</th>\n",
       "      <th>Стоимость привлечения, руб.</th>\n",
       "      <th>Средний LTV, руб.</th>\n",
       "      <th>Кол-во клиентов</th>\n",
       "      <th>CAC, руб.</th>\n",
       "      <th>Прибыль на 1 юнит, руб.</th>\n",
       "    </tr>\n",
       "  </thead>\n",
       "  <tbody>\n",
       "    <tr>\n",
       "      <th>0</th>\n",
       "      <td>Таргетная реклама</td>\n",
       "      <td>100000</td>\n",
       "      <td>483.0</td>\n",
       "      <td>312</td>\n",
       "      <td>320.5</td>\n",
       "      <td>162.5</td>\n",
       "    </tr>\n",
       "    <tr>\n",
       "      <th>1</th>\n",
       "      <td>e-mail рассылки</td>\n",
       "      <td>25000</td>\n",
       "      <td>229.0</td>\n",
       "      <td>96</td>\n",
       "      <td>260.4</td>\n",
       "      <td>-31.4</td>\n",
       "    </tr>\n",
       "    <tr>\n",
       "      <th>2</th>\n",
       "      <td>Реклама у блогеров</td>\n",
       "      <td>120000</td>\n",
       "      <td>217.0</td>\n",
       "      <td>671</td>\n",
       "      <td>178.8</td>\n",
       "      <td>38.2</td>\n",
       "    </tr>\n",
       "    <tr>\n",
       "      <th>3</th>\n",
       "      <td>Контекстная реклама</td>\n",
       "      <td>90000</td>\n",
       "      <td>656.0</td>\n",
       "      <td>154</td>\n",
       "      <td>584.4</td>\n",
       "      <td>71.6</td>\n",
       "    </tr>\n",
       "    <tr>\n",
       "      <th>4</th>\n",
       "      <td>Нативная реклама</td>\n",
       "      <td>70000</td>\n",
       "      <td>395.0</td>\n",
       "      <td>255</td>\n",
       "      <td>274.5</td>\n",
       "      <td>120.5</td>\n",
       "    </tr>\n",
       "    <tr>\n",
       "      <th>5</th>\n",
       "      <td>Реклама в новостных СМИ</td>\n",
       "      <td>60000</td>\n",
       "      <td>236.0</td>\n",
       "      <td>312</td>\n",
       "      <td>192.3</td>\n",
       "      <td>43.7</td>\n",
       "    </tr>\n",
       "  </tbody>\n",
       "</table>\n",
       "</div>"
      ],
      "text/plain": [
       "         Канал привлечения  Стоимость привлечения, руб.  Средний LTV, руб.  \\\n",
       "0        Таргетная реклама                       100000              483.0   \n",
       "1          e-mail рассылки                        25000              229.0   \n",
       "2       Реклама у блогеров                       120000              217.0   \n",
       "3      Контекстная реклама                        90000              656.0   \n",
       "4         Нативная реклама                        70000              395.0   \n",
       "5  Реклама в новостных СМИ                        60000              236.0   \n",
       "\n",
       "   Кол-во клиентов  CAC, руб.  Прибыль на 1 юнит, руб.  \n",
       "0              312      320.5                    162.5  \n",
       "1               96      260.4                    -31.4  \n",
       "2              671      178.8                     38.2  \n",
       "3              154      584.4                     71.6  \n",
       "4              255      274.5                    120.5  \n",
       "5              312      192.3                     43.7  "
      ]
     },
     "execution_count": 41,
     "metadata": {},
     "output_type": "execute_result"
    }
   ],
   "source": [
    "# добавляем новый столбец как результат деления полей `Стоимость привлечения, руб.` на `Кол-во клиентов`\n",
    "df_group = df_group.assign(ltv_cac = round(df_group['Средний LTV, руб.'] - df_group['cac'], 1))\n",
    "\n",
    "# переименовываем названия столбцов\n",
    "df_group.rename(columns={'cac': 'CAC, руб.', 'ltv_cac': 'Прибыль на 1 юнит, руб.'}, inplace=True)\n",
    "df_group"
   ]
  },
  {
   "cell_type": "markdown",
   "metadata": {},
   "source": [
    "### <a id='toc4_1_6_'></a>[Построение графика прибыли на одного юнита по каналам привлечения](#toc0_)\n",
    "Для наглядности построим график и покажем на нём для каждого канала привлечения среднюю прибыль на одного пользователя."
   ]
  },
  {
   "cell_type": "code",
   "execution_count": 42,
   "metadata": {},
   "outputs": [
    {
     "data": {
      "application/vnd.plotly.v1+json": {
       "config": {
        "plotlyServerURL": "https://plot.ly"
       },
       "data": [
        {
         "bingroup": "x",
         "histfunc": "sum",
         "hovertemplate": "Канал привлечения=%{x}<br>sum of Прибыль на 1 юнит, руб.=%{y}<extra></extra>",
         "legendgroup": "Таргетная реклама",
         "marker": {
          "color": "#636efa",
          "pattern": {
           "shape": ""
          }
         },
         "name": "Таргетная реклама",
         "orientation": "v",
         "showlegend": true,
         "texttemplate": "%{value}",
         "type": "histogram",
         "x": [
          "Таргетная реклама"
         ],
         "xaxis": "x",
         "y": {
          "bdata": "AAAAAABQZEA=",
          "dtype": "f8"
         },
         "yaxis": "y"
        },
        {
         "bingroup": "x",
         "histfunc": "sum",
         "hovertemplate": "Канал привлечения=%{x}<br>sum of Прибыль на 1 юнит, руб.=%{y}<extra></extra>",
         "legendgroup": "e-mail рассылки",
         "marker": {
          "color": "#EF553B",
          "pattern": {
           "shape": ""
          }
         },
         "name": "e-mail рассылки",
         "orientation": "v",
         "showlegend": true,
         "texttemplate": "%{value}",
         "type": "histogram",
         "x": [
          "e-mail рассылки"
         ],
         "xaxis": "x",
         "y": {
          "bdata": "ZmZmZmZmP8A=",
          "dtype": "f8"
         },
         "yaxis": "y"
        },
        {
         "bingroup": "x",
         "histfunc": "sum",
         "hovertemplate": "Канал привлечения=%{x}<br>sum of Прибыль на 1 юнит, руб.=%{y}<extra></extra>",
         "legendgroup": "Реклама у блогеров",
         "marker": {
          "color": "#00cc96",
          "pattern": {
           "shape": ""
          }
         },
         "name": "Реклама у блогеров",
         "orientation": "v",
         "showlegend": true,
         "texttemplate": "%{value}",
         "type": "histogram",
         "x": [
          "Реклама у блогеров"
         ],
         "xaxis": "x",
         "y": {
          "bdata": "mpmZmZkZQ0A=",
          "dtype": "f8"
         },
         "yaxis": "y"
        },
        {
         "bingroup": "x",
         "histfunc": "sum",
         "hovertemplate": "Канал привлечения=%{x}<br>sum of Прибыль на 1 юнит, руб.=%{y}<extra></extra>",
         "legendgroup": "Контекстная реклама",
         "marker": {
          "color": "#ab63fa",
          "pattern": {
           "shape": ""
          }
         },
         "name": "Контекстная реклама",
         "orientation": "v",
         "showlegend": true,
         "texttemplate": "%{value}",
         "type": "histogram",
         "x": [
          "Контекстная реклама"
         ],
         "xaxis": "x",
         "y": {
          "bdata": "ZmZmZmbmUUA=",
          "dtype": "f8"
         },
         "yaxis": "y"
        },
        {
         "bingroup": "x",
         "histfunc": "sum",
         "hovertemplate": "Канал привлечения=%{x}<br>sum of Прибыль на 1 юнит, руб.=%{y}<extra></extra>",
         "legendgroup": "Нативная реклама",
         "marker": {
          "color": "#FFA15A",
          "pattern": {
           "shape": ""
          }
         },
         "name": "Нативная реклама",
         "orientation": "v",
         "showlegend": true,
         "texttemplate": "%{value}",
         "type": "histogram",
         "x": [
          "Нативная реклама"
         ],
         "xaxis": "x",
         "y": {
          "bdata": "AAAAAAAgXkA=",
          "dtype": "f8"
         },
         "yaxis": "y"
        },
        {
         "bingroup": "x",
         "histfunc": "sum",
         "hovertemplate": "Канал привлечения=%{x}<br>sum of Прибыль на 1 юнит, руб.=%{y}<extra></extra>",
         "legendgroup": "Реклама в новостных СМИ",
         "marker": {
          "color": "#19d3f3",
          "pattern": {
           "shape": ""
          }
         },
         "name": "Реклама в новостных СМИ",
         "orientation": "v",
         "showlegend": true,
         "texttemplate": "%{value}",
         "type": "histogram",
         "x": [
          "Реклама в новостных СМИ"
         ],
         "xaxis": "x",
         "y": {
          "bdata": "mpmZmZnZRUA=",
          "dtype": "f8"
         },
         "yaxis": "y"
        }
       ],
       "layout": {
        "annotations": [
         {
          "font": {
           "size": 14
          }
         }
        ],
        "barmode": "relative",
        "font": {
         "size": 12
        },
        "height": 600,
        "legend": {
         "title": {
          "text": "Канал привлечения"
         },
         "tracegroupgap": 0
        },
        "margin": {
         "b": 50,
         "l": 50,
         "r": 50,
         "t": 50
        },
        "template": {
         "data": {
          "bar": [
           {
            "error_x": {
             "color": "#2a3f5f"
            },
            "error_y": {
             "color": "#2a3f5f"
            },
            "marker": {
             "line": {
              "color": "#E5ECF6",
              "width": 0.5
             },
             "pattern": {
              "fillmode": "overlay",
              "size": 10,
              "solidity": 0.2
             }
            },
            "type": "bar"
           }
          ],
          "barpolar": [
           {
            "marker": {
             "line": {
              "color": "#E5ECF6",
              "width": 0.5
             },
             "pattern": {
              "fillmode": "overlay",
              "size": 10,
              "solidity": 0.2
             }
            },
            "type": "barpolar"
           }
          ],
          "carpet": [
           {
            "aaxis": {
             "endlinecolor": "#2a3f5f",
             "gridcolor": "white",
             "linecolor": "white",
             "minorgridcolor": "white",
             "startlinecolor": "#2a3f5f"
            },
            "baxis": {
             "endlinecolor": "#2a3f5f",
             "gridcolor": "white",
             "linecolor": "white",
             "minorgridcolor": "white",
             "startlinecolor": "#2a3f5f"
            },
            "type": "carpet"
           }
          ],
          "choropleth": [
           {
            "colorbar": {
             "outlinewidth": 0,
             "ticks": ""
            },
            "type": "choropleth"
           }
          ],
          "contour": [
           {
            "colorbar": {
             "outlinewidth": 0,
             "ticks": ""
            },
            "colorscale": [
             [
              0,
              "#0d0887"
             ],
             [
              0.1111111111111111,
              "#46039f"
             ],
             [
              0.2222222222222222,
              "#7201a8"
             ],
             [
              0.3333333333333333,
              "#9c179e"
             ],
             [
              0.4444444444444444,
              "#bd3786"
             ],
             [
              0.5555555555555556,
              "#d8576b"
             ],
             [
              0.6666666666666666,
              "#ed7953"
             ],
             [
              0.7777777777777778,
              "#fb9f3a"
             ],
             [
              0.8888888888888888,
              "#fdca26"
             ],
             [
              1,
              "#f0f921"
             ]
            ],
            "type": "contour"
           }
          ],
          "contourcarpet": [
           {
            "colorbar": {
             "outlinewidth": 0,
             "ticks": ""
            },
            "type": "contourcarpet"
           }
          ],
          "heatmap": [
           {
            "colorbar": {
             "outlinewidth": 0,
             "ticks": ""
            },
            "colorscale": [
             [
              0,
              "#0d0887"
             ],
             [
              0.1111111111111111,
              "#46039f"
             ],
             [
              0.2222222222222222,
              "#7201a8"
             ],
             [
              0.3333333333333333,
              "#9c179e"
             ],
             [
              0.4444444444444444,
              "#bd3786"
             ],
             [
              0.5555555555555556,
              "#d8576b"
             ],
             [
              0.6666666666666666,
              "#ed7953"
             ],
             [
              0.7777777777777778,
              "#fb9f3a"
             ],
             [
              0.8888888888888888,
              "#fdca26"
             ],
             [
              1,
              "#f0f921"
             ]
            ],
            "type": "heatmap"
           }
          ],
          "histogram": [
           {
            "marker": {
             "pattern": {
              "fillmode": "overlay",
              "size": 10,
              "solidity": 0.2
             }
            },
            "type": "histogram"
           }
          ],
          "histogram2d": [
           {
            "colorbar": {
             "outlinewidth": 0,
             "ticks": ""
            },
            "colorscale": [
             [
              0,
              "#0d0887"
             ],
             [
              0.1111111111111111,
              "#46039f"
             ],
             [
              0.2222222222222222,
              "#7201a8"
             ],
             [
              0.3333333333333333,
              "#9c179e"
             ],
             [
              0.4444444444444444,
              "#bd3786"
             ],
             [
              0.5555555555555556,
              "#d8576b"
             ],
             [
              0.6666666666666666,
              "#ed7953"
             ],
             [
              0.7777777777777778,
              "#fb9f3a"
             ],
             [
              0.8888888888888888,
              "#fdca26"
             ],
             [
              1,
              "#f0f921"
             ]
            ],
            "type": "histogram2d"
           }
          ],
          "histogram2dcontour": [
           {
            "colorbar": {
             "outlinewidth": 0,
             "ticks": ""
            },
            "colorscale": [
             [
              0,
              "#0d0887"
             ],
             [
              0.1111111111111111,
              "#46039f"
             ],
             [
              0.2222222222222222,
              "#7201a8"
             ],
             [
              0.3333333333333333,
              "#9c179e"
             ],
             [
              0.4444444444444444,
              "#bd3786"
             ],
             [
              0.5555555555555556,
              "#d8576b"
             ],
             [
              0.6666666666666666,
              "#ed7953"
             ],
             [
              0.7777777777777778,
              "#fb9f3a"
             ],
             [
              0.8888888888888888,
              "#fdca26"
             ],
             [
              1,
              "#f0f921"
             ]
            ],
            "type": "histogram2dcontour"
           }
          ],
          "mesh3d": [
           {
            "colorbar": {
             "outlinewidth": 0,
             "ticks": ""
            },
            "type": "mesh3d"
           }
          ],
          "parcoords": [
           {
            "line": {
             "colorbar": {
              "outlinewidth": 0,
              "ticks": ""
             }
            },
            "type": "parcoords"
           }
          ],
          "pie": [
           {
            "automargin": true,
            "type": "pie"
           }
          ],
          "scatter": [
           {
            "fillpattern": {
             "fillmode": "overlay",
             "size": 10,
             "solidity": 0.2
            },
            "type": "scatter"
           }
          ],
          "scatter3d": [
           {
            "line": {
             "colorbar": {
              "outlinewidth": 0,
              "ticks": ""
             }
            },
            "marker": {
             "colorbar": {
              "outlinewidth": 0,
              "ticks": ""
             }
            },
            "type": "scatter3d"
           }
          ],
          "scattercarpet": [
           {
            "marker": {
             "colorbar": {
              "outlinewidth": 0,
              "ticks": ""
             }
            },
            "type": "scattercarpet"
           }
          ],
          "scattergeo": [
           {
            "marker": {
             "colorbar": {
              "outlinewidth": 0,
              "ticks": ""
             }
            },
            "type": "scattergeo"
           }
          ],
          "scattergl": [
           {
            "marker": {
             "colorbar": {
              "outlinewidth": 0,
              "ticks": ""
             }
            },
            "type": "scattergl"
           }
          ],
          "scattermap": [
           {
            "marker": {
             "colorbar": {
              "outlinewidth": 0,
              "ticks": ""
             }
            },
            "type": "scattermap"
           }
          ],
          "scattermapbox": [
           {
            "marker": {
             "colorbar": {
              "outlinewidth": 0,
              "ticks": ""
             }
            },
            "type": "scattermapbox"
           }
          ],
          "scatterpolar": [
           {
            "marker": {
             "colorbar": {
              "outlinewidth": 0,
              "ticks": ""
             }
            },
            "type": "scatterpolar"
           }
          ],
          "scatterpolargl": [
           {
            "marker": {
             "colorbar": {
              "outlinewidth": 0,
              "ticks": ""
             }
            },
            "type": "scatterpolargl"
           }
          ],
          "scatterternary": [
           {
            "marker": {
             "colorbar": {
              "outlinewidth": 0,
              "ticks": ""
             }
            },
            "type": "scatterternary"
           }
          ],
          "surface": [
           {
            "colorbar": {
             "outlinewidth": 0,
             "ticks": ""
            },
            "colorscale": [
             [
              0,
              "#0d0887"
             ],
             [
              0.1111111111111111,
              "#46039f"
             ],
             [
              0.2222222222222222,
              "#7201a8"
             ],
             [
              0.3333333333333333,
              "#9c179e"
             ],
             [
              0.4444444444444444,
              "#bd3786"
             ],
             [
              0.5555555555555556,
              "#d8576b"
             ],
             [
              0.6666666666666666,
              "#ed7953"
             ],
             [
              0.7777777777777778,
              "#fb9f3a"
             ],
             [
              0.8888888888888888,
              "#fdca26"
             ],
             [
              1,
              "#f0f921"
             ]
            ],
            "type": "surface"
           }
          ],
          "table": [
           {
            "cells": {
             "fill": {
              "color": "#EBF0F8"
             },
             "line": {
              "color": "white"
             }
            },
            "header": {
             "fill": {
              "color": "#C8D4E3"
             },
             "line": {
              "color": "white"
             }
            },
            "type": "table"
           }
          ]
         },
         "layout": {
          "annotationdefaults": {
           "arrowcolor": "#2a3f5f",
           "arrowhead": 0,
           "arrowwidth": 1
          },
          "autotypenumbers": "strict",
          "coloraxis": {
           "colorbar": {
            "outlinewidth": 0,
            "ticks": ""
           }
          },
          "colorscale": {
           "diverging": [
            [
             0,
             "#8e0152"
            ],
            [
             0.1,
             "#c51b7d"
            ],
            [
             0.2,
             "#de77ae"
            ],
            [
             0.3,
             "#f1b6da"
            ],
            [
             0.4,
             "#fde0ef"
            ],
            [
             0.5,
             "#f7f7f7"
            ],
            [
             0.6,
             "#e6f5d0"
            ],
            [
             0.7,
             "#b8e186"
            ],
            [
             0.8,
             "#7fbc41"
            ],
            [
             0.9,
             "#4d9221"
            ],
            [
             1,
             "#276419"
            ]
           ],
           "sequential": [
            [
             0,
             "#0d0887"
            ],
            [
             0.1111111111111111,
             "#46039f"
            ],
            [
             0.2222222222222222,
             "#7201a8"
            ],
            [
             0.3333333333333333,
             "#9c179e"
            ],
            [
             0.4444444444444444,
             "#bd3786"
            ],
            [
             0.5555555555555556,
             "#d8576b"
            ],
            [
             0.6666666666666666,
             "#ed7953"
            ],
            [
             0.7777777777777778,
             "#fb9f3a"
            ],
            [
             0.8888888888888888,
             "#fdca26"
            ],
            [
             1,
             "#f0f921"
            ]
           ],
           "sequentialminus": [
            [
             0,
             "#0d0887"
            ],
            [
             0.1111111111111111,
             "#46039f"
            ],
            [
             0.2222222222222222,
             "#7201a8"
            ],
            [
             0.3333333333333333,
             "#9c179e"
            ],
            [
             0.4444444444444444,
             "#bd3786"
            ],
            [
             0.5555555555555556,
             "#d8576b"
            ],
            [
             0.6666666666666666,
             "#ed7953"
            ],
            [
             0.7777777777777778,
             "#fb9f3a"
            ],
            [
             0.8888888888888888,
             "#fdca26"
            ],
            [
             1,
             "#f0f921"
            ]
           ]
          },
          "colorway": [
           "#636efa",
           "#EF553B",
           "#00cc96",
           "#ab63fa",
           "#FFA15A",
           "#19d3f3",
           "#FF6692",
           "#B6E880",
           "#FF97FF",
           "#FECB52"
          ],
          "font": {
           "color": "#2a3f5f"
          },
          "geo": {
           "bgcolor": "white",
           "lakecolor": "white",
           "landcolor": "#E5ECF6",
           "showlakes": true,
           "showland": true,
           "subunitcolor": "white"
          },
          "hoverlabel": {
           "align": "left"
          },
          "hovermode": "closest",
          "mapbox": {
           "style": "light"
          },
          "paper_bgcolor": "white",
          "plot_bgcolor": "#E5ECF6",
          "polar": {
           "angularaxis": {
            "gridcolor": "white",
            "linecolor": "white",
            "ticks": ""
           },
           "bgcolor": "#E5ECF6",
           "radialaxis": {
            "gridcolor": "white",
            "linecolor": "white",
            "ticks": ""
           }
          },
          "scene": {
           "xaxis": {
            "backgroundcolor": "#E5ECF6",
            "gridcolor": "white",
            "gridwidth": 2,
            "linecolor": "white",
            "showbackground": true,
            "ticks": "",
            "zerolinecolor": "white"
           },
           "yaxis": {
            "backgroundcolor": "#E5ECF6",
            "gridcolor": "white",
            "gridwidth": 2,
            "linecolor": "white",
            "showbackground": true,
            "ticks": "",
            "zerolinecolor": "white"
           },
           "zaxis": {
            "backgroundcolor": "#E5ECF6",
            "gridcolor": "white",
            "gridwidth": 2,
            "linecolor": "white",
            "showbackground": true,
            "ticks": "",
            "zerolinecolor": "white"
           }
          },
          "shapedefaults": {
           "line": {
            "color": "#2a3f5f"
           }
          },
          "ternary": {
           "aaxis": {
            "gridcolor": "white",
            "linecolor": "white",
            "ticks": ""
           },
           "baxis": {
            "gridcolor": "white",
            "linecolor": "white",
            "ticks": ""
           },
           "bgcolor": "#E5ECF6",
           "caxis": {
            "gridcolor": "white",
            "linecolor": "white",
            "ticks": ""
           }
          },
          "title": {
           "x": 0.05
          },
          "xaxis": {
           "automargin": true,
           "gridcolor": "white",
           "linecolor": "white",
           "ticks": "",
           "title": {
            "standoff": 15
           },
           "zerolinecolor": "white",
           "zerolinewidth": 2
          },
          "yaxis": {
           "automargin": true,
           "gridcolor": "white",
           "linecolor": "white",
           "ticks": "",
           "title": {
            "standoff": 15
           },
           "zerolinecolor": "white",
           "zerolinewidth": 2
          }
         }
        },
        "title": {
         "text": "Прибыль на 1 юнит по каналам привлечения, руб."
        },
        "width": 800,
        "xaxis": {
         "anchor": "y",
         "categoryarray": [
          "Таргетная реклама",
          "e-mail рассылки",
          "Реклама у блогеров",
          "Контекстная реклама",
          "Нативная реклама",
          "Реклама в новостных СМИ"
         ],
         "categoryorder": "array",
         "domain": [
          0,
          1
         ],
         "title": {
          "text": "Канал привлечения"
         }
        },
        "yaxis": {
         "anchor": "x",
         "domain": [
          0,
          1
         ],
         "title": {
          "text": "Прибыль на 1 юнит, руб."
         }
        }
       }
      }
     },
     "metadata": {},
     "output_type": "display_data"
    }
   ],
   "source": [
    "fig = px.histogram(df_group, x=\"Канал привлечения\", y=\"Прибыль на 1 юнит, руб.\", color =\"Канал привлечения\",\n",
    "                   title='Прибыль на 1 юнит по каналам привлечения, руб.', text_auto=True, width=800, height=600)\n",
    "\n",
    "fig.update_yaxes(title_text=\"Прибыль на 1 юнит, руб.\")\n",
    "\n",
    "fig.update_layout(margin=dict(t=50, b=50, l=50, r=50),\n",
    "                  font=dict(size=12), annotations=[dict(font=dict(size=14))])\n",
    "fig.show()"
   ]
  },
  {
   "cell_type": "markdown",
   "metadata": {},
   "source": [
    "Мы выполнили расчёты, а именно:\n",
    "- в сводной таблице для каждого канала привлечения рассчитали следующие показатели `Средний LTV, руб.` и `Кол-во клиентов`;\n",
    "- объединили таблицу с общими затратами по каналам и сводную таблицу;\n",
    "- рассчитали метрику CAC;\n",
    "- для каждого канала привлечения рассчитали прибыль на 1 юнит."
   ]
  },
  {
   "cell_type": "markdown",
   "metadata": {},
   "source": [
    "# <a id='toc5_'></a>[Итоги](#toc0_)\n",
    "**Вопрос 1:** Определить какие каналы окупаются.\n",
    "\n",
    "**Ответ:** Окупаются все каналы, кроме `e-mail рассылки`.\n",
    "\n",
    "---\n",
    "\n",
    "**Вопрос 2:** Определить какой из каналов самый прибыльный с точки зрения прибыли на один юнит.\n",
    "\n",
    "**Ответ:** Самым прибыльным каналом является `Таргетная реклама`. \n",
    "\n",
    "---\n",
    "\n",
    "**Вопрос 3:** Сформулировать бизнес выводы на основании данных расчётов.\n",
    "\n",
    "**Ответ:** Канал `e-mail рассылки` приносит убытки и по этому, если у него нет прогнозов, что вскоре через этот канал будет приходить более платежеспособный клиент, то от него стоит отказаться. Канал `Таргетная реклама` самый выгодный с точки зрения прибыли на 1 клиента, поэтому инвестиции в него стоит увеличивать."
   ]
  },
  {
   "cell_type": "markdown",
   "metadata": {},
   "source": []
  }
 ],
 "metadata": {
  "kernelspec": {
   "display_name": ".venv",
   "language": "python",
   "name": "python3"
  },
  "language_info": {
   "codemirror_mode": {
    "name": "ipython",
    "version": 3
   },
   "file_extension": ".py",
   "mimetype": "text/x-python",
   "name": "python",
   "nbconvert_exporter": "python",
   "pygments_lexer": "ipython3",
   "version": "3.11.0"
  }
 },
 "nbformat": 4,
 "nbformat_minor": 2
}
