{
 "cells": [
  {
   "cell_type": "markdown",
   "metadata": {},
   "source": [
    "# Расчёт юнит экономики привлечения клиентов из разных каналов\n",
    "Бизнесу необходимо произвести рассчёты эффективности вложения средств в разные каналы привлечения клиентов.\n",
    "\n",
    "## Цели расчётов:\n",
    "1. Определить какие каналы окупаются;\n",
    "2. Определить какой из каналов самый прибыльный с точки зрения прибыли на один юнит;\n",
    "3. Сформулировать бизнес выводы на основании данных расчётов.\n",
    "\n",
    "## Ход расчётов:\n",
    "Данные о LTV пользователей и стоимости привлечения находятся в файлах `customers.csv` и `cost_attraction.csv`. Перед выполнением расчётов необходимо произвести обзор данных. В предобработке данных будет произведена проверка на наличие ошибок в данных и при их наличии оценка их влияния на рассчёты. После этого будут осуществлены расчёты и формирование бизнес выводов.\n",
    "\n",
    "В файле `customers.csv` содержится статистика по клиентам, привлеченным из каналов.\n",
    "Поля:\n",
    "- id клиента - номер клиента;\n",
    "- Канал привлечения - канал из которого пришел клиент;\n",
    "- LTV клиента, руб. - сколько прибыли принёс клиент за всё время взаимодействия с компанией.\n",
    "\n",
    "В файле `cost_attraction.csv` содержится информация о общей стоимости привлечения для каждого канала.\n",
    "Поля:\n",
    "- Канал привлечения - канал, на который выполнены расходы на привлечение;\n",
    "- Стоимость привлечения, руб. - сколько всего было потрачено на привлечение в данном канале.\n",
    "\n",
    "## Стадии проекта:\n",
    "1. Обзор данных\n",
    "2. Предобработка данных\n",
    "3. Расчёты\n",
    "4. Результаты расчётов"
   ]
  },
  {
   "cell_type": "markdown",
   "metadata": {},
   "source": [
    "# 1. Обзор данных\n",
    "### Обзор таблиц:"
   ]
  },
  {
   "cell_type": "code",
   "execution_count": 122,
   "metadata": {},
   "outputs": [],
   "source": [
    "import pandas as pd\n",
    "# сохраняем в df данные по LTV пользователей\n",
    "df_customers = pd.read_csv('data/customers.csv', sep = ';')\n",
    "# сохраняем в df данные по затратам на привлечение в каждом канале\n",
    "df_cost_attr = pd.read_csv('data/cost_attraction.csv', sep = ';')"
   ]
  },
  {
   "cell_type": "markdown",
   "metadata": {},
   "source": [
    "Обзор данных по пользователям из таблицы `customers.csv`"
   ]
  },
  {
   "cell_type": "code",
   "execution_count": 123,
   "metadata": {},
   "outputs": [
    {
     "data": {
      "application/vnd.microsoft.datawrangler.viewer.v0+json": {
       "columns": [
        {
         "name": "index",
         "rawType": "int64",
         "type": "integer"
        },
        {
         "name": "id клиента",
         "rawType": "int64",
         "type": "integer"
        },
        {
         "name": "Канал привлечения",
         "rawType": "object",
         "type": "string"
        },
        {
         "name": "LTV, руб.",
         "rawType": "float64",
         "type": "float"
        }
       ],
       "conversionMethod": "pd.DataFrame",
       "ref": "2d2bd791-7d3f-4998-9489-26cfa90a999b",
       "rows": [
        [
         "0",
         "1",
         "Реклама в новостных СМИ",
         "778.0"
        ],
        [
         "1",
         "2",
         "Реклама в новостных СМИ",
         "132.0"
        ],
        [
         "2",
         "3",
         "Реклама у блогеров",
         "22.0"
        ],
        [
         "3",
         "4",
         "Таргетная реклама",
         "118.0"
        ],
        [
         "4",
         "5",
         "Реклама у блогеров",
         "367.0"
        ]
       ],
       "shape": {
        "columns": 3,
        "rows": 5
       }
      },
      "text/html": [
       "<div>\n",
       "<style scoped>\n",
       "    .dataframe tbody tr th:only-of-type {\n",
       "        vertical-align: middle;\n",
       "    }\n",
       "\n",
       "    .dataframe tbody tr th {\n",
       "        vertical-align: top;\n",
       "    }\n",
       "\n",
       "    .dataframe thead th {\n",
       "        text-align: right;\n",
       "    }\n",
       "</style>\n",
       "<table border=\"1\" class=\"dataframe\">\n",
       "  <thead>\n",
       "    <tr style=\"text-align: right;\">\n",
       "      <th></th>\n",
       "      <th>id клиента</th>\n",
       "      <th>Канал привлечения</th>\n",
       "      <th>LTV, руб.</th>\n",
       "    </tr>\n",
       "  </thead>\n",
       "  <tbody>\n",
       "    <tr>\n",
       "      <th>0</th>\n",
       "      <td>1</td>\n",
       "      <td>Реклама в новостных СМИ</td>\n",
       "      <td>778.0</td>\n",
       "    </tr>\n",
       "    <tr>\n",
       "      <th>1</th>\n",
       "      <td>2</td>\n",
       "      <td>Реклама в новостных СМИ</td>\n",
       "      <td>132.0</td>\n",
       "    </tr>\n",
       "    <tr>\n",
       "      <th>2</th>\n",
       "      <td>3</td>\n",
       "      <td>Реклама у блогеров</td>\n",
       "      <td>22.0</td>\n",
       "    </tr>\n",
       "    <tr>\n",
       "      <th>3</th>\n",
       "      <td>4</td>\n",
       "      <td>Таргетная реклама</td>\n",
       "      <td>118.0</td>\n",
       "    </tr>\n",
       "    <tr>\n",
       "      <th>4</th>\n",
       "      <td>5</td>\n",
       "      <td>Реклама у блогеров</td>\n",
       "      <td>367.0</td>\n",
       "    </tr>\n",
       "  </tbody>\n",
       "</table>\n",
       "</div>"
      ],
      "text/plain": [
       "   id клиента        Канал привлечения  LTV, руб.\n",
       "0           1  Реклама в новостных СМИ      778.0\n",
       "1           2  Реклама в новостных СМИ      132.0\n",
       "2           3       Реклама у блогеров       22.0\n",
       "3           4        Таргетная реклама      118.0\n",
       "4           5       Реклама у блогеров      367.0"
      ]
     },
     "execution_count": 123,
     "metadata": {},
     "output_type": "execute_result"
    }
   ],
   "source": [
    "# выведем первые 5 пользователей\n",
    "df_customers.head()"
   ]
  },
  {
   "cell_type": "markdown",
   "metadata": {},
   "source": [
    "Обзор данных по стоимости привлечения в каналах из таблицы `cost_attraction.csv`"
   ]
  },
  {
   "cell_type": "code",
   "execution_count": 124,
   "metadata": {},
   "outputs": [
    {
     "data": {
      "application/vnd.microsoft.datawrangler.viewer.v0+json": {
       "columns": [
        {
         "name": "index",
         "rawType": "int64",
         "type": "integer"
        },
        {
         "name": "Канал привлечения",
         "rawType": "object",
         "type": "string"
        },
        {
         "name": "Стоимость привлечения, руб.",
         "rawType": "int64",
         "type": "integer"
        }
       ],
       "conversionMethod": "pd.DataFrame",
       "ref": "5a1be011-e880-4a5d-afd6-ea82217f25b9",
       "rows": [
        [
         "0",
         "Таргетная реклама",
         "100000"
        ],
        [
         "1",
         "e-mail рассылки",
         "25000"
        ],
        [
         "2",
         "Реклама у блогеров",
         "120000"
        ],
        [
         "3",
         "Контекстная реклама",
         "90000"
        ],
        [
         "4",
         "Нативная реклама",
         "70000"
        ],
        [
         "5",
         "Реклама в новостных СМИ",
         "60000"
        ]
       ],
       "shape": {
        "columns": 2,
        "rows": 6
       }
      },
      "text/html": [
       "<div>\n",
       "<style scoped>\n",
       "    .dataframe tbody tr th:only-of-type {\n",
       "        vertical-align: middle;\n",
       "    }\n",
       "\n",
       "    .dataframe tbody tr th {\n",
       "        vertical-align: top;\n",
       "    }\n",
       "\n",
       "    .dataframe thead th {\n",
       "        text-align: right;\n",
       "    }\n",
       "</style>\n",
       "<table border=\"1\" class=\"dataframe\">\n",
       "  <thead>\n",
       "    <tr style=\"text-align: right;\">\n",
       "      <th></th>\n",
       "      <th>Канал привлечения</th>\n",
       "      <th>Стоимость привлечения, руб.</th>\n",
       "    </tr>\n",
       "  </thead>\n",
       "  <tbody>\n",
       "    <tr>\n",
       "      <th>0</th>\n",
       "      <td>Таргетная реклама</td>\n",
       "      <td>100000</td>\n",
       "    </tr>\n",
       "    <tr>\n",
       "      <th>1</th>\n",
       "      <td>e-mail рассылки</td>\n",
       "      <td>25000</td>\n",
       "    </tr>\n",
       "    <tr>\n",
       "      <th>2</th>\n",
       "      <td>Реклама у блогеров</td>\n",
       "      <td>120000</td>\n",
       "    </tr>\n",
       "    <tr>\n",
       "      <th>3</th>\n",
       "      <td>Контекстная реклама</td>\n",
       "      <td>90000</td>\n",
       "    </tr>\n",
       "    <tr>\n",
       "      <th>4</th>\n",
       "      <td>Нативная реклама</td>\n",
       "      <td>70000</td>\n",
       "    </tr>\n",
       "    <tr>\n",
       "      <th>5</th>\n",
       "      <td>Реклама в новостных СМИ</td>\n",
       "      <td>60000</td>\n",
       "    </tr>\n",
       "  </tbody>\n",
       "</table>\n",
       "</div>"
      ],
      "text/plain": [
       "         Канал привлечения  Стоимость привлечения, руб.\n",
       "0        Таргетная реклама                       100000\n",
       "1          e-mail рассылки                        25000\n",
       "2       Реклама у блогеров                       120000\n",
       "3      Контекстная реклама                        90000\n",
       "4         Нативная реклама                        70000\n",
       "5  Реклама в новостных СМИ                        60000"
      ]
     },
     "execution_count": 124,
     "metadata": {},
     "output_type": "execute_result"
    }
   ],
   "source": [
    "# выведем данные по стоимости\n",
    "df_cost_attr"
   ]
  },
  {
   "cell_type": "markdown",
   "metadata": {},
   "source": [
    "### Общая информация о таблицах:"
   ]
  },
  {
   "cell_type": "code",
   "execution_count": 125,
   "metadata": {},
   "outputs": [
    {
     "name": "stdout",
     "output_type": "stream",
     "text": [
      "<class 'pandas.core.frame.DataFrame'>\n",
      "RangeIndex: 1800 entries, 0 to 1799\n",
      "Data columns (total 3 columns):\n",
      " #   Column             Non-Null Count  Dtype  \n",
      "---  ------             --------------  -----  \n",
      " 0   id клиента         1800 non-null   int64  \n",
      " 1   Канал привлечения  1800 non-null   object \n",
      " 2   LTV, руб.          1800 non-null   float64\n",
      "dtypes: float64(1), int64(1), object(1)\n",
      "memory usage: 42.3+ KB\n"
     ]
    }
   ],
   "source": [
    "# информация о таблице `customers.csv`\n",
    "df_customers.info()"
   ]
  },
  {
   "cell_type": "code",
   "execution_count": 126,
   "metadata": {},
   "outputs": [
    {
     "name": "stdout",
     "output_type": "stream",
     "text": [
      "<class 'pandas.core.frame.DataFrame'>\n",
      "RangeIndex: 6 entries, 0 to 5\n",
      "Data columns (total 2 columns):\n",
      " #   Column                       Non-Null Count  Dtype \n",
      "---  ------                       --------------  ----- \n",
      " 0   Канал привлечения            6 non-null      object\n",
      " 1   Стоимость привлечения, руб.  6 non-null      int64 \n",
      "dtypes: int64(1), object(1)\n",
      "memory usage: 224.0+ bytes\n"
     ]
    }
   ],
   "source": [
    "# информация о таблице `cost_attraction.csv`\n",
    "df_cost_attr.info()"
   ]
  },
  {
   "cell_type": "markdown",
   "metadata": {},
   "source": [
    "Мы видим что в таблицах `customers.csv` и `cost_attraction.csv`:\n",
    "- пропусков данных нет\n",
    "- данные в полях в подходящих типах\n",
    "- имена полей подходят нашим требованиям"
   ]
  },
  {
   "cell_type": "markdown",
   "metadata": {},
   "source": [
    "# 2. Предобработка данных"
   ]
  },
  {
   "cell_type": "markdown",
   "metadata": {},
   "source": [
    "### Проверка числовых значений:"
   ]
  },
  {
   "cell_type": "markdown",
   "metadata": {},
   "source": [
    "Выполним проверку числовых значений в таблице `customers.csv` в поле `LTV, руб.` с целью исключения ошибок в данных. Отсортируем значения, так как при сортировке показываются ошибки в данных."
   ]
  },
  {
   "cell_type": "code",
   "execution_count": 127,
   "metadata": {},
   "outputs": [
    {
     "data": {
      "application/vnd.microsoft.datawrangler.viewer.v0+json": {
       "columns": [
        {
         "name": "index",
         "rawType": "int64",
         "type": "integer"
        },
        {
         "name": "id клиента",
         "rawType": "int64",
         "type": "integer"
        },
        {
         "name": "Канал привлечения",
         "rawType": "object",
         "type": "string"
        },
        {
         "name": "LTV, руб.",
         "rawType": "float64",
         "type": "float"
        }
       ],
       "conversionMethod": "pd.DataFrame",
       "ref": "5d4a5ee7-8e55-463f-b571-fba5578eaae8",
       "rows": [
        [
         "36",
         "37",
         "Реклама у блогеров",
         "0.0"
        ],
        [
         "1718",
         "1719",
         "Таргетная реклама",
         "0.0"
        ],
        [
         "1717",
         "1718",
         "Реклама у блогеров",
         "0.0"
        ],
        [
         "930",
         "931",
         "Реклама у блогеров",
         "0.0"
        ],
        [
         "73",
         "74",
         "Контекстная реклама",
         "0.0"
        ]
       ],
       "shape": {
        "columns": 3,
        "rows": 5
       }
      },
      "text/html": [
       "<div>\n",
       "<style scoped>\n",
       "    .dataframe tbody tr th:only-of-type {\n",
       "        vertical-align: middle;\n",
       "    }\n",
       "\n",
       "    .dataframe tbody tr th {\n",
       "        vertical-align: top;\n",
       "    }\n",
       "\n",
       "    .dataframe thead th {\n",
       "        text-align: right;\n",
       "    }\n",
       "</style>\n",
       "<table border=\"1\" class=\"dataframe\">\n",
       "  <thead>\n",
       "    <tr style=\"text-align: right;\">\n",
       "      <th></th>\n",
       "      <th>id клиента</th>\n",
       "      <th>Канал привлечения</th>\n",
       "      <th>LTV, руб.</th>\n",
       "    </tr>\n",
       "  </thead>\n",
       "  <tbody>\n",
       "    <tr>\n",
       "      <th>36</th>\n",
       "      <td>37</td>\n",
       "      <td>Реклама у блогеров</td>\n",
       "      <td>0.0</td>\n",
       "    </tr>\n",
       "    <tr>\n",
       "      <th>1718</th>\n",
       "      <td>1719</td>\n",
       "      <td>Таргетная реклама</td>\n",
       "      <td>0.0</td>\n",
       "    </tr>\n",
       "    <tr>\n",
       "      <th>1717</th>\n",
       "      <td>1718</td>\n",
       "      <td>Реклама у блогеров</td>\n",
       "      <td>0.0</td>\n",
       "    </tr>\n",
       "    <tr>\n",
       "      <th>930</th>\n",
       "      <td>931</td>\n",
       "      <td>Реклама у блогеров</td>\n",
       "      <td>0.0</td>\n",
       "    </tr>\n",
       "    <tr>\n",
       "      <th>73</th>\n",
       "      <td>74</td>\n",
       "      <td>Контекстная реклама</td>\n",
       "      <td>0.0</td>\n",
       "    </tr>\n",
       "  </tbody>\n",
       "</table>\n",
       "</div>"
      ],
      "text/plain": [
       "      id клиента    Канал привлечения  LTV, руб.\n",
       "36            37   Реклама у блогеров        0.0\n",
       "1718        1719    Таргетная реклама        0.0\n",
       "1717        1718   Реклама у блогеров        0.0\n",
       "930          931   Реклама у блогеров        0.0\n",
       "73            74  Контекстная реклама        0.0"
      ]
     },
     "execution_count": 127,
     "metadata": {},
     "output_type": "execute_result"
    }
   ],
   "source": [
    "# отсортируем значения в df по полю `LTV, руб.` по возростанию\n",
    "df_sorted = df_customers.sort_values(by='LTV, руб.', ascending=True)\n",
    "# первые 5 элементов\n",
    "df_sorted.head()"
   ]
  },
  {
   "cell_type": "code",
   "execution_count": 128,
   "metadata": {},
   "outputs": [
    {
     "data": {
      "application/vnd.microsoft.datawrangler.viewer.v0+json": {
       "columns": [
        {
         "name": "index",
         "rawType": "int64",
         "type": "integer"
        },
        {
         "name": "id клиента",
         "rawType": "int64",
         "type": "integer"
        },
        {
         "name": "Канал привлечения",
         "rawType": "object",
         "type": "string"
        },
        {
         "name": "LTV, руб.",
         "rawType": "float64",
         "type": "float"
        }
       ],
       "conversionMethod": "pd.DataFrame",
       "ref": "05ef6170-062d-4cff-8673-345e28e87ee1",
       "rows": [
        [
         "1457",
         "1458",
         "Таргетная реклама",
         "847.0"
        ],
        [
         "597",
         "598",
         "Таргетная реклама",
         "851.0"
        ],
        [
         "589",
         "590",
         "Таргетная реклама",
         "854.0"
        ],
        [
         "331",
         "332",
         "Таргетная реклама",
         "857.0"
        ],
        [
         "234",
         "235",
         "Таргетная реклама",
         "858.0"
        ]
       ],
       "shape": {
        "columns": 3,
        "rows": 5
       }
      },
      "text/html": [
       "<div>\n",
       "<style scoped>\n",
       "    .dataframe tbody tr th:only-of-type {\n",
       "        vertical-align: middle;\n",
       "    }\n",
       "\n",
       "    .dataframe tbody tr th {\n",
       "        vertical-align: top;\n",
       "    }\n",
       "\n",
       "    .dataframe thead th {\n",
       "        text-align: right;\n",
       "    }\n",
       "</style>\n",
       "<table border=\"1\" class=\"dataframe\">\n",
       "  <thead>\n",
       "    <tr style=\"text-align: right;\">\n",
       "      <th></th>\n",
       "      <th>id клиента</th>\n",
       "      <th>Канал привлечения</th>\n",
       "      <th>LTV, руб.</th>\n",
       "    </tr>\n",
       "  </thead>\n",
       "  <tbody>\n",
       "    <tr>\n",
       "      <th>1457</th>\n",
       "      <td>1458</td>\n",
       "      <td>Таргетная реклама</td>\n",
       "      <td>847.0</td>\n",
       "    </tr>\n",
       "    <tr>\n",
       "      <th>597</th>\n",
       "      <td>598</td>\n",
       "      <td>Таргетная реклама</td>\n",
       "      <td>851.0</td>\n",
       "    </tr>\n",
       "    <tr>\n",
       "      <th>589</th>\n",
       "      <td>590</td>\n",
       "      <td>Таргетная реклама</td>\n",
       "      <td>854.0</td>\n",
       "    </tr>\n",
       "    <tr>\n",
       "      <th>331</th>\n",
       "      <td>332</td>\n",
       "      <td>Таргетная реклама</td>\n",
       "      <td>857.0</td>\n",
       "    </tr>\n",
       "    <tr>\n",
       "      <th>234</th>\n",
       "      <td>235</td>\n",
       "      <td>Таргетная реклама</td>\n",
       "      <td>858.0</td>\n",
       "    </tr>\n",
       "  </tbody>\n",
       "</table>\n",
       "</div>"
      ],
      "text/plain": [
       "      id клиента  Канал привлечения  LTV, руб.\n",
       "1457        1458  Таргетная реклама      847.0\n",
       "597          598  Таргетная реклама      851.0\n",
       "589          590  Таргетная реклама      854.0\n",
       "331          332  Таргетная реклама      857.0\n",
       "234          235  Таргетная реклама      858.0"
      ]
     },
     "execution_count": 128,
     "metadata": {},
     "output_type": "execute_result"
    }
   ],
   "source": [
    "# последние 5 элементов\n",
    "df_sorted.tail()"
   ]
  },
  {
   "cell_type": "markdown",
   "metadata": {},
   "source": [
    "Мы видим, что в строке с минимальным значением `LTV, руб.` равно `-100000` - это ошибка в данных и удалим данную строку. "
   ]
  },
  {
   "cell_type": "code",
   "execution_count": 129,
   "metadata": {},
   "outputs": [
    {
     "data": {
      "application/vnd.microsoft.datawrangler.viewer.v0+json": {
       "columns": [
        {
         "name": "index",
         "rawType": "int64",
         "type": "integer"
        },
        {
         "name": "id клиента",
         "rawType": "int64",
         "type": "integer"
        },
        {
         "name": "Канал привлечения",
         "rawType": "object",
         "type": "string"
        },
        {
         "name": "LTV, руб.",
         "rawType": "float64",
         "type": "float"
        }
       ],
       "conversionMethod": "pd.DataFrame",
       "ref": "2d791cb8-a8d1-4ef3-a3cf-64045e0194ca",
       "rows": [
        [
         "36",
         "37",
         "Реклама у блогеров",
         "0.0"
        ],
        [
         "1718",
         "1719",
         "Таргетная реклама",
         "0.0"
        ],
        [
         "1717",
         "1718",
         "Реклама у блогеров",
         "0.0"
        ],
        [
         "930",
         "931",
         "Реклама у блогеров",
         "0.0"
        ],
        [
         "73",
         "74",
         "Контекстная реклама",
         "0.0"
        ]
       ],
       "shape": {
        "columns": 3,
        "rows": 5
       }
      },
      "text/html": [
       "<div>\n",
       "<style scoped>\n",
       "    .dataframe tbody tr th:only-of-type {\n",
       "        vertical-align: middle;\n",
       "    }\n",
       "\n",
       "    .dataframe tbody tr th {\n",
       "        vertical-align: top;\n",
       "    }\n",
       "\n",
       "    .dataframe thead th {\n",
       "        text-align: right;\n",
       "    }\n",
       "</style>\n",
       "<table border=\"1\" class=\"dataframe\">\n",
       "  <thead>\n",
       "    <tr style=\"text-align: right;\">\n",
       "      <th></th>\n",
       "      <th>id клиента</th>\n",
       "      <th>Канал привлечения</th>\n",
       "      <th>LTV, руб.</th>\n",
       "    </tr>\n",
       "  </thead>\n",
       "  <tbody>\n",
       "    <tr>\n",
       "      <th>36</th>\n",
       "      <td>37</td>\n",
       "      <td>Реклама у блогеров</td>\n",
       "      <td>0.0</td>\n",
       "    </tr>\n",
       "    <tr>\n",
       "      <th>1718</th>\n",
       "      <td>1719</td>\n",
       "      <td>Таргетная реклама</td>\n",
       "      <td>0.0</td>\n",
       "    </tr>\n",
       "    <tr>\n",
       "      <th>1717</th>\n",
       "      <td>1718</td>\n",
       "      <td>Реклама у блогеров</td>\n",
       "      <td>0.0</td>\n",
       "    </tr>\n",
       "    <tr>\n",
       "      <th>930</th>\n",
       "      <td>931</td>\n",
       "      <td>Реклама у блогеров</td>\n",
       "      <td>0.0</td>\n",
       "    </tr>\n",
       "    <tr>\n",
       "      <th>73</th>\n",
       "      <td>74</td>\n",
       "      <td>Контекстная реклама</td>\n",
       "      <td>0.0</td>\n",
       "    </tr>\n",
       "  </tbody>\n",
       "</table>\n",
       "</div>"
      ],
      "text/plain": [
       "      id клиента    Канал привлечения  LTV, руб.\n",
       "36            37   Реклама у блогеров        0.0\n",
       "1718        1719    Таргетная реклама        0.0\n",
       "1717        1718   Реклама у блогеров        0.0\n",
       "930          931   Реклама у блогеров        0.0\n",
       "73            74  Контекстная реклама        0.0"
      ]
     },
     "execution_count": 129,
     "metadata": {},
     "output_type": "execute_result"
    }
   ],
   "source": [
    "# пересохраним в df с данными по клиентам все строки, кроме строки с ошибочным значением\n",
    "df_customers = df_customers[df_customers['LTV, руб.'] != -100000]\n",
    "# выполним повторную сортировку для проверки\n",
    "df_customers = df_customers.sort_values(by='LTV, руб.', ascending=True)\n",
    "# выведем повторно для проверки удаления ошибочного значения\n",
    "df_customers.head()"
   ]
  },
  {
   "cell_type": "markdown",
   "metadata": {},
   "source": [
    "### Проверка на дубликаты:"
   ]
  },
  {
   "cell_type": "markdown",
   "metadata": {},
   "source": [
    "Проверим на уникальность пользователей в поле `id клиента` таблицы `customers.csv`"
   ]
  },
  {
   "cell_type": "code",
   "execution_count": 130,
   "metadata": {},
   "outputs": [
    {
     "data": {
      "text/plain": [
       "1800"
      ]
     },
     "execution_count": 130,
     "metadata": {},
     "output_type": "execute_result"
    }
   ],
   "source": [
    "# кол-во уникальных пользователей\n",
    "df_customers['id клиента'].nunique()"
   ]
  },
  {
   "cell_type": "markdown",
   "metadata": {},
   "source": [
    "Все 1800 пользователей уникальные."
   ]
  },
  {
   "cell_type": "markdown",
   "metadata": {},
   "source": [
    "Проверим на уникальность названия каналов в поле `канал привлечения` таблицы `customers.csv`"
   ]
  },
  {
   "cell_type": "code",
   "execution_count": 131,
   "metadata": {},
   "outputs": [
    {
     "data": {
      "text/plain": [
       "6"
      ]
     },
     "execution_count": 131,
     "metadata": {},
     "output_type": "execute_result"
    }
   ],
   "source": [
    "# кол-во уникальных пользователей\n",
    "df_customers['Канал привлечения'].nunique()"
   ]
  },
  {
   "cell_type": "markdown",
   "metadata": {},
   "source": [
    "Выведем уникальные названия каналов"
   ]
  },
  {
   "cell_type": "code",
   "execution_count": 132,
   "metadata": {},
   "outputs": [
    {
     "data": {
      "text/plain": [
       "array(['Реклама у блогеров', 'Таргетная реклама', 'Контекстная реклама',\n",
       "       'Нативная реклама', 'e-mail рассылки', 'Реклама в новостных СМИ'],\n",
       "      dtype=object)"
      ]
     },
     "execution_count": 132,
     "metadata": {},
     "output_type": "execute_result"
    }
   ],
   "source": [
    "# уникальные значения в поле\n",
    "df_customers['Канал привлечения'].unique()"
   ]
  },
  {
   "cell_type": "markdown",
   "metadata": {},
   "source": [
    "Все названия каналов уникальные."
   ]
  },
  {
   "cell_type": "markdown",
   "metadata": {},
   "source": [
    "# 3. Расчёты"
   ]
  },
  {
   "cell_type": "markdown",
   "metadata": {},
   "source": [
    "### 3.1 Создаём сводную таблицу по каналам привлечения клиентов с добавлением двух полей:\n",
    "1. Средний LTV на канал в руб.\n",
    "2. Кол-во клипентов, пришедших из канала"
   ]
  },
  {
   "cell_type": "code",
   "execution_count": 137,
   "metadata": {},
   "outputs": [
    {
     "data": {
      "application/vnd.microsoft.datawrangler.viewer.v0+json": {
       "columns": [
        {
         "name": "index",
         "rawType": "int64",
         "type": "integer"
        },
        {
         "name": "Канал привлечения",
         "rawType": "object",
         "type": "string"
        },
        {
         "name": "Средний LTV, руб.",
         "rawType": "float64",
         "type": "float"
        },
        {
         "name": "Кол-во клиентов",
         "rawType": "int64",
         "type": "integer"
        }
       ],
       "conversionMethod": "pd.DataFrame",
       "ref": "99f3b16b-73d9-4277-8712-9fac7b46bcef",
       "rows": [
        [
         "0",
         "e-mail рассылки",
         "380.0",
         "112"
        ],
        [
         "1",
         "Контекстная реклама",
         "279.0",
         "141"
        ],
        [
         "2",
         "Нативная реклама",
         "359.0",
         "253"
        ],
        [
         "3",
         "Реклама в новостных СМИ",
         "375.0",
         "301"
        ],
        [
         "4",
         "Реклама у блогеров",
         "350.0",
         "691"
        ],
        [
         "5",
         "Таргетная реклама",
         "346.0",
         "302"
        ]
       ],
       "shape": {
        "columns": 3,
        "rows": 6
       }
      },
      "text/html": [
       "<div>\n",
       "<style scoped>\n",
       "    .dataframe tbody tr th:only-of-type {\n",
       "        vertical-align: middle;\n",
       "    }\n",
       "\n",
       "    .dataframe tbody tr th {\n",
       "        vertical-align: top;\n",
       "    }\n",
       "\n",
       "    .dataframe thead th {\n",
       "        text-align: right;\n",
       "    }\n",
       "</style>\n",
       "<table border=\"1\" class=\"dataframe\">\n",
       "  <thead>\n",
       "    <tr style=\"text-align: right;\">\n",
       "      <th></th>\n",
       "      <th>Канал привлечения</th>\n",
       "      <th>Средний LTV, руб.</th>\n",
       "      <th>Кол-во клиентов</th>\n",
       "    </tr>\n",
       "  </thead>\n",
       "  <tbody>\n",
       "    <tr>\n",
       "      <th>0</th>\n",
       "      <td>e-mail рассылки</td>\n",
       "      <td>380.0</td>\n",
       "      <td>112</td>\n",
       "    </tr>\n",
       "    <tr>\n",
       "      <th>1</th>\n",
       "      <td>Контекстная реклама</td>\n",
       "      <td>279.0</td>\n",
       "      <td>141</td>\n",
       "    </tr>\n",
       "    <tr>\n",
       "      <th>2</th>\n",
       "      <td>Нативная реклама</td>\n",
       "      <td>359.0</td>\n",
       "      <td>253</td>\n",
       "    </tr>\n",
       "    <tr>\n",
       "      <th>3</th>\n",
       "      <td>Реклама в новостных СМИ</td>\n",
       "      <td>375.0</td>\n",
       "      <td>301</td>\n",
       "    </tr>\n",
       "    <tr>\n",
       "      <th>4</th>\n",
       "      <td>Реклама у блогеров</td>\n",
       "      <td>350.0</td>\n",
       "      <td>691</td>\n",
       "    </tr>\n",
       "    <tr>\n",
       "      <th>5</th>\n",
       "      <td>Таргетная реклама</td>\n",
       "      <td>346.0</td>\n",
       "      <td>302</td>\n",
       "    </tr>\n",
       "  </tbody>\n",
       "</table>\n",
       "</div>"
      ],
      "text/plain": [
       "         Канал привлечения  Средний LTV, руб.  Кол-во клиентов\n",
       "0          e-mail рассылки              380.0              112\n",
       "1      Контекстная реклама              279.0              141\n",
       "2         Нативная реклама              359.0              253\n",
       "3  Реклама в новостных СМИ              375.0              301\n",
       "4       Реклама у блогеров              350.0              691\n",
       "5        Таргетная реклама              346.0              302"
      ]
     },
     "execution_count": 137,
     "metadata": {},
     "output_type": "execute_result"
    }
   ],
   "source": [
    "# создаём сводную таблицу\n",
    "df_agg = df_customers.groupby(['Канал привлечения',]).agg(\n",
    "\tmean = ('LTV, руб.', lambda x: round(x.mean(), 0)),  # Средний LTV на канал в руб. Подсчёт с округлением\n",
    "\tcount = ('LTV, руб.', 'count'),                      # Кол-во клипентов, пришедших из канала. Подсчёт без округления\n",
    "\t).reset_index()\n",
    "\n",
    "# переименовываем названия столбцов\n",
    "df_agg.rename(columns={'mean': 'Средний LTV, руб.', 'count': 'Кол-во клиентов'}, inplace=True)\n",
    "df_agg"
   ]
  },
  {
   "cell_type": "markdown",
   "metadata": {},
   "source": [
    "### 3.2 К таблице с общими затратами присоединяем нашу сводную таблицу:"
   ]
  },
  {
   "cell_type": "code",
   "execution_count": 138,
   "metadata": {},
   "outputs": [
    {
     "data": {
      "application/vnd.microsoft.datawrangler.viewer.v0+json": {
       "columns": [
        {
         "name": "index",
         "rawType": "int64",
         "type": "integer"
        },
        {
         "name": "Канал привлечения",
         "rawType": "object",
         "type": "string"
        },
        {
         "name": "Стоимость привлечения, руб.",
         "rawType": "int64",
         "type": "integer"
        },
        {
         "name": "Средний LTV, руб.",
         "rawType": "float64",
         "type": "float"
        },
        {
         "name": "Кол-во клиентов",
         "rawType": "int64",
         "type": "integer"
        }
       ],
       "conversionMethod": "pd.DataFrame",
       "ref": "2cb9f741-9f5e-418a-9d78-fc8a0cb5bd08",
       "rows": [
        [
         "0",
         "Таргетная реклама",
         "100000",
         "346.0",
         "302"
        ],
        [
         "1",
         "e-mail рассылки",
         "25000",
         "380.0",
         "112"
        ],
        [
         "2",
         "Реклама у блогеров",
         "120000",
         "350.0",
         "691"
        ],
        [
         "3",
         "Контекстная реклама",
         "90000",
         "279.0",
         "141"
        ],
        [
         "4",
         "Нативная реклама",
         "70000",
         "359.0",
         "253"
        ],
        [
         "5",
         "Реклама в новостных СМИ",
         "60000",
         "375.0",
         "301"
        ]
       ],
       "shape": {
        "columns": 4,
        "rows": 6
       }
      },
      "text/html": [
       "<div>\n",
       "<style scoped>\n",
       "    .dataframe tbody tr th:only-of-type {\n",
       "        vertical-align: middle;\n",
       "    }\n",
       "\n",
       "    .dataframe tbody tr th {\n",
       "        vertical-align: top;\n",
       "    }\n",
       "\n",
       "    .dataframe thead th {\n",
       "        text-align: right;\n",
       "    }\n",
       "</style>\n",
       "<table border=\"1\" class=\"dataframe\">\n",
       "  <thead>\n",
       "    <tr style=\"text-align: right;\">\n",
       "      <th></th>\n",
       "      <th>Канал привлечения</th>\n",
       "      <th>Стоимость привлечения, руб.</th>\n",
       "      <th>Средний LTV, руб.</th>\n",
       "      <th>Кол-во клиентов</th>\n",
       "    </tr>\n",
       "  </thead>\n",
       "  <tbody>\n",
       "    <tr>\n",
       "      <th>0</th>\n",
       "      <td>Таргетная реклама</td>\n",
       "      <td>100000</td>\n",
       "      <td>346.0</td>\n",
       "      <td>302</td>\n",
       "    </tr>\n",
       "    <tr>\n",
       "      <th>1</th>\n",
       "      <td>e-mail рассылки</td>\n",
       "      <td>25000</td>\n",
       "      <td>380.0</td>\n",
       "      <td>112</td>\n",
       "    </tr>\n",
       "    <tr>\n",
       "      <th>2</th>\n",
       "      <td>Реклама у блогеров</td>\n",
       "      <td>120000</td>\n",
       "      <td>350.0</td>\n",
       "      <td>691</td>\n",
       "    </tr>\n",
       "    <tr>\n",
       "      <th>3</th>\n",
       "      <td>Контекстная реклама</td>\n",
       "      <td>90000</td>\n",
       "      <td>279.0</td>\n",
       "      <td>141</td>\n",
       "    </tr>\n",
       "    <tr>\n",
       "      <th>4</th>\n",
       "      <td>Нативная реклама</td>\n",
       "      <td>70000</td>\n",
       "      <td>359.0</td>\n",
       "      <td>253</td>\n",
       "    </tr>\n",
       "    <tr>\n",
       "      <th>5</th>\n",
       "      <td>Реклама в новостных СМИ</td>\n",
       "      <td>60000</td>\n",
       "      <td>375.0</td>\n",
       "      <td>301</td>\n",
       "    </tr>\n",
       "  </tbody>\n",
       "</table>\n",
       "</div>"
      ],
      "text/plain": [
       "         Канал привлечения  Стоимость привлечения, руб.  Средний LTV, руб.  \\\n",
       "0        Таргетная реклама                       100000              346.0   \n",
       "1          e-mail рассылки                        25000              380.0   \n",
       "2       Реклама у блогеров                       120000              350.0   \n",
       "3      Контекстная реклама                        90000              279.0   \n",
       "4         Нативная реклама                        70000              359.0   \n",
       "5  Реклама в новостных СМИ                        60000              375.0   \n",
       "\n",
       "   Кол-во клиентов  \n",
       "0              302  \n",
       "1              112  \n",
       "2              691  \n",
       "3              141  \n",
       "4              253  \n",
       "5              301  "
      ]
     },
     "execution_count": 138,
     "metadata": {},
     "output_type": "execute_result"
    }
   ],
   "source": [
    "# соединяем таблицы по полю `Канал привлечения`\n",
    "df_group = pd.merge(df_cost_attr, df_agg, on='Канал привлечения', how='inner')\n",
    "df_group"
   ]
  },
  {
   "cell_type": "markdown",
   "metadata": {},
   "source": [
    "### 3.3 Считаем `CAC` (сколько денег компания тратит на привлечение одного клиента.), поделив общие издержки, на количество пользователей:"
   ]
  },
  {
   "cell_type": "code",
   "execution_count": 139,
   "metadata": {},
   "outputs": [
    {
     "data": {
      "application/vnd.microsoft.datawrangler.viewer.v0+json": {
       "columns": [
        {
         "name": "index",
         "rawType": "int64",
         "type": "integer"
        },
        {
         "name": "Канал привлечения",
         "rawType": "object",
         "type": "string"
        },
        {
         "name": "Стоимость привлечения, руб.",
         "rawType": "int64",
         "type": "integer"
        },
        {
         "name": "Средний LTV, руб.",
         "rawType": "float64",
         "type": "float"
        },
        {
         "name": "Кол-во клиентов",
         "rawType": "int64",
         "type": "integer"
        },
        {
         "name": "cac",
         "rawType": "float64",
         "type": "float"
        }
       ],
       "conversionMethod": "pd.DataFrame",
       "ref": "9241286d-38cd-4987-b25a-88b0aed6ff2a",
       "rows": [
        [
         "0",
         "Таргетная реклама",
         "100000",
         "346.0",
         "302",
         "331.1"
        ],
        [
         "1",
         "e-mail рассылки",
         "25000",
         "380.0",
         "112",
         "223.2"
        ],
        [
         "2",
         "Реклама у блогеров",
         "120000",
         "350.0",
         "691",
         "173.7"
        ],
        [
         "3",
         "Контекстная реклама",
         "90000",
         "279.0",
         "141",
         "638.3"
        ],
        [
         "4",
         "Нативная реклама",
         "70000",
         "359.0",
         "253",
         "276.7"
        ],
        [
         "5",
         "Реклама в новостных СМИ",
         "60000",
         "375.0",
         "301",
         "199.3"
        ]
       ],
       "shape": {
        "columns": 5,
        "rows": 6
       }
      },
      "text/html": [
       "<div>\n",
       "<style scoped>\n",
       "    .dataframe tbody tr th:only-of-type {\n",
       "        vertical-align: middle;\n",
       "    }\n",
       "\n",
       "    .dataframe tbody tr th {\n",
       "        vertical-align: top;\n",
       "    }\n",
       "\n",
       "    .dataframe thead th {\n",
       "        text-align: right;\n",
       "    }\n",
       "</style>\n",
       "<table border=\"1\" class=\"dataframe\">\n",
       "  <thead>\n",
       "    <tr style=\"text-align: right;\">\n",
       "      <th></th>\n",
       "      <th>Канал привлечения</th>\n",
       "      <th>Стоимость привлечения, руб.</th>\n",
       "      <th>Средний LTV, руб.</th>\n",
       "      <th>Кол-во клиентов</th>\n",
       "      <th>cac</th>\n",
       "    </tr>\n",
       "  </thead>\n",
       "  <tbody>\n",
       "    <tr>\n",
       "      <th>0</th>\n",
       "      <td>Таргетная реклама</td>\n",
       "      <td>100000</td>\n",
       "      <td>346.0</td>\n",
       "      <td>302</td>\n",
       "      <td>331.1</td>\n",
       "    </tr>\n",
       "    <tr>\n",
       "      <th>1</th>\n",
       "      <td>e-mail рассылки</td>\n",
       "      <td>25000</td>\n",
       "      <td>380.0</td>\n",
       "      <td>112</td>\n",
       "      <td>223.2</td>\n",
       "    </tr>\n",
       "    <tr>\n",
       "      <th>2</th>\n",
       "      <td>Реклама у блогеров</td>\n",
       "      <td>120000</td>\n",
       "      <td>350.0</td>\n",
       "      <td>691</td>\n",
       "      <td>173.7</td>\n",
       "    </tr>\n",
       "    <tr>\n",
       "      <th>3</th>\n",
       "      <td>Контекстная реклама</td>\n",
       "      <td>90000</td>\n",
       "      <td>279.0</td>\n",
       "      <td>141</td>\n",
       "      <td>638.3</td>\n",
       "    </tr>\n",
       "    <tr>\n",
       "      <th>4</th>\n",
       "      <td>Нативная реклама</td>\n",
       "      <td>70000</td>\n",
       "      <td>359.0</td>\n",
       "      <td>253</td>\n",
       "      <td>276.7</td>\n",
       "    </tr>\n",
       "    <tr>\n",
       "      <th>5</th>\n",
       "      <td>Реклама в новостных СМИ</td>\n",
       "      <td>60000</td>\n",
       "      <td>375.0</td>\n",
       "      <td>301</td>\n",
       "      <td>199.3</td>\n",
       "    </tr>\n",
       "  </tbody>\n",
       "</table>\n",
       "</div>"
      ],
      "text/plain": [
       "         Канал привлечения  Стоимость привлечения, руб.  Средний LTV, руб.  \\\n",
       "0        Таргетная реклама                       100000              346.0   \n",
       "1          e-mail рассылки                        25000              380.0   \n",
       "2       Реклама у блогеров                       120000              350.0   \n",
       "3      Контекстная реклама                        90000              279.0   \n",
       "4         Нативная реклама                        70000              359.0   \n",
       "5  Реклама в новостных СМИ                        60000              375.0   \n",
       "\n",
       "   Кол-во клиентов    cac  \n",
       "0              302  331.1  \n",
       "1              112  223.2  \n",
       "2              691  173.7  \n",
       "3              141  638.3  \n",
       "4              253  276.7  \n",
       "5              301  199.3  "
      ]
     },
     "execution_count": 139,
     "metadata": {},
     "output_type": "execute_result"
    }
   ],
   "source": [
    "# добавляем новый столбец как результат деления полей `Стоимость привлечения, руб.` на `Кол-во клиентов` с округлением\n",
    "df_group = df_group.assign(cac = round(df_group['Стоимость привлечения, руб.'] / df_group['Кол-во клиентов'], 1))\n",
    "df_group"
   ]
  },
  {
   "cell_type": "markdown",
   "metadata": {},
   "source": [
    "### 3.4. Вычитаем из LTV средние издержки и строим итоговую таблицу:"
   ]
  },
  {
   "cell_type": "code",
   "execution_count": 140,
   "metadata": {},
   "outputs": [
    {
     "data": {
      "application/vnd.microsoft.datawrangler.viewer.v0+json": {
       "columns": [
        {
         "name": "index",
         "rawType": "int64",
         "type": "integer"
        },
        {
         "name": "Канал привлечения",
         "rawType": "object",
         "type": "string"
        },
        {
         "name": "Стоимость привлечения, руб.",
         "rawType": "int64",
         "type": "integer"
        },
        {
         "name": "Средний LTV, руб.",
         "rawType": "float64",
         "type": "float"
        },
        {
         "name": "Кол-во клиентов",
         "rawType": "int64",
         "type": "integer"
        },
        {
         "name": "CAC, руб.",
         "rawType": "float64",
         "type": "float"
        },
        {
         "name": "LTV-CAC, руб.",
         "rawType": "float64",
         "type": "float"
        }
       ],
       "conversionMethod": "pd.DataFrame",
       "ref": "a11ea470-32f9-4305-8b52-2a5097610bcf",
       "rows": [
        [
         "0",
         "Таргетная реклама",
         "100000",
         "346.0",
         "302",
         "331.1",
         "14.9"
        ],
        [
         "1",
         "e-mail рассылки",
         "25000",
         "380.0",
         "112",
         "223.2",
         "156.8"
        ],
        [
         "2",
         "Реклама у блогеров",
         "120000",
         "350.0",
         "691",
         "173.7",
         "176.3"
        ],
        [
         "3",
         "Контекстная реклама",
         "90000",
         "279.0",
         "141",
         "638.3",
         "-359.3"
        ],
        [
         "4",
         "Нативная реклама",
         "70000",
         "359.0",
         "253",
         "276.7",
         "82.3"
        ],
        [
         "5",
         "Реклама в новостных СМИ",
         "60000",
         "375.0",
         "301",
         "199.3",
         "175.7"
        ]
       ],
       "shape": {
        "columns": 6,
        "rows": 6
       }
      },
      "text/html": [
       "<div>\n",
       "<style scoped>\n",
       "    .dataframe tbody tr th:only-of-type {\n",
       "        vertical-align: middle;\n",
       "    }\n",
       "\n",
       "    .dataframe tbody tr th {\n",
       "        vertical-align: top;\n",
       "    }\n",
       "\n",
       "    .dataframe thead th {\n",
       "        text-align: right;\n",
       "    }\n",
       "</style>\n",
       "<table border=\"1\" class=\"dataframe\">\n",
       "  <thead>\n",
       "    <tr style=\"text-align: right;\">\n",
       "      <th></th>\n",
       "      <th>Канал привлечения</th>\n",
       "      <th>Стоимость привлечения, руб.</th>\n",
       "      <th>Средний LTV, руб.</th>\n",
       "      <th>Кол-во клиентов</th>\n",
       "      <th>CAC, руб.</th>\n",
       "      <th>LTV-CAC, руб.</th>\n",
       "    </tr>\n",
       "  </thead>\n",
       "  <tbody>\n",
       "    <tr>\n",
       "      <th>0</th>\n",
       "      <td>Таргетная реклама</td>\n",
       "      <td>100000</td>\n",
       "      <td>346.0</td>\n",
       "      <td>302</td>\n",
       "      <td>331.1</td>\n",
       "      <td>14.9</td>\n",
       "    </tr>\n",
       "    <tr>\n",
       "      <th>1</th>\n",
       "      <td>e-mail рассылки</td>\n",
       "      <td>25000</td>\n",
       "      <td>380.0</td>\n",
       "      <td>112</td>\n",
       "      <td>223.2</td>\n",
       "      <td>156.8</td>\n",
       "    </tr>\n",
       "    <tr>\n",
       "      <th>2</th>\n",
       "      <td>Реклама у блогеров</td>\n",
       "      <td>120000</td>\n",
       "      <td>350.0</td>\n",
       "      <td>691</td>\n",
       "      <td>173.7</td>\n",
       "      <td>176.3</td>\n",
       "    </tr>\n",
       "    <tr>\n",
       "      <th>3</th>\n",
       "      <td>Контекстная реклама</td>\n",
       "      <td>90000</td>\n",
       "      <td>279.0</td>\n",
       "      <td>141</td>\n",
       "      <td>638.3</td>\n",
       "      <td>-359.3</td>\n",
       "    </tr>\n",
       "    <tr>\n",
       "      <th>4</th>\n",
       "      <td>Нативная реклама</td>\n",
       "      <td>70000</td>\n",
       "      <td>359.0</td>\n",
       "      <td>253</td>\n",
       "      <td>276.7</td>\n",
       "      <td>82.3</td>\n",
       "    </tr>\n",
       "    <tr>\n",
       "      <th>5</th>\n",
       "      <td>Реклама в новостных СМИ</td>\n",
       "      <td>60000</td>\n",
       "      <td>375.0</td>\n",
       "      <td>301</td>\n",
       "      <td>199.3</td>\n",
       "      <td>175.7</td>\n",
       "    </tr>\n",
       "  </tbody>\n",
       "</table>\n",
       "</div>"
      ],
      "text/plain": [
       "         Канал привлечения  Стоимость привлечения, руб.  Средний LTV, руб.  \\\n",
       "0        Таргетная реклама                       100000              346.0   \n",
       "1          e-mail рассылки                        25000              380.0   \n",
       "2       Реклама у блогеров                       120000              350.0   \n",
       "3      Контекстная реклама                        90000              279.0   \n",
       "4         Нативная реклама                        70000              359.0   \n",
       "5  Реклама в новостных СМИ                        60000              375.0   \n",
       "\n",
       "   Кол-во клиентов  CAC, руб.  LTV-CAC, руб.  \n",
       "0              302      331.1           14.9  \n",
       "1              112      223.2          156.8  \n",
       "2              691      173.7          176.3  \n",
       "3              141      638.3         -359.3  \n",
       "4              253      276.7           82.3  \n",
       "5              301      199.3          175.7  "
      ]
     },
     "execution_count": 140,
     "metadata": {},
     "output_type": "execute_result"
    }
   ],
   "source": [
    "# добавляем новый столбец как результат деления полей `Стоимость привлечения, руб.` на `Кол-во клиентов`\n",
    "df_group = df_group.assign(ltv_cac = round(df_group['Средний LTV, руб.'] - df_group['cac'], 1))\n",
    "\n",
    "# переименовываем названия столбцов\n",
    "df_group.rename(columns={'cac': 'CAC, руб.', 'ltv_cac': 'LTV-CAC, руб.'}, inplace=True)\n",
    "df_group"
   ]
  },
  {
   "cell_type": "markdown",
   "metadata": {},
   "source": [
    "### Диаграммы:"
   ]
  },
  {
   "cell_type": "code",
   "execution_count": null,
   "metadata": {},
   "outputs": [],
   "source": []
  },
  {
   "cell_type": "markdown",
   "metadata": {},
   "source": [
    "# 4. Результаты расчётов"
   ]
  },
  {
   "cell_type": "markdown",
   "metadata": {},
   "source": [
    "... описать результаты расчётов ..."
   ]
  }
 ],
 "metadata": {
  "kernelspec": {
   "display_name": ".venv",
   "language": "python",
   "name": "python3"
  },
  "language_info": {
   "codemirror_mode": {
    "name": "ipython",
    "version": 3
   },
   "file_extension": ".py",
   "mimetype": "text/x-python",
   "name": "python",
   "nbconvert_exporter": "python",
   "pygments_lexer": "ipython3",
   "version": "3.11.0"
  }
 },
 "nbformat": 4,
 "nbformat_minor": 2
}
