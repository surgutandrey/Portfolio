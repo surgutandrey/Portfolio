{
 "cells": [
  {
   "cell_type": "markdown",
   "metadata": {},
   "source": [
    "# Исследование и прогнозирование оттока клиентов банка\n",
    "\n",
    "## **Цель**:\n",
    "Разработать модель машинного обучения для прогнозирования оттока клиентов банка на основе их характеристик, чтобы помочь бизнесу снизить потери и улучшить стратегии удержания клиентов."
   ]
  },
  {
   "metadata": {},
   "cell_type": "markdown",
   "source": [
    "---\n",
    "## **Описание проекта**\n",
    "1. **EDA (Exploratory Data Analysis):**\n",
    "   - Анализ данных клиентов банка для выявления ключевых факторов, влияющих на отток.\n",
    "   - Визуализация распределений, корреляций и аномалий в данных.\n",
    "2. **Построение модели прогнозирования оттока клиентов:**\n",
    "   - Построение и сравнение классических моделей машинного обучения (логистическая регрессия, случайный лес, градиентный бустинг и др.).\n",
    "   - Оптимизация гиперпараметров и оценка качества моделей с учетом дисбаланса классов.\n",
    "\n",
    "Источник данных:\n",
    "https://www.kaggle.com/datasets/gauravtopre/bank-customer-churn-dataset?resource=download"
   ]
  },
  {
   "metadata": {},
   "cell_type": "markdown",
   "source": [
    "---\n",
    "\n",
    "## **Вопросы по EDA**\n",
    "1. **Распределение клиентов:**\n",
    "   - Как распределены клиенты по странам, полу и возрасту? Есть ли дисбаланс?\n",
    "   - Сколько клиентов ушло (churn=1) vs осталось (churn=0)?\n",
    "\n",
    "2. **Финансовые показатели:**\n",
    "   - Как баланс на счете (balance) связан с оттоком? Есть ли разница в балансах между ушедшими и оставшимися клиентами?\n",
    "   - Влияет ли кредитный рейтинг (credit_score) на вероятность оттока?\n",
    "   - Есть ли связь между зарплатой (estimated_salary) и оттоком?\n",
    "\n",
    "3. **Продукты и активность:**\n",
    "   - Как количество продуктов (products_number) влияет на отток?\n",
    "   - Чаще ли уходят клиенты без кредитной карты (credit_card=0)?\n",
    "   - Как активность клиента (active_member) связана с оттоком?\n",
    "\n",
    "4. **Демография и поведение:**\n",
    "   - Есть ли зависимость между возрастом (age) и оттоком?\n",
    "   - Как срок сотрудничества с банком (tenure) влияет на вероятность ухода?\n",
    "\n",
    "5. **Корреляции и взаимодействия:**\n",
    "   - Есть ли связь между страной (country) и оттоком?\n",
    "   - Какие признаки наиболее сильно коррелируют с оттоком?\n",
    "\n",
    "6. **Корреляция сложных признаков с оттоком клиентов:**\n",
    "   - Подобрать сложные признаки (отношения признаков) и изучить их корреляцию с оттоком клиентов."
   ]
  },
  {
   "metadata": {},
   "cell_type": "markdown",
   "source": [
    "---\n",
    "\n",
    "## **Вопросы по прогнозированию**\n",
    "1. **Подготовка данных:**\n",
    "   - Как кодировать категориальные признаки (country, gender)?\n",
    "   - Нужно ли масштабировать числовые признаки (age, balance)?\n",
    "\n",
    "2. **Борьба с дисбалансом:**\n",
    "   - Какой метод лучше: oversampling (SMOTE), undersampling или веса классов?\n",
    "   - Какие метрики (F1, ROC-AUC) использовать для оценки качества?\n",
    "\n",
    "3. **Выбор модели:**\n",
    "   - Какая модель (логистическая регрессия, случайный лес, XGBoost) дает лучший результат?\n",
    "   - Как сравнить важность признаков в разных моделях?\n",
    "\n",
    "4. **Оптимизация:**\n",
    "   - Какие гиперпараметры (глубина деревьев, learning rate) улучшают качество?\n",
    "   - Как использовать кросс-валидацию для оценки устойчивости модели?\n",
    "\n",
    "5. **Оценка:**\n",
    "   - Какая модель лучше работает на тестовой выборке: точность vs полнота?\n",
    "   - Как интерпретировать матрицу ошибок для бизнеса?\n",
    "\n",
    "6. **Деплоймент:**\n",
    "   - Какие признаки наиболее критичны для прогноза?\n",
    "   - Можно ли упростить модель без потери качества?\n",
    "\n",
    "!!! Обязательно в конце вставить пару информативных графиков от plotly: https://plotly.com/python/ml-regression/"
   ]
  },
  {
   "metadata": {},
   "cell_type": "markdown",
   "source": [
    "---\n",
    "## **Описание полей таблицы**\n",
    "\n",
    "1. **customer_id** (Идентификатор клиента)\n",
    "   - Уникальный идентификатор клиента в системе банка.\n",
    "\n",
    "2. **credit_score** (Кредитный рейтинг)\n",
    "   - Числовой показатель, отражающий кредитоспособность клиента (чем выше, тем лучше).\n",
    "\n",
    "3. **country** (Страна)\n",
    "   - Страна проживания клиента (например, Германия, Франция, Испания).\n",
    "\n",
    "4. **gender** (Пол)\n",
    "   - Пол клиента (мужчина/женщина).\n",
    "\n",
    "5. **age** (Возраст)\n",
    "   - Возраст клиента в годах.\n",
    "\n",
    "6. **tenure** (Срок сотрудничества)\n",
    "   - Количество лет, в течение которых клиент пользуется услугами банка.\n",
    "\n",
    "7. **balance** (Баланс на счете)\n",
    "   - Сумма денег на счете клиента.\n",
    "\n",
    "8. **products_number** (Количество продуктов)\n",
    "   - Количество банковских продуктов, которыми пользуется клиент (например, депозит, кредит, ипотека).\n",
    "\n",
    "9. **credit_card** (Наличие кредитной карты)\n",
    "   - Бинарный признак: 1 — у клиента есть кредитная карта, 0 — нет.\n",
    "\n",
    "10. **active_member** (Активный клиент)\n",
    "    - Бинарный признак: 1 — клиент активно пользуется услугами банка, 0 — неактивен.\n",
    "\n",
    "11. **estimated_salary** (Предполагаемая зарплата)\n",
    "    - Оценка годового дохода клиента.\n",
    "\n",
    "12. **churn** (Отток)\n",
    "    - Целевая переменная: 1 — клиент ушел из банка, 0 — клиент остался."
   ]
  },
  {
   "cell_type": "markdown",
   "metadata": {},
   "source": [
    "Импортируем библиотеки:"
   ]
  },
  {
   "cell_type": "code",
   "metadata": {},
   "source": [
    "import pandas as pd\n",
    "import numpy as np\n",
    "import matplotlib.pyplot as plt\n",
    "import plotly.express as px\n",
    "import plotly.graph_objects as go\n",
    "from plotly.subplots import make_subplots\n",
    "import plotly.offline as pyo\n",
    "import plotly.io as pio\n",
    "\n",
    "# Рендерер по умолчанию статический\n",
    "pio.renderers.default = \"png\""
   ],
   "outputs": [],
   "execution_count": null
  },
  {
   "cell_type": "markdown",
   "metadata": {},
   "source": [
    "Чтение данных и определение функции для диагностики df:"
   ]
  },
  {
   "cell_type": "code",
   "metadata": {},
   "source": [
    "# чтение\n",
    "df = pd.read_csv('data\\\\bank_customer_a.csv', sep = ',')\n",
    "\n",
    "# определение функции\n",
    "def df_diagnostics(df1, target_col=None, iqr_coefficient=1.5):\n",
    "    # Собираем основные характеристики столбцов\n",
    "    diag = pd.DataFrame({\n",
    "        'dtypes': df1.dtypes,\n",
    "        'count': df1.count(),\n",
    "        'unique': df1.nunique(),\n",
    "        'nan_count': df1.isnull().sum(),\n",
    "        'nan_%': df1.isnull().sum() / df1.shape[0] * 100})\n",
    "\n",
    "    # Словарь описывающий, какую функцию применить для каждой метрики\n",
    "    metrics = {\n",
    "        'mean': lambda s: s.mean(),\n",
    "        'median': lambda s: s.median(),\n",
    "        'mode': lambda s: s.mode().iloc[0] if not s.mode().empty else np.nan,\n",
    "        'std': lambda s: s.std(),\n",
    "        'min': lambda s: s.min(),\n",
    "        '25%': lambda s: s.quantile(0.25), # 25% квартиль\n",
    "        '50%': lambda s: s.quantile(0.50), # 50% квартиль (медиана)\n",
    "        '75%': lambda s: s.quantile(0.75), # 75% квартиль\n",
    "        'max': lambda s: s.max()}\n",
    "\n",
    "    # Вычисляем метрики только для числовых столбцов\n",
    "    numeric_cols = df1.select_dtypes(include=[np.number]).columns\n",
    "    for metric, func in metrics.items():\n",
    "        diag[metric] = [func(df1[col]) if col in numeric_cols else np.nan\n",
    "                        for col in df1.columns]\n",
    "\n",
    "    # Подсчёт количества выбросов с регулируемым коэффициентом IQR\n",
    "    def count_outliers_iqr(col, iqr_coef=iqr_coefficient):\n",
    "        if pd.api.types.is_numeric_dtype(col) and not pd.api.types.is_bool_dtype(col):\n",
    "            Q1 = col.quantile(0.25)\n",
    "            Q3 = col.quantile(0.75)\n",
    "            IQR = Q3 - Q1\n",
    "            lower_bound = Q1 - iqr_coef * IQR\n",
    "            upper_bound = Q3 + iqr_coef * IQR\n",
    "            return ((col < lower_bound) | (col > upper_bound)).sum()\n",
    "        else:\n",
    "            return np.nan\n",
    "\n",
    "    # Применяем функцию count_outliers_iqr только к числовым столбцам\n",
    "    diag['outliers_count'] = [\n",
    "        count_outliers_iqr(df1[col]) if pd.api.types.is_numeric_dtype(df1[col]) and not pd.api.types.is_bool_dtype(df1[col]) else np.nan\n",
    "        for col in df1.columns]\n",
    "\n",
    "    # Количество строк с пропущенными значениями в целевой переменной (если она указана)\n",
    "    if target_col is not None:\n",
    "        rows_with_nan_target = df1[target_col].isnull().sum()\n",
    "        diag['rows_nan_target'] = [rows_with_nan_target] * len(df1.columns)\n",
    "\n",
    "    # Добавляем корреляцию с целевой переменной (если она указана)\n",
    "    if target_col is not None and pd.api.types.is_numeric_dtype(df1[target_col]):\n",
    "        diag['corr_with_target'] = [df1[col].corr(df1[target_col]) if pd.api.types.is_numeric_dtype(df1[col]) else np.nan\n",
    "                                      for col in df1.columns]\n",
    "\n",
    "    # Вычисляем количество дублирующих строк в df\n",
    "    duplicates_count = df1.duplicated().sum()\n",
    "    print(\"Количество дублирующих строк:\", duplicates_count,\n",
    "          f\"\\nOutliers_count: Выбросы в данных более IQR * {iqr_coefficient}\")\n",
    "\n",
    "    # Возвращаем df с градиентной подсветкой, форматированием и округлением чисел\n",
    "    return (diag.style.background_gradient(cmap='Set3', low=0.1, high=0.01)\n",
    "            .format(\"{:.2f}\", subset=diag.select_dtypes(include=[np.number]).columns))"
   ],
   "outputs": [],
   "execution_count": null
  },
  {
   "cell_type": "markdown",
   "metadata": {},
   "source": [
    "---\n",
    "# Обзор таблиц\n"
   ]
  },
  {
   "cell_type": "code",
   "metadata": {},
   "source": [
    "df.head()"
   ],
   "outputs": [],
   "execution_count": null
  },
  {
   "metadata": {},
   "cell_type": "markdown",
   "source": "## Информация о таблицах"
  },
  {
   "metadata": {},
   "cell_type": "code",
   "source": "df_diagnostics(df)",
   "outputs": [],
   "execution_count": null
  },
  {
   "metadata": {},
   "cell_type": "markdown",
   "source": [
    "Анализ информации о таблице показал, что:\n",
    "- клиенты банка по полю `customer_id` все уникальные\n",
    "- имена полей корректные\n",
    "- типы данных в полях корректны\n",
    "- в каждом поле по 10 000 значений, пропусков нет\n",
    "- в некоторых полях есть выбросы при расчёте по методу IQR * 1.5"
   ]
  },
  {
   "metadata": {},
   "cell_type": "markdown",
   "source": "Построим гистограммы распределений всех числовых полей:"
  },
  {
   "metadata": {},
   "cell_type": "code",
   "source": [
    "df.hist(bins=30, figsize=(10, 10))\n",
    "plt.show()"
   ],
   "outputs": [],
   "execution_count": null
  },
  {
   "metadata": {},
   "cell_type": "markdown",
   "source": [
    "---\n",
    "# Предобработка данных"
   ]
  },
  {
   "metadata": {},
   "cell_type": "markdown",
   "source": "Сделаем отдельную копию df с исходными данными для последующего использования в машинном обучении:"
  },
  {
   "metadata": {},
   "cell_type": "code",
   "source": [
    "# Создание копии DataFrame\n",
    "df_ml = df.copy()"
   ],
   "outputs": [],
   "execution_count": null
  },
  {
   "metadata": {},
   "cell_type": "markdown",
   "source": [
    "Для удобства дальнейшего анализа произведём следующие замены:\n",
    "- для следующих полей с бинарным типом данных создадим доп поля с заменой значений 1 на \"да\" и 0 на \"нет\": credit_card, active_member, churn.\n",
    "- в поле \"gender\" заменим \"Male\" на \"Мужчины\" и \"Female\" на \"Женщины\".\n",
    "- переименуем названия стран."
   ]
  },
  {
   "metadata": {},
   "cell_type": "code",
   "source": [
    "# создаём одноимённое поле для поля credit_card\n",
    "df['credit_card_str'] = df['credit_card'].replace({1: 'Да', 0: 'Нет'})\n",
    "\n",
    "# создаём одноимённое поле для поля active_member\n",
    "df['active_member_str'] = df['active_member'].replace({1: 'Да', 0: 'Нет'})\n",
    "\n",
    "# создаём одноимённое поле для поля churn\n",
    "df['churn_str'] = df['churn'].replace({1: 'Да', 0: 'Нет'})\n",
    "\n",
    "# создаём одноимённое поле для поля gender\n",
    "df['gender_str'] = df['gender'].replace({'Male': 'Мужчины', 'Female': 'Женщины'})\n",
    "\n",
    "# создаём одноимённое поле для поля country\n",
    "df['country_str'] = df['country'].replace({'France': 'Франция', 'Germany': 'Германия', 'Spain': 'Испания'})"
   ],
   "outputs": [],
   "execution_count": null
  },
  {
   "metadata": {},
   "cell_type": "markdown",
   "source": [
    "`Вывод предобработки:` Для удобства дальнейшего анализа созданы одноимённые поля, в которых преобразованы значения:\n",
    "- для полей credit_card, active_member, churn значения 1 заменены на \"да\" и значения 0 на \"нет\".\n",
    "- для поля gender заменены значения: \"Male\" на \"Мужчины\" и \"Female\" на \"Женщины\".\n",
    "- для поля country заменены значения: 'France': 'Франция', 'Germany': 'Германия', 'Spain': 'Испания'."
   ]
  },
  {
   "metadata": {},
   "cell_type": "markdown",
   "source": "Определим функцию для построения гистограммы:"
  },
  {
   "metadata": {},
   "cell_type": "code",
   "source": [
    "def plots_histogram(df1, col_name, title, xaxis_title, yaxis_title, color=None, barmode='relative',\n",
    "                    width=980, text_auto=False, marginal=None, labels=None, range_x=None, range_y=None):\n",
    "    fig = px.histogram(df1, x=col_name, color=color, title=title, marginal=marginal,\n",
    "                       barmode=barmode, text_auto=text_auto, labels=labels, range_x=range_x, range_y=range_y)\n",
    "    fig.update_layout(width=width, height=400, margin=dict(t=40, b=10, l=10, r=10),\n",
    "                      xaxis_title=xaxis_title, yaxis_title=yaxis_title, bargap=0.1)\n",
    "    pyo.iplot(fig)\n",
    "    return None"
   ],
   "outputs": [],
   "execution_count": null
  },
  {
   "metadata": {},
   "cell_type": "markdown",
   "source": "Определим функцию для построения графика баров:"
  },
  {
   "metadata": {},
   "cell_type": "code",
   "source": [
    "def plots_bar_pie(data, x_column_cat, xaxis_title, yaxis_title, title, single=False,\n",
    "                  aggregation='count', y_column=None, y_range=False, round_labels=0,\n",
    "                  size_plot=False):\n",
    "    \"\"\"Строит столбчатую и круговую диаграммы для категоризованных данных.\n",
    "    :param data: DataFrame с данными.\n",
    "    :param x_column_cat: Название столбца для категоризации.\n",
    "    :param xaxis_title: Заголовок оси X.\n",
    "    :param yaxis_title: Заголовок оси Y.\n",
    "    :param title: Заголовок графика.\n",
    "    :param single: Если True, строит только столбчатую диаграмму. По умолчанию False.\n",
    "    :param aggregation: Функция агрегации ('count', 'sum', 'mean', 'median' и т.д.). По умолчанию 'count'.\n",
    "    :param y_column: Название столбца для оси Y. Если не указан, используется количество значений.\n",
    "    :param y_range: Диапазон значений для оси Y в виде списка [min, max]. По умолчанию False (автоматический диапазон).\n",
    "    :param round_labels: Степень округления значений в подписях меток. По умолчанию 1.\n",
    "    :param size_plot: Размер графика в виде списка [width, height]. По умолчанию False (используются стандартные размеры).\n",
    "    \"\"\"\n",
    "\n",
    "    # Применение функции агрегации\n",
    "    if y_column is None:\n",
    "        # Если y_column не указан, используем количество значений\n",
    "        category_counts = data[x_column_cat].value_counts().sort_index()\n",
    "    else:\n",
    "        # Если y_column указан, применяем агрегацию к указанному столбцу\n",
    "        category_counts = data.groupby(x_column_cat, observed=False)[y_column].agg(aggregation)\n",
    "\n",
    "    # Округление значений для подписей меток\n",
    "    category_counts_rounded = category_counts.round(round_labels)\n",
    "\n",
    "    # Создание subplot\n",
    "    if single:\n",
    "        fig = make_subplots(rows=1, cols=1, column_titles=[title,])\n",
    "    else:\n",
    "        fig = make_subplots(rows=1, cols=2, specs=[[{\"type\": \"bar\"}, {\"type\": \"pie\"}]],\n",
    "                           horizontal_spacing=0, column_titles=[title, 'Круговая диаграмма'])\n",
    "\n",
    "    # Добавление столбчатой диаграммы\n",
    "    fig.add_trace(go.Bar(x=category_counts.index, y=category_counts.values,\n",
    "                        text=category_counts_rounded.values, textposition='auto',\n",
    "                        name='Удельный вес:'), row=1, col=1)\n",
    "\n",
    "    # Добавление круговой диаграммы (если single=False)\n",
    "    if not single:\n",
    "        fig.add_trace(go.Pie(labels=category_counts.index, values=category_counts.values), row=1, col=2)\n",
    "\n",
    "    # Настройка макета\n",
    "    layout_kwargs = {\n",
    "        'margin': dict(t=40, b=10, l=10, r=10),\n",
    "        'xaxis_title': xaxis_title,\n",
    "        'yaxis_title': yaxis_title}\n",
    "\n",
    "    # Если передан size_plot, используем его для width и height\n",
    "    if size_plot:\n",
    "        layout_kwargs['width'] = size_plot[0]\n",
    "        layout_kwargs['height'] = size_plot[1]\n",
    "    else:\n",
    "        # Иначе используем стандартные размеры\n",
    "        layout_kwargs['width'] = 980 if not single else 600\n",
    "        layout_kwargs['height'] = 400\n",
    "\n",
    "    # Если передан y_range, добавляем его в настройки макета\n",
    "    if y_range:\n",
    "        layout_kwargs['yaxis'] = {'range': y_range}\n",
    "\n",
    "    fig.update_layout(**layout_kwargs)\n",
    "    pyo.iplot(fig)\n",
    "    return None"
   ],
   "outputs": [],
   "execution_count": null
  },
  {
   "metadata": {},
   "cell_type": "markdown",
   "source": "Определим функцию для построения графика распределения scatter:"
  },
  {
   "metadata": {},
   "cell_type": "code",
   "source": [
    "def plot_scatter(data, x_column, x_label, y_column, y_label, title, x_range=None, y_range=None,\n",
    "                 color=None, marginal_x=None, marginal_y=None, color_palette='Turbo'):\n",
    "\n",
    "    # Расчёт корреляции между x_column и y_column\n",
    "    correlation = data[[x_column, y_column]].corr().iloc[0, 1]\n",
    "    print(f\"Коэффициент корреляции между '{x_label}' и '{y_label}' равен: {correlation:.2f}\")\n",
    "\n",
    "    fig = px.scatter(data, x=x_column, y=y_column, trendline=\"ols\", opacity=0.2,\n",
    "                     trendline_color_override='red', range_x=x_range, range_y=y_range,\n",
    "                     marginal_x=marginal_x, marginal_y=marginal_y, title=title, color=color,\n",
    "                     color_continuous_scale=color_palette)\n",
    "\n",
    "    # Настройка макета\n",
    "    fig.update_layout(width=800, height=400, margin=dict(t=40, b=10, l=10, r=10),\n",
    "                      xaxis_title=x_label, yaxis_title=y_label)\n",
    "    pyo.iplot(fig)"
   ],
   "outputs": [],
   "execution_count": null
  },
  {
   "metadata": {},
   "cell_type": "markdown",
   "source": "Определим функцию для выделения данных в df:"
  },
  {
   "metadata": {},
   "cell_type": "code",
   "source": [
    "def highlight_cells(data, col_select=None, highl_counts=(1, 1), col_heatmap=None, cmap='RdYlGn',\n",
    "                    num_rows=10, decimal_places=0):\n",
    "    \"\"\"В заданных полях в df подсвечиваем макс и мин значения и/или красим столбец в тепловую карту.\n",
    "    :param data: DataFrame, в котором нужно выделить ячейки.\n",
    "    :param col_select: Список столбцов, в которых необходимо выделить ячейки.\n",
    "    :param highl_counts: Список из двух чисел, кол-во макс и мин ячеек для подсветки.\n",
    "    :param col_heatmap: Список столбцов, для которых нужно применить тепловую карту (по умолчанию None).\n",
    "    :param cmap: Цветовая палитра для тепловой карты (по умолчанию 'RdYlGn').\n",
    "    :param num_rows: Количество первых строк для отображения (например 10).\n",
    "    :param decimal_places: Количество знаков после запятой для числовых столбцов (по умолчанию 1).\n",
    "    :return: DataFrame с примененными стилями.\"\"\"\n",
    "\n",
    "    # Если входной объект - Series, преобразуем его в DataFrame\n",
    "    if isinstance(data, pd.Series):\n",
    "        data = data.to_frame()\n",
    "\n",
    "    # Ограничиваем DataFrame до num_rows строк\n",
    "    df_subset = data.head(num_rows)\n",
    "\n",
    "    # Функция для подсветки ячеек\n",
    "    def apply_highlight(x):\n",
    "        # Создаем DataFrame с пустыми строками\n",
    "        result = pd.DataFrame('', index=x.index, columns=x.columns)\n",
    "\n",
    "        # Проходим по каждому столбцу из списка col_select\n",
    "        for col in col_select:\n",
    "            # Подсветка максимальных значений\n",
    "            max_indices = x[col].nlargest(highl_counts[0]).index\n",
    "            result.loc[max_indices, col] = 'background-color: green'\n",
    "\n",
    "            # Подсветка минимальных значений\n",
    "            min_indices = x[col].nsmallest(highl_counts[1]).index\n",
    "            result.loc[min_indices, col] = 'background-color: red'\n",
    "\n",
    "        return result\n",
    "\n",
    "    # Применение стилей к DataFrame\n",
    "    styled_df = df_subset.style\n",
    "\n",
    "    # Если указаны столбцы для выделения ячеек\n",
    "    if col_select:\n",
    "        styled_df = styled_df.apply(apply_highlight, axis=None)\n",
    "\n",
    "    # Если указаны столбцы для тепловой карты, то карту применяем к каждому\n",
    "    if col_heatmap:\n",
    "        for col in col_heatmap:\n",
    "            styled_df = styled_df.background_gradient(subset=[col], cmap=cmap,\n",
    "                            vmin=df_subset[col].min(), vmax=df_subset[col].max())\n",
    "\n",
    "    # Форматирование числовых столбцов\n",
    "    format_str = f\"{{:.{decimal_places}f}}\"  # Формат для чисел\n",
    "    styled_df = styled_df.format(format_str, subset=col_select if col_select else col_heatmap)  # Применяем формат к указанным столбцам\n",
    "\n",
    "    return styled_df"
   ],
   "outputs": [],
   "execution_count": null
  },
  {
   "metadata": {},
   "cell_type": "markdown",
   "source": [
    "---\n",
    "# Исследование клиентов банка (EDA)"
   ]
  },
  {
   "metadata": {},
   "cell_type": "markdown",
   "source": "## Распределения клиентов"
  },
  {
   "metadata": {},
   "cell_type": "markdown",
   "source": "Изучим как клиенты распределены по странам:"
  },
  {
   "metadata": {},
   "cell_type": "code",
   "source": "plots_bar_pie(df, 'country_str', \"Страна\", \"Количество клиентов\", 'Распределение клиентов по странам')",
   "outputs": [],
   "execution_count": null
  },
  {
   "metadata": {},
   "cell_type": "markdown",
   "source": "`Вывод:` 41.1% клиентов банка из Франции, 36.2% из Германии и 22.6% из Испании."
  },
  {
   "metadata": {},
   "cell_type": "markdown",
   "source": "Изучим как клиенты распределены по полу:"
  },
  {
   "metadata": {},
   "cell_type": "code",
   "source": "plots_bar_pie(df, 'gender_str', \"Пол\", \"Количество клиентов\", 'Распределение клиентов по полу')",
   "outputs": [],
   "execution_count": null
  },
  {
   "metadata": {},
   "cell_type": "markdown",
   "source": "`Вывод:` 54.6% клиентов это мужчины и 45.4% это женщины."
  },
  {
   "metadata": {},
   "cell_type": "markdown",
   "source": "Изучим как клиенты распределены по возрасту:"
  },
  {
   "metadata": {},
   "cell_type": "code",
   "source": "plots_histogram(df, \"age\", 'Распределение клиентов по возрасту',\"Возраст, лет\", \"Кол-во клиентов\")",
   "outputs": [],
   "execution_count": null
  },
  {
   "metadata": {},
   "cell_type": "markdown",
   "source": "`Вывод:` большая часть клиентов банка от 30 до 40 лет."
  },
  {
   "metadata": {},
   "cell_type": "markdown",
   "source": "Изучим как возраст клиентов распределен с учётом пола:"
  },
  {
   "metadata": {},
   "cell_type": "code",
   "source": [
    "plots_histogram(df, \"age\", 'Распределение клиентов по возрасту и полу',\"Возраст, лет\", \"Кол-во клиентов\",\n",
    "                color=\"gender_str\", marginal=\"box\", labels={'gender_str': 'Пол:'})"
   ],
   "outputs": [],
   "execution_count": null
  },
  {
   "metadata": {},
   "cell_type": "markdown",
   "source": "`Вывод:` возраст клиентов по полу распределён примерно одинаково. Можно выделить, что медианный возраст женщин немного выше."
  },
  {
   "metadata": {},
   "cell_type": "markdown",
   "source": "Изучим как клиенты распределены по странам с учётом пола:"
  },
  {
   "metadata": {},
   "cell_type": "code",
   "source": [
    "plots_histogram(df, \"country_str\", 'Распределение клиентов по странам и полу',\"Страны\", \"Кол-во клиентов\",\n",
    "                color=\"gender_str\", barmode=\"group\", width=600, labels={'gender_str': 'Пол:'})"
   ],
   "outputs": [],
   "execution_count": null
  },
  {
   "metadata": {},
   "cell_type": "markdown",
   "source": "`Вывод:` в каждой стране клиентов мужчин в среднем больше."
  },
  {
   "metadata": {},
   "cell_type": "markdown",
   "source": "Изучим сколько клиентов банка ушло и сколько ещё пользуется услугами банка:"
  },
  {
   "metadata": {},
   "cell_type": "code",
   "source": "plots_bar_pie(df, 'churn_str', \"Клиент ушёл?\", \"Количество клиентов\", 'Определение объёма ушедших клиентов')",
   "outputs": [],
   "execution_count": null
  },
  {
   "metadata": {},
   "cell_type": "markdown",
   "source": "`Вывод:` из 100% клиентов, которые были когда-либо с банком 23.6% перестали пользоваться услугами банка."
  },
  {
   "metadata": {},
   "cell_type": "markdown",
   "source": [
    "---\n",
    "## Финансовые показатели"
   ]
  },
  {
   "metadata": {},
   "cell_type": "markdown",
   "source": "Изучим как баланс на счёте связан с оттоком. Есть ли разница в балансах между ушедшими и оставшимися клиентами?"
  },
  {
   "metadata": {},
   "cell_type": "code",
   "source": [
    "plots_histogram(df, \"balance\", 'Распределение ушедших клиентов по балансу на счёте',\"Баланс на счёте\", \"Кол-во клиентов\",\n",
    "                color=\"churn_str\", labels={'churn_str': 'Клиент ушел:'}, range_y=[0, 800])"
   ],
   "outputs": [],
   "execution_count": null
  },
  {
   "metadata": {},
   "cell_type": "markdown",
   "source": "`Вывод:` баланс на счетах действующих и ушедших клиентов распределен примерно равномерно, без перекосов."
  },
  {
   "metadata": {},
   "cell_type": "markdown",
   "source": "Изучим как кредитный рейтинг связан с вероятностью оттока клиентов:"
  },
  {
   "metadata": {},
   "cell_type": "code",
   "source": [
    "plots_histogram(df, \"credit_score\", 'Распределение ушедших клиентов по кредитному рейтингу',\"Кредитный рейтинг\", \"Кол-во клиентов\",\n",
    "                color=\"churn_str\", labels={'churn_str': 'Клиент ушел:'})"
   ],
   "outputs": [],
   "execution_count": null
  },
  {
   "metadata": {},
   "cell_type": "markdown",
   "source": "`Вывод:` мы видим, что ушедшие клиенты по кредитному рейтингу распределены равномерно."
  },
  {
   "metadata": {},
   "cell_type": "markdown",
   "source": "Изучим как предполагаемая зарплата связана с оттоком клиентов:"
  },
  {
   "metadata": {},
   "cell_type": "code",
   "source": [
    "plots_histogram(df, \"estimated_salary\", 'Распределение ушедших клиентов по предполагаемой зарплате',\n",
    "                \"Предполагаемая зарплата\", \"Кол-во клиентов\",\n",
    "                color=\"churn_str\", labels={'churn_str': 'Клиент ушел:'})"
   ],
   "outputs": [],
   "execution_count": null
  },
  {
   "metadata": {},
   "cell_type": "markdown",
   "source": "`Вывод:` мы видим, что ушедшие клиенты в зависимости от предполагаемой зарплаты распределены примерно равномерно."
  },
  {
   "metadata": {},
   "cell_type": "markdown",
   "source": [
    "---\n",
    "## Продукты и активность"
   ]
  },
  {
   "metadata": {},
   "cell_type": "markdown",
   "source": "Изучим как количество используемых продуктов связано с оттоком клиентов:"
  },
  {
   "metadata": {},
   "cell_type": "code",
   "source": [
    "plots_histogram(df, \"products_number\", 'Распределение ушедших клиентов по кол-ву продуктов', \"Кол-во используемых продуктов\",\n",
    "                \"Кол-во клиентов\", color=\"churn_str\", labels={'churn_str': 'Клиент ушел:'}, width=600)"
   ],
   "outputs": [],
   "execution_count": null
  },
  {
   "metadata": {},
   "cell_type": "markdown",
   "source": "`Вывод:` мы видим, что ушедшие клиенты есть среди тех, кто пользовался 1-2-3 и 4 продуктами банка."
  },
  {
   "metadata": {},
   "cell_type": "markdown",
   "source": "Изучим как использование кредитной карты связано с оттоком клиентов:"
  },
  {
   "metadata": {},
   "cell_type": "code",
   "source": [
    "plots_histogram(df, \"credit_card_str\", 'Зависимость использования кредитной карты и оттока',\n",
    "                \"Использовалась кредитная карта?\", \"Кол-во клиентов\",\n",
    "                color=\"churn_str\", labels={'churn_str': 'Клиент ушел:'}, width=600)"
   ],
   "outputs": [],
   "execution_count": null
  },
  {
   "metadata": {},
   "cell_type": "markdown",
   "source": "`Вывод:` мы видим, что ушедшие клиенты есть примерно в равной доле среди тех, кто использовал и не использовал кредитную карту."
  },
  {
   "metadata": {},
   "cell_type": "markdown",
   "source": "Изучим как активность клиента связана с оттоком клиентов:"
  },
  {
   "metadata": {},
   "cell_type": "code",
   "source": [
    "plots_histogram(df, \"active_member_str\", 'Зависимость активности клиента и оттока',\n",
    "                \"Клиент активный?\", \"Кол-во клиентов\",\n",
    "                color=\"churn_str\", labels={'churn_str': 'Клиент ушел:'}, width=600)"
   ],
   "outputs": [],
   "execution_count": null
  },
  {
   "metadata": {},
   "cell_type": "markdown",
   "source": "`Вывод:` на графике мы видим, что ушедшие клиенты есть примерно в равной пропорции и среди активных и не активных клиентов."
  },
  {
   "metadata": {},
   "cell_type": "markdown",
   "source": [
    "---\n",
    "## Демография и поведение"
   ]
  },
  {
   "metadata": {},
   "cell_type": "markdown",
   "source": "Изучим как возраст клиентов связан с их оттоком:"
  },
  {
   "metadata": {},
   "cell_type": "code",
   "source": [
    "plots_histogram(df, \"age\", 'Распределение ушедших клиентов по возрасту',\"Возраст, лет\", \"Кол-во клиентов\",\n",
    "                color=\"churn_str\", marginal=\"box\", labels={'churn_str': 'Клиент ушел:'})"
   ],
   "outputs": [],
   "execution_count": null
  },
  {
   "metadata": {},
   "cell_type": "markdown",
   "source": "`Вывод:` анализ показывает, что ушедшие клиенты распределены примерно равномерно по всему диапазону возрастов."
  },
  {
   "metadata": {},
   "cell_type": "markdown",
   "source": "Изучим как срок сотрудничества с банком связан с оттоком:"
  },
  {
   "metadata": {},
   "cell_type": "code",
   "source": [
    "plots_histogram(df, \"tenure\", 'Распределение ушедших клиентов по сроку сотрудничества с банком',\n",
    "                \"Срок сотрудничества с банком, лет\", \"Кол-во клиентов\",\n",
    "                color=\"churn_str\", labels={'churn_str': 'Клиент ушел:'})"
   ],
   "outputs": [],
   "execution_count": null
  },
  {
   "metadata": {},
   "cell_type": "markdown",
   "source": "`Вывод:` мы видим, что клиенты уходят на разном сроке сотрудничества с банком примерно в одинаковом проценте случаев."
  },
  {
   "metadata": {},
   "cell_type": "markdown",
   "source": [
    "---\n",
    "## Корреляции и взаимодействия"
   ]
  },
  {
   "metadata": {},
   "cell_type": "markdown",
   "source": "Изучим как страна клиента связана с оттоком клиентов:"
  },
  {
   "metadata": {},
   "cell_type": "code",
   "source": [
    "plots_histogram(df, \"country_str\", 'Распределение ушедших клиентов по странам',\"Страны\", \"Кол-во клиентов\",\n",
    "                color=\"churn_str\", barmode=\"group\", width=600, labels={'churn_str': 'Клиент ушел:'})"
   ],
   "outputs": [],
   "execution_count": null
  },
  {
   "metadata": {},
   "cell_type": "markdown",
   "source": "`Вывод:` ушедшие клиенты есть в каждой стране и во Франции их удельный вес выше, чем в других странах."
  },
  {
   "metadata": {},
   "cell_type": "markdown",
   "source": "Построим матрицу корреляций признаков с полем оттока и на основе построим тепловую карту:"
  },
  {
   "metadata": {},
   "cell_type": "code",
   "source": [
    "# Выбор только числовых столбцов\n",
    "numeric_df = df.select_dtypes(include=['number'])\n",
    "\n",
    "# Расчет корреляции\n",
    "correlation = numeric_df.corr()\n",
    "\n",
    "# Корреляция с целевой переменной 'churn'\n",
    "churn_corr = correlation['churn'].sort_values(ascending=False)\n",
    "\n",
    "# Накладываем на поле тепловую карту для наглядности\n",
    "data_styled = highlight_cells(data=churn_corr, col_heatmap=['churn', ], decimal_places=3)\n",
    "\n",
    "print(\"Корреляция числовых признаков с оттоком клиентов:\")\n",
    "data_styled"
   ],
   "outputs": [],
   "execution_count": null
  },
  {
   "metadata": {},
   "cell_type": "markdown",
   "source": [
    "`Вывод:` анализ корреляции числовых признаков показал следующее: признак \"возраст\" имеет низкую корреляцию 0.285 и признак \"баланс на счёте\" ещё ниже 0.119. Остальные признаки имеют также не значительные корреляции и уходящие в отрицательные. Можно выделить значение с наибольшей отрицательной корреляцией поля \"активность пользователя\" равную -0.156.\n",
    "\n",
    "В итоге можно сделать следующие выводы:\n",
    "1. с увеличением возраста клиенты немного более склонны к оттоку.\n",
    "2. более активные клиенты чаще остаются с банком, что предсказуемо."
   ]
  },
  {
   "metadata": {},
   "cell_type": "markdown",
   "source": [
    "---\n",
    "## Корреляция сложных признаков с оттоком клиентов"
   ]
  },
  {
   "metadata": {},
   "cell_type": "markdown",
   "source": [
    "### Взаимосвязь оттока клиентов с отношением возраста клиента к его балансу на счёте\n",
    "\n",
    "Изучим данную связь и для этого создадим поле \"age_balance_ratio\" с данным новым признаком. Возраст делим на баланс на счёте.\n",
    "\n",
    "После этого построим график распределения, показывающий взаимосвязь. На оси x на графике слева расположены молодые клиенты и с большими суммами на счету, а справа клиенты в возрасте и с меньшими суммами на счету. Слева на право возраст увеличивается, а баланс на счёте уменьшается."
   ]
  },
  {
   "metadata": {},
   "cell_type": "code",
   "source": [
    "df['age_balance_ratio'] = df['age'] / (df['balance'] + 1)  # +1 для избежания деления на 0\n",
    "\n",
    "plot_scatter(df, 'age_balance_ratio', 'Возраст / Баланс', 'churn', 'Отток клиентов',\n",
    "             'Зависимость оттока от соотношения возраста и баланса', color='churn')"
   ],
   "outputs": [],
   "execution_count": null
  },
  {
   "metadata": {},
   "cell_type": "markdown",
   "source": [
    "`Вывод:` анализ показывает, что с ростом отношения \"Возраст / Баланс\" отток клиентов снижается. Корреляция -0.01. График говорит о том, что клиенты с большим возрастом и меньшим балансом реже уходят из банка и более лояльны.\n",
    "\n",
    "Клиенты с маленьким балансом и/или старшие клиенты более лояльны. Они реже уходят из банка, возможно, потому что:\n",
    "- У них меньше альтернатив для перехода в другие банки.\n",
    "- Они менее склонны к риску и предпочитают оставаться в привычном банке.\n",
    "- Их баланс настолько мал, что они не видят смысла менять банк.\n",
    "\n",
    "Клиенты с большим балансом и/или молодые клиенты чаще уходят. Это может быть связано с тем, что:\n",
    "- У них больше финансовых возможностей и они активнее ищут выгодные условия в других банках.\n",
    "- Они более мобильны и открыты к изменениям.\n",
    "- Их большой баланс делает их привлекательными для других банков, которые предлагают более выгодные условия."
   ]
  },
  {
   "metadata": {},
   "cell_type": "markdown",
   "source": [
    "### Взаимосвязь оттока клиентов с отношением возраста клиента к сроку сотрудничества с банком\n",
    "\n",
    "Изучим данную связь и для этого создадим поле \"age_tenure_ratio\" с данным новым признаком. Возраст делим на срок сотрудничества клиента с банком.\n",
    "\n",
    "После этого построим график распределения, показывающий взаимосвязь. На оси x на графике слева расположены клиенты, которые начали сотрудничать с банком в молодом, а справа в более зрелом возрасте."
   ]
  },
  {
   "metadata": {},
   "cell_type": "code",
   "source": [
    "df['age_tenure_ratio'] = df['age'] / (df['tenure'] + 1)  # +1 для избежания деления на 0\n",
    "\n",
    "plot_scatter(df, 'age_tenure_ratio', 'Возраст / Срок сотрудничества', 'churn', 'Отток клиентов',\n",
    "             'Зависимость оттока от соотношения возраста и срока сотрудничества', color='churn')"
   ],
   "outputs": [],
   "execution_count": null
  },
  {
   "metadata": {},
   "cell_type": "markdown",
   "source": "`Вывод:` анализ показывает, что с ростом отношения \"Возраст / Срок сотрудничества\" отток клиентов снижается. Корреляция -0.03. График говорит о том, что клиенты, которые начали сотрудничать с банком в более раннем возрасте больше уходят от сотрудничества с банком, чем те, кто пришёл в банк в более зрелом возрасте."
  },
  {
   "metadata": {},
   "cell_type": "markdown",
   "source": [
    "### Взаимосвязь оттока клиентов с отношением баланса на счёте к предполагаемой зарплате\n",
    "\n",
    "Изучим данную связь и для этого создадим поле \"balance_estimated_salary_ratio\" с данным новым признаком. Баланс на счёте делим на предполагаемый размер зарплаты.\n",
    "\n",
    "После этого построим график распределения, показывающий взаимосвязь. На оси x на графике слева расположены клиенты, которые тратят большую часть своих доходов и/или хранят деньги в других местах. Справа на оси расположены клиенты, которые хранят большую часть своих доходов на счёте."
   ]
  },
  {
   "metadata": {},
   "cell_type": "code",
   "source": [
    "df['balance_estimated_salary_ratio'] = df['balance'] / (df['estimated_salary'] + 1)  # +1 для избежания деления на 0\n",
    "\n",
    "plot_scatter(df, 'balance_estimated_salary_ratio', 'Баланс на счёте / Предполагаемая зарплата', 'churn', 'Отток клиентов',\n",
    "             'Зависимость оттока от соотношения баланса на счёте и зарплаты', color='churn')"
   ],
   "outputs": [],
   "execution_count": null
  },
  {
   "metadata": {},
   "cell_type": "markdown",
   "source": "`Вывод:` анализ показывает, что с ростом отношения \"Баланс на счёте / Предполагаемая зарплата\" отток клиентов снижается. Корреляция -0.01. График говорит о том, что клиенты, которые тратят большую часть своей зарплаты уходят чаще, а те, кто большую часть своей зарплаты хранит на счёте уходят реже."
  },
  {
   "metadata": {},
   "cell_type": "markdown",
   "source": [
    "### Взаимосвязь оттока клиентов с отношением кредитного рейтинга к балансу на счете\n",
    "\n",
    "Изучим данную связь и для этого создадим поле \"credit_score_balance_ratio\" с данным новым признаком. Кредитный рейтинг делим на баланс на счёте.\n",
    "\n",
    "После этого построим график распределения, показывающий взаимосвязь. На оси x на графике слева расположены клиенты с низким кредитным рейтингом и большим балансом, а справа высоким кредитным рейтингом и меньшим балансом. Слева на право кредитный рейтинг увеличивается, а баланс на счёте снижается."
   ]
  },
  {
   "metadata": {},
   "cell_type": "code",
   "source": [
    "df['credit_score_balance_ratio'] = df['credit_score'] / (df['balance'] + 1)  # +1 для избежания деления на 0\n",
    "\n",
    "plot_scatter(df, 'credit_score_balance_ratio', 'Кредитный рейтинг / Баланс на счёте', 'churn', 'Отток клиентов',\n",
    "             'Зависимость оттока от соотношения кредитного рейтинга и баланса на счёте', color='churn')"
   ],
   "outputs": [],
   "execution_count": null
  },
  {
   "metadata": {},
   "cell_type": "markdown",
   "source": "`Вывод:` анализ показывает, что с ростом отношения \"Кредитный рейтинг / Баланс на счёте\" отток клиентов снижается. Корреляция -0.01. График говорит о том, что клиенты с высоким балансом и низким кредитным рейтингом уходят чаще, а те, у кого высокий кредитный рейтинг и низкий баланс уходят реже."
  },
  {
   "metadata": {},
   "cell_type": "markdown",
   "source": [
    "### Взаимосвязь оттока клиентов с отношением предполагаемой зарплаты к возрасту клиента\n",
    "\n",
    "Изучим данную связь и для этого создадим поле \"estimated_salary_age_ratio\" с данным новым признаком. Предполагаемую зарплату делим на возраст клиента.\n",
    "\n",
    "После этого построим график распределения, показывающий взаимосвязь. На оси x на графике слева расположены клиенты с низкой зарплатой относительно их возраста, а справа с высокой зарплатой относительно их возраста. Слева на право зарплата увеличивается, а возраст снижается."
   ]
  },
  {
   "metadata": {},
   "cell_type": "code",
   "source": [
    "df['estimated_salary_age_ratio'] = df['estimated_salary'] / (df['age'] + 1)  # +1 для избежания деления на 0\n",
    "\n",
    "plot_scatter(df, 'estimated_salary_age_ratio', 'Предполагаемая зарплата / Возраст', 'churn', 'Отток клиентов',\n",
    "             'Зависимость оттока от соотношения предполагаемой зарплаты и возраста', color='churn')"
   ],
   "outputs": [],
   "execution_count": null
  },
  {
   "metadata": {},
   "cell_type": "markdown",
   "source": "`Вывод:` анализ показывает, что с ростом отношения \"Предполагаемая зарплата / Возраст\" отток клиентов увеличивается. Корреляция 0.02. График говорит о том, что клиенты с низкой зарплатой относительно их возраста уходят ркжк, а клиенты с высокой зарплатой относительно их возраста чаще."
  },
  {
   "metadata": {},
   "cell_type": "markdown",
   "source": [
    "### Взаимосвязь оттока клиентов с отношением кредитного рейтинга к предполагаемой зарплате\n",
    "\n",
    "Изучим данную связь и для этого создадим поле \"credit_score_estimated_salary_ratio\" с данным новым признаком. Кредитный рейтинг делим на предполагаемую зарплату.\n",
    "\n",
    "После этого построим график распределения, показывающий взаимосвязь. На оси x на графике слева расположены клиенты с низким рейтингом и высокой зарплатой, а справа с высоким рейтингом и низкой зарплатой. Слева на право рейтинг увеличивается, а зарплата снижается."
   ]
  },
  {
   "metadata": {},
   "cell_type": "code",
   "source": [
    "df['credit_score_estimated_salary_ratio'] = df['credit_score'] / (df['estimated_salary'] + 1)  # +1 для избежания деления на 0\n",
    "\n",
    "plot_scatter(df, 'credit_score_estimated_salary_ratio', 'Кредитный рейтинг / Предполагаемая зарплата', 'churn', 'Отток клиентов',\n",
    "             'Зависимость оттока от соотношения кредитного рейтинга и зарплаты', color='churn')"
   ],
   "outputs": [],
   "execution_count": null
  },
  {
   "metadata": {},
   "cell_type": "markdown",
   "source": "`Вывод:` анализ показывает, что с ростом отношения \"Кредитный рейтинг / Предполагаемая зарплата\" отток клиентов снижается. Корреляция -0.01. График говорит о том, что клиенты с низким кредитным рейтингом и высокой зарплатой уходят чаще, а клиенты с высоким кредитным рейтингом и низкой зарплатой реже."
  },
  {
   "metadata": {},
   "cell_type": "markdown",
   "source": "## Анализ распределения оттока клиентов по возрасту, сроку сотрудничества и балансу"
  },
  {
   "metadata": {},
   "cell_type": "markdown",
   "source": "Определим функцию для создания 3d графика распределения:"
  },
  {
   "metadata": {},
   "cell_type": "code",
   "source": [
    "def plot_3d_scatter(df, x_column, y_column, z_column, x_label, y_label, z_label, color=None,\n",
    "                    size=None, plot_size=600, point_size=None, opacity=None, interactive=True,\n",
    "                    palette=(\"green\", \"blue\")):\n",
    "\n",
    "    if interactive: # Включаем интерактивный режим\n",
    "        pyo.init_notebook_mode(connected=True)\n",
    "\n",
    "    fig = px.scatter_3d(df, x=x_column, y=y_column, z=z_column, color=color, size=size,\n",
    "                        opacity=opacity, color_continuous_scale=palette)\n",
    "\n",
    "    fig.update_layout(width=plot_size, height=plot_size*0.8, margin={\"r\": 0, \"t\": 0, \"l\": 0, \"b\": 0},\n",
    "                      scene=dict(xaxis_title=x_label, yaxis_title=y_label, zaxis_title=z_label))\n",
    "    fig.update_traces(marker=dict(size=point_size))  # Задание размера точек\n",
    "    pyo.iplot(fig)\n",
    "\n",
    "    if interactive: # Устанавливаем статический\n",
    "        pio.renderers.default = \"png\"\n",
    "    return"
   ],
   "outputs": [],
   "execution_count": null
  },
  {
   "metadata": {},
   "cell_type": "markdown",
   "source": "Изучим как распределяются ушедшие клиенты по возрасту, сроку сотрудничества с банком и балансу на счёте. Для этого построим 3д график распределения:"
  },
  {
   "metadata": {},
   "cell_type": "code",
   "source": [
    "plot_3d_scatter(df, 'age', 'tenure', 'balance', 'Возраст', 'Срок сотрудничества', 'Баланс',\n",
    "                color='churn', point_size=4)"
   ],
   "outputs": [],
   "execution_count": null
  },
  {
   "metadata": {},
   "cell_type": "markdown",
   "source": "`Вывод:` анализ показал, что ушедшие клиенты имеют примерно равное распределение во всех диапазонах трёх метрик: возраст, срок сотрудничества и баланс на счёте."
  },
  {
   "metadata": {},
   "cell_type": "markdown",
   "source": "## Построение гео карты с выводом ключевых показателей по странам"
  },
  {
   "metadata": {},
   "cell_type": "markdown",
   "source": "Сделаем для карты по странам сводную таблицу с вычислением значений:"
  },
  {
   "metadata": {},
   "cell_type": "code",
   "source": [
    "# вычислим показатели\n",
    "agg_country = df.groupby(['country_str',]).agg(\n",
    "\tcustomer_count = ('customer_id', 'count'),\n",
    "    balance_median = ('balance', lambda x: round(x.median(), 0)),\n",
    "    churn_mean = ('churn', lambda x: round(x.mean()*100, 1))).reset_index()\n",
    "\n",
    "agg_country"
   ],
   "outputs": [],
   "execution_count": null
  },
  {
   "metadata": {},
   "cell_type": "markdown",
   "source": "Определим df с данными для корректного нанесения на карту и соединим его со сводной таблицей:"
  },
  {
   "metadata": {},
   "cell_type": "code",
   "source": [
    "# Создаем DataFrame с данными для нанесения на карту\n",
    "data_geo = {\n",
    "    \"country_str\": [\"Франция\", \"Испания\", \"Германия\"],\n",
    "    \"iso_alpha\": [\"FRA\", \"ESP\", \"DEU\"],  # Коды стран для подсветки контуров\n",
    "    \"lat\": [46.0, 40.0, 51.0],  # Широта для точек\n",
    "    \"lon\": [2.0, -4.0, 10.0]}   # Долгота для точек\n",
    "\n",
    "df_for_geo = pd.DataFrame(data_geo)\n",
    "\n",
    "# соединим df по полю \"country_str\"\n",
    "df_geo = pd.merge(df_for_geo, agg_country, on='country_str', how='inner')\n",
    "\n",
    "df_geo"
   ],
   "outputs": [],
   "execution_count": null
  },
  {
   "metadata": {},
   "cell_type": "markdown",
   "source": "Создадим схематическую гео карту, на ней выделим страны и для каждой страны выведем основные показатели:"
  },
  {
   "metadata": {},
   "cell_type": "code",
   "source": [
    "# Создаем карту с подсветкой контуров стран\n",
    "fig = px.choropleth(df_geo, locations=\"iso_alpha\", scope=\"europe\", title=\"Данные по странам\")\n",
    "\n",
    "# Создаем составные метки\n",
    "df_geo[\"label\"] = (\n",
    "    df_geo[\"country_str\"] + \"<br>\" +\n",
    "    \"Клиентов: \" + df_geo[\"customer_count\"].astype(str) + \"<br>\" +\n",
    "    \"Баланс: \" + df_geo[\"balance_median\"].astype(str) + \"<br>\" +\n",
    "    \"Отток: \" + df_geo[\"churn_mean\"].astype(str) + \"%\")\n",
    "\n",
    "# Добавляем точки на карту\n",
    "fig.add_trace(px.scatter_geo(df_geo, lat=\"lat\", lon=\"lon\", text=\"label\", size_max=10).data[0])\n",
    "\n",
    "# Настраиваем карту\n",
    "fig.update_geos(center=dict(lat=46, lon=2), projection_scale=4, visible=True,\n",
    "                showcountries=True, countrycolor=\"black\")\n",
    "\n",
    "# Настраиваем layout\n",
    "fig.update_layout(width=800, height=600, margin={\"r\": 0, \"t\": 30, \"l\": 0, \"b\": 0},\n",
    "                  geo=dict(bgcolor=\"lightblue\"), font=dict(size=13), showlegend=False)\n",
    "\n",
    "# Задаем белый цвет для подписей точек\n",
    "fig.update_traces(selector=dict(type=\"scattergeo\"), # Выбираем только точки\n",
    "                  textfont=dict(color=\"white\"))     # Цвет текста подписи\n",
    "\n",
    "pyo.iplot(fig)"
   ],
   "outputs": [],
   "execution_count": null
  },
  {
   "metadata": {},
   "cell_type": "markdown",
   "source": "`Вывод:` для удобного визуального отслеживания значений показателей выше представлена карта с выделенными границами стран и для каждой страны вывод основных показателей."
  },
  {
   "metadata": {},
   "cell_type": "markdown",
   "source": [
    "---\n",
    "# Построение модели прогнозирования оттока клиентов"
   ]
  },
  {
   "metadata": {},
   "cell_type": "markdown",
   "source": [
    "## Подготовка данных\n",
    "\n",
    "Импортируем библиотеки для подготовки:"
   ]
  },
  {
   "metadata": {},
   "cell_type": "code",
   "source": [
    "from sklearn.preprocessing import StandardScaler      # стандартизация\n",
    "from sklearn.model_selection import train_test_split  # разделение\n",
    "from sklearn.metrics import accuracy_score, f1_score, roc_auc_score   # оценка качества\n",
    "\n",
    "# модели\n",
    "from sklearn.linear_model import LogisticRegression"
   ],
   "outputs": [],
   "execution_count": null
  },
  {
   "metadata": {},
   "cell_type": "markdown",
   "source": "Приступим к подготовке данных для построения модели прогнозирования:"
  },
  {
   "metadata": {},
   "cell_type": "code",
   "source": [
    "# Удалим поле `customer_id`, так как оно не несёт полезной информации\n",
    "df_ml.drop(columns=['customer_id'], inplace=True)\n",
    "\n",
    "# Преобразуем с помощью `One-Hot Encoding` категориальные признаки в полях `country` и `gender`:\n",
    "# После этого в df появятся новые столбцы: `country_Germany`, `country_Spain`, `gender_Male`\n",
    "df_ml = pd.get_dummies(df_ml, columns=['country', 'gender'], drop_first=True)\n",
    "\n",
    "# Масштабируем числовые признаки в полях, значения которых могут достигать больших размеров\n",
    "scaler = StandardScaler()\n",
    "df_ml[['credit_score', 'age', 'balance', 'estimated_salary']] = scaler.fit_transform(\n",
    "        df_ml[['credit_score', 'age', 'balance', 'estimated_salary']])\n",
    "\n",
    "# Проверим баланс классов целевой переменной\n",
    "df_ml['churn'].value_counts(normalize=True)"
   ],
   "outputs": [],
   "execution_count": null
  },
  {
   "metadata": {},
   "cell_type": "markdown",
   "source": "Разделим данные:"
  },
  {
   "metadata": {},
   "cell_type": "code",
   "source": [
    "# Разделим данные на признаки (X) и целевую переменную (y):\n",
    "X = df_ml.drop(columns=['churn'])\n",
    "y = df_ml['churn']\n",
    "\n",
    "# Разделим данные на обучающую и тестовую выборку\n",
    "X_train, X_test, y_train, y_test = train_test_split(X, y, test_size=0.2, random_state=42, stratify=y)"
   ],
   "outputs": [],
   "execution_count": null
  },
  {
   "metadata": {},
   "cell_type": "markdown",
   "source": "Зададим параметры модели, обучим ёё и выполним предсказание меток для тестовых данных:"
  },
  {
   "metadata": {},
   "cell_type": "code",
   "source": [
    "# Дисбаланс классов в целевой переменной не сильный, используем class_weight='balanced'\n",
    "model = LogisticRegression(class_weight='balanced')\n",
    "\n",
    "# Обучаем модель\n",
    "model.fit(X_train, y_train)\n",
    "\n",
    "# Предсказание меток для тестовых данных\n",
    "y_pred = model.predict(X_test)\n",
    "\n",
    "# Оценка качества на тестовой выборке\n",
    "print('Точность: %.3f' % accuracy_score(y_test, y_pred))\n",
    "print('F1-Score: %.3f' % f1_score(y_test, y_pred))\n",
    "print('ROC-AUC: %.3f' % roc_auc_score(y_test, y_pred))"
   ],
   "outputs": [],
   "execution_count": null
  },
  {
   "metadata": {},
   "cell_type": "markdown",
   "source": [
    "! Важно: в конце обязательно подумать оставить исходные данные с кагле в файле \"_a\", преобразованные данные в файле \"_b\". Или ещё доработать преобразование данных!\n",
    "- сейчас пока для разработки выбраны исходные данные с кагле.\n",
    "- под итоговые данные в разделе с исследованием доработать текст заметки и выводы."
   ]
  }
 ],
 "metadata": {
  "kernelspec": {
   "display_name": "Python 3 (ipykernel)",
   "language": "python",
   "name": "python3"
  },
  "language_info": {
   "codemirror_mode": {
    "name": "ipython",
    "version": 3
   },
   "file_extension": ".py",
   "mimetype": "text/x-python",
   "name": "python",
   "nbconvert_exporter": "python",
   "pygments_lexer": "ipython3",
   "version": "3.11.0"
  }
 },
 "nbformat": 4,
 "nbformat_minor": 4
}
